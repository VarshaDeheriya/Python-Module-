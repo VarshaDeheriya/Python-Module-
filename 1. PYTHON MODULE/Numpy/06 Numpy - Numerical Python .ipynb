{
 "cells": [
  {
   "cell_type": "markdown",
   "id": "150f89eb",
   "metadata": {},
   "source": [
    "#  Numpy - Numerical Python "
   ]
  },
  {
   "cell_type": "code",
   "execution_count": 5,
   "id": "f124ed49",
   "metadata": {
    "ExecuteTime": {
     "end_time": "2022-12-09T06:00:35.276506Z",
     "start_time": "2022-12-09T06:00:35.175352Z"
    }
   },
   "outputs": [
    {
     "name": "stdout",
     "output_type": "stream",
     "text": [
      "[[1 2 3 4 5]]\n"
     ]
    }
   ],
   "source": [
    "a = np.array([1, 2, 3,4,5], ndmin = 2) \n",
    "\n",
    "print(a)"
   ]
  },
  {
   "cell_type": "code",
   "execution_count": 6,
   "id": "ccb2f4bd",
   "metadata": {
    "ExecuteTime": {
     "end_time": "2022-12-09T06:01:21.304667Z",
     "start_time": "2022-12-09T06:01:21.296654Z"
    }
   },
   "outputs": [
    {
     "name": "stdout",
     "output_type": "stream",
     "text": [
      "[1.+0.j 2.+0.j 3.+0.j]\n"
     ]
    }
   ],
   "source": [
    "a = np.array([1, 2, 3], dtype = complex) \n",
    "\n",
    "print(a)"
   ]
  },
  {
   "cell_type": "code",
   "execution_count": null,
   "id": "99c03ff6",
   "metadata": {},
   "outputs": [],
   "source": []
  },
  {
   "cell_type": "code",
   "execution_count": null,
   "id": "65e1c50f",
   "metadata": {},
   "outputs": [],
   "source": [
    "NumPy"
   ]
  },
  {
   "cell_type": "code",
   "execution_count": 4,
   "id": "1e2b8f27",
   "metadata": {
    "ExecuteTime": {
     "end_time": "2022-12-09T06:00:30.845494Z",
     "start_time": "2022-12-09T06:00:30.599606Z"
    }
   },
   "outputs": [
    {
     "name": "stderr",
     "output_type": "stream",
     "text": [
      "E:\\Innomatics data sci\\lib\\site-packages\\numpy\\_distributor_init.py:30: UserWarning: loaded more than 1 DLL from .libs:\n",
      "E:\\Innomatics data sci\\lib\\site-packages\\numpy\\.libs\\libopenblas.EL2C6PLE4ZYW3ECEVIV3OXXGRN2NRFM2.gfortran-win_amd64.dll\n",
      "E:\\Innomatics data sci\\lib\\site-packages\\numpy\\.libs\\libopenblas.FB5AE2TYXYH2IJRDKGDGQ3XBKLKTF43H.gfortran-win_amd64.dll\n",
      "  warnings.warn(\"loaded more than 1 DLL from .libs:\"\n"
     ]
    }
   ],
   "source": [
    "# import numpy library\n",
    "\n",
    "import numpy as np"
   ]
  },
  {
   "cell_type": "code",
   "execution_count": 2,
   "id": "30a59260",
   "metadata": {
    "collapsed": true
   },
   "outputs": [
    {
     "name": "stdout",
     "output_type": "stream",
     "text": [
      "1.21.5\n",
      "1.21.5\n"
     ]
    }
   ],
   "source": [
    "# check the version of numpy\n",
    "\n",
    "print(np.version.version)\n",
    "print(np.__version__)"
   ]
  },
  {
   "cell_type": "markdown",
   "id": "6c8ba487",
   "metadata": {},
   "source": [
    "## Upgrade Numpy:\n",
    "```\n",
    "    pip install -- upgrade numpy\n",
    "    pip install -- upgrade numpy --ignore-installed\n",
    "    pip install -- upgrade numpy --ignore-installed --user\n",
    "```"
   ]
  },
  {
   "cell_type": "code",
   "execution_count": null,
   "id": "e7f15385",
   "metadata": {},
   "outputs": [],
   "source": []
  },
  {
   "cell_type": "code",
   "execution_count": 6,
   "id": "d200ea72",
   "metadata": {},
   "outputs": [],
   "source": [
    "import numpy as np"
   ]
  },
  {
   "cell_type": "code",
   "execution_count": 2,
   "id": "9445a26f",
   "metadata": {},
   "outputs": [
    {
     "name": "stdout",
     "output_type": "stream",
     "text": [
      "1.23.4\n"
     ]
    }
   ],
   "source": [
    "print(np.version.version)"
   ]
  },
  {
   "cell_type": "code",
   "execution_count": null,
   "id": "96bd93e0",
   "metadata": {},
   "outputs": [],
   "source": [
    "print(dir)"
   ]
  },
  {
   "cell_type": "code",
   "execution_count": 41,
   "id": "0bbd06e0",
   "metadata": {},
   "outputs": [
    {
     "name": "stdout",
     "output_type": "stream",
     "text": [
      "[[[ 0  1  2]\n",
      "  [ 3  4  5]]\n",
      "\n",
      " [[ 6  7  8]\n",
      "  [ 9 10 11]]\n",
      "\n",
      " [[12 13 14]\n",
      "  [15 16 17]]\n",
      "\n",
      " [[18 19 20]\n",
      "  [21 22 23]]]\n",
      "shape of the array: (4, 2, 3)\n",
      "----------------------------------------\n",
      "[[[ 0  1  2  3  4  5  6  7  8  9 10 11 12 13 14 15 16 17 18 19 20 21 22\n",
      "   23]]]\n",
      "shape of the array: (1, 1, 24)\n"
     ]
    }
   ],
   "source": [
    "\n",
    "array1 = np.array(range(0,24)).reshape(4,2,3)\n",
    "print (array1)\n",
    "print('shape of the array:',array1.shape)\n",
    " \n",
    "print('-'*40)\n",
    "    \n",
    "    \n",
    "array1 = np.array(range(0,24)).reshape(1,1,24)\n",
    "print (array2)\n",
    "print('shape of the array:',array2.shape)"
   ]
  },
  {
   "cell_type": "code",
   "execution_count": 38,
   "id": "7a50fe70",
   "metadata": {},
   "outputs": [
    {
     "name": "stdout",
     "output_type": "stream",
     "text": [
      "[[[ 0  1  2]\n",
      "  [ 3  4  5]]\n",
      "\n",
      " [[ 6  7  8]\n",
      "  [ 9 10 11]]\n",
      "\n",
      " [[12 13 14]\n",
      "  [15 16 17]]\n",
      "\n",
      " [[18 19 20]\n",
      "  [21 22 23]]]\n",
      "----------------------------------------\n",
      "[[[ 0  1  2  3  4  5  6  7  8  9 10 11 12 13 14 15 16 17 18 19 20 21 22\n",
      "   23]]]\n"
     ]
    }
   ],
   "source": [
    "array1 = np.array(range(0,24)).reshape(4,2,3)\n",
    "print(array1)\n",
    "\n",
    "print('-'*40)\n",
    "\n",
    "array2 = np.array(range(0,24)).reshape(1,1,24)\n",
    "print(array2)"
   ]
  },
  {
   "cell_type": "markdown",
   "id": "4a08981f",
   "metadata": {},
   "source": [
    "### Class Assignment"
   ]
  },
  {
   "cell_type": "code",
   "execution_count": 9,
   "id": "c96426b1",
   "metadata": {},
   "outputs": [
    {
     "name": "stdout",
     "output_type": "stream",
     "text": [
      "<class 'numpy.float32'>\n"
     ]
    }
   ],
   "source": [
    "#Que1.Create a 2-D array of float32 type\n",
    "\n",
    "type1 = np.array([[2,3,4],[5,6,7]]).dtype = np.float32\n",
    "print(type1)\n",
    "                  "
   ]
  },
  {
   "cell_type": "code",
   "execution_count": 12,
   "id": "42a299ff",
   "metadata": {},
   "outputs": [
    {
     "name": "stdout",
     "output_type": "stream",
     "text": [
      "[[  0.    0.    0.    0.    0.    0.    0.    0.    0. ]\n",
      " [  0.   12.5   0.    0.    0.    0.    0.    0.    0. ]\n",
      " [  0.    0.   25.    0.    0.    0.    0.    0.    0. ]\n",
      " [  0.    0.    0.   37.5   0.    0.    0.    0.    0. ]\n",
      " [  0.    0.    0.    0.   50.    0.    0.    0.    0. ]\n",
      " [  0.    0.    0.    0.    0.   62.5   0.    0.    0. ]\n",
      " [  0.    0.    0.    0.    0.    0.   75.    0.    0. ]\n",
      " [  0.    0.    0.    0.    0.    0.    0.   87.5   0. ]\n",
      " [  0.    0.    0.    0.    0.    0.    0.    0.  100. ]]\n",
      "[  0.   12.5  25.   37.5  50.   62.5  75.   87.5 100. ]\n",
      "--------------------------------------------------\n",
      "[  0.   12.5  25.   37.5  50.   62.5  75.   87.5 100. ]\n",
      "--------------------------------------------------\n",
      "[  0.   12.5  25.   37.5  50.   62.5  75.   87.5 100. ]\n"
     ]
    }
   ],
   "source": [
    "#Que2.Create the below array using more than one approach:\n",
    "#[  0.   12.5  25.   37.5  50.   62.5  75.   87.5 100. ]\n",
    "\n",
    "\n",
    "list = [0,12.5,25,37.5,50,62.5,75,87.5,100]\n",
    "arr1 = np.diag(np.array([0,12.5,25,37.5,50,62.5,75,87.5,100]))\n",
    "print(arr1)\n",
    "print(np.diag(arr1))\n",
    "\n",
    "# or\n",
    "print('-'* 50)\n",
    "\n",
    "array1 = np.linspace(0,100,9)\n",
    "print(array1)\n",
    "\n",
    "# or\n",
    "print('-'* 50)\n",
    "\n",
    "x = np.arange(0,101,12.5)\n",
    "print(x)"
   ]
  },
  {
   "cell_type": "code",
   "execution_count": 10,
   "id": "5fc45955",
   "metadata": {},
   "outputs": [
    {
     "name": "stdout",
     "output_type": "stream",
     "text": [
      "1.23.4\n"
     ]
    }
   ],
   "source": [
    "#QUE3.Print the Numpy version\n",
    "\n",
    "print(np.version.version)"
   ]
  },
  {
   "cell_type": "code",
   "execution_count": 13,
   "id": "fcc9328e",
   "metadata": {},
   "outputs": [
    {
     "name": "stdout",
     "output_type": "stream",
     "text": [
      "[10.5 17.5 24.5 31.5 38.5 45.5]\n",
      "[[10.5  0.   0.   0.   0.   0. ]\n",
      " [ 0.  17.5  0.   0.   0.   0. ]\n",
      " [ 0.   0.  24.5  0.   0.   0. ]\n",
      " [ 0.   0.   0.  31.5  0.   0. ]\n",
      " [ 0.   0.   0.   0.  38.5  0. ]\n",
      " [ 0.   0.   0.   0.   0.  45.5]]\n"
     ]
    }
   ],
   "source": [
    "#que4.Create a diagonal array with the below value in the diagonal:\n",
    "#[10.5, 17.5, 24.5, 31.5, 38.5, 45.5]\n",
    "\n",
    "array1 = np.linspace(10.5,45.5,6)\n",
    "print(array1)\n",
    "print(np.diag(array1))"
   ]
  },
  {
   "cell_type": "code",
   "execution_count": 30,
   "id": "1c782ae5",
   "metadata": {},
   "outputs": [
    {
     "name": "stdout",
     "output_type": "stream",
     "text": [
      "[0 1 2 3 4 5 6 7 8]\n",
      "[[0 1 2]\n",
      " [3 4 5]\n",
      " [6 7 8]]\n",
      "--------------------------------------------------\n",
      "[[0]\n",
      " [1]\n",
      " [2]\n",
      " [3]\n",
      " [4]\n",
      " [5]\n",
      " [6]\n",
      " [7]\n",
      " [8]]\n",
      "[[0 1 2]\n",
      " [3 4 5]\n",
      " [6 7 8]]\n"
     ]
    }
   ],
   "source": [
    "#Que5.Create a (9,1) array and reshape it to (3,3).\n",
    "\n",
    "print(np.array(range(0,9)))\n",
    "print(np.array(range(0,9)).reshape(3,3))\n",
    "\n",
    "print('-'*50)\n",
    "\n",
    "x = np.arange(9).reshape(9,1)\n",
    "print(x,x.reshape(3,3),sep= '\\n')"
   ]
  },
  {
   "cell_type": "code",
   "execution_count": 37,
   "id": "0e07593f",
   "metadata": {},
   "outputs": [
    {
     "name": "stdout",
     "output_type": "stream",
     "text": [
      "[50 51 52 53 54 55 56 57 58 59 60 61 62 63 64 65 66 67 68 69 70 71 72 73\n",
      " 74 75 76 77 78 79 80 81 82 83 84 85 86 87 88 89 90 91 92 93 94 95 96 97\n",
      " 98 99]\n",
      "--------------------------------------------------\n",
      "[50 51 52 53 54 55 56 57 58 59 60 61 62 63 64 65 66 67 68 69 70 71 72 73\n",
      " 74 75 76 77 78 79 80 81 82 83 84 85 86 87 88 89 90 91 92 93 94 95 96 97\n",
      " 98 99]\n",
      "50\n",
      "99\n",
      "59\n",
      "64\n",
      "[69 79 89 99]\n",
      "[69 79 89 99]\n",
      "[69 79 89 99]\n",
      "(50,)\n"
     ]
    },
    {
     "data": {
      "text/plain": [
       "1"
      ]
     },
     "execution_count": 37,
     "metadata": {},
     "output_type": "execute_result"
    }
   ],
   "source": [
    "# create an 1 D array with values from 50 to 99\n",
    "print(np.array(range(50,100)))\n",
    "\n",
    "print('-'*50 )\n",
    "\n",
    "array1d = np.arange(50,100)\n",
    "print(array1d)\n",
    "\n",
    "\n",
    "\n",
    "print(array1d[0])\n",
    "print(array1d[-1])\n",
    "print(array1d[9])\n",
    "print(array1d[14])\n",
    "print(array1d[19:50:10])\n",
    "print(array1d[range(19,50,10)])\n",
    "print(array1d[[19,29,39,49]])\n",
    "\n",
    "print(array1d.shape)\n",
    "len(array1d.shape)"
   ]
  },
  {
   "cell_type": "code",
   "execution_count": 35,
   "id": "55f5de79",
   "metadata": {},
   "outputs": [
    {
     "name": "stdout",
     "output_type": "stream",
     "text": [
      "[[50 51 52 53 54 55 56 57 58 59]\n",
      " [60 61 62 63 64 65 66 67 68 69]\n",
      " [70 71 72 73 74 75 76 77 78 79]\n",
      " [80 81 82 83 84 85 86 87 88 89]\n",
      " [90 91 92 93 94 95 96 97 98 99]]\n"
     ]
    }
   ],
   "source": [
    "array2d = array1d.reshape(5,10)\n",
    "print(array2d)"
   ]
  },
  {
   "cell_type": "code",
   "execution_count": null,
   "id": "05924795",
   "metadata": {},
   "outputs": [],
   "source": []
  },
  {
   "cell_type": "markdown",
   "id": "74a4b09d",
   "metadata": {},
   "source": [
    "# Assignment question"
   ]
  },
  {
   "cell_type": "code",
   "execution_count": 1,
   "id": "c73d1abe",
   "metadata": {},
   "outputs": [],
   "source": [
    "# list\n",
    "# remove values from index pos - 0, 4, 5 \n",
    "\n",
    "mylist1 = [12,24,35,70,88,120,155]"
   ]
  },
  {
   "cell_type": "code",
   "execution_count": 2,
   "id": "81248403",
   "metadata": {},
   "outputs": [
    {
     "data": {
      "text/plain": [
       "[None, None, None]"
      ]
     },
     "execution_count": 2,
     "metadata": {},
     "output_type": "execute_result"
    }
   ],
   "source": [
    "mylist1 = [12,24,35,70,88,120,155]\n",
    "[mylist1.remove(y) for y in [mylist1[x] for x in [0,4,5]]]"
   ]
  },
  {
   "cell_type": "code",
   "execution_count": 3,
   "id": "96613a0a",
   "metadata": {},
   "outputs": [
    {
     "data": {
      "text/plain": [
       "[12, 88, 120]"
      ]
     },
     "execution_count": 3,
     "metadata": {},
     "output_type": "execute_result"
    }
   ],
   "source": [
    "mylist1 = [12,24,35,70,88,120,155]\n",
    "[y for y in [mylist1[x] for x in [0,4,5]]]"
   ]
  },
  {
   "cell_type": "code",
   "execution_count": 4,
   "id": "28dfbaa1",
   "metadata": {},
   "outputs": [
    {
     "data": {
      "text/plain": [
       "[24, 35, 70, 155]"
      ]
     },
     "execution_count": 4,
     "metadata": {},
     "output_type": "execute_result"
    }
   ],
   "source": [
    "[z for z in mylist1 if z not in [mylist1[x] for x in [0,4,5]]]"
   ]
  },
  {
   "cell_type": "code",
   "execution_count": 5,
   "id": "4371ddd9",
   "metadata": {},
   "outputs": [
    {
     "name": "stdout",
     "output_type": "stream",
     "text": [
      "17\n"
     ]
    }
   ],
   "source": [
    "# f(n) = f(n-1) + f(n-2) where n>1\n",
    "\n",
    "n = 9 # input\n",
    "# Output = 13\n",
    "\n",
    "x = list(range(1, n+1))\n",
    "print(x[n-1]+x[n-2])"
   ]
  },
  {
   "cell_type": "code",
   "execution_count": null,
   "id": "72b8c010",
   "metadata": {},
   "outputs": [],
   "source": [
    "0 1 1 2 3 5 8 13 21 34 55 89  # ibonacci series"
   ]
  }
 ],
 "metadata": {
  "kernelspec": {
   "display_name": "Python 3 (ipykernel)",
   "language": "python",
   "name": "python3"
  },
  "language_info": {
   "codemirror_mode": {
    "name": "ipython",
    "version": 3
   },
   "file_extension": ".py",
   "mimetype": "text/x-python",
   "name": "python",
   "nbconvert_exporter": "python",
   "pygments_lexer": "ipython3",
   "version": "3.9.12"
  }
 },
 "nbformat": 4,
 "nbformat_minor": 5
}
