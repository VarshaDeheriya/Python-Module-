{
 "cells": [
  {
   "cell_type": "markdown",
   "id": "02f90d23",
   "metadata": {},
   "source": [
    "# File Handeling in Python"
   ]
  },
  {
   "cell_type": "markdown",
   "id": "1c4e6638",
   "metadata": {},
   "source": [
    "## File Handling in Python\n",
    "\n",
    "In Pyhton, a file operation takes place in the following orders:\n",
    "    1. Open a file\n",
    "    2. Read or Write\n",
    "    3. Close the file\n",
    "    \n",
    "The key funtion for working with files in Python is the `open()` function.\n",
    "\n",
    "The `open()` function takes two paramerteers; filename, and mode.\n",
    "\n",
    "## Four different methods (modes) for opening a file:\n",
    "+ `r` Opens a file for reading only. (It's a default mode.)\n",
    "+ `w` Opens a file for writing. (If a file doesn't exist already, then it creates a new file. Otherwise, it will truncate/erase a file.)\n",
    "+ `x` Creates the specified file, returns an error if the file exists.\n",
    "+ `a` Opens a file for appending at the end of the file without truncating it. (Creates a new file if it does not exist in the location.)\n",
    "                                 \n",
    "## In addition you can specify if the file should be handled as binary or text mode\n",
    "            \n",
    "+ `t` Opens a file in text mode. (It's a default mode.)\n",
    "+ `b` Opens a file in binary mode. (binary mode returns bytes and this is the mode to be used when dealing with non-text files like image files)"
   ]
  },
  {
   "cell_type": "markdown",
   "id": "921f0d6c",
   "metadata": {},
   "source": [
    "### Create a folder"
   ]
  },
  {
   "cell_type": "code",
   "execution_count": 5,
   "id": "830ee88d",
   "metadata": {
    "ExecuteTime": {
     "end_time": "2022-12-12T15:07:38.101663Z",
     "start_time": "2022-12-12T15:07:38.085656Z"
    }
   },
   "outputs": [],
   "source": [
    "import os"
   ]
  },
  {
   "cell_type": "code",
   "execution_count": 11,
   "id": "97f73124",
   "metadata": {
    "ExecuteTime": {
     "end_time": "2022-12-12T15:09:20.821857Z",
     "start_time": "2022-12-12T15:09:20.797851Z"
    }
   },
   "outputs": [
    {
     "data": {
      "text/plain": [
       "['Auto Insurance Claims Data.xlsx',\n",
       " 'cars(1).csv',\n",
       " 'car_data.csv',\n",
       " 'car_df_EDA.csv',\n",
       " 'car_df_EDA_cleaned_20221207.csv',\n",
       " 'car_df_EDA_cleaned_20221207.xlsx',\n",
       " 'Iris.csv',\n",
       " 'orders_df_pivot.xlsx',\n",
       " 'Sample - Superstore_191.xls']"
      ]
     },
     "execution_count": 11,
     "metadata": {},
     "output_type": "execute_result"
    }
   ],
   "source": [
    "# Check the contents of a folder\n",
    "\n",
    "os.listdir(r'E:/Excel_files/')"
   ]
  },
  {
   "cell_type": "code",
   "execution_count": 14,
   "id": "a28b54d0",
   "metadata": {
    "ExecuteTime": {
     "end_time": "2022-12-12T15:10:45.218869Z",
     "start_time": "2022-12-12T15:10:45.186859Z"
    }
   },
   "outputs": [
    {
     "name": "stdout",
     "output_type": "stream",
     "text": [
      "E:\\Excel_files\\FileHandeling_12Dec2022\n",
      "E:\\Excel_files\\FileHandeling_12Dec2022\n"
     ]
    }
   ],
   "source": [
    "## Create a folder\n",
    "\n",
    "rootfolder = r'E:\\Excel_files'\n",
    "foldername = 'FileHandeling_12Dec2022'\n",
    "\n",
    "print(rootfolder+'\\\\'+foldername)\n",
    "print(os.path.join(rootfolder, foldername))\n",
    "\n",
    "# use os.path.join to built a path\n",
    "# to create a folder use os.mkdir\n",
    "os.mkdir(os.path.join(rootfolder, foldername))"
   ]
  },
  {
   "cell_type": "code",
   "execution_count": 15,
   "id": "e24e3cb3",
   "metadata": {
    "ExecuteTime": {
     "end_time": "2022-12-12T15:11:24.807988Z",
     "start_time": "2022-12-12T15:11:24.783983Z"
    }
   },
   "outputs": [
    {
     "name": "stdout",
     "output_type": "stream",
     "text": [
      "['Auto Insurance Claims Data.xlsx', 'cars(1).csv', 'car_data.csv', 'car_df_EDA.csv', 'car_df_EDA_cleaned_20221207.csv', 'car_df_EDA_cleaned_20221207.xlsx', 'FileHandeling_12Dec2022', 'Iris.csv', 'orders_df_pivot.xlsx', 'Sample - Superstore_191.xls']\n"
     ]
    }
   ],
   "source": [
    "# check the contents of a folder\n",
    "print(os.listdir(r'E:/Excel_files'))"
   ]
  },
  {
   "cell_type": "markdown",
   "id": "0d75e3ee",
   "metadata": {},
   "source": [
    "## 1. Open a file"
   ]
  },
  {
   "cell_type": "code",
   "execution_count": 30,
   "id": "403675e2",
   "metadata": {
    "ExecuteTime": {
     "end_time": "2022-12-12T05:36:59.216380Z",
     "start_time": "2022-12-12T05:36:59.200377Z"
    }
   },
   "outputs": [
    {
     "name": "stdout",
     "output_type": "stream",
     "text": [
      "[]\n"
     ]
    }
   ],
   "source": [
    "# check the contents of thr new folder\n",
    "\n",
    "print(os.listdir('E:\\Excel_files\\FileHandeling_12Dec2022'))"
   ]
  },
  {
   "cell_type": "code",
   "execution_count": 16,
   "id": "3e6da5cc",
   "metadata": {
    "ExecuteTime": {
     "end_time": "2022-12-12T15:12:48.920947Z",
     "start_time": "2022-12-12T15:12:48.896942Z"
    }
   },
   "outputs": [
    {
     "name": "stdout",
     "output_type": "stream",
     "text": [
      "E:\\Excel_files\\FileHandeling_12Dec2022\\Text.txt\n"
     ]
    }
   ],
   "source": [
    "# in- order to open a file, we need to create a file\n",
    "\n",
    "filename = 'Text.txt'\n",
    "\n",
    "filepath = os.path.join(rootfolder, foldername, filename)\n",
    "print(filepath)\n",
    "\n",
    "# to create a .txt file use open(mode = 'x')\n",
    "fo = open(filepath, mode = 'x')"
   ]
  },
  {
   "cell_type": "code",
   "execution_count": 17,
   "id": "6dc401d0",
   "metadata": {
    "ExecuteTime": {
     "end_time": "2022-12-12T15:12:54.387835Z",
     "start_time": "2022-12-12T15:12:54.371835Z"
    }
   },
   "outputs": [
    {
     "data": {
      "text/plain": [
       "_io.TextIOWrapper"
      ]
     },
     "execution_count": 17,
     "metadata": {},
     "output_type": "execute_result"
    }
   ],
   "source": [
    "type(fo)"
   ]
  },
  {
   "cell_type": "markdown",
   "id": "c1f3ae19",
   "metadata": {},
   "source": [
    "## 2. Close a file"
   ]
  },
  {
   "cell_type": "code",
   "execution_count": 18,
   "id": "f0bcc812",
   "metadata": {
    "ExecuteTime": {
     "end_time": "2022-12-12T15:13:39.921078Z",
     "start_time": "2022-12-12T15:13:39.905076Z"
    }
   },
   "outputs": [],
   "source": [
    "fo.close()\n",
    "\n",
    "# try deleting the file after closing the connection."
   ]
  },
  {
   "cell_type": "markdown",
   "id": "d0a1da45",
   "metadata": {},
   "source": [
    "## Modes in a file handling\n",
    "\n",
    "### Create a file"
   ]
  },
  {
   "cell_type": "code",
   "execution_count": 20,
   "id": "a35e6cd9",
   "metadata": {
    "ExecuteTime": {
     "end_time": "2022-12-12T15:15:30.100022Z",
     "start_time": "2022-12-12T15:15:30.052007Z"
    }
   },
   "outputs": [],
   "source": [
    "fo = open(filepath, mode = 'x')\n",
    "fo.close()"
   ]
  },
  {
   "cell_type": "markdown",
   "id": "f25864c7",
   "metadata": {},
   "source": [
    "### Read mode"
   ]
  },
  {
   "cell_type": "code",
   "execution_count": 21,
   "id": "82f74668",
   "metadata": {
    "ExecuteTime": {
     "end_time": "2022-12-12T15:16:54.412347Z",
     "start_time": "2022-12-12T15:16:54.388340Z"
    }
   },
   "outputs": [
    {
     "name": "stdout",
     "output_type": "stream",
     "text": [
      "\n"
     ]
    }
   ],
   "source": [
    "fo = open(filepath)  # bydefault mode = 'r'\n",
    "\n",
    "print(fo.read())  # this is an empty file\n",
    "\n",
    "fo.close()"
   ]
  },
  {
   "cell_type": "markdown",
   "id": "7fd4d2f4",
   "metadata": {},
   "source": [
    "### Write mode"
   ]
  },
  {
   "cell_type": "code",
   "execution_count": 22,
   "id": "8f9349cf",
   "metadata": {
    "ExecuteTime": {
     "end_time": "2022-12-12T15:17:53.354741Z",
     "start_time": "2022-12-12T15:17:53.330734Z"
    }
   },
   "outputs": [
    {
     "name": "stdout",
     "output_type": "stream",
     "text": [
      "E:\\Excel_files\\FileHandeling_12Dec2022\\Test_1.txt\n"
     ]
    }
   ],
   "source": [
    "# create another file using mode = 'w'\n",
    "\n",
    "filname = 'Test_1.txt'\n",
    "\n",
    "filepath = os.path.join(rootfolder,foldername,filname)\n",
    "print(filepath)\n",
    "\n",
    "# open the file in 'w' mode\n",
    "\n",
    "fo = open(filepath, mode = 'w') # file is not present hence it will be creatd first\n",
    "\n",
    "fo.write(\"\"\"'r'       open for reading (default)\n",
    "'w'       open for writing, truncating the file first\"\"\")\n",
    "\n",
    "fo.close()"
   ]
  },
  {
   "cell_type": "code",
   "execution_count": 23,
   "id": "96af5ad6",
   "metadata": {
    "ExecuteTime": {
     "end_time": "2022-12-12T15:18:02.123770Z",
     "start_time": "2022-12-12T15:18:02.099759Z"
    }
   },
   "outputs": [],
   "source": [
    "# open an exisitng file in mode = 'w'\n",
    "fo = open(filepath, mode = 'w') \n",
    "\n",
    "fo.write(\"\"\"'x'       create a new file and open it for writing\n",
    "'a'       open for writing, appending to the end of the file if it exists\"\"\")\n",
    "\n",
    "fo.close()"
   ]
  },
  {
   "cell_type": "markdown",
   "id": "dbf77883",
   "metadata": {},
   "source": [
    "### append mode"
   ]
  },
  {
   "cell_type": "code",
   "execution_count": 24,
   "id": "a9478c40",
   "metadata": {
    "ExecuteTime": {
     "end_time": "2022-12-12T15:18:31.995509Z",
     "start_time": "2022-12-12T15:18:31.971502Z"
    }
   },
   "outputs": [
    {
     "name": "stdout",
     "output_type": "stream",
     "text": [
      "E:\\Excel_files\\FileHandeling_12Dec2022\\Test_2.txt\n"
     ]
    }
   ],
   "source": [
    "# create another file using mode = 'a'\n",
    "\n",
    "filname = 'Test_2.txt'\n",
    "\n",
    "filepath = os.path.join(rootfolder,foldername,filname)\n",
    "print(filepath)\n",
    "\n",
    "# open the file in 'w' mode\n",
    "\n",
    "fo = open(filepath, mode = 'a') # file is not present hence it will be creatd first\n",
    "\n",
    "fo.write(\"\"\"'r'       open for reading (default)\n",
    "'w'       open for writing, truncating the file first\"\"\")\n",
    "\n",
    "fo.close()"
   ]
  },
  {
   "cell_type": "code",
   "execution_count": 25,
   "id": "3255d94e",
   "metadata": {
    "ExecuteTime": {
     "end_time": "2022-12-12T15:19:05.805574Z",
     "start_time": "2022-12-12T15:19:05.789568Z"
    }
   },
   "outputs": [],
   "source": [
    "# open an exisitng file in mode = 'a'\n",
    "fo = open(filepath, mode = 'a') \n",
    "\n",
    "fo.write(\"\"\"\\n'x'       create a new file and open it for writing\n",
    "'a'       open for writing, appending to the end of the file if it exists\"\"\")\n",
    "\n",
    "fo.close()"
   ]
  },
  {
   "cell_type": "markdown",
   "id": "2af91ae9",
   "metadata": {},
   "source": [
    "## Read from a file"
   ]
  },
  {
   "cell_type": "markdown",
   "id": "62928518",
   "metadata": {},
   "source": [
    "### using `read()`"
   ]
  },
  {
   "cell_type": "code",
   "execution_count": 26,
   "id": "410eeff3",
   "metadata": {
    "ExecuteTime": {
     "end_time": "2022-12-12T15:19:57.772868Z",
     "start_time": "2022-12-12T15:19:57.756866Z"
    }
   },
   "outputs": [
    {
     "name": "stdout",
     "output_type": "stream",
     "text": [
      "E:\\Excel_files\\FileHandeling_12Dec2022\\Test_2.txt\n"
     ]
    }
   ],
   "source": [
    "print(filepath)"
   ]
  },
  {
   "cell_type": "code",
   "execution_count": 27,
   "id": "93fbbf88",
   "metadata": {
    "ExecuteTime": {
     "end_time": "2022-12-12T15:20:33.808896Z",
     "start_time": "2022-12-12T15:20:33.696869Z"
    }
   },
   "outputs": [],
   "source": [
    "fo = open(filepath)\n",
    "text1 = fo.read()\n",
    "fo.close()"
   ]
  },
  {
   "cell_type": "code",
   "execution_count": 28,
   "id": "3cb49c3e",
   "metadata": {
    "ExecuteTime": {
     "end_time": "2022-12-12T15:20:42.332567Z",
     "start_time": "2022-12-12T15:20:42.316567Z"
    }
   },
   "outputs": [
    {
     "name": "stdout",
     "output_type": "stream",
     "text": [
      "'r'       open for reading (default)\n",
      "'w'       open for writing, truncating the file first\n",
      "'x'       create a new file and open it for writing\n",
      "'a'       open for writing, appending to the end of the file if it exists\n"
     ]
    }
   ],
   "source": [
    "print(text1)"
   ]
  },
  {
   "cell_type": "code",
   "execution_count": 29,
   "id": "b91c5afa",
   "metadata": {
    "ExecuteTime": {
     "end_time": "2022-12-12T15:22:08.121570Z",
     "start_time": "2022-12-12T15:22:08.105565Z"
    }
   },
   "outputs": [
    {
     "name": "stdout",
     "output_type": "stream",
     "text": [
      "'r'       open for reading (default)\n",
      "'w'       open for writing, truncating the file first\n",
      "'x'       create a new file and open it for writing\n",
      "'a'       open for writing, appending to the end of the file if it exists\n"
     ]
    }
   ],
   "source": [
    "# use \"with\" to automatically close the file\n",
    "\n",
    "with open(filepath) as fo:\n",
    "    text1 = fo.read()\n",
    "    \n",
    "print(text1)"
   ]
  },
  {
   "cell_type": "markdown",
   "id": "d559b348",
   "metadata": {},
   "source": [
    "## Using `readline()`"
   ]
  },
  {
   "cell_type": "code",
   "execution_count": 31,
   "id": "331281d5",
   "metadata": {
    "ExecuteTime": {
     "end_time": "2022-12-12T15:23:31.355869Z",
     "start_time": "2022-12-12T15:23:31.339871Z"
    }
   },
   "outputs": [
    {
     "name": "stdout",
     "output_type": "stream",
     "text": [
      "'r'       open for reading (default)\n",
      "\n",
      "'w'       open for writing, truncating the file first\n",
      "\n",
      "'x'       create a new file and open it for writing\n",
      "\n",
      "'a'       open for writing, appending to the end of the file if it exists\n"
     ]
    }
   ],
   "source": [
    "with open(filepath) as fo:\n",
    "    print(fo.readline())\n",
    "    print(fo.readline())\n",
    "    print(fo.readline())\n",
    "    print(fo.readline())"
   ]
  },
  {
   "cell_type": "markdown",
   "id": "e61fa686",
   "metadata": {
    "ExecuteTime": {
     "end_time": "2022-12-12T15:23:52.850740Z",
     "start_time": "2022-12-12T15:23:52.834738Z"
    }
   },
   "source": [
    "## Using `readline()`"
   ]
  },
  {
   "cell_type": "code",
   "execution_count": 33,
   "id": "8d21665d",
   "metadata": {
    "ExecuteTime": {
     "end_time": "2022-12-12T15:24:49.992784Z",
     "start_time": "2022-12-12T15:24:49.968782Z"
    }
   },
   "outputs": [],
   "source": [
    "with open(filepath) as fo:\n",
    "    text1 = fo.readlines()  #Return a list of lines from the stream "
   ]
  },
  {
   "cell_type": "code",
   "execution_count": 34,
   "id": "9c7168de",
   "metadata": {
    "ExecuteTime": {
     "end_time": "2022-12-12T15:25:09.738248Z",
     "start_time": "2022-12-12T15:25:09.722245Z"
    }
   },
   "outputs": [
    {
     "name": "stdout",
     "output_type": "stream",
     "text": [
      "[\"'r'       open for reading (default)\\n\", \"'w'       open for writing, truncating the file first\\n\", \"'x'       create a new file and open it for writing\\n\", \"'a'       open for writing, appending to the end of the file if it exists\"]\n"
     ]
    }
   ],
   "source": [
    "print(text1)"
   ]
  },
  {
   "cell_type": "code",
   "execution_count": 35,
   "id": "2473eeec",
   "metadata": {
    "ExecuteTime": {
     "end_time": "2022-12-12T15:25:16.737350Z",
     "start_time": "2022-12-12T15:25:16.713344Z"
    }
   },
   "outputs": [
    {
     "data": {
      "text/plain": [
       "\"'x'       create a new file and open it for writing\\n\""
      ]
     },
     "execution_count": 35,
     "metadata": {},
     "output_type": "execute_result"
    }
   ],
   "source": [
    "text1[2]"
   ]
  },
  {
   "cell_type": "code",
   "execution_count": 36,
   "id": "06576d28",
   "metadata": {
    "ExecuteTime": {
     "end_time": "2022-12-12T15:25:36.269553Z",
     "start_time": "2022-12-12T15:25:36.245542Z"
    }
   },
   "outputs": [
    {
     "data": {
      "text/plain": [
       "[\"'x'\", 'create', 'a', 'new', 'file', 'and', 'open', 'it', 'for', 'writing']"
      ]
     },
     "execution_count": 36,
     "metadata": {},
     "output_type": "execute_result"
    }
   ],
   "source": [
    "text1[2].split()"
   ]
  },
  {
   "cell_type": "code",
   "execution_count": 37,
   "id": "562ea66d",
   "metadata": {
    "ExecuteTime": {
     "end_time": "2022-12-12T15:25:47.599952Z",
     "start_time": "2022-12-12T15:25:47.574883Z"
    }
   },
   "outputs": [],
   "source": [
    "str1 = \"\"\"'r'       open for reading (default)\n",
    "'w'       open for writing, truncating the file first\"\"\""
   ]
  },
  {
   "cell_type": "code",
   "execution_count": 38,
   "id": "348f5957",
   "metadata": {
    "ExecuteTime": {
     "end_time": "2022-12-12T15:25:58.194714Z",
     "start_time": "2022-12-12T15:25:58.178714Z"
    }
   },
   "outputs": [
    {
     "data": {
      "text/plain": [
       "[\"'r'       open for reading (default)\",\n",
       " \"'w'       open for writing, truncating the file first\"]"
      ]
     },
     "execution_count": 38,
     "metadata": {},
     "output_type": "execute_result"
    }
   ],
   "source": [
    "str1.splitlines()"
   ]
  },
  {
   "cell_type": "code",
   "execution_count": null,
   "id": "28378e7c",
   "metadata": {},
   "outputs": [],
   "source": []
  }
 ],
 "metadata": {
  "kernelspec": {
   "display_name": "Python 3 (ipykernel)",
   "language": "python",
   "name": "python3"
  },
  "language_info": {
   "codemirror_mode": {
    "name": "ipython",
    "version": 3
   },
   "file_extension": ".py",
   "mimetype": "text/x-python",
   "name": "python",
   "nbconvert_exporter": "python",
   "pygments_lexer": "ipython3",
   "version": "3.9.12"
  }
 },
 "nbformat": 4,
 "nbformat_minor": 5
}
