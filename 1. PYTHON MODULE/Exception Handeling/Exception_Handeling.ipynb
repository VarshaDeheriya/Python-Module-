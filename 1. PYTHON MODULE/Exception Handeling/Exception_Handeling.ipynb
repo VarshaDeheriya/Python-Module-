{
 "cells": [
  {
   "cell_type": "markdown",
   "id": "d26c8d48",
   "metadata": {},
   "source": [
    "# Exception handling in Python"
   ]
  },
  {
   "cell_type": "markdown",
   "id": "e0dc19a7",
   "metadata": {},
   "source": [
    "Errors in Python can be of two types i.e. Syntax errors and Exceptions.\n",
    "\n",
    "**Difference between Syntax Error and Exceptions**\n",
    "\n",
    "**Syntax Error:** As the name suggests this error is caused by the wrong syntax in the code. It leads to the termination of the program."
   ]
  },
  {
   "cell_type": "code",
   "execution_count": 1,
   "id": "1bbcca40",
   "metadata": {
    "ExecuteTime": {
     "end_time": "2022-12-13T15:55:52.770730Z",
     "start_time": "2022-12-13T15:55:52.753706Z"
    }
   },
   "outputs": [
    {
     "ename": "SyntaxError",
     "evalue": "invalid syntax (1506590115.py, line 2)",
     "output_type": "error",
     "traceback": [
      "\u001b[1;36m  Input \u001b[1;32mIn [1]\u001b[1;36m\u001b[0m\n\u001b[1;33m    if(a<b)\u001b[0m\n\u001b[1;37m           ^\u001b[0m\n\u001b[1;31mSyntaxError\u001b[0m\u001b[1;31m:\u001b[0m invalid syntax\n"
     ]
    }
   ],
   "source": [
    "a, b = 10,20\n",
    "if(a<b)\n",
    "print('a is less than b')"
   ]
  },
  {
   "cell_type": "code",
   "execution_count": 2,
   "id": "2d877e0f",
   "metadata": {
    "ExecuteTime": {
     "end_time": "2022-12-13T15:56:26.579040Z",
     "start_time": "2022-12-13T15:56:26.570024Z"
    }
   },
   "outputs": [
    {
     "ename": "SyntaxError",
     "evalue": "EOL while scanning string literal (1446551619.py, line 1)",
     "output_type": "error",
     "traceback": [
      "\u001b[1;36m  Input \u001b[1;32mIn [2]\u001b[1;36m\u001b[0m\n\u001b[1;33m    print('Hello World!\")\u001b[0m\n\u001b[1;37m                         ^\u001b[0m\n\u001b[1;31mSyntaxError\u001b[0m\u001b[1;31m:\u001b[0m EOL while scanning string literal\n"
     ]
    }
   ],
   "source": [
    "print('Hello World!\")"
   ]
  },
  {
   "cell_type": "markdown",
   "id": "f1eaa10c",
   "metadata": {},
   "source": [
    "## Exceptions in Python\n",
    "\n",
    "**Exceptions** are raised when the program is syntactically correct, but the code resulted in an error.\n",
    "\n",
    "Whenever an exception occurs, the program stops the execution, and thus the further code is not executed.\n",
    "\n",
    "Python has many built-in exceptions that enable our program to run without interruption and give the output. These exceptions are given below:\n",
    "    \n",
    "### Common Exceptions\n",
    "\n",
    "+ **ZeroDivisionError**: Occurs when a number is divided by zero.\n",
    "+ **NameError**: It occurs when a name is not found. It may be local or global.\n",
    "+ **IndentationError**: If incorrect indentation is given.\n",
    "+ **IndexError**: – You will get this error when an index is not found in a sequence. For instance, accessing the 6th index when the length of the list is only five(5).\n",
    "+ **TypeError**: Raised when an operation or function is attempted that is invalid for the specified data type.\n",
    "+ **ValueError**: – Occurs when the built-in function for a data type has the valid type of arguments, but the arguments have invalid values."
   ]
  },
  {
   "cell_type": "code",
   "execution_count": 3,
   "id": "7b5d6d5a",
   "metadata": {
    "ExecuteTime": {
     "end_time": "2022-12-13T16:05:54.767808Z",
     "start_time": "2022-12-13T16:05:53.919722Z"
    }
   },
   "outputs": [
    {
     "ename": "ZeroDivisionError",
     "evalue": "division by zero",
     "output_type": "error",
     "traceback": [
      "\u001b[1;31m---------------------------------------------------------------------------\u001b[0m",
      "\u001b[1;31mZeroDivisionError\u001b[0m                         Traceback (most recent call last)",
      "Input \u001b[1;32mIn [3]\u001b[0m, in \u001b[0;36m<cell line: 2>\u001b[1;34m()\u001b[0m\n\u001b[0;32m      1\u001b[0m a,b,c \u001b[38;5;241m=\u001b[39m \u001b[38;5;241m25\u001b[39m,\u001b[38;5;241m5\u001b[39m,\u001b[38;5;241m5\u001b[39m\n\u001b[1;32m----> 2\u001b[0m \u001b[38;5;28mprint\u001b[39m(\u001b[43ma\u001b[49m\u001b[38;5;241;43m/\u001b[39;49m\u001b[43m(\u001b[49m\u001b[43mb\u001b[49m\u001b[38;5;241;43m-\u001b[39;49m\u001b[43mc\u001b[49m\u001b[43m)\u001b[49m)\n",
      "\u001b[1;31mZeroDivisionError\u001b[0m: division by zero"
     ]
    }
   ],
   "source": [
    "a,b,c = 25,5,5\n",
    "print(a/(b-c))"
   ]
  },
  {
   "cell_type": "code",
   "execution_count": 4,
   "id": "4b8f7d8d",
   "metadata": {
    "ExecuteTime": {
     "end_time": "2022-12-13T16:06:06.642342Z",
     "start_time": "2022-12-13T16:06:06.607289Z"
    }
   },
   "outputs": [
    {
     "ename": "NameError",
     "evalue": "name 'Print' is not defined",
     "output_type": "error",
     "traceback": [
      "\u001b[1;31m---------------------------------------------------------------------------\u001b[0m",
      "\u001b[1;31mNameError\u001b[0m                                 Traceback (most recent call last)",
      "Input \u001b[1;32mIn [4]\u001b[0m, in \u001b[0;36m<cell line: 1>\u001b[1;34m()\u001b[0m\n\u001b[1;32m----> 1\u001b[0m \u001b[43mPrint\u001b[49m(\u001b[38;5;124m\"\u001b[39m\u001b[38;5;124mHello World!\u001b[39m\u001b[38;5;124m\"\u001b[39m)\n",
      "\u001b[1;31mNameError\u001b[0m: name 'Print' is not defined"
     ]
    }
   ],
   "source": [
    "Print(\"Hello World!\")"
   ]
  },
  {
   "cell_type": "code",
   "execution_count": 5,
   "id": "f1fd7958",
   "metadata": {
    "ExecuteTime": {
     "end_time": "2022-12-13T16:06:20.342548Z",
     "start_time": "2022-12-13T16:06:20.308495Z"
    }
   },
   "outputs": [
    {
     "ename": "NameError",
     "evalue": "name 'Print' is not defined",
     "output_type": "error",
     "traceback": [
      "\u001b[1;31m---------------------------------------------------------------------------\u001b[0m",
      "\u001b[1;31mNameError\u001b[0m                                 Traceback (most recent call last)",
      "Input \u001b[1;32mIn [5]\u001b[0m, in \u001b[0;36m<cell line: 1>\u001b[1;34m()\u001b[0m\n\u001b[1;32m----> 1\u001b[0m \u001b[43mPrint\u001b[49m(\u001b[38;5;124m\"\u001b[39m\u001b[38;5;124mHello World!\u001b[39m\u001b[38;5;124m\"\u001b[39m)\n",
      "\u001b[1;31mNameError\u001b[0m: name 'Print' is not defined"
     ]
    }
   ],
   "source": [
    "Print(\"Hello World!\")"
   ]
  },
  {
   "cell_type": "code",
   "execution_count": 7,
   "id": "b0775239",
   "metadata": {
    "ExecuteTime": {
     "end_time": "2022-12-13T16:06:50.603056Z",
     "start_time": "2022-12-13T16:06:50.597043Z"
    }
   },
   "outputs": [
    {
     "ename": "IndentationError",
     "evalue": "unindent does not match any outer indentation level (<tokenize>, line 3)",
     "output_type": "error",
     "traceback": [
      "\u001b[1;36m  File \u001b[1;32m<tokenize>:3\u001b[1;36m\u001b[0m\n\u001b[1;33m    print(i)\u001b[0m\n\u001b[1;37m    ^\u001b[0m\n\u001b[1;31mIndentationError\u001b[0m\u001b[1;31m:\u001b[0m unindent does not match any outer indentation level\n"
     ]
    }
   ],
   "source": [
    "if(a!=b):\n",
    "     i = a+b\n",
    "    print(i)"
   ]
  },
  {
   "cell_type": "code",
   "execution_count": 8,
   "id": "f232455b",
   "metadata": {
    "ExecuteTime": {
     "end_time": "2022-12-13T16:07:00.897067Z",
     "start_time": "2022-12-13T16:07:00.863325Z"
    }
   },
   "outputs": [
    {
     "ename": "IndexError",
     "evalue": "list index out of range",
     "output_type": "error",
     "traceback": [
      "\u001b[1;31m---------------------------------------------------------------------------\u001b[0m",
      "\u001b[1;31mIndexError\u001b[0m                                Traceback (most recent call last)",
      "Input \u001b[1;32mIn [8]\u001b[0m, in \u001b[0;36m<cell line: 2>\u001b[1;34m()\u001b[0m\n\u001b[0;32m      1\u001b[0m a \u001b[38;5;241m=\u001b[39m \u001b[38;5;28mlist\u001b[39m(\u001b[38;5;28mrange\u001b[39m(\u001b[38;5;241m10\u001b[39m))\n\u001b[1;32m----> 2\u001b[0m \u001b[38;5;28mprint\u001b[39m(\u001b[43ma\u001b[49m\u001b[43m[\u001b[49m\u001b[38;5;241;43m12\u001b[39;49m\u001b[43m]\u001b[49m)\n",
      "\u001b[1;31mIndexError\u001b[0m: list index out of range"
     ]
    }
   ],
   "source": [
    "a = list(range(10))\n",
    "print(a[12])"
   ]
  },
  {
   "cell_type": "code",
   "execution_count": 9,
   "id": "7cd583e6",
   "metadata": {
    "ExecuteTime": {
     "end_time": "2022-12-13T16:08:17.573195Z",
     "start_time": "2022-12-13T16:08:17.541146Z"
    }
   },
   "outputs": [
    {
     "ename": "TypeError",
     "evalue": "unsupported operand type(s) for +: 'int' and 'str'",
     "output_type": "error",
     "traceback": [
      "\u001b[1;31m---------------------------------------------------------------------------\u001b[0m",
      "\u001b[1;31mTypeError\u001b[0m                                 Traceback (most recent call last)",
      "Input \u001b[1;32mIn [9]\u001b[0m, in \u001b[0;36m<cell line: 1>\u001b[1;34m()\u001b[0m\n\u001b[1;32m----> 1\u001b[0m \u001b[38;5;28;43msum\u001b[39;49m\u001b[43m(\u001b[49m\u001b[43m[\u001b[49m\u001b[38;5;124;43m'\u001b[39;49m\u001b[38;5;124;43mhi\u001b[39;49m\u001b[38;5;124;43m'\u001b[39;49m\u001b[43m,\u001b[49m\u001b[43m \u001b[49m\u001b[38;5;124;43m'\u001b[39;49m\u001b[38;5;124;43mhello\u001b[39;49m\u001b[38;5;124;43m'\u001b[39;49m\u001b[43m]\u001b[49m\u001b[43m)\u001b[49m\n",
      "\u001b[1;31mTypeError\u001b[0m: unsupported operand type(s) for +: 'int' and 'str'"
     ]
    }
   ],
   "source": [
    "sum(['hi', 'hello'])"
   ]
  },
  {
   "cell_type": "code",
   "execution_count": 10,
   "id": "8bb6483e",
   "metadata": {
    "ExecuteTime": {
     "end_time": "2022-12-13T16:08:33.802662Z",
     "start_time": "2022-12-13T16:08:33.773618Z"
    }
   },
   "outputs": [
    {
     "ename": "TypeError",
     "evalue": "can only concatenate str (not \"int\") to str",
     "output_type": "error",
     "traceback": [
      "\u001b[1;31m---------------------------------------------------------------------------\u001b[0m",
      "\u001b[1;31mTypeError\u001b[0m                                 Traceback (most recent call last)",
      "Input \u001b[1;32mIn [10]\u001b[0m, in \u001b[0;36m<cell line: 1>\u001b[1;34m()\u001b[0m\n\u001b[1;32m----> 1\u001b[0m \u001b[38;5;124;43m'\u001b[39;49m\u001b[38;5;124;43mhi\u001b[39;49m\u001b[38;5;124;43m'\u001b[39;49m\u001b[38;5;241;43m+\u001b[39;49m\u001b[38;5;241;43m1\u001b[39;49m\n",
      "\u001b[1;31mTypeError\u001b[0m: can only concatenate str (not \"int\") to str"
     ]
    }
   ],
   "source": [
    "'hi'+1"
   ]
  },
  {
   "cell_type": "code",
   "execution_count": 11,
   "id": "21b2a590",
   "metadata": {
    "ExecuteTime": {
     "end_time": "2022-12-13T16:08:46.479438Z",
     "start_time": "2022-12-13T16:08:46.449394Z"
    }
   },
   "outputs": [
    {
     "ename": "ValueError",
     "evalue": "math domain error",
     "output_type": "error",
     "traceback": [
      "\u001b[1;31m---------------------------------------------------------------------------\u001b[0m",
      "\u001b[1;31mValueError\u001b[0m                                Traceback (most recent call last)",
      "Input \u001b[1;32mIn [11]\u001b[0m, in \u001b[0;36m<cell line: 2>\u001b[1;34m()\u001b[0m\n\u001b[0;32m      1\u001b[0m \u001b[38;5;28;01mimport\u001b[39;00m \u001b[38;5;21;01mmath\u001b[39;00m\n\u001b[1;32m----> 2\u001b[0m \u001b[43mmath\u001b[49m\u001b[38;5;241;43m.\u001b[39;49m\u001b[43msqrt\u001b[49m\u001b[43m(\u001b[49m\u001b[38;5;241;43m-\u001b[39;49m\u001b[38;5;241;43m100\u001b[39;49m\u001b[43m)\u001b[49m\n",
      "\u001b[1;31mValueError\u001b[0m: math domain error"
     ]
    }
   ],
   "source": [
    "import math\n",
    "math.sqrt(-100)"
   ]
  },
  {
   "attachments": {
    "image.png": {
     "image/png": "[encoded data removed]"
    }
   },
   "cell_type": "markdown",
   "id": "d0acd4f5",
   "metadata": {},
   "source": [
    "## Exception handling in python\n",
    "### The try-except statement\n",
    "\n",
    "![image.png](attachment:image.png)"
   ]
  },
  {
   "cell_type": "code",
   "execution_count": 17,
   "id": "7e0e1682",
   "metadata": {
    "ExecuteTime": {
     "end_time": "2022-12-13T16:40:32.895500Z",
     "start_time": "2022-12-13T16:40:06.531892Z"
    }
   },
   "outputs": [
    {
     "name": "stdout",
     "output_type": "stream",
     "text": [
      "Enter a: 25\n",
      "Enter b: Hi\n",
      "Error: There is some issue; Please input correct values.\n"
     ]
    }
   ],
   "source": [
    "try:\n",
    "    a = int(input('Enter a: ')) \n",
    "    b = int(input('Enter b: ')) \n",
    "    c = a/b\n",
    "    print(c)\n",
    "except:\n",
    "    print('Error: There is some issue; Please input correct values.')\n",
    "    \n",
    "# execute try, if there is any error then only execute except"
   ]
  },
  {
   "cell_type": "markdown",
   "id": "d34e99c6",
   "metadata": {
    "ExecuteTime": {
     "end_time": "2022-12-13T16:21:53.222565Z",
     "start_time": "2022-12-13T16:21:45.597963Z"
    }
   },
   "source": [
    "try:\n",
    "    a = int(input(\"Enter a: \"))\n",
    "    b = int(input(\"Enter b: \"))\n",
    "    c = a/b  \n",
    "    print(c)\n",
    "except:\n",
    "    print('Error: There is some issue; Please input correct values.')"
   ]
  },
  {
   "cell_type": "code",
   "execution_count": 15,
   "id": "9fbe1953",
   "metadata": {
    "ExecuteTime": {
     "end_time": "2022-12-13T16:30:01.148045Z",
     "start_time": "2022-12-13T16:30:01.139031Z"
    }
   },
   "outputs": [
    {
     "name": "stdout",
     "output_type": "stream",
     "text": [
      "Error while loading the data\n"
     ]
    }
   ],
   "source": [
    "# nested try and except\n",
    "\n",
    "import pandas as pd\n",
    "\n",
    "try:\n",
    "    df = pd.read_csv(r'C:\\Data\\mydata.csv')\n",
    "    try:\n",
    "        print(df.isna().sum())\n",
    "    except:\n",
    "        print('Some error')\n",
    "except:\n",
    "    print('Error while loading the data')\n",
    "    \n",
    "    "
   ]
  },
  {
   "cell_type": "markdown",
   "id": "219c847a",
   "metadata": {},
   "source": [
    "## Handling a specific type of exception"
   ]
  },
  {
   "cell_type": "code",
   "execution_count": 18,
   "id": "c1354442",
   "metadata": {
    "ExecuteTime": {
     "end_time": "2022-12-13T17:06:01.986019Z",
     "start_time": "2022-12-13T17:05:53.418535Z"
    }
   },
   "outputs": [
    {
     "name": "stdout",
     "output_type": "stream",
     "text": [
      "Enter a: 25\n",
      "Enter b: 0\n",
      "Error: Zero division error; Please input correct values.\n"
     ]
    }
   ],
   "source": [
    "try:\n",
    "    a = int(input(\"Enter a: \"))\n",
    "    b = int(input(\"Enter b: \"))\n",
    "    c = a/b  \n",
    "    print(c)\n",
    "except ZeroDivisionError:\n",
    "    print('Error: Zero division error; Please input correct values.') \n",
    "\n",
    "# if try has error and the error is ZeroDivisionError then print the error statement.\n",
    "    "
   ]
  },
  {
   "cell_type": "code",
   "execution_count": 19,
   "id": "6fc21750",
   "metadata": {
    "ExecuteTime": {
     "end_time": "2022-12-13T17:11:04.578971Z",
     "start_time": "2022-12-13T17:10:53.060198Z"
    }
   },
   "outputs": [
    {
     "name": "stdout",
     "output_type": "stream",
     "text": [
      "Enter a: 25\n",
      "Enter b: HI\n"
     ]
    },
    {
     "ename": "ValueError",
     "evalue": "invalid literal for int() with base 10: 'HI'",
     "output_type": "error",
     "traceback": [
      "\u001b[1;31m---------------------------------------------------------------------------\u001b[0m",
      "\u001b[1;31mValueError\u001b[0m                                Traceback (most recent call last)",
      "Input \u001b[1;32mIn [19]\u001b[0m, in \u001b[0;36m<cell line: 1>\u001b[1;34m()\u001b[0m\n\u001b[0;32m      1\u001b[0m \u001b[38;5;28;01mtry\u001b[39;00m:\n\u001b[0;32m      2\u001b[0m     a \u001b[38;5;241m=\u001b[39m \u001b[38;5;28mint\u001b[39m(\u001b[38;5;28minput\u001b[39m(\u001b[38;5;124m\"\u001b[39m\u001b[38;5;124mEnter a: \u001b[39m\u001b[38;5;124m\"\u001b[39m))\n\u001b[1;32m----> 3\u001b[0m     b \u001b[38;5;241m=\u001b[39m \u001b[38;5;28;43mint\u001b[39;49m\u001b[43m(\u001b[49m\u001b[38;5;28;43minput\u001b[39;49m\u001b[43m(\u001b[49m\u001b[38;5;124;43m\"\u001b[39;49m\u001b[38;5;124;43mEnter b: \u001b[39;49m\u001b[38;5;124;43m\"\u001b[39;49m\u001b[43m)\u001b[49m\u001b[43m)\u001b[49m\n\u001b[0;32m      4\u001b[0m     c \u001b[38;5;241m=\u001b[39m a\u001b[38;5;241m/\u001b[39mb  \n\u001b[0;32m      5\u001b[0m     \u001b[38;5;28mprint\u001b[39m(c)\n",
      "\u001b[1;31mValueError\u001b[0m: invalid literal for int() with base 10: 'HI'"
     ]
    }
   ],
   "source": [
    "try:\n",
    "    a = int(input(\"Enter a: \"))\n",
    "    b = int(input(\"Enter b: \"))\n",
    "    c = a/b  \n",
    "    print(c)\n",
    "except ZeroDivisionError:\n",
    "    print('Error: Zero division error; Please input correct values.') \n",
    "\n",
    "# if try has error and in mension error in except is true the print the respective error statement other wise print the error in default format "
   ]
  },
  {
   "attachments": {
    "image.png": {
     "image/png": "[encoded data removed]"
    }
   },
   "cell_type": "markdown",
   "id": "d06c733e",
   "metadata": {},
   "source": [
    "## The try-except-else statement\n",
    "\n",
    "![image.png](attachment:image.png)"
   ]
  },
  {
   "cell_type": "code",
   "execution_count": 20,
   "id": "357dff82",
   "metadata": {
    "ExecuteTime": {
     "end_time": "2022-12-13T17:14:42.016092Z",
     "start_time": "2022-12-13T17:14:35.814104Z"
    }
   },
   "outputs": [
    {
     "name": "stdout",
     "output_type": "stream",
     "text": [
      "Enter a: 25\n",
      "Enter b: 55\n",
      "Execution is in else block\n",
      "0.45454545454545453\n"
     ]
    }
   ],
   "source": [
    "try:\n",
    "    a = int(input(\"Enter a: \"))\n",
    "    b = int(input(\"Enter b: \"))\n",
    "    c = a/b      \n",
    "except ZeroDivisionError:\n",
    "    print('Error: Zero division error; Please input correct values.') \n",
    "else:\n",
    "    print('Execution is in else block')\n",
    "    print(c)\n",
    "    \n",
    "# if try is true then go to the else statement and execute it."
   ]
  },
  {
   "cell_type": "code",
   "execution_count": 21,
   "id": "97719734",
   "metadata": {
    "ExecuteTime": {
     "end_time": "2022-12-13T17:22:54.428621Z",
     "start_time": "2022-12-13T17:22:48.419307Z"
    }
   },
   "outputs": [
    {
     "name": "stdout",
     "output_type": "stream",
     "text": [
      "Enter a: 25\n",
      "Enter b: 0\n",
      "Error: Zero division error; Please input correct values.\n"
     ]
    }
   ],
   "source": [
    "try:\n",
    "    a = int(input(\"Enter a: \"))\n",
    "    b = int(input(\"Enter b: \"))\n",
    "    c = a/b      \n",
    "except ZeroDivisionError:\n",
    "    print('Error: Zero division error; Please input correct values.') \n",
    "else:\n",
    "    print('Execution is in else block')\n",
    "    print(c)\n",
    "    \n",
    "# if the try is false and exception error is true then display the exception statement."
   ]
  },
  {
   "cell_type": "markdown",
   "id": "2998dc13",
   "metadata": {},
   "source": [
    "## Handling Multiple exceptions"
   ]
  },
  {
   "cell_type": "code",
   "execution_count": 22,
   "id": "e585480f",
   "metadata": {
    "ExecuteTime": {
     "end_time": "2022-12-13T17:28:19.484132Z",
     "start_time": "2022-12-13T17:28:10.998565Z"
    }
   },
   "outputs": [
    {
     "name": "stdout",
     "output_type": "stream",
     "text": [
      "Enter a: 25\n",
      "Enter b: 0\n",
      "Error: Zero division error; Please input correct values.\n"
     ]
    }
   ],
   "source": [
    "try:\n",
    "    a = int(input(\"Enter a: \"))\n",
    "    b = int(input(\"Enter b: \"))\n",
    "    c = a/b      \n",
    "except ZeroDivisionError:\n",
    "    print('Error: Zero division error; Please input correct values.') \n",
    "except ValueError:\n",
    "    print('Error: Please input int values.') \n",
    "else:\n",
    "    print('Execution is in else block')\n",
    "    print(c)\n",
    "    \n",
    "# if try is false and the the error in given exceptions are in then print the respective statement \n",
    "# and if the try is true thrn go to the else block."
   ]
  },
  {
   "cell_type": "code",
   "execution_count": 23,
   "id": "d016ba9f",
   "metadata": {
    "ExecuteTime": {
     "end_time": "2022-12-13T17:29:03.790536Z",
     "start_time": "2022-12-13T17:28:57.537580Z"
    }
   },
   "outputs": [
    {
     "name": "stdout",
     "output_type": "stream",
     "text": [
      "Enter a: 25\n",
      "Enter b: HI\n",
      "Error: Please input int values.\n"
     ]
    }
   ],
   "source": [
    "try:\n",
    "    a = int(input(\"Enter a: \"))\n",
    "    b = int(input(\"Enter b: \"))\n",
    "    c = a/b      \n",
    "except ZeroDivisionError:\n",
    "    print('Error: Zero division error; Please input correct values.') \n",
    "except ValueError:\n",
    "    print('Error: Please input int values.') \n",
    "else:\n",
    "    print('Execution is in else block')\n",
    "    print(c)"
   ]
  },
  {
   "cell_type": "code",
   "execution_count": 24,
   "id": "de25c5e4",
   "metadata": {
    "ExecuteTime": {
     "end_time": "2022-12-13T17:32:20.499639Z",
     "start_time": "2022-12-13T17:31:52.163168Z"
    }
   },
   "outputs": [
    {
     "name": "stdout",
     "output_type": "stream",
     "text": [
      "Enter a: 25\n",
      "Enter b: 15.75\n",
      "Error: Please input int values or convert before division.\n"
     ]
    }
   ],
   "source": [
    "try:\n",
    "    a = int(input(\"Enter a: \"))\n",
    "    b = input(\"Enter b: \")\n",
    "    c = a/b      \n",
    "except ZeroDivisionError:\n",
    "    print('Error: Zero division error; Please input correct values.') \n",
    "except (ValueError, TypeError):\n",
    "    print('Error: Please input int values or convert before division.') \n",
    "else:\n",
    "    print('Execution is in else block')\n",
    "    print(c)\n",
    "    \n",
    "# We can write multiple error type in one except."
   ]
  },
  {
   "cell_type": "code",
   "execution_count": 25,
   "id": "75162b4e",
   "metadata": {
    "ExecuteTime": {
     "end_time": "2022-12-13T17:40:02.713388Z",
     "start_time": "2022-12-13T17:39:54.747106Z"
    }
   },
   "outputs": [
    {
     "name": "stdout",
     "output_type": "stream",
     "text": [
      "Enter a: 25\n",
      "Enter b: -\n",
      "Error: Please input int values or convert before division.\n"
     ]
    }
   ],
   "source": [
    "try:\n",
    "    a = int(input(\"Enter a: \"))\n",
    "    b = input(\"Enter b: \")\n",
    "    c = a/b      \n",
    "except ZeroDivisionError:\n",
    "    print('Error: Zero division error; Please input correct values.') \n",
    "except: # for all other error types\n",
    "    print('Error: Please input int values or convert before division.') \n",
    "else:\n",
    "    print('Execution is in else block')\n",
    "    print(c)\n",
    "    \n",
    "# except: means it include all type of error, if other given except error is correct then display respective error statement and if try is true then go to the else block"
   ]
  },
  {
   "attachments": {
    "image.png": {
     "image/png": "[encoded data removed]"
    }
   },
   "cell_type": "markdown",
   "id": "03982290",
   "metadata": {},
   "source": [
    "## try...finally block\n",
    "\n",
    "![image.png](attachment:image.png)"
   ]
  },
  {
   "cell_type": "code",
   "execution_count": 26,
   "id": "3982f43b",
   "metadata": {
    "ExecuteTime": {
     "end_time": "2022-12-13T17:54:27.969651Z",
     "start_time": "2022-12-13T17:54:27.945641Z"
    }
   },
   "outputs": [
    {
     "name": "stdout",
     "output_type": "stream",
     "text": [
      "('range object index out of range',)\n",
      "<class 'IndexError'>\n",
      "range object index out of range\n",
      "Error occured at line Num: 4\n",
      "IndexError occurred\n",
      "Check the calculation\n"
     ]
    }
   ],
   "source": [
    "import sys\n",
    "try:\n",
    "    list1 = range(5)\n",
    "    print(list1[6]/list1[0])\n",
    "except IndexError as ie:\n",
    "    print(ie.args)\n",
    "    err_cls,err_msg,err_tb =  sys.exc_info()\n",
    "    print(err_cls)\n",
    "    print(err_msg)\n",
    "    print('Error occured at line Num:', err_tb.tb_lineno)\n",
    "    print(\"IndexError occurred\") \n",
    "except (ZeroDivisionError):  \n",
    "    print(\"ZeroDivisionError occurred\") \n",
    "except:\n",
    "    print('Some other error')\n",
    "else:\n",
    "    print(\"Execution is in Else block\")\n",
    "finally:\n",
    "    print(\"Check the calculation\")\n",
    "    \n",
    "# For displaying page no \n",
    "# import sys for system command \n",
    "# if there is only one error then always execute finally \n"
   ]
  },
  {
   "cell_type": "markdown",
   "id": "332bc8c5",
   "metadata": {},
   "source": [
    "## Raising exceptions\n",
    "\n",
    "### using `raise`"
   ]
  },
  {
   "cell_type": "code",
   "execution_count": 28,
   "id": "34b3bae2",
   "metadata": {
    "ExecuteTime": {
     "end_time": "2022-12-13T17:56:15.170368Z",
     "start_time": "2022-12-13T17:56:15.154364Z"
    }
   },
   "outputs": [
    {
     "data": {
      "text/plain": [
       "1670954175.1543646"
      ]
     },
     "execution_count": 28,
     "metadata": {},
     "output_type": "execute_result"
    }
   ],
   "source": [
    "import time    # time function for staring time\n",
    "time.time() # Return the current time in seconds since the Epoch."
   ]
  },
  {
   "cell_type": "code",
   "execution_count": 29,
   "id": "d1e7d186",
   "metadata": {
    "ExecuteTime": {
     "end_time": "2022-12-13T18:03:26.737697Z",
     "start_time": "2022-12-13T18:03:10.982151Z"
    }
   },
   "outputs": [
    {
     "name": "stdout",
     "output_type": "stream",
     "text": [
      "Enter a: 25\n",
      "Enter b: 0\n",
      "Error: Zero division error; Please input correct values.\n",
      "Exection completed in:  15.73953890800476\n"
     ]
    }
   ],
   "source": [
    "import time\n",
    "\n",
    "try:\n",
    "    start_time = time.time()\n",
    "    a = int(input(\"Enter a: \"))\n",
    "    b = int(input(\"Enter b: \"))\n",
    "    if(b == 0):\n",
    "        raise ArithmeticError \n",
    "except ArithmeticError:\n",
    "    print('Error: Zero division error; Please input correct values.') \n",
    "except: # for all other error types\n",
    "    print('Error: Please input int values or convert before division.') \n",
    "else:\n",
    "    print('Execution is in else block')\n",
    "    print(a/b)\n",
    "finally:\n",
    "    end_time = time.time()\n",
    "    print('Exection completed in: ', end_time-start_time)\n",
    "    \n",
    "\n",
    "\n",
    "# \"raise\" error : Here we are creating our own error\n",
    "# except error\n",
    "# first we are creating error and then write except error if that error is true the write the resepective error statement"
   ]
  },
  {
   "cell_type": "code",
   "execution_count": 30,
   "id": "ad23e96f",
   "metadata": {
    "ExecuteTime": {
     "end_time": "2022-12-13T18:11:34.105032Z",
     "start_time": "2022-12-13T18:11:25.767773Z"
    }
   },
   "outputs": [
    {
     "name": "stdout",
     "output_type": "stream",
     "text": [
      "Enter a: \n",
      "Enter b: 25\n",
      "Error: Please input INT values.\n",
      "<class 'TypeError'>\n",
      "\n",
      "Error occured at line Num: 10\n",
      "Exection completed in:  8.313247919082642\n"
     ]
    }
   ],
   "source": [
    "import time\n",
    "import sys\n",
    "try:\n",
    "    start_time = time.time()\n",
    "    a = input(\"Enter a: \")\n",
    "    b = input(\"Enter b: \")\n",
    "    if(b == 0):\n",
    "        raise ArithmeticError\n",
    "    if (isinstance(a, str) or isinstance(b, str)):\n",
    "        raise TypeError\n",
    "except ArithmeticError:\n",
    "    print('Error: Zero division error; Please input correct values.') \n",
    "except TypeError:\n",
    "    print('Error: Please input INT values.') \n",
    "    err_cls,err_msg,err_tb =  sys.exc_info()\n",
    "    print(err_cls)\n",
    "    print(err_msg)\n",
    "    print('Error occured at line Num:', err_tb.tb_lineno)\n",
    "except: # for all other error types\n",
    "    print('Error: Please check your code again.') \n",
    "else:\n",
    "    print('Execution is in else block')\n",
    "    print(int(a)/int(b))\n",
    "finally:\n",
    "    end_time = time.time()\n",
    "    print('Exection completed in: ', end_time-start_time)\n",
    "    \n",
    "# import both sys and time\n",
    "# isinstance(a,str) if a is str or b is str then... \n",
    "# starttime, endtime , for execution time end-start\n",
    "# err_tb  error tab\n"
   ]
  },
  {
   "cell_type": "code",
   "execution_count": 31,
   "id": "52de76be",
   "metadata": {
    "ExecuteTime": {
     "end_time": "2022-12-13T18:12:53.636768Z",
     "start_time": "2022-12-13T18:12:53.620766Z"
    }
   },
   "outputs": [
    {
     "name": "stdout",
     "output_type": "stream",
     "text": [
      "File does not exists\n"
     ]
    }
   ],
   "source": [
    "import os\n",
    "myfilepath = r'C:\\Data\\mydata.csv'\n",
    "\n",
    "try:\n",
    "    if(os.path.isfile(myfilepath)):\n",
    "        df = pd.read_csv(myfilepath)\n",
    "    else:\n",
    "        raise FileNotFoundError\n",
    "except FileNotFoundError:\n",
    "    print('File does not exists')\n",
    "    \n",
    "    \n",
    "    \n",
    "# if the given file path's file is not there then display msg"
   ]
  },
  {
   "cell_type": "markdown",
   "id": "721e532a",
   "metadata": {},
   "source": [
    "### Excel Data Analytics Full Course\n",
    "\n",
    "https://www.youtube.com/watch?v=OOWAk2"
   ]
  },
  {
   "cell_type": "code",
   "execution_count": null,
   "id": "a231a6df",
   "metadata": {},
   "outputs": [],
   "source": []
  },
  {
   "cell_type": "code",
   "execution_count": null,
   "id": "76261675",
   "metadata": {},
   "outputs": [],
   "source": []
  },
  {
   "cell_type": "code",
   "execution_count": null,
   "id": "2f7bad72",
   "metadata": {},
   "outputs": [],
   "source": []
  },
  {
   "cell_type": "code",
   "execution_count": null,
   "id": "6980e3b3",
   "metadata": {},
   "outputs": [],
   "source": []
  },
  {
   "cell_type": "code",
   "execution_count": 2,
   "id": "7795c548",
   "metadata": {
    "ExecuteTime": {
     "end_time": "2022-12-13T05:54:46.445794Z",
     "start_time": "2022-12-13T05:54:46.429790Z"
    }
   },
   "outputs": [],
   "source": [
    "import shutil     ## related to file library"
   ]
  },
  {
   "cell_type": "code",
   "execution_count": null,
   "id": "c169ff82",
   "metadata": {},
   "outputs": [],
   "source": [
    "shutil.chown()"
   ]
  }
 ],
 "metadata": {
  "kernelspec": {
   "display_name": "Python 3 (ipykernel)",
   "language": "python",
   "name": "python3"
  },
  "language_info": {
   "codemirror_mode": {
    "name": "ipython",
    "version": 3
   },
   "file_extension": ".py",
   "mimetype": "text/x-python",
   "name": "python",
   "nbconvert_exporter": "python",
   "pygments_lexer": "ipython3",
   "version": "3.9.12"
  }
 },
 "nbformat": 4,
 "nbformat_minor": 5
}
