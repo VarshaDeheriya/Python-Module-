{
 "cells": [
  {
   "cell_type": "markdown",
   "id": "391e87c5",
   "metadata": {},
   "source": [
    "# Regular Expression"
   ]
  },
  {
   "cell_type": "code",
   "execution_count": 48,
   "id": "6aa519fe",
   "metadata": {},
   "outputs": [],
   "source": [
    "text = \"Innomatics --- is one of the### best institute in hyderabad@@@\" "
   ]
  },
  {
   "cell_type": "code",
   "execution_count": 4,
   "id": "c4952156",
   "metadata": {},
   "outputs": [
    {
     "data": {
      "text/plain": [
       "'Innomatics  is one of the best institute in hyderabad'"
      ]
     },
     "execution_count": 4,
     "metadata": {},
     "output_type": "execute_result"
    }
   ],
   "source": [
    "a = text.replace('-','')\n",
    "b = a.replace('#','')\n",
    "b.replace('@','')\n"
   ]
  },
  {
   "cell_type": "code",
   "execution_count": 49,
   "id": "5d32148c",
   "metadata": {},
   "outputs": [
    {
     "data": {
      "text/plain": [
       "'Innomatics  is one of the best institute in hyderabad'"
      ]
     },
     "execution_count": 49,
     "metadata": {},
     "output_type": "execute_result"
    }
   ],
   "source": [
    "text.replace('-','').replace('#','').replace('@','')"
   ]
  },
  {
   "cell_type": "code",
   "execution_count": 3,
   "id": "64903bd2",
   "metadata": {},
   "outputs": [],
   "source": [
    "import re"
   ]
  },
  {
   "cell_type": "code",
   "execution_count": 9,
   "id": "e6389232",
   "metadata": {},
   "outputs": [
    {
     "data": {
      "text/plain": [
       "'Innomatics  is one of the best institute in hyderabad'"
      ]
     },
     "execution_count": 9,
     "metadata": {},
     "output_type": "execute_result"
    }
   ],
   "source": [
    "re.sub('[-#@]','',text)"
   ]
  },
  {
   "cell_type": "code",
   "execution_count": null,
   "id": "366ffcf4",
   "metadata": {},
   "outputs": [],
   "source": [
    "\n",
    "\\w - alphanumeric\n",
    "\\W - special character\n",
    "\\d - digits\n",
    "\\b - boundary\n",
    "\\s - space\n",
    ".\n",
    "*\n",
    "+\n",
    "()\n",
    "[]\n",
    "{}"
   ]
  },
  {
   "cell_type": "code",
   "execution_count": 4,
   "id": "84e058e8",
   "metadata": {},
   "outputs": [],
   "source": [
    "data = \"\"\"Python is an interpreted1234, object-oriented, high-level programming\n",
    "language with dynamic semantics. Its high-level built in data structures, \n",
    "combined with dynamic typing and dynamic binding, make it very attractive for Rapid \n",
    "Application Development, as well as for use as a 5678 scripting or glue language to connect\n",
    "existing components together. Python's simple, easy to learn syntax emphasizes readability\n",
    "and therefore reduces the cost of program maintenance. Python supports modules and packages,\n",
    "which encourages program modularity and code reuse. The Python interpreter and the extensive\n",
    "standard library are available in source or binary form without charge for all major platforms,\n",
    "and can be freely distributed.\"\"\" "
   ]
  },
  {
   "cell_type": "code",
   "execution_count": 14,
   "id": "3b0869ff",
   "metadata": {},
   "outputs": [
    {
     "name": "stdout",
     "output_type": "stream",
     "text": [
      "['P', 'y', 't', 'h', 'o', 'n', ' ', 'i', 's', ' ', 'a', 'n', ' ', 'i', 'n', 't', 'e', 'r', 'p', 'r', 'e', 't', 'e', 'd', ',', ' ', 'o', 'b', 'j', 'e', 'c', 't', '-', 'o', 'r', 'i', 'e', 'n', 't', 'e', 'd', ',', ' ', 'h', 'i', 'g', 'h', '-', 'l', 'e', 'v', 'e', 'l', ' ', 'p', 'r', 'o', 'g', 'r', 'a', 'm', 'm', 'i', 'n', 'g', '\\n', 'l', 'a', 'n', 'g', 'u', 'a', 'g', 'e', ' ', 'w', 'i', 't', 'h', ' ', 'd', 'y', 'n', 'a', 'm', 'i', 'c', ' ', 's', 'e', 'm', 'a', 'n', 't', 'i', 'c', 's', '.', ' ', 'I', 't', 's', ' ', 'h', 'i', 'g', 'h', '-', 'l', 'e', 'v', 'e', 'l', ' ', 'b', 'u', 'i', 'l', 't', ' ', 'i', 'n', ' ', 'd', 'a', 't', 'a', ' ', 's', 't', 'r', 'u', 'c', 't', 'u', 'r', 'e', 's', ',', ' ', '\\n', 'c', 'o', 'm', 'b', 'i', 'n', 'e', 'd', ' ', 'w', 'i', 't', 'h', ' ', 'd', 'y', 'n', 'a', 'm', 'i', 'c', ' ', 't', 'y', 'p', 'i', 'n', 'g', ' ', 'a', 'n', 'd', ' ', 'd', 'y', 'n', 'a', 'm', 'i', 'c', ' ', 'b', 'i', 'n', 'd', 'i', 'n', 'g', ',', ' ', 'm', 'a', 'k', 'e', ' ', 'i', 't', ' ', 'v', 'e', 'r', 'y', ' ', 'a', 't', 't', 'r', 'a', 'c', 't', 'i', 'v', 'e', ' ', 'f', 'o', 'r', ' ', 'R', 'a', 'p', 'i', 'd', ' ', '\\n', 'A', 'p', 'p', 'l', 'i', 'c', 'a', 't', 'i', 'o', 'n', ' ', 'D', 'e', 'v', 'e', 'l', 'o', 'p', 'm', 'e', 'n', 't', ',', ' ', 'a', 's', ' ', 'w', 'e', 'l', 'l', ' ', 'a', 's', ' ', 'f', 'o', 'r', ' ', 'u', 's', 'e', ' ', 'a', 's', ' ', 'a', ' ', 's', 'c', 'r', 'i', 'p', 't', 'i', 'n', 'g', ' ', 'o', 'r', ' ', 'g', 'l', 'u', 'e', ' ', 'l', 'a', 'n', 'g', 'u', 'a', 'g', 'e', ' ', 't', 'o', ' ', 'c', 'o', 'n', 'n', 'e', 'c', 't', '\\n', 'e', 'x', 'i', 's', 't', 'i', 'n', 'g', ' ', 'c', 'o', 'm', 'p', 'o', 'n', 'e', 'n', 't', 's', ' ', 't', 'o', 'g', 'e', 't', 'h', 'e', 'r', '.', ' ', 'P', 'y', 't', 'h', 'o', 'n', \"'\", 's', ' ', 's', 'i', 'm', 'p', 'l', 'e', ',', ' ', 'e', 'a', 's', 'y', ' ', 't', 'o', ' ', 'l', 'e', 'a', 'r', 'n', ' ', 's', 'y', 'n', 't', 'a', 'x', ' ', 'e', 'm', 'p', 'h', 'a', 's', 'i', 'z', 'e', 's', ' ', 'r', 'e', 'a', 'd', 'a', 'b', 'i', 'l', 'i', 't', 'y', '\\n', 'a', 'n', 'd', ' ', 't', 'h', 'e', 'r', 'e', 'f', 'o', 'r', 'e', ' ', 'r', 'e', 'd', 'u', 'c', 'e', 's', ' ', 't', 'h', 'e', ' ', 'c', 'o', 's', 't', ' ', 'o', 'f', ' ', 'p', 'r', 'o', 'g', 'r', 'a', 'm', ' ', 'm', 'a', 'i', 'n', 't', 'e', 'n', 'a', 'n', 'c', 'e', '.', ' ', 'P', 'y', 't', 'h', 'o', 'n', ' ', 's', 'u', 'p', 'p', 'o', 'r', 't', 's', ' ', 'm', 'o', 'd', 'u', 'l', 'e', 's', ' ', 'a', 'n', 'd', ' ', 'p', 'a', 'c', 'k', 'a', 'g', 'e', 's', ',', '\\n', 'w', 'h', 'i', 'c', 'h', ' ', 'e', 'n', 'c', 'o', 'u', 'r', 'a', 'g', 'e', 's', ' ', 'p', 'r', 'o', 'g', 'r', 'a', 'm', ' ', 'm', 'o', 'd', 'u', 'l', 'a', 'r', 'i', 't', 'y', ' ', 'a', 'n', 'd', ' ', 'c', 'o', 'd', 'e', ' ', 'r', 'e', 'u', 's', 'e', '.', ' ', 'T', 'h', 'e', ' ', 'P', 'y', 't', 'h', 'o', 'n', ' ', 'i', 'n', 't', 'e', 'r', 'p', 'r', 'e', 't', 'e', 'r', ' ', 'a', 'n', 'd', ' ', 't', 'h', 'e', ' ', 'e', 'x', 't', 'e', 'n', 's', 'i', 'v', 'e', '\\n', 's', 't', 'a', 'n', 'd', 'a', 'r', 'd', ' ', 'l', 'i', 'b', 'r', 'a', 'r', 'y', ' ', 'a', 'r', 'e', ' ', 'a', 'v', 'a', 'i', 'l', 'a', 'b', 'l', 'e', ' ', 'i', 'n', ' ', 's', 'o', 'u', 'r', 'c', 'e', ' ', 'o', 'r', ' ', 'b', 'i', 'n', 'a', 'r', 'y', ' ', 'f', 'o', 'r', 'm', ' ', 'w', 'i', 't', 'h', 'o', 'u', 't', ' ', 'c', 'h', 'a', 'r', 'g', 'e', ' ', 'f', 'o', 'r', ' ', 'a', 'l', 'l', ' ', 'm', 'a', 'j', 'o', 'r', ' ', 'p', 'l', 'a', 't', 'f', 'o', 'r', 'm', 's', ',', '\\n', 'a', 'n', 'd', ' ', 'c', 'a', 'n', ' ', 'b', 'e', ' ', 'f', 'r', 'e', 'e', 'l', 'y', ' ', 'd', 'i', 's', 't', 'r', 'i', 'b', 'u', 't', 'e', 'd', '.']\n"
     ]
    }
   ],
   "source": [
    "k =[]\n",
    "for i in data:\n",
    "    k.append(i)\n",
    "print(k)"
   ]
  },
  {
   "cell_type": "markdown",
   "id": "85ece515",
   "metadata": {},
   "source": [
    "### findall(pattern,text)"
   ]
  },
  {
   "cell_type": "code",
   "execution_count": 15,
   "id": "a55f9a5f",
   "metadata": {},
   "outputs": [
    {
     "name": "stdout",
     "output_type": "stream",
     "text": [
      "['P', 'y', 't', 'h', 'o', 'n', 'i', 's', 'a', 'n', 'i', 'n', 't', 'e', 'r', 'p', 'r', 'e', 't', 'e', 'd', 'o', 'b', 'j', 'e', 'c', 't', 'o', 'r', 'i', 'e', 'n', 't', 'e', 'd', 'h', 'i', 'g', 'h', 'l', 'e', 'v', 'e', 'l', 'p', 'r', 'o', 'g', 'r', 'a', 'm', 'm', 'i', 'n', 'g', 'l', 'a', 'n', 'g', 'u', 'a', 'g', 'e', 'w', 'i', 't', 'h', 'd', 'y', 'n', 'a', 'm', 'i', 'c', 's', 'e', 'm', 'a', 'n', 't', 'i', 'c', 's', 'I', 't', 's', 'h', 'i', 'g', 'h', 'l', 'e', 'v', 'e', 'l', 'b', 'u', 'i', 'l', 't', 'i', 'n', 'd', 'a', 't', 'a', 's', 't', 'r', 'u', 'c', 't', 'u', 'r', 'e', 's', 'c', 'o', 'm', 'b', 'i', 'n', 'e', 'd', 'w', 'i', 't', 'h', 'd', 'y', 'n', 'a', 'm', 'i', 'c', 't', 'y', 'p', 'i', 'n', 'g', 'a', 'n', 'd', 'd', 'y', 'n', 'a', 'm', 'i', 'c', 'b', 'i', 'n', 'd', 'i', 'n', 'g', 'm', 'a', 'k', 'e', 'i', 't', 'v', 'e', 'r', 'y', 'a', 't', 't', 'r', 'a', 'c', 't', 'i', 'v', 'e', 'f', 'o', 'r', 'R', 'a', 'p', 'i', 'd', 'A', 'p', 'p', 'l', 'i', 'c', 'a', 't', 'i', 'o', 'n', 'D', 'e', 'v', 'e', 'l', 'o', 'p', 'm', 'e', 'n', 't', 'a', 's', 'w', 'e', 'l', 'l', 'a', 's', 'f', 'o', 'r', 'u', 's', 'e', 'a', 's', 'a', 's', 'c', 'r', 'i', 'p', 't', 'i', 'n', 'g', 'o', 'r', 'g', 'l', 'u', 'e', 'l', 'a', 'n', 'g', 'u', 'a', 'g', 'e', 't', 'o', 'c', 'o', 'n', 'n', 'e', 'c', 't', 'e', 'x', 'i', 's', 't', 'i', 'n', 'g', 'c', 'o', 'm', 'p', 'o', 'n', 'e', 'n', 't', 's', 't', 'o', 'g', 'e', 't', 'h', 'e', 'r', 'P', 'y', 't', 'h', 'o', 'n', 's', 's', 'i', 'm', 'p', 'l', 'e', 'e', 'a', 's', 'y', 't', 'o', 'l', 'e', 'a', 'r', 'n', 's', 'y', 'n', 't', 'a', 'x', 'e', 'm', 'p', 'h', 'a', 's', 'i', 'z', 'e', 's', 'r', 'e', 'a', 'd', 'a', 'b', 'i', 'l', 'i', 't', 'y', 'a', 'n', 'd', 't', 'h', 'e', 'r', 'e', 'f', 'o', 'r', 'e', 'r', 'e', 'd', 'u', 'c', 'e', 's', 't', 'h', 'e', 'c', 'o', 's', 't', 'o', 'f', 'p', 'r', 'o', 'g', 'r', 'a', 'm', 'm', 'a', 'i', 'n', 't', 'e', 'n', 'a', 'n', 'c', 'e', 'P', 'y', 't', 'h', 'o', 'n', 's', 'u', 'p', 'p', 'o', 'r', 't', 's', 'm', 'o', 'd', 'u', 'l', 'e', 's', 'a', 'n', 'd', 'p', 'a', 'c', 'k', 'a', 'g', 'e', 's', 'w', 'h', 'i', 'c', 'h', 'e', 'n', 'c', 'o', 'u', 'r', 'a', 'g', 'e', 's', 'p', 'r', 'o', 'g', 'r', 'a', 'm', 'm', 'o', 'd', 'u', 'l', 'a', 'r', 'i', 't', 'y', 'a', 'n', 'd', 'c', 'o', 'd', 'e', 'r', 'e', 'u', 's', 'e', 'T', 'h', 'e', 'P', 'y', 't', 'h', 'o', 'n', 'i', 'n', 't', 'e', 'r', 'p', 'r', 'e', 't', 'e', 'r', 'a', 'n', 'd', 't', 'h', 'e', 'e', 'x', 't', 'e', 'n', 's', 'i', 'v', 'e', 's', 't', 'a', 'n', 'd', 'a', 'r', 'd', 'l', 'i', 'b', 'r', 'a', 'r', 'y', 'a', 'r', 'e', 'a', 'v', 'a', 'i', 'l', 'a', 'b', 'l', 'e', 'i', 'n', 's', 'o', 'u', 'r', 'c', 'e', 'o', 'r', 'b', 'i', 'n', 'a', 'r', 'y', 'f', 'o', 'r', 'm', 'w', 'i', 't', 'h', 'o', 'u', 't', 'c', 'h', 'a', 'r', 'g', 'e', 'f', 'o', 'r', 'a', 'l', 'l', 'm', 'a', 'j', 'o', 'r', 'p', 'l', 'a', 't', 'f', 'o', 'r', 'm', 's', 'a', 'n', 'd', 'c', 'a', 'n', 'b', 'e', 'f', 'r', 'e', 'e', 'l', 'y', 'd', 'i', 's', 't', 'r', 'i', 'b', 'u', 't', 'e', 'd']\n"
     ]
    }
   ],
   "source": [
    "print(re.findall('\\w',data))"
   ]
  },
  {
   "cell_type": "code",
   "execution_count": 16,
   "id": "8e26dacb",
   "metadata": {},
   "outputs": [
    {
     "name": "stdout",
     "output_type": "stream",
     "text": [
      "['Python', 'is', 'an', 'interpreted', 'object', 'oriented', 'high', 'level', 'programming', 'language', 'with', 'dynamic', 'semantics', 'Its', 'high', 'level', 'built', 'in', 'data', 'structures', 'combined', 'with', 'dynamic', 'typing', 'and', 'dynamic', 'binding', 'make', 'it', 'very', 'attractive', 'for', 'Rapid', 'Application', 'Development', 'as', 'well', 'as', 'for', 'use', 'as', 'a', 'scripting', 'or', 'glue', 'language', 'to', 'connect', 'existing', 'components', 'together', 'Python', 's', 'simple', 'easy', 'to', 'learn', 'syntax', 'emphasizes', 'readability', 'and', 'therefore', 'reduces', 'the', 'cost', 'of', 'program', 'maintenance', 'Python', 'supports', 'modules', 'and', 'packages', 'which', 'encourages', 'program', 'modularity', 'and', 'code', 'reuse', 'The', 'Python', 'interpreter', 'and', 'the', 'extensive', 'standard', 'library', 'are', 'available', 'in', 'source', 'or', 'binary', 'form', 'without', 'charge', 'for', 'all', 'major', 'platforms', 'and', 'can', 'be', 'freely', 'distributed']\n"
     ]
    }
   ],
   "source": [
    "print(re.findall('\\w+',data))"
   ]
  },
  {
   "cell_type": "code",
   "execution_count": 17,
   "id": "22d1dfcd",
   "metadata": {},
   "outputs": [
    {
     "name": "stdout",
     "output_type": "stream",
     "text": [
      "['Python', '', 'is', '', 'an', '', 'interpreted', '', '', 'object', '', 'oriented', '', '', 'high', '', 'level', '', 'programming', '', 'language', '', 'with', '', 'dynamic', '', 'semantics', '', '', 'Its', '', 'high', '', 'level', '', 'built', '', 'in', '', 'data', '', 'structures', '', '', '', 'combined', '', 'with', '', 'dynamic', '', 'typing', '', 'and', '', 'dynamic', '', 'binding', '', '', 'make', '', 'it', '', 'very', '', 'attractive', '', 'for', '', 'Rapid', '', '', 'Application', '', 'Development', '', '', 'as', '', 'well', '', 'as', '', 'for', '', 'use', '', 'as', '', 'a', '', 'scripting', '', 'or', '', 'glue', '', 'language', '', 'to', '', 'connect', '', 'existing', '', 'components', '', 'together', '', '', 'Python', '', 's', '', 'simple', '', '', 'easy', '', 'to', '', 'learn', '', 'syntax', '', 'emphasizes', '', 'readability', '', 'and', '', 'therefore', '', 'reduces', '', 'the', '', 'cost', '', 'of', '', 'program', '', 'maintenance', '', '', 'Python', '', 'supports', '', 'modules', '', 'and', '', 'packages', '', '', 'which', '', 'encourages', '', 'program', '', 'modularity', '', 'and', '', 'code', '', 'reuse', '', '', 'The', '', 'Python', '', 'interpreter', '', 'and', '', 'the', '', 'extensive', '', 'standard', '', 'library', '', 'are', '', 'available', '', 'in', '', 'source', '', 'or', '', 'binary', '', 'form', '', 'without', '', 'charge', '', 'for', '', 'all', '', 'major', '', 'platforms', '', '', 'and', '', 'can', '', 'be', '', 'freely', '', 'distributed', '', '']\n"
     ]
    }
   ],
   "source": [
    "print(re.findall('\\w*',data))"
   ]
  },
  {
   "cell_type": "code",
   "execution_count": 18,
   "id": "67edd007",
   "metadata": {},
   "outputs": [
    {
     "name": "stdout",
     "output_type": "stream",
     "text": [
      "[' ', ' ', ' ', ',', ' ', '-', ',', ' ', '-', ' ', '\\n', ' ', ' ', ' ', '.', ' ', ' ', '-', ' ', ' ', ' ', ' ', ',', ' ', '\\n', ' ', ' ', ' ', ' ', ' ', ' ', ',', ' ', ' ', ' ', ' ', ' ', ' ', ' ', '\\n', ' ', ',', ' ', ' ', ' ', ' ', ' ', ' ', ' ', ' ', ' ', ' ', ' ', ' ', ' ', '\\n', ' ', ' ', '.', ' ', \"'\", ' ', ',', ' ', ' ', ' ', ' ', ' ', ' ', '\\n', ' ', ' ', ' ', ' ', ' ', ' ', ' ', '.', ' ', ' ', ' ', ' ', ' ', ',', '\\n', ' ', ' ', ' ', ' ', ' ', ' ', '.', ' ', ' ', ' ', ' ', ' ', ' ', '\\n', ' ', ' ', ' ', ' ', ' ', ' ', ' ', ' ', ' ', ' ', ' ', ' ', ' ', ' ', ',', '\\n', ' ', ' ', ' ', ' ', '.']\n"
     ]
    }
   ],
   "source": [
    "print(re.findall('\\W',data))"
   ]
  },
  {
   "cell_type": "code",
   "execution_count": 19,
   "id": "fdacf008",
   "metadata": {},
   "outputs": [
    {
     "name": "stdout",
     "output_type": "stream",
     "text": [
      "['P', 'y', 't', 'h', 'o', 'n', ' ', 'i', 's', ' ', 'a', 'n', ' ', 'i', 'n', 't', 'e', 'r', 'p', 'r', 'e', 't', 'e', 'd', ',', ' ', 'o', 'b', 'j', 'e', 'c', 't', '-', 'o', 'r', 'i', 'e', 'n', 't', 'e', 'd', ',', ' ', 'h', 'i', 'g', 'h', '-', 'l', 'e', 'v', 'e', 'l', ' ', 'p', 'r', 'o', 'g', 'r', 'a', 'm', 'm', 'i', 'n', 'g', 'l', 'a', 'n', 'g', 'u', 'a', 'g', 'e', ' ', 'w', 'i', 't', 'h', ' ', 'd', 'y', 'n', 'a', 'm', 'i', 'c', ' ', 's', 'e', 'm', 'a', 'n', 't', 'i', 'c', 's', '.', ' ', 'I', 't', 's', ' ', 'h', 'i', 'g', 'h', '-', 'l', 'e', 'v', 'e', 'l', ' ', 'b', 'u', 'i', 'l', 't', ' ', 'i', 'n', ' ', 'd', 'a', 't', 'a', ' ', 's', 't', 'r', 'u', 'c', 't', 'u', 'r', 'e', 's', ',', ' ', 'c', 'o', 'm', 'b', 'i', 'n', 'e', 'd', ' ', 'w', 'i', 't', 'h', ' ', 'd', 'y', 'n', 'a', 'm', 'i', 'c', ' ', 't', 'y', 'p', 'i', 'n', 'g', ' ', 'a', 'n', 'd', ' ', 'd', 'y', 'n', 'a', 'm', 'i', 'c', ' ', 'b', 'i', 'n', 'd', 'i', 'n', 'g', ',', ' ', 'm', 'a', 'k', 'e', ' ', 'i', 't', ' ', 'v', 'e', 'r', 'y', ' ', 'a', 't', 't', 'r', 'a', 'c', 't', 'i', 'v', 'e', ' ', 'f', 'o', 'r', ' ', 'R', 'a', 'p', 'i', 'd', ' ', 'A', 'p', 'p', 'l', 'i', 'c', 'a', 't', 'i', 'o', 'n', ' ', 'D', 'e', 'v', 'e', 'l', 'o', 'p', 'm', 'e', 'n', 't', ',', ' ', 'a', 's', ' ', 'w', 'e', 'l', 'l', ' ', 'a', 's', ' ', 'f', 'o', 'r', ' ', 'u', 's', 'e', ' ', 'a', 's', ' ', 'a', ' ', 's', 'c', 'r', 'i', 'p', 't', 'i', 'n', 'g', ' ', 'o', 'r', ' ', 'g', 'l', 'u', 'e', ' ', 'l', 'a', 'n', 'g', 'u', 'a', 'g', 'e', ' ', 't', 'o', ' ', 'c', 'o', 'n', 'n', 'e', 'c', 't', 'e', 'x', 'i', 's', 't', 'i', 'n', 'g', ' ', 'c', 'o', 'm', 'p', 'o', 'n', 'e', 'n', 't', 's', ' ', 't', 'o', 'g', 'e', 't', 'h', 'e', 'r', '.', ' ', 'P', 'y', 't', 'h', 'o', 'n', \"'\", 's', ' ', 's', 'i', 'm', 'p', 'l', 'e', ',', ' ', 'e', 'a', 's', 'y', ' ', 't', 'o', ' ', 'l', 'e', 'a', 'r', 'n', ' ', 's', 'y', 'n', 't', 'a', 'x', ' ', 'e', 'm', 'p', 'h', 'a', 's', 'i', 'z', 'e', 's', ' ', 'r', 'e', 'a', 'd', 'a', 'b', 'i', 'l', 'i', 't', 'y', 'a', 'n', 'd', ' ', 't', 'h', 'e', 'r', 'e', 'f', 'o', 'r', 'e', ' ', 'r', 'e', 'd', 'u', 'c', 'e', 's', ' ', 't', 'h', 'e', ' ', 'c', 'o', 's', 't', ' ', 'o', 'f', ' ', 'p', 'r', 'o', 'g', 'r', 'a', 'm', ' ', 'm', 'a', 'i', 'n', 't', 'e', 'n', 'a', 'n', 'c', 'e', '.', ' ', 'P', 'y', 't', 'h', 'o', 'n', ' ', 's', 'u', 'p', 'p', 'o', 'r', 't', 's', ' ', 'm', 'o', 'd', 'u', 'l', 'e', 's', ' ', 'a', 'n', 'd', ' ', 'p', 'a', 'c', 'k', 'a', 'g', 'e', 's', ',', 'w', 'h', 'i', 'c', 'h', ' ', 'e', 'n', 'c', 'o', 'u', 'r', 'a', 'g', 'e', 's', ' ', 'p', 'r', 'o', 'g', 'r', 'a', 'm', ' ', 'm', 'o', 'd', 'u', 'l', 'a', 'r', 'i', 't', 'y', ' ', 'a', 'n', 'd', ' ', 'c', 'o', 'd', 'e', ' ', 'r', 'e', 'u', 's', 'e', '.', ' ', 'T', 'h', 'e', ' ', 'P', 'y', 't', 'h', 'o', 'n', ' ', 'i', 'n', 't', 'e', 'r', 'p', 'r', 'e', 't', 'e', 'r', ' ', 'a', 'n', 'd', ' ', 't', 'h', 'e', ' ', 'e', 'x', 't', 'e', 'n', 's', 'i', 'v', 'e', 's', 't', 'a', 'n', 'd', 'a', 'r', 'd', ' ', 'l', 'i', 'b', 'r', 'a', 'r', 'y', ' ', 'a', 'r', 'e', ' ', 'a', 'v', 'a', 'i', 'l', 'a', 'b', 'l', 'e', ' ', 'i', 'n', ' ', 's', 'o', 'u', 'r', 'c', 'e', ' ', 'o', 'r', ' ', 'b', 'i', 'n', 'a', 'r', 'y', ' ', 'f', 'o', 'r', 'm', ' ', 'w', 'i', 't', 'h', 'o', 'u', 't', ' ', 'c', 'h', 'a', 'r', 'g', 'e', ' ', 'f', 'o', 'r', ' ', 'a', 'l', 'l', ' ', 'm', 'a', 'j', 'o', 'r', ' ', 'p', 'l', 'a', 't', 'f', 'o', 'r', 'm', 's', ',', 'a', 'n', 'd', ' ', 'c', 'a', 'n', ' ', 'b', 'e', ' ', 'f', 'r', 'e', 'e', 'l', 'y', ' ', 'd', 'i', 's', 't', 'r', 'i', 'b', 'u', 't', 'e', 'd', '.']\n"
     ]
    }
   ],
   "source": [
    "print(re.findall('.',data))"
   ]
  },
  {
   "cell_type": "code",
   "execution_count": 22,
   "id": "225e5677",
   "metadata": {},
   "outputs": [
    {
     "name": "stdout",
     "output_type": "stream",
     "text": [
      "['1', '2', '3', '4', '5', '6', '7', '8']\n"
     ]
    }
   ],
   "source": [
    "print(re.findall('\\d',data))"
   ]
  },
  {
   "cell_type": "code",
   "execution_count": 23,
   "id": "72a17480",
   "metadata": {},
   "outputs": [
    {
     "name": "stdout",
     "output_type": "stream",
     "text": [
      "['1234', '5678']\n"
     ]
    }
   ],
   "source": [
    "print(re.findall('\\d+',data))"
   ]
  },
  {
   "cell_type": "code",
   "execution_count": 40,
   "id": "090f8c19",
   "metadata": {},
   "outputs": [
    {
     "name": "stdout",
     "output_type": "stream",
     "text": [
      "Python\n",
      "programming\n",
      "Python's\n",
      "program\n",
      "Python\n",
      "packages,\n",
      "program\n",
      "Python\n",
      "platforms,\n"
     ]
    }
   ],
   "source": [
    "\n",
    "for i in data.split():\n",
    "    if(i.lower().startswith('p')):\n",
    "        print(i)"
   ]
  },
  {
   "cell_type": "code",
   "execution_count": 9,
   "id": "2c87c0ab",
   "metadata": {},
   "outputs": [
    {
     "ename": "SyntaxError",
     "evalue": "invalid syntax (3301634156.py, line 1)",
     "output_type": "error",
     "traceback": [
      "\u001b[1;36m  Input \u001b[1;32mIn [9]\u001b[1;36m\u001b[0m\n\u001b[1;33m    i for i in data.split() :if (i.lower().startswith('p'):\u001b[0m\n\u001b[1;37m      ^\u001b[0m\n\u001b[1;31mSyntaxError\u001b[0m\u001b[1;31m:\u001b[0m invalid syntax\n"
     ]
    }
   ],
   "source": [
    "i for i in data.split() :if (i.lower().startswith('p'):"
   ]
  },
  {
   "cell_type": "code",
   "execution_count": 10,
   "id": "38492073",
   "metadata": {},
   "outputs": [
    {
     "data": {
      "text/plain": [
       "['Python',\n",
       " 'programming',\n",
       " 'Python',\n",
       " 'program',\n",
       " 'Python',\n",
       " 'packages',\n",
       " 'program',\n",
       " 'Python',\n",
       " 'platforms']"
      ]
     },
     "execution_count": 10,
     "metadata": {},
     "output_type": "execute_result"
    }
   ],
   "source": [
    "re.findall(r'\\b[Pp]\\w+',data)"
   ]
  },
  {
   "cell_type": "code",
   "execution_count": 43,
   "id": "7d04fec7",
   "metadata": {},
   "outputs": [
    {
     "data": {
      "text/plain": [
       "['Python', 'Python', 'Python', 'Python']"
      ]
     },
     "execution_count": 43,
     "metadata": {},
     "output_type": "execute_result"
    }
   ],
   "source": [
    "re.findall(r'Python',data)"
   ]
  },
  {
   "cell_type": "code",
   "execution_count": 44,
   "id": "d605f188",
   "metadata": {},
   "outputs": [
    {
     "data": {
      "text/plain": [
       "['Python', 'Python', 'Python', 'Python']"
      ]
     },
     "execution_count": 44,
     "metadata": {},
     "output_type": "execute_result"
    }
   ],
   "source": [
    "re.findall(r'[Pp]ython',data)  # for both P and p"
   ]
  },
  {
   "cell_type": "code",
   "execution_count": 46,
   "id": "9386b29f",
   "metadata": {},
   "outputs": [
    {
     "data": {
      "text/plain": [
       "['is',\n",
       " 'an',\n",
       " 'interpreted1234',\n",
       " 'object',\n",
       " 'oriented',\n",
       " 'Its',\n",
       " 'in',\n",
       " 'and',\n",
       " 'it',\n",
       " 'attractive',\n",
       " 'Application',\n",
       " 'as',\n",
       " 'as',\n",
       " 'use',\n",
       " 'as',\n",
       " 'or',\n",
       " 'existing',\n",
       " 'easy',\n",
       " 'emphasizes',\n",
       " 'and',\n",
       " 'of',\n",
       " 'and',\n",
       " 'encourages',\n",
       " 'and',\n",
       " 'interpreter',\n",
       " 'and',\n",
       " 'extensive',\n",
       " 'are',\n",
       " 'available',\n",
       " 'in',\n",
       " 'or',\n",
       " 'all',\n",
       " 'and']"
      ]
     },
     "execution_count": 46,
     "metadata": {},
     "output_type": "execute_result"
    }
   ],
   "source": [
    "# extrct the words starts with vowels \n",
    "\n",
    "re.findall(r'\\b[aeiouAEIOU]\\w+',data)"
   ]
  },
  {
   "cell_type": "code",
   "execution_count": 47,
   "id": "fa4d11c4",
   "metadata": {},
   "outputs": [
    {
     "data": {
      "text/plain": [
       "['Python',\n",
       " 'high',\n",
       " 'level',\n",
       " 'programming',\n",
       " 'language',\n",
       " 'with',\n",
       " 'dynamic',\n",
       " 'semantics',\n",
       " 'high',\n",
       " 'level',\n",
       " 'built',\n",
       " 'data',\n",
       " 'structures',\n",
       " 'combined',\n",
       " 'with',\n",
       " 'dynamic',\n",
       " 'typing',\n",
       " 'dynamic',\n",
       " 'binding',\n",
       " 'make',\n",
       " 'very',\n",
       " 'for',\n",
       " 'Rapid',\n",
       " 'Development',\n",
       " 'well',\n",
       " 'for',\n",
       " '5678',\n",
       " 'scripting',\n",
       " 'glue',\n",
       " 'language',\n",
       " 'to',\n",
       " 'connect',\n",
       " 'components',\n",
       " 'together',\n",
       " 'Python',\n",
       " 'simple',\n",
       " 'to',\n",
       " 'learn',\n",
       " 'syntax',\n",
       " 'readability',\n",
       " 'therefore',\n",
       " 'reduces',\n",
       " 'the',\n",
       " 'cost',\n",
       " 'program',\n",
       " 'maintenance',\n",
       " 'Python',\n",
       " 'supports',\n",
       " 'modules',\n",
       " 'packages',\n",
       " 'which',\n",
       " 'program',\n",
       " 'modularity',\n",
       " 'code',\n",
       " 'reuse',\n",
       " 'The',\n",
       " 'Python',\n",
       " 'the',\n",
       " 'standard',\n",
       " 'library',\n",
       " 'source',\n",
       " 'binary',\n",
       " 'form',\n",
       " 'without',\n",
       " 'charge',\n",
       " 'for',\n",
       " 'major',\n",
       " 'platforms',\n",
       " 'can',\n",
       " 'be',\n",
       " 'freely',\n",
       " 'distributed']"
      ]
     },
     "execution_count": 47,
     "metadata": {},
     "output_type": "execute_result"
    }
   ],
   "source": [
    "re.findall(r'\\b[^aeiouAEIOU\\s\\W]\\w+',data)"
   ]
  },
  {
   "cell_type": "code",
   "execution_count": 54,
   "id": "f25f065c",
   "metadata": {},
   "outputs": [
    {
     "ename": "error",
     "evalue": "bad character range \\s-\\W at position 14",
     "output_type": "error",
     "traceback": [
      "\u001b[1;31m---------------------------------------------------------------------------\u001b[0m",
      "\u001b[1;31merror\u001b[0m                                     Traceback (most recent call last)",
      "Input \u001b[1;32mIn [54]\u001b[0m, in \u001b[0;36m<cell line: 1>\u001b[1;34m()\u001b[0m\n\u001b[1;32m----> 1\u001b[0m \u001b[43mre\u001b[49m\u001b[38;5;241;43m.\u001b[39;49m\u001b[43mfindall\u001b[49m\u001b[43m(\u001b[49m\u001b[38;5;124;43mr\u001b[39;49m\u001b[38;5;124;43m'\u001b[39;49m\u001b[38;5;124;43m\\\u001b[39;49m\u001b[38;5;124;43mb[^aeiouAEIOU\u001b[39;49m\u001b[38;5;124;43m\\\u001b[39;49m\u001b[38;5;124;43ms-\u001b[39;49m\u001b[38;5;124;43m\\\u001b[39;49m\u001b[38;5;124;43mW\u001b[39;49m\u001b[38;5;124;43m\\\u001b[39;49m\u001b[38;5;124;43md]\u001b[39;49m\u001b[38;5;124;43m\\\u001b[39;49m\u001b[38;5;124;43mw+\u001b[39;49m\u001b[38;5;124;43m'\u001b[39;49m\u001b[43m,\u001b[49m\u001b[43mdata\u001b[49m\u001b[43m)\u001b[49m\n",
      "File \u001b[1;32mE:\\Innomatics data sci\\lib\\re.py:241\u001b[0m, in \u001b[0;36mfindall\u001b[1;34m(pattern, string, flags)\u001b[0m\n\u001b[0;32m    233\u001b[0m \u001b[38;5;28;01mdef\u001b[39;00m \u001b[38;5;21mfindall\u001b[39m(pattern, string, flags\u001b[38;5;241m=\u001b[39m\u001b[38;5;241m0\u001b[39m):\n\u001b[0;32m    234\u001b[0m     \u001b[38;5;124;03m\"\"\"Return a list of all non-overlapping matches in the string.\u001b[39;00m\n\u001b[0;32m    235\u001b[0m \n\u001b[0;32m    236\u001b[0m \u001b[38;5;124;03m    If one or more capturing groups are present in the pattern, return\u001b[39;00m\n\u001b[1;32m   (...)\u001b[0m\n\u001b[0;32m    239\u001b[0m \n\u001b[0;32m    240\u001b[0m \u001b[38;5;124;03m    Empty matches are included in the result.\"\"\"\u001b[39;00m\n\u001b[1;32m--> 241\u001b[0m     \u001b[38;5;28;01mreturn\u001b[39;00m \u001b[43m_compile\u001b[49m\u001b[43m(\u001b[49m\u001b[43mpattern\u001b[49m\u001b[43m,\u001b[49m\u001b[43m \u001b[49m\u001b[43mflags\u001b[49m\u001b[43m)\u001b[49m\u001b[38;5;241m.\u001b[39mfindall(string)\n",
      "File \u001b[1;32mE:\\Innomatics data sci\\lib\\re.py:304\u001b[0m, in \u001b[0;36m_compile\u001b[1;34m(pattern, flags)\u001b[0m\n\u001b[0;32m    302\u001b[0m \u001b[38;5;28;01mif\u001b[39;00m \u001b[38;5;129;01mnot\u001b[39;00m sre_compile\u001b[38;5;241m.\u001b[39misstring(pattern):\n\u001b[0;32m    303\u001b[0m     \u001b[38;5;28;01mraise\u001b[39;00m \u001b[38;5;167;01mTypeError\u001b[39;00m(\u001b[38;5;124m\"\u001b[39m\u001b[38;5;124mfirst argument must be string or compiled pattern\u001b[39m\u001b[38;5;124m\"\u001b[39m)\n\u001b[1;32m--> 304\u001b[0m p \u001b[38;5;241m=\u001b[39m \u001b[43msre_compile\u001b[49m\u001b[38;5;241;43m.\u001b[39;49m\u001b[43mcompile\u001b[49m\u001b[43m(\u001b[49m\u001b[43mpattern\u001b[49m\u001b[43m,\u001b[49m\u001b[43m \u001b[49m\u001b[43mflags\u001b[49m\u001b[43m)\u001b[49m\n\u001b[0;32m    305\u001b[0m \u001b[38;5;28;01mif\u001b[39;00m \u001b[38;5;129;01mnot\u001b[39;00m (flags \u001b[38;5;241m&\u001b[39m DEBUG):\n\u001b[0;32m    306\u001b[0m     \u001b[38;5;28;01mif\u001b[39;00m \u001b[38;5;28mlen\u001b[39m(_cache) \u001b[38;5;241m>\u001b[39m\u001b[38;5;241m=\u001b[39m _MAXCACHE:\n\u001b[0;32m    307\u001b[0m         \u001b[38;5;66;03m# Drop the oldest item\u001b[39;00m\n",
      "File \u001b[1;32mE:\\Innomatics data sci\\lib\\sre_compile.py:764\u001b[0m, in \u001b[0;36mcompile\u001b[1;34m(p, flags)\u001b[0m\n\u001b[0;32m    762\u001b[0m \u001b[38;5;28;01mif\u001b[39;00m isstring(p):\n\u001b[0;32m    763\u001b[0m     pattern \u001b[38;5;241m=\u001b[39m p\n\u001b[1;32m--> 764\u001b[0m     p \u001b[38;5;241m=\u001b[39m \u001b[43msre_parse\u001b[49m\u001b[38;5;241;43m.\u001b[39;49m\u001b[43mparse\u001b[49m\u001b[43m(\u001b[49m\u001b[43mp\u001b[49m\u001b[43m,\u001b[49m\u001b[43m \u001b[49m\u001b[43mflags\u001b[49m\u001b[43m)\u001b[49m\n\u001b[0;32m    765\u001b[0m \u001b[38;5;28;01melse\u001b[39;00m:\n\u001b[0;32m    766\u001b[0m     pattern \u001b[38;5;241m=\u001b[39m \u001b[38;5;28;01mNone\u001b[39;00m\n",
      "File \u001b[1;32mE:\\Innomatics data sci\\lib\\sre_parse.py:950\u001b[0m, in \u001b[0;36mparse\u001b[1;34m(str, flags, state)\u001b[0m\n\u001b[0;32m    947\u001b[0m state\u001b[38;5;241m.\u001b[39mstr \u001b[38;5;241m=\u001b[39m \u001b[38;5;28mstr\u001b[39m\n\u001b[0;32m    949\u001b[0m \u001b[38;5;28;01mtry\u001b[39;00m:\n\u001b[1;32m--> 950\u001b[0m     p \u001b[38;5;241m=\u001b[39m \u001b[43m_parse_sub\u001b[49m\u001b[43m(\u001b[49m\u001b[43msource\u001b[49m\u001b[43m,\u001b[49m\u001b[43m \u001b[49m\u001b[43mstate\u001b[49m\u001b[43m,\u001b[49m\u001b[43m \u001b[49m\u001b[43mflags\u001b[49m\u001b[43m \u001b[49m\u001b[38;5;241;43m&\u001b[39;49m\u001b[43m \u001b[49m\u001b[43mSRE_FLAG_VERBOSE\u001b[49m\u001b[43m,\u001b[49m\u001b[43m \u001b[49m\u001b[38;5;241;43m0\u001b[39;49m\u001b[43m)\u001b[49m\n\u001b[0;32m    951\u001b[0m \u001b[38;5;28;01mexcept\u001b[39;00m Verbose:\n\u001b[0;32m    952\u001b[0m     \u001b[38;5;66;03m# the VERBOSE flag was switched on inside the pattern.  to be\u001b[39;00m\n\u001b[0;32m    953\u001b[0m     \u001b[38;5;66;03m# on the safe side, we'll parse the whole thing again...\u001b[39;00m\n\u001b[0;32m    954\u001b[0m     state \u001b[38;5;241m=\u001b[39m State()\n",
      "File \u001b[1;32mE:\\Innomatics data sci\\lib\\sre_parse.py:443\u001b[0m, in \u001b[0;36m_parse_sub\u001b[1;34m(source, state, verbose, nested)\u001b[0m\n\u001b[0;32m    441\u001b[0m start \u001b[38;5;241m=\u001b[39m source\u001b[38;5;241m.\u001b[39mtell()\n\u001b[0;32m    442\u001b[0m \u001b[38;5;28;01mwhile\u001b[39;00m \u001b[38;5;28;01mTrue\u001b[39;00m:\n\u001b[1;32m--> 443\u001b[0m     itemsappend(\u001b[43m_parse\u001b[49m\u001b[43m(\u001b[49m\u001b[43msource\u001b[49m\u001b[43m,\u001b[49m\u001b[43m \u001b[49m\u001b[43mstate\u001b[49m\u001b[43m,\u001b[49m\u001b[43m \u001b[49m\u001b[43mverbose\u001b[49m\u001b[43m,\u001b[49m\u001b[43m \u001b[49m\u001b[43mnested\u001b[49m\u001b[43m \u001b[49m\u001b[38;5;241;43m+\u001b[39;49m\u001b[43m \u001b[49m\u001b[38;5;241;43m1\u001b[39;49m\u001b[43m,\u001b[49m\n\u001b[0;32m    444\u001b[0m \u001b[43m                       \u001b[49m\u001b[38;5;129;43;01mnot\u001b[39;49;00m\u001b[43m \u001b[49m\u001b[43mnested\u001b[49m\u001b[43m \u001b[49m\u001b[38;5;129;43;01mand\u001b[39;49;00m\u001b[43m \u001b[49m\u001b[38;5;129;43;01mnot\u001b[39;49;00m\u001b[43m \u001b[49m\u001b[43mitems\u001b[49m\u001b[43m)\u001b[49m)\n\u001b[0;32m    445\u001b[0m     \u001b[38;5;28;01mif\u001b[39;00m \u001b[38;5;129;01mnot\u001b[39;00m sourcematch(\u001b[38;5;124m\"\u001b[39m\u001b[38;5;124m|\u001b[39m\u001b[38;5;124m\"\u001b[39m):\n\u001b[0;32m    446\u001b[0m         \u001b[38;5;28;01mbreak\u001b[39;00m\n",
      "File \u001b[1;32mE:\\Innomatics data sci\\lib\\sre_parse.py:593\u001b[0m, in \u001b[0;36m_parse\u001b[1;34m(source, state, verbose, nested, first)\u001b[0m\n\u001b[0;32m    591\u001b[0m \u001b[38;5;28;01mif\u001b[39;00m code1[\u001b[38;5;241m0\u001b[39m] \u001b[38;5;241m!=\u001b[39m LITERAL \u001b[38;5;129;01mor\u001b[39;00m code2[\u001b[38;5;241m0\u001b[39m] \u001b[38;5;241m!=\u001b[39m LITERAL:\n\u001b[0;32m    592\u001b[0m     msg \u001b[38;5;241m=\u001b[39m \u001b[38;5;124m\"\u001b[39m\u001b[38;5;124mbad character range \u001b[39m\u001b[38;5;132;01m%s\u001b[39;00m\u001b[38;5;124m-\u001b[39m\u001b[38;5;132;01m%s\u001b[39;00m\u001b[38;5;124m\"\u001b[39m \u001b[38;5;241m%\u001b[39m (this, that)\n\u001b[1;32m--> 593\u001b[0m     \u001b[38;5;28;01mraise\u001b[39;00m source\u001b[38;5;241m.\u001b[39merror(msg, \u001b[38;5;28mlen\u001b[39m(this) \u001b[38;5;241m+\u001b[39m \u001b[38;5;241m1\u001b[39m \u001b[38;5;241m+\u001b[39m \u001b[38;5;28mlen\u001b[39m(that))\n\u001b[0;32m    594\u001b[0m lo \u001b[38;5;241m=\u001b[39m code1[\u001b[38;5;241m1\u001b[39m]\n\u001b[0;32m    595\u001b[0m hi \u001b[38;5;241m=\u001b[39m code2[\u001b[38;5;241m1\u001b[39m]\n",
      "\u001b[1;31merror\u001b[0m: bad character range \\s-\\W at position 14"
     ]
    }
   ],
   "source": [
    "re.findall(r'\\b[^aeiouAEIOU\\s-\\W\\d]\\w+',data)   # for removing - from char and ^ is not symbol"
   ]
  },
  {
   "cell_type": "code",
   "execution_count": 11,
   "id": "82042d6f",
   "metadata": {},
   "outputs": [
    {
     "data": {
      "text/plain": [
       "['an',\n",
       " 'dynamic',\n",
       " 'built',\n",
       " 'data',\n",
       " 'combined',\n",
       " 'dynamic',\n",
       " 'and',\n",
       " 'dynamic',\n",
       " 'binding',\n",
       " 'attractive',\n",
       " 'for',\n",
       " 'Application',\n",
       " 'Development',\n",
       " 'as',\n",
       " 'as',\n",
       " 'for',\n",
       " 'as',\n",
       " 'glue',\n",
       " 'connect',\n",
       " 'existing',\n",
       " 'components',\n",
       " 'easy',\n",
       " 'emphasizes',\n",
       " 'and',\n",
       " 'cost',\n",
       " 'and',\n",
       " 'encourages',\n",
       " 'and',\n",
       " 'code',\n",
       " 'and',\n",
       " 'extensive',\n",
       " 'are',\n",
       " 'available',\n",
       " 'binary',\n",
       " 'form',\n",
       " 'charge',\n",
       " 'for',\n",
       " 'all',\n",
       " 'and',\n",
       " 'can',\n",
       " 'be',\n",
       " 'freely',\n",
       " 'distributed']"
      ]
     },
     "execution_count": 11,
     "metadata": {},
     "output_type": "execute_result"
    }
   ],
   "source": [
    "re.findall(r'\\b[a-gA-G]\\w+',data)"
   ]
  },
  {
   "cell_type": "code",
   "execution_count": 55,
   "id": "67425108",
   "metadata": {},
   "outputs": [],
   "source": [
    "emails = 'My mail id is abc@gmail.com and xyz@yahoo.com and ram@innomatics.in'"
   ]
  },
  {
   "cell_type": "code",
   "execution_count": 56,
   "id": "857e324b",
   "metadata": {},
   "outputs": [
    {
     "data": {
      "text/plain": [
       "['abc@gmail.com', 'xyz@yahoo.com', 'ram@innomatics.in']"
      ]
     },
     "execution_count": 56,
     "metadata": {},
     "output_type": "execute_result"
    }
   ],
   "source": [
    "re.findall(r'\\w+@\\w+.\\w+',emails)"
   ]
  },
  {
   "cell_type": "code",
   "execution_count": 58,
   "id": "6ce08def",
   "metadata": {},
   "outputs": [
    {
     "data": {
      "text/plain": [
       "['gmail', 'yahoo', 'innomatics']"
      ]
     },
     "execution_count": 58,
     "metadata": {},
     "output_type": "execute_result"
    }
   ],
   "source": [
    "re.findall(r'\\w+@(\\w+).\\w+',emails)"
   ]
  },
  {
   "cell_type": "code",
   "execution_count": 59,
   "id": "38f874f1",
   "metadata": {},
   "outputs": [
    {
     "data": {
      "text/plain": [
       "['abc@gmail', 'xyz@yahoo', 'ram@innomatics']"
      ]
     },
     "execution_count": 59,
     "metadata": {},
     "output_type": "execute_result"
    }
   ],
   "source": [
    "re.findall(r'\\w+@[\\w+].\\w+',emails)"
   ]
  },
  {
   "cell_type": "code",
   "execution_count": 65,
   "id": "4823c4d3",
   "metadata": {},
   "outputs": [],
   "source": [
    "mobile = 'My number is 9848022338 and 1234567890 and 984 802 2338 and +919848022338' "
   ]
  },
  {
   "cell_type": "code",
   "execution_count": 62,
   "id": "dd4234b1",
   "metadata": {},
   "outputs": [
    {
     "data": {
      "text/plain": [
       "['9848022338', '1234567890']"
      ]
     },
     "execution_count": 62,
     "metadata": {},
     "output_type": "execute_result"
    }
   ],
   "source": [
    "re.findall(r'\\d+',mobile)"
   ]
  },
  {
   "cell_type": "code",
   "execution_count": 63,
   "id": "95e8a03f",
   "metadata": {},
   "outputs": [
    {
     "data": {
      "text/plain": [
       "['9848022338']"
      ]
     },
     "execution_count": 63,
     "metadata": {},
     "output_type": "execute_result"
    }
   ],
   "source": [
    "re.findall(r'[6789]{1}[0-9]{9}',mobile)"
   ]
  },
  {
   "cell_type": "code",
   "execution_count": 66,
   "id": "40c7affc",
   "metadata": {},
   "outputs": [
    {
     "data": {
      "text/plain": [
       "['9848022338', '984 802 2338', '9198480223']"
      ]
     },
     "execution_count": 66,
     "metadata": {},
     "output_type": "execute_result"
    }
   ],
   "source": [
    "re.findall(r'[6789]{1}[0-9]{9}|[6-9]{1}\\d{2}\\s\\d{3}\\s\\d{4}',mobile)    # resolving 10 digits problem in below code"
   ]
  },
  {
   "cell_type": "code",
   "execution_count": 67,
   "id": "27c789ce",
   "metadata": {},
   "outputs": [
    {
     "data": {
      "text/plain": [
       "['9848022338', '984 802 2338', '+919848022338']"
      ]
     },
     "execution_count": 67,
     "metadata": {},
     "output_type": "execute_result"
    }
   ],
   "source": [
    "re.findall(r'[6789]{1}[0-9]{9}|[6-9]{1}\\d{2}\\s\\d{3}\\s\\d{4}|\\+91[6789]{1}[0-9]{9}',mobile) # for multiple condition seperated by or operator |"
   ]
  },
  {
   "cell_type": "markdown",
   "id": "a1244145",
   "metadata": {},
   "source": [
    "## sub(old,new,text)\n",
    "\n",
    "same as replace"
   ]
  },
  {
   "cell_type": "code",
   "execution_count": 70,
   "id": "9cd6bb97",
   "metadata": {},
   "outputs": [
    {
     "data": {
      "text/plain": [
       "\"Python is an interpreted1234object-orientedhigh-level programming\\nlanguage with dynamic semanticsIts high-level built in data structures\\ncombined with dynamic typing and dynamic bindingmake it very attractive for Rapid \\nApplication Developmentas well as for use as a 5678 scripting or glue language to connect\\nexisting components togetherPython's simpleeasy to learn syntax emphasizes readability\\nand therefore reduces the cost of program maintenancePython supports modules and packages,\\nwhich encourages program modularity and code reuseThe Python interpreter and the extensive\\nstandard library are available in source or binary form without charge for all major platforms,\\nand can be freely distributed.\""
      ]
     },
     "execution_count": 70,
     "metadata": {},
     "output_type": "execute_result"
    }
   ],
   "source": [
    "re.sub(r'\\W ','',data)"
   ]
  },
  {
   "cell_type": "code",
   "execution_count": 69,
   "id": "56b49fe8",
   "metadata": {},
   "outputs": [
    {
     "data": {
      "text/plain": [
       "\"Python is an interpreted1234object-orientedhigh-level programming\\nlanguage with dynamic semantics. Its high-level built in data structures\\ncombined with dynamic typing and dynamic bindingmake it very attractive for Rapid \\nApplication Developmentas well as for use as a 5678 scripting or glue language to connect\\nexisting components together. Python's simpleeasy to learn syntax emphasizes readability\\nand therefore reduces the cost of program maintenance. Python supports modules and packages,\\nwhich encourages program modularity and code reuse. The Python interpreter and the extensive\\nstandard library are available in source or binary form without charge for all major platforms,\\nand can be freely distributed.\""
      ]
     },
     "execution_count": 69,
     "metadata": {},
     "output_type": "execute_result"
    }
   ],
   "source": [
    "re.sub(r'[\\n,] ','',data)"
   ]
  },
  {
   "cell_type": "markdown",
   "id": "efb407fc",
   "metadata": {},
   "source": [
    "## match(pattern,text)"
   ]
  },
  {
   "cell_type": "code",
   "execution_count": 74,
   "id": "e2f559bb",
   "metadata": {},
   "outputs": [],
   "source": [
    "result = re.match(r'Python',data)    # the word should be in 0th position"
   ]
  },
  {
   "cell_type": "code",
   "execution_count": 75,
   "id": "d9789c29",
   "metadata": {},
   "outputs": [
    {
     "data": {
      "text/plain": [
       "<re.Match object; span=(0, 6), match='Python'>"
      ]
     },
     "execution_count": 75,
     "metadata": {},
     "output_type": "execute_result"
    }
   ],
   "source": [
    "result"
   ]
  },
  {
   "cell_type": "code",
   "execution_count": 76,
   "id": "7a6a7043",
   "metadata": {},
   "outputs": [
    {
     "data": {
      "text/plain": [
       "'Python'"
      ]
     },
     "execution_count": 76,
     "metadata": {},
     "output_type": "execute_result"
    }
   ],
   "source": [
    "result.group()"
   ]
  },
  {
   "cell_type": "code",
   "execution_count": 77,
   "id": "a0c6d4ed",
   "metadata": {},
   "outputs": [
    {
     "data": {
      "text/plain": [
       "0"
      ]
     },
     "execution_count": 77,
     "metadata": {},
     "output_type": "execute_result"
    }
   ],
   "source": [
    "result.start()"
   ]
  },
  {
   "cell_type": "code",
   "execution_count": 78,
   "id": "752eaa6c",
   "metadata": {},
   "outputs": [
    {
     "data": {
      "text/plain": [
       "6"
      ]
     },
     "execution_count": 78,
     "metadata": {},
     "output_type": "execute_result"
    }
   ],
   "source": [
    "result.end()"
   ]
  },
  {
   "cell_type": "markdown",
   "id": "7b3a1bf8",
   "metadata": {},
   "source": [
    "## search(pattern,text)"
   ]
  },
  {
   "cell_type": "code",
   "execution_count": 82,
   "id": "f675f3d6",
   "metadata": {},
   "outputs": [],
   "source": [
    "res = re.search(r'Python',data)   # search is used for any character"
   ]
  },
  {
   "cell_type": "code",
   "execution_count": 83,
   "id": "2806a2e3",
   "metadata": {},
   "outputs": [
    {
     "data": {
      "text/plain": [
       "'Python'"
      ]
     },
     "execution_count": 83,
     "metadata": {},
     "output_type": "execute_result"
    }
   ],
   "source": [
    "res.group()"
   ]
  },
  {
   "cell_type": "code",
   "execution_count": 84,
   "id": "6d6b7ba5",
   "metadata": {},
   "outputs": [
    {
     "data": {
      "text/plain": [
       "0"
      ]
     },
     "execution_count": 84,
     "metadata": {},
     "output_type": "execute_result"
    }
   ],
   "source": [
    "res.start()"
   ]
  },
  {
   "cell_type": "code",
   "execution_count": 85,
   "id": "454a158b",
   "metadata": {},
   "outputs": [
    {
     "data": {
      "text/plain": [
       "6"
      ]
     },
     "execution_count": 85,
     "metadata": {},
     "output_type": "execute_result"
    }
   ],
   "source": [
    "res.end()"
   ]
  },
  {
   "cell_type": "code",
   "execution_count": 86,
   "id": "8b6e3dbe",
   "metadata": {},
   "outputs": [],
   "source": [
    "res = re.search(r'well',data)"
   ]
  },
  {
   "cell_type": "code",
   "execution_count": 87,
   "id": "b717d2ee",
   "metadata": {},
   "outputs": [
    {
     "data": {
      "text/plain": [
       "'well'"
      ]
     },
     "execution_count": 87,
     "metadata": {},
     "output_type": "execute_result"
    }
   ],
   "source": [
    "res.group()"
   ]
  },
  {
   "cell_type": "code",
   "execution_count": 88,
   "id": "845b14fb",
   "metadata": {},
   "outputs": [
    {
     "data": {
      "text/plain": [
       "258"
      ]
     },
     "execution_count": 88,
     "metadata": {},
     "output_type": "execute_result"
    }
   ],
   "source": [
    "res.start()"
   ]
  },
  {
   "cell_type": "code",
   "execution_count": 89,
   "id": "d8419d26",
   "metadata": {},
   "outputs": [
    {
     "data": {
      "text/plain": [
       "262"
      ]
     },
     "execution_count": 89,
     "metadata": {},
     "output_type": "execute_result"
    }
   ],
   "source": [
    "res.end()"
   ]
  },
  {
   "cell_type": "code",
   "execution_count": 90,
   "id": "4d8bd214",
   "metadata": {},
   "outputs": [
    {
     "ename": "TypeError",
     "evalue": "expected string or bytes-like object",
     "output_type": "error",
     "traceback": [
      "\u001b[1;31m---------------------------------------------------------------------------\u001b[0m",
      "\u001b[1;31mTypeError\u001b[0m                                 Traceback (most recent call last)",
      "Input \u001b[1;32mIn [90]\u001b[0m, in \u001b[0;36m<cell line: 1>\u001b[1;34m()\u001b[0m\n\u001b[1;32m----> 1\u001b[0m \u001b[43mre\u001b[49m\u001b[38;5;241;43m.\u001b[39;49m\u001b[43mfindall\u001b[49m\u001b[43m(\u001b[49m\u001b[38;5;124;43m'\u001b[39;49m\u001b[38;5;124;43m123\u001b[39;49m\u001b[38;5;124;43m'\u001b[39;49m\u001b[43m,\u001b[49m\u001b[38;5;241;43m123456\u001b[39;49m\u001b[43m)\u001b[49m\n",
      "File \u001b[1;32mE:\\Innomatics data sci\\lib\\re.py:241\u001b[0m, in \u001b[0;36mfindall\u001b[1;34m(pattern, string, flags)\u001b[0m\n\u001b[0;32m    233\u001b[0m \u001b[38;5;28;01mdef\u001b[39;00m \u001b[38;5;21mfindall\u001b[39m(pattern, string, flags\u001b[38;5;241m=\u001b[39m\u001b[38;5;241m0\u001b[39m):\n\u001b[0;32m    234\u001b[0m     \u001b[38;5;124;03m\"\"\"Return a list of all non-overlapping matches in the string.\u001b[39;00m\n\u001b[0;32m    235\u001b[0m \n\u001b[0;32m    236\u001b[0m \u001b[38;5;124;03m    If one or more capturing groups are present in the pattern, return\u001b[39;00m\n\u001b[1;32m   (...)\u001b[0m\n\u001b[0;32m    239\u001b[0m \n\u001b[0;32m    240\u001b[0m \u001b[38;5;124;03m    Empty matches are included in the result.\"\"\"\u001b[39;00m\n\u001b[1;32m--> 241\u001b[0m     \u001b[38;5;28;01mreturn\u001b[39;00m \u001b[43m_compile\u001b[49m\u001b[43m(\u001b[49m\u001b[43mpattern\u001b[49m\u001b[43m,\u001b[49m\u001b[43m \u001b[49m\u001b[43mflags\u001b[49m\u001b[43m)\u001b[49m\u001b[38;5;241;43m.\u001b[39;49m\u001b[43mfindall\u001b[49m\u001b[43m(\u001b[49m\u001b[43mstring\u001b[49m\u001b[43m)\u001b[49m\n",
      "\u001b[1;31mTypeError\u001b[0m: expected string or bytes-like object"
     ]
    }
   ],
   "source": [
    "re.findall('123',123456)"
   ]
  },
  {
   "cell_type": "code",
   "execution_count": 92,
   "id": "ceba0a37",
   "metadata": {},
   "outputs": [
    {
     "data": {
      "text/plain": [
       "['123']"
      ]
     },
     "execution_count": 92,
     "metadata": {},
     "output_type": "execute_result"
    }
   ],
   "source": [
    "re.findall('123',str(123456))"
   ]
  },
  {
   "cell_type": "code",
   "execution_count": 93,
   "id": "d420629d",
   "metadata": {},
   "outputs": [],
   "source": [
    "ip = \"\"\" \n",
    "   Link-local IPv6 Address . . . . . : fe80::94b4:201:5474:ae5b%2\n",
    "   IPv4 Address. . . . . . . . . . . : 192.168.0.208\n",
    "   Subnet Mask . . . . . . . . . . . : 255.255.255.0\n",
    "   Default Gateway . . . . . . . . . : 192.168.0.1\n",
    "   \"\"\""
   ]
  },
  {
   "cell_type": "code",
   "execution_count": 94,
   "id": "7397678e",
   "metadata": {},
   "outputs": [
    {
     "data": {
      "text/plain": [
       "' \\n   Link-local IPv6 Address . . . . . : fe80::94b4:201:5474:ae5b%2\\n   IPv4 Address. . . . . . . . . . . : 192.168.0.208\\n   Subnet Mask . . . . . . . . . . . : 255.255.255.0\\n   Default Gateway . . . . . . . . . : 192.168.0.1\\n   '"
      ]
     },
     "execution_count": 94,
     "metadata": {},
     "output_type": "execute_result"
    }
   ],
   "source": [
    "ip"
   ]
  },
  {
   "cell_type": "code",
   "execution_count": 96,
   "id": "3f400f72",
   "metadata": {},
   "outputs": [
    {
     "name": "stdout",
     "output_type": "stream",
     "text": [
      "['94b4:201:5474', '192.168.0.208', '255.255.255.0', '192.168.0.1']\n"
     ]
    }
   ],
   "source": [
    "print(re.findall(r'\\d+.\\d+.\\d+.\\d+',ip))"
   ]
  },
  {
   "cell_type": "code",
   "execution_count": 95,
   "id": "5d2febd9",
   "metadata": {},
   "outputs": [
    {
     "name": "stdout",
     "output_type": "stream",
     "text": [
      "['192.168.0.208', '255.255.255.0', '192.168.0.1']\n"
     ]
    }
   ],
   "source": [
    "print(re.findall(r'\\d+\\.\\d+\\.\\d+\\.\\d+',ip))"
   ]
  },
  {
   "cell_type": "code",
   "execution_count": 101,
   "id": "e25384a8",
   "metadata": {},
   "outputs": [],
   "source": [
    "review = '''good: Movie was awesome bad: Worst Movie\n",
    "good: Movie was awesome bad: Worst Movie\n",
    "good: Movie was awesome bad: Worst Movie\n",
    "good: Movie was awesome bad: Worst Movie\n",
    "good: Movie was awesome bad: Worst Movie'''"
   ]
  },
  {
   "cell_type": "code",
   "execution_count": 99,
   "id": "7cc002ae",
   "metadata": {},
   "outputs": [
    {
     "data": {
      "text/plain": [
       "'good: Movie was awesome bad: Worst Movie\\ngood: Movie was awesome bad: Worst Movie\\ngood: Movie was awesome bad: Worst Movie\\ngood: Movie was awesome bad: Worst Movie\\ngood: Movie was awesome bad: Worst Movie'"
      ]
     },
     "execution_count": 99,
     "metadata": {},
     "output_type": "execute_result"
    }
   ],
   "source": [
    "review"
   ]
  },
  {
   "cell_type": "code",
   "execution_count": 105,
   "id": "c52f787d",
   "metadata": {},
   "outputs": [
    {
     "data": {
      "text/plain": [
       "[' Movie was awesome ',\n",
       " ' Movie was awesome ',\n",
       " ' Movie was awesome ',\n",
       " ' Movie was awesome ',\n",
       " ' Movie was awesome ']"
      ]
     },
     "execution_count": 105,
     "metadata": {},
     "output_type": "execute_result"
    }
   ],
   "source": [
    "re.findall(r'\\bgood:(.*)bad:',review)"
   ]
  },
  {
   "cell_type": "code",
   "execution_count": 106,
   "id": "59143805",
   "metadata": {},
   "outputs": [
    {
     "data": {
      "text/plain": [
       "['good: Movie was awesome ',\n",
       " 'good: Movie was awesome ',\n",
       " 'good: Movie was awesome ',\n",
       " 'good: Movie was awesome ',\n",
       " 'good: Movie was awesome ']"
      ]
     },
     "execution_count": 106,
     "metadata": {},
     "output_type": "execute_result"
    }
   ],
   "source": [
    "re.findall(r'\\b(.*)bad:',review)"
   ]
  },
  {
   "cell_type": "code",
   "execution_count": 107,
   "id": "0c564e0c",
   "metadata": {},
   "outputs": [
    {
     "data": {
      "text/plain": [
       "[]"
      ]
     },
     "execution_count": 107,
     "metadata": {},
     "output_type": "execute_result"
    }
   ],
   "source": [
    "re.findall(r'\\bgood:(.)bad:',review)"
   ]
  },
  {
   "cell_type": "code",
   "execution_count": 102,
   "id": "97c850bd",
   "metadata": {},
   "outputs": [
    {
     "name": "stdout",
     "output_type": "stream",
     "text": [
      "[' Movie was awesome ', ' Movie was awesome ', ' Movie was awesome ', ' Movie was awesome ', ' Movie was awesome ']\n"
     ]
    }
   ],
   "source": [
    "print(re.findall(r'good:(.*)bad:',review))"
   ]
  },
  {
   "cell_type": "code",
   "execution_count": 103,
   "id": "3ad6c200",
   "metadata": {},
   "outputs": [
    {
     "data": {
      "text/plain": [
       "[' Movie was awesome ',\n",
       " ' Movie was awesome ',\n",
       " ' Movie was awesome ',\n",
       " ' Movie was awesome ',\n",
       " ' Movie was awesome ']"
      ]
     },
     "execution_count": 103,
     "metadata": {},
     "output_type": "execute_result"
    }
   ],
   "source": [
    "re.findall(r'good:(.*)bad:',review)"
   ]
  },
  {
   "cell_type": "code",
   "execution_count": 104,
   "id": "df292c26",
   "metadata": {},
   "outputs": [
    {
     "data": {
      "text/plain": [
       "[' Worst Movie',\n",
       " ' Worst Movie',\n",
       " ' Worst Movie',\n",
       " ' Worst Movie',\n",
       " ' Worst Movie']"
      ]
     },
     "execution_count": 104,
     "metadata": {},
     "output_type": "execute_result"
    }
   ],
   "source": [
    "re.findall(r'bad:(.*)',review)"
   ]
  },
  {
   "cell_type": "code",
   "execution_count": null,
   "id": "0bf8a6ed",
   "metadata": {},
   "outputs": [],
   "source": []
  }
 ],
 "metadata": {
  "kernelspec": {
   "display_name": "Python 3 (ipykernel)",
   "language": "python",
   "name": "python3"
  },
  "language_info": {
   "codemirror_mode": {
    "name": "ipython",
    "version": 3
   },
   "file_extension": ".py",
   "mimetype": "text/x-python",
   "name": "python",
   "nbconvert_exporter": "python",
   "pygments_lexer": "ipython3",
   "version": "3.9.12"
  }
 },
 "nbformat": 4,
 "nbformat_minor": 5
}
