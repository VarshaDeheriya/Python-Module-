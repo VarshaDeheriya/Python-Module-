{
 "cells": [
  {
   "cell_type": "markdown",
   "id": "13665375",
   "metadata": {},
   "source": [
    "# Python programming"
   ]
  },
  {
   "cell_type": "markdown",
   "id": "3d20ea40",
   "metadata": {},
   "source": [
    "- Foundation for the Data Science course.\n",
    "- This module covers nuts and bolts of manipulating, processing, cleaning, and crunching data in Python.\n",
    "-This is the amount of Python programming you need for data analysis.\n",
    "\n",
    "### Data is everything.\n",
    "``` When I say “data,” what are we referring to exactly?\n",
    "\n",
    "Our primary focus is on structured data, but data is available in various formats - Tabular/Spreadsheets, Multidimensional arrays, Multiple tables joined by keys etc..,\n",
    "```\n",
    "\n",
    "### Why Python?\n",
    "- Simple programming language to pick up, from a syntax point of view.\n",
    "- Active community with a vast selection of libraries and resources.\n",
    "- Ruby is another excellent language for data analysis but lacks ML support.\n",
    "- Python’s overall strength for general-purpose software engineering\n",
    "\n",
    "#### NumPy\n",
    "- Numerical Python - main pillar for the numerical computations in Python.\n",
    "- Contains a fast and efficient multidimensional array object ndarray.\n",
    "- One of its primary uses in data analysis is as a container for data to be passed between algorithms and libraries.\n",
    "\n",
    "#### pandas\n",
    "- The primary objects in pandas\n",
    "\n",
    "      - the DataFrame,a tabular, column-oriented data structure with both row and column labels\n",
    "      - the Series, a one-dimensional labeled array object.\n",
    "- pandas blends the high-performance, array-computing ideas of NumPy.\n",
    "\n",
    "- Provides sophisticated indexing functionality to make it easy to reshape, slice and dice, perform aggregations, and select subsets of data.\n",
    "\n",
    "#### matplotlib\n",
    "- Most popular Python library for producing plots and other 2-D data visualizations.\n",
    "- There are many other libraries available, but matplotlib is cossidered as simple & default visualization tool.\n",
    "- We will learn **Seaborn** along with matplotlib.\n",
    "\n",
    "#### statsmodels\n",
    "- A statistical analysis package.\n",
    "- Contains algorithms for classical techniques.\n",
    "      - Regression models: Linear regression, generalized linear models.\n",
    "      - ANOVA\n",
    "      - Time Series etc..,\n",
    "\n",
    "#### scikit-learn\n",
    "- Most famous Machine learning toolkit for Python programmers.\n",
    "- Supports wide variety of machine learning algos like: Classification, Regression, Clustering, Dimensionality Reduction etc..,\n",
    "- The combination of above libraries forms a strong tool kit and critical for Python - Data Science applications.\n",
    "\n",
    "## IDE\n",
    "\n",
    "### Jupyter Notebook\n",
    "- An open-source web application that allows us to create and share codes and documents.\n",
    "- Notebooks are incredibly flexible, interactive and powerful tools in the hands of a data scientist.\n",
    "\n",
    "### How to install?\n",
    "- with Anaconda distribution.\n",
    "- using pip command\n",
    "\n",
    "   - For Python2 - pip install jupyter\n",
    "\n",
    "   - For Python3 - pip3 install jupyter\n",
    "\n",
    "** Get used to the Jupyter notebook controls and short-cuts.\n",
    "\n",
    "## Installing or Updating Python Packages\n",
    "From Anaconda prompt - use\n",
    "\n",
    "- conda install package_name\n",
    "If the above code doesnt work, use - pip install package_name\n",
    "\n",
    "pip is to install in any environment where as conda is to install in Anaconda environment.\n",
    "\n",
    "**update packages**\n",
    "\n",
    "conda update package_name\n",
    "\n",
    "pip install --upgrade package_name\n",
    "\n",
    "## Get Started With Python\n",
    "\n",
    "### Python Interpreter\n",
    "Python is an interpreted language (it goes through an interpreter, which turns code you write into the language understood by your computer’s processor). The Python interpreter runs a program by executing one statement at a time."
   ]
  },
  {
   "cell_type": "markdown",
   "id": "d74785fc",
   "metadata": {},
   "source": [
    "# First python program"
   ]
  },
  {
   "cell_type": "code",
   "execution_count": 2,
   "id": "0d2e992b",
   "metadata": {},
   "outputs": [
    {
     "name": "stdout",
     "output_type": "stream",
     "text": [
      "Hello World!\n"
     ]
    }
   ],
   "source": [
    "# first line of code: printing a text/string\n",
    "print('Hello World!')"
   ]
  },
  {
   "cell_type": "code",
   "execution_count": 3,
   "id": "5ed387af",
   "metadata": {},
   "outputs": [
    {
     "data": {
      "text/plain": [
       "12"
      ]
     },
     "execution_count": 3,
     "metadata": {},
     "output_type": "execute_result"
    }
   ],
   "source": [
    "len('Hello World!')  # Calculating the length of the string"
   ]
  },
  {
   "cell_type": "code",
   "execution_count": 4,
   "id": "39b2129e",
   "metadata": {},
   "outputs": [
    {
     "data": {
      "text/plain": [
       "25"
      ]
     },
     "execution_count": 4,
     "metadata": {},
     "output_type": "execute_result"
    }
   ],
   "source": [
    "len('Hello              World!')"
   ]
  },
  {
   "cell_type": "code",
   "execution_count": 5,
   "id": "7c34719c",
   "metadata": {},
   "outputs": [
    {
     "name": "stdout",
     "output_type": "stream",
     "text": [
      "20\n",
      "20.5\n",
      "20\n",
      "20.5\n"
     ]
    }
   ],
   "source": [
    "# print numeric value\n",
    "\n",
    "print(20); print(20.5)\n",
    "\n",
    "print(20)\n",
    "print(20.5)"
   ]
  },
  {
   "cell_type": "code",
   "execution_count": 1,
   "id": "c88b8306",
   "metadata": {
    "ExecuteTime": {
     "end_time": "2022-12-04T16:50:17.124280Z",
     "start_time": "2022-12-04T16:50:17.095703Z"
    }
   },
   "outputs": [
    {
     "name": "stdout",
     "output_type": "stream",
     "text": [
      "Python Data Science course\n",
      "Python+Data+Science+course\n",
      "PythonDataSciencecourse\n",
      "Python.Data.Science.course\n",
      "Python\n",
      "Data\n",
      "Science\n",
      "course\n",
      "Python\tData\tScience\tcourse\n"
     ]
    }
   ],
   "source": [
    "# printing multiple values \n",
    "\n",
    "print('Python','Data','Science','course')\n",
    "print('Python','Data','Science','course', sep = '+')\n",
    "print('Python','Data','Science','course', sep = '' )\n",
    "print('Python','Data','Science','course', sep = '.' )\n",
    "print('Python','Data','Science','course', sep = '\\n')\n",
    "print('Python','Data','Science','course', sep = '\\t')"
   ]
  },
  {
   "cell_type": "code",
   "execution_count": 2,
   "id": "938024a0",
   "metadata": {},
   "outputs": [
    {
     "name": "stdout",
     "output_type": "stream",
     "text": [
      "Python Data Science course\n",
      "Python+Data+Science+course\n",
      "\n",
      "\n",
      "PythonDataSciencecoursePython.Data.Science.course\tPython\n",
      "Data\n",
      "Science\n",
      "course"
     ]
    }
   ],
   "source": [
    "# 'end' parameters deals with multiple print statements\n",
    "print('Python','Data','Science','course')\n",
    "print('Python','Data','Science','course', sep = '+', end='\\n\\n\\n')\n",
    "print('Python','Data','Science','course', sep = '', end='')\n",
    "print('Python','Data','Science','course', sep = '.',end='\\t' )\n",
    "print('Python','Data','Science','course', sep = '\\n', end='')"
   ]
  },
  {
   "cell_type": "code",
   "execution_count": 1,
   "id": "8368e5dd",
   "metadata": {},
   "outputs": [
    {
     "name": "stdout",
     "output_type": "stream",
     "text": [
      "225 30 0 1.0\n",
      "\n",
      "225\n",
      "30\n",
      "0\n",
      "1.0\n"
     ]
    }
   ],
   "source": [
    "print(15*15,15+15,15-15,15/15, end = '\\n\\n')\n",
    "print(15*15,15+15,15-15,15/15, sep='\\n')"
   ]
  },
  {
   "cell_type": "code",
   "execution_count": 11,
   "id": "16a92f4a",
   "metadata": {},
   "outputs": [
    {
     "name": "stdout",
     "output_type": "stream",
     "text": [
      "15*15\n"
     ]
    }
   ],
   "source": [
    "print('15*15')\n",
    "# here the computaiton doesn't happen rather the input considered as text/string"
   ]
  },
  {
   "cell_type": "markdown",
   "id": "542e946b",
   "metadata": {},
   "source": [
    "## Python Variables\n",
    "- used to store information to be referenced and manipulated in a computer program.\n",
    "- Easy to maintain the code and apply changes."
   ]
  },
  {
   "cell_type": "code",
   "execution_count": 3,
   "id": "4d23a3a1",
   "metadata": {},
   "outputs": [
    {
     "name": "stdout",
     "output_type": "stream",
     "text": [
      "800 0.5 -20 60\n",
      "800 0.5 -20 60\n",
      "a*b a/b a-b a+b\n"
     ]
    }
   ],
   "source": [
    "# define a variable\n",
    "\n",
    "a = 20\n",
    "b = 40\n",
    "\n",
    "print(a*b, a/b, a-b, a+b) # we do not use quotes for variables\n",
    "print(20*40,20/40,20-40,20+40) # line 6 is same as line 7\n",
    "\n",
    "print('a*b', 'a/b', 'a-b', 'a+b')\n",
    "# values enclosed in quotes will be considered as strings and printed as-is"
   ]
  },
  {
   "cell_type": "code",
   "execution_count": 16,
   "id": "3db27b04",
   "metadata": {},
   "outputs": [
    {
     "ename": "SyntaxError",
     "evalue": "invalid syntax (4169294655.py, line 3)",
     "output_type": "error",
     "traceback": [
      "\u001b[1;36m  Input \u001b[1;32mIn [16]\u001b[1;36m\u001b[0m\n\u001b[1;33m    b =10%\u001b[0m\n\u001b[1;37m          ^\u001b[0m\n\u001b[1;31mSyntaxError\u001b[0m\u001b[1;31m:\u001b[0m invalid syntax\n"
     ]
    }
   ],
   "source": [
    "# create vriables bill amount a, tax b\n",
    "a =1500\n",
    "b =10%\n",
    "\n",
    "c= a*b"
   ]
  },
  {
   "cell_type": "code",
   "execution_count": 14,
   "id": "a72e95b2",
   "metadata": {},
   "outputs": [
    {
     "name": "stdout",
     "output_type": "stream",
     "text": [
      "225+30+0\n",
      "\n",
      "\n",
      "15*15\n"
     ]
    }
   ],
   "source": [
    "print(15*15,15+15,15-15, sep = '+', end='\\n\\n\\n')\n",
    "print('15*15')"
   ]
  },
  {
   "cell_type": "code",
   "execution_count": 19,
   "id": "d28222bc",
   "metadata": {},
   "outputs": [
    {
     "name": "stdout",
     "output_type": "stream",
     "text": [
      "1650.0\n",
      "1650.0\n"
     ]
    }
   ],
   "source": [
    "# create two vriables bill amount 1500 , tax 10% and print the total bill\n",
    "a = 1500\n",
    "b = 0.1\n",
    "print(a + (a*b)).\n",
    "\n",
    "#or\n",
    "\n",
    "billamount = 1500\n",
    "tax = 0.1\n",
    "print(billamount + (billamount*tax))"
   ]
  },
  {
   "cell_type": "code",
   "execution_count": 4,
   "id": "612fa577",
   "metadata": {},
   "outputs": [
    {
     "ename": "NameError",
     "evalue": "name 'Billamount' is not defined",
     "output_type": "error",
     "traceback": [
      "\u001b[1;31m---------------------------------------------------------------------------\u001b[0m",
      "\u001b[1;31mNameError\u001b[0m                                 Traceback (most recent call last)",
      "Input \u001b[1;32mIn [4]\u001b[0m, in \u001b[0;36m<cell line: 1>\u001b[1;34m()\u001b[0m\n\u001b[1;32m----> 1\u001b[0m \u001b[38;5;28mprint\u001b[39m(\u001b[43mBillamount\u001b[49m)\n",
      "\u001b[1;31mNameError\u001b[0m: name 'Billamount' is not defined"
     ]
    }
   ],
   "source": [
    "print(Billamount) # Python is case-sensitive"
   ]
  },
  {
   "cell_type": "code",
   "execution_count": 5,
   "id": "13800891",
   "metadata": {},
   "outputs": [
    {
     "ename": "NameError",
     "evalue": "name 'c' is not defined",
     "output_type": "error",
     "traceback": [
      "\u001b[1;31m---------------------------------------------------------------------------\u001b[0m",
      "\u001b[1;31mNameError\u001b[0m                                 Traceback (most recent call last)",
      "Input \u001b[1;32mIn [5]\u001b[0m, in \u001b[0;36m<cell line: 1>\u001b[1;34m()\u001b[0m\n\u001b[1;32m----> 1\u001b[0m \u001b[38;5;28mprint\u001b[39m(\u001b[43mc\u001b[49m)\n",
      "\u001b[1;31mNameError\u001b[0m: name 'c' is not defined"
     ]
    }
   ],
   "source": [
    "print(c)"
   ]
  },
  {
   "cell_type": "markdown",
   "id": "1c1e3954",
   "metadata": {},
   "source": [
    "## Rules to remeber while creating Variable names\n",
    "Check list while creating variable:\n",
    "\n",
    "- A variable name can only contain alpha-numeric characters and underscores (A-z, 0-9, and _ ).\n",
    "- A variable name must start with a alphabet or the underscore character.\n",
    "- A variable name cannot start with a number.\n",
    "- Variable names are case-sensitive (age, Age and AGE are three different variables),\n",
    "- Avoid using reserved keywords or built-in function names as variable names."
   ]
  },
  {
   "cell_type": "code",
   "execution_count": 7,
   "id": "9ddb4185",
   "metadata": {},
   "outputs": [],
   "source": [
    "_var1 = 10\n",
    "var1 = 20\n",
    "var_1 = 30\n",
    "var = 40\n",
    "var_ = 50"
   ]
  },
  {
   "cell_type": "code",
   "execution_count": 8,
   "id": "fad0d159",
   "metadata": {},
   "outputs": [
    {
     "ename": "SyntaxError",
     "evalue": "invalid syntax (3636645122.py, line 1)",
     "output_type": "error",
     "traceback": [
      "\u001b[1;36m  Input \u001b[1;32mIn [8]\u001b[1;36m\u001b[0m\n\u001b[1;33m    var 1 = 10\u001b[0m\n\u001b[1;37m        ^\u001b[0m\n\u001b[1;31mSyntaxError\u001b[0m\u001b[1;31m:\u001b[0m invalid syntax\n"
     ]
    }
   ],
   "source": [
    "var 1 = 10"
   ]
  },
  {
   "cell_type": "code",
   "execution_count": 9,
   "id": "864f4d46",
   "metadata": {},
   "outputs": [
    {
     "ename": "SyntaxError",
     "evalue": "invalid syntax (1793910547.py, line 1)",
     "output_type": "error",
     "traceback": [
      "\u001b[1;36m  Input \u001b[1;32mIn [9]\u001b[1;36m\u001b[0m\n\u001b[1;33m    var$1 = 10\u001b[0m\n\u001b[1;37m       ^\u001b[0m\n\u001b[1;31mSyntaxError\u001b[0m\u001b[1;31m:\u001b[0m invalid syntax\n"
     ]
    }
   ],
   "source": [
    "var$1 = 10"
   ]
  },
  {
   "cell_type": "code",
   "execution_count": 10,
   "id": "54986c47",
   "metadata": {},
   "outputs": [
    {
     "ename": "SyntaxError",
     "evalue": "invalid syntax (4256868957.py, line 1)",
     "output_type": "error",
     "traceback": [
      "\u001b[1;36m  Input \u001b[1;32mIn [10]\u001b[1;36m\u001b[0m\n\u001b[1;33m    1var = 10\u001b[0m\n\u001b[1;37m     ^\u001b[0m\n\u001b[1;31mSyntaxError\u001b[0m\u001b[1;31m:\u001b[0m invalid syntax\n"
     ]
    }
   ],
   "source": [
    "1var = 10"
   ]
  },
  {
   "cell_type": "code",
   "execution_count": null,
   "id": "dc11d5b7",
   "metadata": {},
   "outputs": [],
   "source": []
  },
  {
   "cell_type": "code",
   "execution_count": 4,
   "id": "765bd1ce",
   "metadata": {
    "ExecuteTime": {
     "end_time": "2022-12-04T17:45:02.531016Z",
     "start_time": "2022-12-04T17:45:02.522498Z"
    }
   },
   "outputs": [
    {
     "name": "stdout",
     "output_type": "stream",
     "text": [
      "800 0.5 -20 60\n",
      "800 0.5 -20 60\n"
     ]
    }
   ],
   "source": [
    "# define a variable\n",
    "\n",
    "a= 20\n",
    "b= 40\n",
    "print(a*b, a/b, a-b, a+b) # we do not use quotes for variable\n",
    "print(20*b, a/b, a-b, a+b)"
   ]
  },
  {
   "cell_type": "code",
   "execution_count": 3,
   "id": "f1aa6957",
   "metadata": {
    "ExecuteTime": {
     "end_time": "2022-12-04T17:44:43.592955Z",
     "start_time": "2022-12-04T17:44:43.583930Z"
    }
   },
   "outputs": [
    {
     "name": "stdout",
     "output_type": "stream",
     "text": [
      "800 0.5 -20 60\n",
      "800 0.5 -20 60\n",
      "a*b a/b a-b a+b\n"
     ]
    }
   ],
   "source": [
    "# define a variable\n",
    "\n",
    "a = 20\n",
    "b = 40\n",
    "\n",
    "print(a*b, a/b, a-b, a+b) # we do not use quotes for variables\n",
    "print(20*40,20/40,20-40,20+40) # line 6 is same as line 7\n",
    "\n",
    "print('a*b', 'a/b', 'a-b', 'a+b')\n",
    "# values enclosed in quotes will be considered as strings and printed as-is"
   ]
  },
  {
   "cell_type": "code",
   "execution_count": 7,
   "id": "cac9c068",
   "metadata": {
    "ExecuteTime": {
     "end_time": "2022-12-04T17:46:50.467128Z",
     "start_time": "2022-12-04T17:46:50.455593Z"
    }
   },
   "outputs": [
    {
     "name": "stdout",
     "output_type": "stream",
     "text": [
      "\n",
      "Here is a list of the Python keywords.  Enter any keyword to get more help.\n",
      "\n",
      "False               break               for                 not\n",
      "None                class               from                or\n",
      "True                continue            global              pass\n",
      "__peg_parser__      def                 if                  raise\n",
      "and                 del                 import              return\n",
      "as                  elif                in                  try\n",
      "assert              else                is                  while\n",
      "async               except              lambda              with\n",
      "await               finally             nonlocal            yield\n",
      "\n"
     ]
    }
   ],
   "source": [
    "# python reserved keyword\n",
    "\n",
    "help('keywords')"
   ]
  },
  {
   "cell_type": "code",
   "execution_count": 5,
   "id": "5d4b0940",
   "metadata": {},
   "outputs": [
    {
     "data": {
      "text/plain": [
       "True"
      ]
     },
     "execution_count": 5,
     "metadata": {},
     "output_type": "execute_result"
    }
   ],
   "source": [
    "True"
   ]
  },
  {
   "cell_type": "code",
   "execution_count": 6,
   "id": "57b42828",
   "metadata": {},
   "outputs": [
    {
     "data": {
      "text/plain": [
       "bool"
      ]
     },
     "execution_count": 6,
     "metadata": {},
     "output_type": "execute_result"
    }
   ],
   "source": [
    "type(True)"
   ]
  },
  {
   "cell_type": "code",
   "execution_count": 11,
   "id": "d3a8e3c8",
   "metadata": {},
   "outputs": [
    {
     "ename": "SyntaxError",
     "evalue": "cannot assign to True (34022044.py, line 1)",
     "output_type": "error",
     "traceback": [
      "\u001b[1;36m  Input \u001b[1;32mIn [11]\u001b[1;36m\u001b[0m\n\u001b[1;33m    True = 25 # we can not use a keyword as a variable\u001b[0m\n\u001b[1;37m    ^\u001b[0m\n\u001b[1;31mSyntaxError\u001b[0m\u001b[1;31m:\u001b[0m cannot assign to True\n"
     ]
    }
   ],
   "source": [
    "True = 25 # we can not use a keyword as a variable"
   ]
  },
  {
   "cell_type": "markdown",
   "id": "c6e19bec",
   "metadata": {},
   "source": [
    "# built in function \n",
    "\n",
    "https://docs.python.org/3/library/functions.html"
   ]
  },
  {
   "cell_type": "code",
   "execution_count": 7,
   "id": "a3c3228f",
   "metadata": {},
   "outputs": [
    {
     "name": "stdout",
     "output_type": "stream",
     "text": [
      "25\n"
     ]
    }
   ],
   "source": [
    "print(25)"
   ]
  },
  {
   "cell_type": "code",
   "execution_count": 8,
   "id": "e47c24fd",
   "metadata": {},
   "outputs": [
    {
     "data": {
      "text/plain": [
       "builtin_function_or_method"
      ]
     },
     "execution_count": 8,
     "metadata": {},
     "output_type": "execute_result"
    }
   ],
   "source": [
    "# check the type of \"print\"\n",
    "type(print)"
   ]
  },
  {
   "cell_type": "code",
   "execution_count": 10,
   "id": "0e041e29",
   "metadata": {},
   "outputs": [],
   "source": [
    "print = 25"
   ]
  },
  {
   "cell_type": "code",
   "execution_count": 2,
   "id": "69c46e3e",
   "metadata": {},
   "outputs": [
    {
     "name": "stdout",
     "output_type": "stream",
     "text": [
      "100\n"
     ]
    }
   ],
   "source": [
    "print(100)"
   ]
  },
  {
   "cell_type": "code",
   "execution_count": 8,
   "id": "2d8ec736",
   "metadata": {
    "ExecuteTime": {
     "end_time": "2022-12-04T17:47:56.965091Z",
     "start_time": "2022-12-04T17:47:56.946550Z"
    }
   },
   "outputs": [
    {
     "data": {
      "text/plain": [
       "builtin_function_or_method"
      ]
     },
     "execution_count": 8,
     "metadata": {},
     "output_type": "execute_result"
    }
   ],
   "source": [
    "type(print)"
   ]
  },
  {
   "cell_type": "code",
   "execution_count": 9,
   "id": "ffbbbbe6",
   "metadata": {
    "ExecuteTime": {
     "end_time": "2022-12-04T17:48:01.754245Z",
     "start_time": "2022-12-04T17:48:01.746725Z"
    }
   },
   "outputs": [
    {
     "data": {
      "text/plain": [
       "type"
      ]
     },
     "execution_count": 9,
     "metadata": {},
     "output_type": "execute_result"
    }
   ],
   "source": [
    "type(int)"
   ]
  },
  {
   "cell_type": "code",
   "execution_count": 2,
   "id": "fe043920",
   "metadata": {},
   "outputs": [
    {
     "data": {
      "text/plain": [
       "builtin_function_or_method"
      ]
     },
     "execution_count": 2,
     "metadata": {},
     "output_type": "execute_result"
    }
   ],
   "source": [
    "type(print)"
   ]
  },
  {
   "cell_type": "code",
   "execution_count": 3,
   "id": "a4a9fcc5",
   "metadata": {},
   "outputs": [
    {
     "data": {
      "text/plain": [
       "builtin_function_or_method"
      ]
     },
     "execution_count": 3,
     "metadata": {},
     "output_type": "execute_result"
    }
   ],
   "source": [
    "type(print)"
   ]
  },
  {
   "cell_type": "code",
   "execution_count": 5,
   "id": "67d2639c",
   "metadata": {},
   "outputs": [
    {
     "ename": "NameError",
     "evalue": "name 'print' is not defined",
     "output_type": "error",
     "traceback": [
      "\u001b[1;31m---------------------------------------------------------------------------\u001b[0m",
      "\u001b[1;31mNameError\u001b[0m                                 Traceback (most recent call last)",
      "Input \u001b[1;32mIn [5]\u001b[0m, in \u001b[0;36m<cell line: 2>\u001b[1;34m()\u001b[0m\n\u001b[0;32m      1\u001b[0m \u001b[38;5;66;03m# use the \"del\" keyword\u001b[39;00m\n\u001b[1;32m----> 2\u001b[0m \u001b[38;5;28;01mdel\u001b[39;00m \u001b[38;5;28mprint\u001b[39m\n",
      "\u001b[1;31mNameError\u001b[0m: name 'print' is not defined"
     ]
    }
   ],
   "source": [
    "# use the \"del\" keyword\n",
    "del print"
   ]
  },
  {
   "cell_type": "code",
   "execution_count": 16,
   "id": "34fdc897",
   "metadata": {},
   "outputs": [
    {
     "name": "stdout",
     "output_type": "stream",
     "text": [
      "100\n",
      "\n",
      "101\n"
     ]
    }
   ],
   "source": [
    "print(100)\n",
    "print()\n",
    "print(101)"
   ]
  },
  {
   "cell_type": "code",
   "execution_count": null,
   "id": "cc54f1e0",
   "metadata": {},
   "outputs": [],
   "source": []
  },
  {
   "cell_type": "code",
   "execution_count": null,
   "id": "f9c40604",
   "metadata": {},
   "outputs": [],
   "source": []
  },
  {
   "cell_type": "markdown",
   "id": "07f4cfc4",
   "metadata": {},
   "source": [
    "### Comments, quotes and Multiline"
   ]
  },
  {
   "cell_type": "code",
   "execution_count": null,
   "id": "9e922e95",
   "metadata": {},
   "outputs": [],
   "source": [
    "# this is a comment; starts with '#'\n",
    "print(100) # this is a simple print stmnt\n"
   ]
  },
  {
   "cell_type": "code",
   "execution_count": 18,
   "id": "a5e9146f",
   "metadata": {},
   "outputs": [
    {
     "name": "stdout",
     "output_type": "stream",
     "text": [
      "Python is an interpreted high-level general-purpose programming language.\n",
      "Python is an interpreted high-level general-purpose programming language.\n",
      "Python is an interpreted high-level general-purpose programming language.\n",
      "Python is an interpreted \n",
      "high-level general-purpose \n",
      "programming language.\n"
     ]
    }
   ],
   "source": [
    "# a sentence enclosed within single quotes\n",
    "print('Python is an interpreted high-level general-purpose programming language.') \n",
    "\n",
    "# a sentence enclosed within double quotes\n",
    "print(\"Python is an interpreted high-level general-purpose programming language.\")\n",
    "\n",
    "# a sentence enclosed within triple single quotes\n",
    "print('''Python is an interpreted high-level general-purpose programming language.''') \n",
    "\n",
    "# a sentence enclosed within triple double quotes\n",
    "print(\"\"\"Python is an interpreted \n",
    "high-level general-purpose \n",
    "programming language.\"\"\") "
   ]
  },
  {
   "cell_type": "code",
   "execution_count": 19,
   "id": "8e546b11",
   "metadata": {},
   "outputs": [
    {
     "name": "stdout",
     "output_type": "stream",
     "text": [
      "Python is an interpreted \n",
      "high-level general-purpose \n",
      "programming language.\n",
      "Python is an \n",
      "interpreted high-level general-purpose \n",
      "programming language.\n"
     ]
    }
   ],
   "source": [
    "# a sentence enclosed within triple single quotes\n",
    "print('''Python is an interpreted \n",
    "high-level general-purpose \n",
    "programming language.''') \n",
    "\n",
    "# a sentence enclosed within triple double quotes\n",
    "print(\"\"\"Python is an \n",
    "interpreted high-level general-purpose \n",
    "programming language.\"\"\") "
   ]
  },
  {
   "cell_type": "code",
   "execution_count": 20,
   "id": "b8de9313",
   "metadata": {},
   "outputs": [
    {
     "ename": "SyntaxError",
     "evalue": "EOL while scanning string literal (178105513.py, line 2)",
     "output_type": "error",
     "traceback": [
      "\u001b[1;36m  Input \u001b[1;32mIn [20]\u001b[1;36m\u001b[0m\n\u001b[1;33m    print('Python is an interpreted\u001b[0m\n\u001b[1;37m                                    ^\u001b[0m\n\u001b[1;31mSyntaxError\u001b[0m\u001b[1;31m:\u001b[0m EOL while scanning string literal\n"
     ]
    }
   ],
   "source": [
    "# a sentence enclosed within single quotes\n",
    "print('Python is an interpreted \n",
    "      high-level general-purpose programming \n",
    "      language.') \n",
    "\n",
    "# a sentence enclosed within double quotes\n",
    "print(\"Python is an interpreted\n",
    "      high-level general-purpose \n",
    "      programming language.\")"
   ]
  },
  {
   "cell_type": "code",
   "execution_count": null,
   "id": "ce6bd5fd",
   "metadata": {},
   "outputs": [],
   "source": []
  },
  {
   "cell_type": "markdown",
   "id": "2eafc1b9",
   "metadata": {},
   "source": [
    "### Data types in python "
   ]
  },
  {
   "cell_type": "markdown",
   "id": "f360b491",
   "metadata": {},
   "source": [
    "+ Numeric\n",
    "+ String\n",
    "+ Datetime\n",
    "+ Boolean\n",
    "\n",
    "### Numeric\n",
    "There are three numeric types in Python.\n",
    "- int\n",
    "- float\n",
    "- complex\n",
    "\n",
    "**Int**  Integer, is a whole number, positive or negative, without decimals, of unlimited length.\n",
    "\n",
    "**Float**  Floating point number is a number, positive or negative, containing one or more decimals.\n",
    "\n",
    "**Complex**  numbers are written with ajas the imaginary part."
   ]
  },
  {
   "cell_type": "code",
   "execution_count": 21,
   "id": "310f7864",
   "metadata": {},
   "outputs": [],
   "source": [
    "i = 10\n",
    "j = 14.5\n",
    "k = 1+2j"
   ]
  },
  {
   "cell_type": "code",
   "execution_count": 23,
   "id": "26565e47",
   "metadata": {},
   "outputs": [],
   "source": [
    "# another way of declaring multiple variable\n",
    "i = 10;j = 14.5;k = 1+2j\n",
    "\n",
    "i,j,k = 10,14.5,1+2j"
   ]
  },
  {
   "cell_type": "code",
   "execution_count": 24,
   "id": "2bb390d4",
   "metadata": {},
   "outputs": [
    {
     "name": "stdout",
     "output_type": "stream",
     "text": [
      "<class 'int'>\n",
      "<class 'float'>\n",
      "<class 'complex'>\n"
     ]
    }
   ],
   "source": [
    "print(type(i), type(j), type(k), sep = '\\n')"
   ]
  },
  {
   "cell_type": "code",
   "execution_count": 25,
   "id": "9f83304f",
   "metadata": {},
   "outputs": [
    {
     "data": {
      "text/plain": [
       "complex"
      ]
     },
     "execution_count": 25,
     "metadata": {},
     "output_type": "execute_result"
    }
   ],
   "source": [
    "type(i); type(j); type(k)"
   ]
  },
  {
   "cell_type": "code",
   "execution_count": 2,
   "id": "1466ee23",
   "metadata": {},
   "outputs": [],
   "source": [
    "# get the output of commands in a cell with out print\n",
    "from IPython.core.interactiveshell import InteractiveShell\n",
    "InteractiveShell.ast_node_interactivity = 'all'"
   ]
  },
  {
   "cell_type": "code",
   "execution_count": 15,
   "id": "484479d3",
   "metadata": {},
   "outputs": [
    {
     "ename": "NameError",
     "evalue": "name 'i' is not defined",
     "output_type": "error",
     "traceback": [
      "\u001b[1;31m---------------------------------------------------------------------------\u001b[0m",
      "\u001b[1;31mNameError\u001b[0m                                 Traceback (most recent call last)",
      "Input \u001b[1;32mIn [15]\u001b[0m, in \u001b[0;36m<cell line: 1>\u001b[1;34m()\u001b[0m\n\u001b[1;32m----> 1\u001b[0m \u001b[38;5;28mtype\u001b[39m(\u001b[43mi\u001b[49m); \u001b[38;5;28mtype\u001b[39m(j); \u001b[38;5;28mtype\u001b[39m(k)\n",
      "\u001b[1;31mNameError\u001b[0m: name 'i' is not defined"
     ]
    }
   ],
   "source": [
    "type(i); type(j); type(k)"
   ]
  },
  {
   "cell_type": "markdown",
   "id": "0e64d4f5",
   "metadata": {},
   "source": [
    "## Python string\n",
    "\n",
    "- A character is simply a symbol.\n",
    "\n",
    "- A string is a sequence of characters.\n",
    "\n",
    "### Create a string in Python\n",
    "Strings can be created by enclosing characters inside a single quote or double quotes or even triple quotes (generally for multiline strings)\n",
    "\n",
    "> String is an iterable object"
   ]
  },
  {
   "cell_type": "code",
   "execution_count": 16,
   "id": "d9445888",
   "metadata": {},
   "outputs": [],
   "source": [
    "str1 = 'Python'"
   ]
  },
  {
   "cell_type": "code",
   "execution_count": 30,
   "id": "c35e3e64",
   "metadata": {},
   "outputs": [
    {
     "data": {
      "text/plain": [
       "6"
      ]
     },
     "execution_count": 30,
     "metadata": {},
     "output_type": "execute_result"
    }
   ],
   "source": [
    "len(str1)"
   ]
  },
  {
   "cell_type": "code",
   "execution_count": 31,
   "id": "c50f3c5e",
   "metadata": {},
   "outputs": [
    {
     "name": "stdout",
     "output_type": "stream",
     "text": [
      "<class 'str'>\n"
     ]
    }
   ],
   "source": [
    "print(type(str1))"
   ]
  },
  {
   "cell_type": "code",
   "execution_count": null,
   "id": "4c109014",
   "metadata": {},
   "outputs": [],
   "source": [
    "# auto-completion of commands on TAB press in Jupyter Notebook\n",
    "%config Completer.use_jedi = False"
   ]
  },
  {
   "cell_type": "markdown",
   "id": "2a4e0190",
   "metadata": {},
   "source": [
    "## type casting/ Conversion"
   ]
  },
  {
   "cell_type": "code",
   "execution_count": 12,
   "id": "674abff5",
   "metadata": {
    "ExecuteTime": {
     "end_time": "2022-12-04T17:54:02.219168Z",
     "start_time": "2022-12-04T17:54:02.210152Z"
    }
   },
   "outputs": [
    {
     "name": "stdout",
     "output_type": "stream",
     "text": [
      "10 belongs to <class 'int'>\n",
      "25.5 belongs to <class 'float'>\n",
      "Python belongs to <class 'str'>\n"
     ]
    }
   ],
   "source": [
    "# Declare few variables\n",
    "x, y, z = 10, 25.5 , 'Python'\n",
    "\n",
    "\n",
    "\n",
    "print(x, 'belongs to', type(x))\n",
    "print(y, 'belongs to', type(y))\n",
    "print(z, 'belongs to', type(z))"
   ]
  },
  {
   "cell_type": "markdown",
   "id": "d5677376",
   "metadata": {},
   "source": [
    "Convert to int\n",
    "int()\n",
    "\n",
    "Convert to float\n",
    "float()\n",
    "\n",
    "Convert to String\n",
    "str()\n",
    "\n"
   ]
  },
  {
   "cell_type": "markdown",
   "id": "966e0e4f",
   "metadata": {},
   "source": [
    "# ## float to integer\n",
    "print(y, '-->', int(y))\n",
    "\n",
    "# ## integer to float\n",
    "print(x, '-->', float(x))"
   ]
  },
  {
   "cell_type": "code",
   "execution_count": 13,
   "id": "952f862b",
   "metadata": {
    "ExecuteTime": {
     "end_time": "2022-12-04T17:54:06.061418Z",
     "start_time": "2022-12-04T17:54:06.050398Z"
    }
   },
   "outputs": [
    {
     "name": "stdout",
     "output_type": "stream",
     "text": [
      "10 25.5\n"
     ]
    }
   ],
   "source": [
    "print(x,y) \n",
    "# what will be the output of this?\n",
    "# a) 10.0, 25\n",
    "# b) 10, 25.5"
   ]
  },
  {
   "cell_type": "code",
   "execution_count": 14,
   "id": "2c45ba7a",
   "metadata": {
    "ExecuteTime": {
     "end_time": "2022-12-04T17:54:08.138916Z",
     "start_time": "2022-12-04T17:54:08.133908Z"
    }
   },
   "outputs": [],
   "source": [
    "x = float(x)\n",
    "y = int(y)"
   ]
  },
  {
   "cell_type": "code",
   "execution_count": 37,
   "id": "448a588c",
   "metadata": {},
   "outputs": [
    {
     "name": "stdout",
     "output_type": "stream",
     "text": [
      "10.0 25\n"
     ]
    }
   ],
   "source": [
    "print(x,y) \n",
    "# what will be the output of this?\n",
    "# a) 10.0, 25\n",
    "# b) 10, 25.5"
   ]
  },
  {
   "cell_type": "code",
   "execution_count": 1,
   "id": "a45d5b5a",
   "metadata": {},
   "outputs": [
    {
     "ename": "NameError",
     "evalue": "name 'z' is not defined",
     "output_type": "error",
     "traceback": [
      "\u001b[1;31m---------------------------------------------------------------------------\u001b[0m",
      "\u001b[1;31mNameError\u001b[0m                                 Traceback (most recent call last)",
      "Input \u001b[1;32mIn [1]\u001b[0m, in \u001b[0;36m<cell line: 4>\u001b[1;34m()\u001b[0m\n\u001b[0;32m      1\u001b[0m \u001b[38;5;66;03m# string  to int/float\u001b[39;00m\n\u001b[0;32m      2\u001b[0m \n\u001b[0;32m      3\u001b[0m \u001b[38;5;66;03m#print(z, '-->', int(z))\u001b[39;00m\n\u001b[1;32m----> 4\u001b[0m \u001b[38;5;28mprint\u001b[39m(\u001b[43mz\u001b[49m, \u001b[38;5;124m'\u001b[39m\u001b[38;5;124m-->\u001b[39m\u001b[38;5;124m'\u001b[39m, \u001b[38;5;28mfloat\u001b[39m(z))\n",
      "\u001b[1;31mNameError\u001b[0m: name 'z' is not defined"
     ]
    }
   ],
   "source": [
    "# string  to int/float\n",
    "\n",
    "#print(z, '-->', int(z))\n",
    "print(z, '-->', float(z))"
   ]
  },
  {
   "cell_type": "code",
   "execution_count": 2,
   "id": "61f4666c",
   "metadata": {},
   "outputs": [
    {
     "name": "stdout",
     "output_type": "stream",
     "text": [
      "<class 'str'> <class 'str'>\n"
     ]
    }
   ],
   "source": [
    "v, w = '2022', '100.258'\n",
    "\n",
    "print(type(v), type(w))"
   ]
  },
  {
   "cell_type": "code",
   "execution_count": 3,
   "id": "552b403b",
   "metadata": {},
   "outputs": [
    {
     "name": "stdout",
     "output_type": "stream",
     "text": [
      "2022 --> 2022\n"
     ]
    },
    {
     "ename": "ValueError",
     "evalue": "invalid literal for int() with base 10: '100.258'",
     "output_type": "error",
     "traceback": [
      "\u001b[1;31m---------------------------------------------------------------------------\u001b[0m",
      "\u001b[1;31mValueError\u001b[0m                                Traceback (most recent call last)",
      "Input \u001b[1;32mIn [3]\u001b[0m, in \u001b[0;36m<cell line: 2>\u001b[1;34m()\u001b[0m\n\u001b[0;32m      1\u001b[0m \u001b[38;5;28mprint\u001b[39m(v, \u001b[38;5;124m'\u001b[39m\u001b[38;5;124m-->\u001b[39m\u001b[38;5;124m'\u001b[39m, \u001b[38;5;28mint\u001b[39m(v))\n\u001b[1;32m----> 2\u001b[0m \u001b[38;5;28mprint\u001b[39m(w, \u001b[38;5;124m'\u001b[39m\u001b[38;5;124m-->\u001b[39m\u001b[38;5;124m'\u001b[39m, \u001b[38;5;28;43mint\u001b[39;49m\u001b[43m(\u001b[49m\u001b[43mw\u001b[49m\u001b[43m)\u001b[49m)\n",
      "\u001b[1;31mValueError\u001b[0m: invalid literal for int() with base 10: '100.258'"
     ]
    }
   ],
   "source": [
    "print(v, '-->', int(v))\n",
    "print(w, '-->', int(w))"
   ]
  },
  {
   "cell_type": "code",
   "execution_count": 4,
   "id": "5096a9e7",
   "metadata": {},
   "outputs": [
    {
     "name": "stdout",
     "output_type": "stream",
     "text": [
      "2022 --> 2022.0\n",
      "100.258 --> 100.258\n"
     ]
    }
   ],
   "source": [
    "print(v, '-->', float(v))\n",
    "print(w, '-->', float(w))"
   ]
  },
  {
   "cell_type": "code",
   "execution_count": 6,
   "id": "16075a1c",
   "metadata": {},
   "outputs": [
    {
     "name": "stdout",
     "output_type": "stream",
     "text": [
      "2022 --> 2022\n",
      "100.258 --> 100\n"
     ]
    }
   ],
   "source": [
    "print(v, '-->', int(v))\n",
    "print(w, '-->', int(float(w)))"
   ]
  },
  {
   "cell_type": "code",
   "execution_count": 8,
   "id": "b0b92e37",
   "metadata": {},
   "outputs": [
    {
     "data": {
      "text/plain": [
       "'100.258'"
      ]
     },
     "execution_count": 8,
     "metadata": {},
     "output_type": "execute_result"
    }
   ],
   "source": [
    "# int & float to str\n",
    "str(v)\n",
    "str(w)"
   ]
  },
  {
   "cell_type": "code",
   "execution_count": 9,
   "id": "41b6ebab",
   "metadata": {},
   "outputs": [
    {
     "ename": "NameError",
     "evalue": "name 'x' is not defined",
     "output_type": "error",
     "traceback": [
      "\u001b[1;31m---------------------------------------------------------------------------\u001b[0m",
      "\u001b[1;31mNameError\u001b[0m                                 Traceback (most recent call last)",
      "Input \u001b[1;32mIn [9]\u001b[0m, in \u001b[0;36m<cell line: 2>\u001b[1;34m()\u001b[0m\n\u001b[0;32m      1\u001b[0m \u001b[38;5;66;03m# int & float to str\u001b[39;00m\n\u001b[1;32m----> 2\u001b[0m \u001b[38;5;28mstr\u001b[39m(\u001b[43mx\u001b[49m)\n\u001b[0;32m      3\u001b[0m \u001b[38;5;28mstr\u001b[39m(y)\n",
      "\u001b[1;31mNameError\u001b[0m: name 'x' is not defined"
     ]
    }
   ],
   "source": [
    "# int & float to str\n",
    "str(x)\n",
    "str(y)"
   ]
  },
  {
   "cell_type": "code",
   "execution_count": 10,
   "id": "168d2275",
   "metadata": {},
   "outputs": [],
   "source": [
    "x,y = 8,10.5\n"
   ]
  },
  {
   "cell_type": "code",
   "execution_count": 11,
   "id": "366ac3f6",
   "metadata": {},
   "outputs": [
    {
     "data": {
      "text/plain": [
       "'100.258'"
      ]
     },
     "execution_count": 11,
     "metadata": {},
     "output_type": "execute_result"
    }
   ],
   "source": [
    "# int & float to str\n",
    "str(v)\n",
    "str(w)"
   ]
  },
  {
   "attachments": {
    "image.png": {
     "image/png": "[encoded data removed]"
    }
   },
   "cell_type": "markdown",
   "id": "51c0d07b",
   "metadata": {},
   "source": [
    "Order of data types\n",
    "\n",
    "**int < float < str**\n",
    "\n",
    "## String Indexing\n",
    "### Access the characters in a String --> Visualizing the String Index\n",
    "\n",
    "#### String index numbering\n",
    "![image.png](attachment:image.png)"
   ]
  },
  {
   "cell_type": "markdown",
   "id": "bbbf6434",
   "metadata": {},
   "source": [
    "## String index numbering\n"
   ]
  },
  {
   "cell_type": "markdown",
   "id": "69bf6f49",
   "metadata": {},
   "source": [
    "+ Index numbers can be +ve/-ve\n",
    "+ +ve Index numbers always start with 0.\n",
    "+ -ve Index numbers always end at -1.\n",
    "+ First char will have the Index num : 0 or -(len(str))\n",
    "+ Last char will have the Index num : -1 or len(str)-1\n",
    "+ Indexing is done by using the operator - []\n",
    "+ Say, \"a\" is a string variable\n",
    "\n",
    "**a[index num] -** extracts the single character\n",
    "\n",
    "**a[start:stop] -** items start through stop-1, : is sequence operator\n",
    "    \n",
    "**a[start:] -** items start through the rest of the array\n",
    "\n",
    "**a[:stop] -** items from the beginning through stop-1\n",
    "\n",
    "**a[:] -** a copy of the whole array\n",
    "\n",
    "**a[::-1] -**  reverse the string (here -1 is the step) "
   ]
  },
  {
   "cell_type": "code",
   "execution_count": null,
   "id": "7e546dfc",
   "metadata": {},
   "outputs": [],
   "source": []
  },
  {
   "cell_type": "code",
   "execution_count": null,
   "id": "c681f589",
   "metadata": {},
   "outputs": [],
   "source": []
  },
  {
   "cell_type": "code",
   "execution_count": 15,
   "id": "09af13d8",
   "metadata": {
    "ExecuteTime": {
     "end_time": "2022-12-04T17:54:45.928110Z",
     "start_time": "2022-12-04T17:54:45.916090Z"
    }
   },
   "outputs": [
    {
     "ename": "SyntaxError",
     "evalue": "invalid syntax (819598071.py, line 2)",
     "output_type": "error",
     "traceback": [
      "\u001b[1;36m  Input \u001b[1;32mIn [15]\u001b[1;36m\u001b[0m\n\u001b[1;33m    from IPython.core.interactiveshell\u001b[0m\n\u001b[1;37m                                       ^\u001b[0m\n\u001b[1;31mSyntaxError\u001b[0m\u001b[1;31m:\u001b[0m invalid syntax\n"
     ]
    }
   ],
   "source": [
    "# get the output of commands in a cell without print\n",
    "from IPython.core.interactiveshell "
   ]
  },
  {
   "cell_type": "code",
   "execution_count": 16,
   "id": "ac32d0f0",
   "metadata": {
    "ExecuteTime": {
     "end_time": "2022-12-04T17:54:53.339610Z",
     "start_time": "2022-12-04T17:54:53.335606Z"
    }
   },
   "outputs": [],
   "source": [
    "x = 10"
   ]
  },
  {
   "cell_type": "code",
   "execution_count": 17,
   "id": "90118c7b",
   "metadata": {
    "ExecuteTime": {
     "end_time": "2022-12-04T17:54:54.059026Z",
     "start_time": "2022-12-04T17:54:54.052015Z"
    }
   },
   "outputs": [
    {
     "name": "stdout",
     "output_type": "stream",
     "text": [
      "10 belongs to <class 'int'>\n"
     ]
    }
   ],
   "source": [
    "x = 10\n",
    "print(x,'belongs to', type(x))"
   ]
  },
  {
   "cell_type": "markdown",
   "id": "0d06fb18",
   "metadata": {},
   "source": [
    "### int<float<str"
   ]
  },
  {
   "cell_type": "markdown",
   "id": "19ed964d",
   "metadata": {},
   "source": [
    "# # string indexing"
   ]
  },
  {
   "cell_type": "code",
   "execution_count": 3,
   "id": "fb82a2dd",
   "metadata": {},
   "outputs": [
    {
     "data": {
      "text/plain": [
       "14"
      ]
     },
     "execution_count": 3,
     "metadata": {},
     "output_type": "execute_result"
    },
    {
     "name": "stdout",
     "output_type": "stream",
     "text": [
      "T T\n",
      "G G\n",
      "M P\n"
     ]
    }
   ],
   "source": [
    "mystr1 = 'PYTHON PROGRAM'\n",
    "len(mystr1)\n",
    "\n",
    "#print(mystr1[2]\n",
    "print(mystr1[2],mystr1[-12])\n",
    "print(mystr1[10],mystr1[10])\n",
    "\n",
    "print(mystr1[len (mystr1)-1],mystr1[-len(mystr1)])"
   ]
  },
  {
   "cell_type": "code",
   "execution_count": 15,
   "id": "a2e195d9",
   "metadata": {},
   "outputs": [
    {
     "name": "stdout",
     "output_type": "stream",
     "text": [
      "T\n"
     ]
    }
   ],
   "source": [
    "print(mystr1[2])"
   ]
  },
  {
   "cell_type": "code",
   "execution_count": 4,
   "id": "51e4f072",
   "metadata": {},
   "outputs": [
    {
     "name": "stdout",
     "output_type": "stream",
     "text": [
      "T T\n",
      "G G\n",
      "   \n",
      "P P\n",
      "M M\n"
     ]
    }
   ],
   "source": [
    "# a[index num]  - extracting single character\n",
    "print(mystr1[2], mystr1[-12])\n",
    "print(mystr1[10], mystr1[-4])\n",
    "print(mystr1[6], mystr1[-8])\n",
    "\n",
    "print(mystr1[0], mystr1[-len(mystr1)])\n",
    "print(mystr1[len(mystr1)-1], mystr1[-1])\n",
    "\n",
    "# a[start:stop] - \":\" - "
   ]
  },
  {
   "cell_type": "code",
   "execution_count": 22,
   "id": "07326ebe",
   "metadata": {},
   "outputs": [
    {
     "data": {
      "text/plain": [
       "14"
      ]
     },
     "execution_count": 22,
     "metadata": {},
     "output_type": "execute_result"
    }
   ],
   "source": [
    "mystr1 = 'PYTHON PROGRAM'\n",
    "len(mystr1)"
   ]
  },
  {
   "cell_type": "code",
   "execution_count": 24,
   "id": "a3115710",
   "metadata": {},
   "outputs": [
    {
     "name": "stdout",
     "output_type": "stream",
     "text": [
      "P P\n"
     ]
    }
   ],
   "source": [
    "print(mystr1[0], mystr1[-14])"
   ]
  },
  {
   "cell_type": "code",
   "execution_count": 25,
   "id": "e26c5c61",
   "metadata": {},
   "outputs": [
    {
     "name": "stdout",
     "output_type": "stream",
     "text": [
      "Y\n"
     ]
    }
   ],
   "source": [
    "print(mystr1[1])"
   ]
  },
  {
   "cell_type": "code",
   "execution_count": 26,
   "id": "5af2b293",
   "metadata": {},
   "outputs": [
    {
     "name": "stdout",
     "output_type": "stream",
     "text": [
      "G P\n"
     ]
    }
   ],
   "source": [
    "print(mystr1[len(mystr1)-4], mystr1[-len(mystr1)+7])"
   ]
  },
  {
   "cell_type": "markdown",
   "id": "9444fc46",
   "metadata": {},
   "source": [
    "### 19 oct 2022"
   ]
  },
  {
   "cell_type": "code",
   "execution_count": 11,
   "id": "e65bc2c8",
   "metadata": {},
   "outputs": [],
   "source": [
    "mystr1 ='PYTHON PROGRAM'"
   ]
  },
  {
   "cell_type": "code",
   "execution_count": 18,
   "id": "11a1ec24",
   "metadata": {},
   "outputs": [
    {
     "name": "stdout",
     "output_type": "stream",
     "text": [
      "T T\n",
      "G G\n",
      "   \n",
      "P P\n",
      "M M\n",
      "mystr1[0:1]: P\n",
      "mystr1[0:2]: PY\n",
      "mystr1[7:10]:  PRO\n",
      "mystr1[11:14]:  RAM\n",
      "mystr1[7:len(mystr1)]:  PROGRAM\n",
      "mystr1[7:]:  PROGRAM\n",
      "mystr1[2:]:  THON PROGRAM\n",
      "mystr1[:7]:  PYTHON \n",
      "mystr1[:len(mystr1)]:  PYTHON PROGRAM\n",
      "mystr1[:]: PYTHON PROGRAM\n",
      "mystr1[2:10:1]: THON PRO\n",
      "mystr1[2:10:2]: TO R\n",
      "mystr1[::2]: PTO RGA\n",
      "mystr1[0:len(mystr1):2]: PTO RGA\n",
      "mystr1[::]: PYTHON PROGRAM\n",
      "mystr1[::-1]: MARGORP NOHTYP\n",
      "mystr1[::-2]: MROPNHY\n",
      "mystr1[-7:-1]: PROGRA\n",
      "mystr1[-7:]: PROGRAM\n",
      "mystr1[-7:-1:-1]: \n",
      "mystr1[0:-8:]: PYTHON\n",
      "mystr1[-6:1]: \n",
      "mystr1[11:14]:  RAM\n",
      "mystr1[7:][4:7]:  RAM\n",
      "mystr1[-7:][::-1]: MARGORP\n",
      "mystr1[-7:][::-1][::-1]: PROGRAM\n"
     ]
    }
   ],
   "source": [
    "# a[index num] - extracting single char\n",
    "\n",
    "print (mystr1[2], mystr1[-12])\n",
    "print(mystr1[10], mystr1[-4])\n",
    "print(mystr1[6], mystr1[-8])\n",
    "\n",
    "print(mystr1[0],mystr1[-len(mystr1)])\n",
    "print(mystr1[len(mystr1)-1], mystr1[-1])\n",
    "\n",
    "# a[start:stop] - \":\" - colon is the sequence operator used for slicing\n",
    "print('mystr1[0:1]:',mystr1[0:1])\n",
    "print('mystr1[0:2]:',mystr1[0:2])\n",
    "print('mystr1[7:10]: ', mystr1[7:10])\n",
    "print('mystr1[11:14]: ', mystr1[11:14])\n",
    "print('mystr1[7:len(mystr1)]: ', mystr1[7:len(mystr1)])\n",
    "\n",
    "a# a[start:]\n",
    "print('mystr1[7:]: ', mystr1[7:])\n",
    "print('mystr1[2:]: ', mystr1[2:])\n",
    "\n",
    "# a[:stop]\n",
    "print('mystr1[:7]: ', mystr1[:7])\n",
    "print('mystr1[:len(mystr1)]: ', mystr1[:len(mystr1)])\n",
    "\n",
    "# a[:]\n",
    "print('mystr1[:]:', mystr1[:])\n",
    "\n",
    "# a[start:end:step] \n",
    "# where step is the increment of position; by default step = 1\n",
    "print('mystr1[2:10:1]:', mystr1[2:10:1])\n",
    "print('mystr1[2:10:2]:', mystr1[2:10:2]) # positions - 2,4,6,8\n",
    "\n",
    "print('mystr1[::2]:', mystr1[::2])\n",
    "print('mystr1[0:len(mystr1):2]:', mystr1[0:len(mystr1):2])\n",
    "\n",
    "print('mystr1[::]:', mystr1[::])\n",
    "\n",
    "# reversing the string\n",
    "print('mystr1[::-1]:', mystr1[::-1])\n",
    "print('mystr1[::-2]:', mystr1[::-2]) # first reverse the string and pick every second char\n",
    "\n",
    "\n",
    "# using -ve index numbers\n",
    "print('mystr1[-7:-1]:', mystr1[-7:-1]) \n",
    "print('mystr1[-7:]:', mystr1[-7:]) \n",
    "print('mystr1[-7:-1:-1]:', mystr1[-7:-1:-1]) \n",
    "\n",
    "# Using both +ve & -ve indexing numbers\n",
    "print('mystr1[0:-8:]:', mystr1[0:-8:])\n",
    "print('mystr1[-6:1]:', mystr1[-6:1]) # reverse direction doesn't work\n",
    "\n",
    "\n",
    "# multi level indexing\n",
    "print('mystr1[11:14]: ', mystr1[11:14])\n",
    "print('mystr1[7:][4:7]: ', mystr1[7:][4:7])\n",
    "print('mystr1[-7:][::-1]:', mystr1[-7:][::-1]) \n",
    "print('mystr1[-7:][::-1][::-1]:', mystr1[-7:][::-1][::-1]) "
   ]
  },
  {
   "cell_type": "code",
   "execution_count": 19,
   "id": "08ad2a8a",
   "metadata": {},
   "outputs": [
    {
     "data": {
      "text/plain": [
       "'PYTHON PROGRAM'"
      ]
     },
     "execution_count": 19,
     "metadata": {},
     "output_type": "execute_result"
    }
   ],
   "source": [
    "mystr1"
   ]
  },
  {
   "cell_type": "markdown",
   "id": "05de4a43",
   "metadata": {},
   "source": [
    "### Python String Operations\n",
    "\n",
    "+ operator: for string concatenation.\n",
    "\n",
    "* operator: to repeat the string for a given number of times"
   ]
  },
  {
   "cell_type": "code",
   "execution_count": 22,
   "id": "ffc089d6",
   "metadata": {},
   "outputs": [
    {
     "name": "stdout",
     "output_type": "stream",
     "text": [
      "\n",
      "Welcome to Python 3.9's help utility!\n",
      "\n",
      "If this is your first time using Python, you should definitely check out\n",
      "the tutorial on the Internet at https://docs.python.org/3.9/tutorial/.\n",
      "\n",
      "Enter the name of any module, keyword, or topic to get help on writing\n",
      "Python programs and using Python modules.  To quit this help utility and\n",
      "return to the interpreter, just type \"quit\".\n",
      "\n",
      "To get a list of available modules, keywords, symbols, or topics, type\n",
      "\"modules\", \"keywords\", \"symbols\", or \"topics\".  Each module also comes\n",
      "with a one-line summary of what it does; to list the modules whose name\n",
      "or summary contain a given string such as \"spam\", type \"modules spam\".\n",
      "\n",
      "help> heihlight\n",
      "No Python documentation found for 'heihlight'.\n",
      "Use help() to get the interactive help utility.\n",
      "Use help(str) for help on the str class.\n",
      "\n",
      "help> quit\n",
      "\n",
      "You are now leaving help and returning to the Python interpreter.\n",
      "If you want to ask for help on a particular object directly from the\n",
      "interpreter, you can type \"help(object)\".  Executing \"help('string')\"\n",
      "has the same effect as typing a particular string at the help> prompt.\n"
     ]
    }
   ],
   "source": [
    "help()"
   ]
  },
  {
   "cell_type": "code",
   "execution_count": 20,
   "id": "58f29f8a",
   "metadata": {},
   "outputs": [],
   "source": [
    "str1 = 'Python'\n",
    "str2 = 'Program'"
   ]
  },
  {
   "cell_type": "code",
   "execution_count": 21,
   "id": "cef7525d",
   "metadata": {},
   "outputs": [
    {
     "name": "stdout",
     "output_type": "stream",
     "text": [
      "PythonPythonPythonPythonPython\n",
      "Python Python Python Python Python \n",
      "Python Python Python Python Python \n"
     ]
    }
   ],
   "source": [
    "print(str1*5)\n",
    "print((str1+' ')*5)\n",
    "print('Python '*5)"
   ]
  },
  {
   "cell_type": "markdown",
   "id": "127b431e",
   "metadata": {},
   "source": [
    "### Membership Test\n",
    "+ To check if a sub string exists within a string or not, using the keywords in/not in.\n",
    "+ Returns Bool output - True or False."
   ]
  },
  {
   "cell_type": "code",
   "execution_count": 26,
   "id": "a5945d4a",
   "metadata": {},
   "outputs": [
    {
     "data": {
      "text/plain": [
       "'PYTHON PROGRAM'"
      ]
     },
     "execution_count": 26,
     "metadata": {},
     "output_type": "execute_result"
    }
   ],
   "source": [
    "mystr1"
   ]
  },
  {
   "cell_type": "code",
   "execution_count": 29,
   "id": "9f37fce9",
   "metadata": {},
   "outputs": [
    {
     "data": {
      "text/plain": [
       "False"
      ]
     },
     "execution_count": 29,
     "metadata": {},
     "output_type": "execute_result"
    },
    {
     "data": {
      "text/plain": [
       "True"
      ]
     },
     "execution_count": 29,
     "metadata": {},
     "output_type": "execute_result"
    },
    {
     "data": {
      "text/plain": [
       "False"
      ]
     },
     "execution_count": 29,
     "metadata": {},
     "output_type": "execute_result"
    },
    {
     "data": {
      "text/plain": [
       "True"
      ]
     },
     "execution_count": 29,
     "metadata": {},
     "output_type": "execute_result"
    },
    {
     "data": {
      "text/plain": [
       "True"
      ]
     },
     "execution_count": 29,
     "metadata": {},
     "output_type": "execute_result"
    }
   ],
   "source": [
    "'p' in mystr1\n",
    "'P' in mystr1\n",
    "'Py' in mystr1\n",
    "'PYT' in mystr1\n",
    "'RAM' in mystr1"
   ]
  },
  {
   "cell_type": "code",
   "execution_count": 30,
   "id": "4e115bd0",
   "metadata": {},
   "outputs": [
    {
     "data": {
      "text/plain": [
       "True"
      ]
     },
     "execution_count": 30,
     "metadata": {},
     "output_type": "execute_result"
    },
    {
     "data": {
      "text/plain": [
       "False"
      ]
     },
     "execution_count": 30,
     "metadata": {},
     "output_type": "execute_result"
    },
    {
     "data": {
      "text/plain": [
       "False"
      ]
     },
     "execution_count": 30,
     "metadata": {},
     "output_type": "execute_result"
    }
   ],
   "source": [
    "'Py' not in mystr1\n",
    "'PYT' not in mystr1\n",
    "'RAM' not in mystr1"
   ]
  },
  {
   "cell_type": "markdown",
   "id": "024ee86b",
   "metadata": {},
   "source": [
    "## String methods\n",
    "Built-in String Methods\n",
    "Syntax:\n",
    "\n",
    "string.method()\n",
    "\n",
    "Practice string methods here - https://www.w3schools.com/python/python_ref_string.asp"
   ]
  },
  {
   "cell_type": "code",
   "execution_count": 31,
   "id": "3082e848",
   "metadata": {},
   "outputs": [
    {
     "name": "stdout",
     "output_type": "stream",
     "text": [
      "['__add__', '__class__', '__contains__', '__delattr__', '__dir__', '__doc__', '__eq__', '__format__', '__ge__', '__getattribute__', '__getitem__', '__getnewargs__', '__gt__', '__hash__', '__init__', '__init_subclass__', '__iter__', '__le__', '__len__', '__lt__', '__mod__', '__mul__', '__ne__', '__new__', '__reduce__', '__reduce_ex__', '__repr__', '__rmod__', '__rmul__', '__setattr__', '__sizeof__', '__str__', '__subclasshook__', 'capitalize', 'casefold', 'center', 'count', 'encode', 'endswith', 'expandtabs', 'find', 'format', 'format_map', 'index', 'isalnum', 'isalpha', 'isascii', 'isdecimal', 'isdigit', 'isidentifier', 'islower', 'isnumeric', 'isprintable', 'isspace', 'istitle', 'isupper', 'join', 'ljust', 'lower', 'lstrip', 'maketrans', 'partition', 'removeprefix', 'removesuffix', 'replace', 'rfind', 'rindex', 'rjust', 'rpartition', 'rsplit', 'rstrip', 'split', 'splitlines', 'startswith', 'strip', 'swapcase', 'title', 'translate', 'upper', 'zfill']\n"
     ]
    }
   ],
   "source": [
    "print(dir(str))"
   ]
  },
  {
   "cell_type": "code",
   "execution_count": 4,
   "id": "5044ea5e",
   "metadata": {},
   "outputs": [],
   "source": [
    "mystr1 = 'PYTHON PROGRAM'\n",
    "mystr2 = 'python program'\n",
    "mystr3 = '  Python Program   '\n",
    "mystr4 = 'PYTHON_PROGRAMMING_LANGUAGE'"
   ]
  },
  {
   "cell_type": "code",
   "execution_count": 34,
   "id": "0d5708dd",
   "metadata": {},
   "outputs": [
    {
     "name": "stdout",
     "output_type": "stream",
     "text": [
      "\n",
      "Welcome to Python 3.9's help utility!\n",
      "\n",
      "If this is your first time using Python, you should definitely check out\n",
      "the tutorial on the Internet at https://docs.python.org/3.9/tutorial/.\n",
      "\n",
      "Enter the name of any module, keyword, or topic to get help on writing\n",
      "Python programs and using Python modules.  To quit this help utility and\n",
      "return to the interpreter, just type \"quit\".\n",
      "\n",
      "To get a list of available modules, keywords, symbols, or topics, type\n",
      "\"modules\", \"keywords\", \"symbols\", or \"topics\".  Each module also comes\n",
      "with a one-line summary of what it does; to list the modules whose name\n",
      "or summary contain a given string such as \"spam\", type \"modules spam\".\n",
      "\n",
      "help> quit\n",
      "\n",
      "You are now leaving help and returning to the Python interpreter.\n",
      "If you want to ask for help on a particular object directly from the\n",
      "interpreter, you can type \"help(object)\".  Executing \"help('string')\"\n",
      "has the same effect as typing a particular string at the help> prompt.\n"
     ]
    }
   ],
   "source": [
    "help()"
   ]
  },
  {
   "cell_type": "code",
   "execution_count": 35,
   "id": "7e3f3d1a",
   "metadata": {},
   "outputs": [
    {
     "data": {
      "text/plain": [
       "'Python program'"
      ]
     },
     "execution_count": 35,
     "metadata": {},
     "output_type": "execute_result"
    }
   ],
   "source": [
    "mystr1.capitalize() # shift+tab to get the documentation"
   ]
  },
  {
   "cell_type": "code",
   "execution_count": 36,
   "id": "e6904346",
   "metadata": {},
   "outputs": [
    {
     "data": {
      "text/plain": [
       "'python program'"
      ]
     },
     "execution_count": 36,
     "metadata": {},
     "output_type": "execute_result"
    },
    {
     "data": {
      "text/plain": [
       "'python program'"
      ]
     },
     "execution_count": 36,
     "metadata": {},
     "output_type": "execute_result"
    },
    {
     "data": {
      "text/plain": [
       "'  python program   '"
      ]
     },
     "execution_count": 36,
     "metadata": {},
     "output_type": "execute_result"
    }
   ],
   "source": [
    "mystr1.casefold()\n",
    "mystr2.casefold()\n",
    "mystr3.casefold()"
   ]
  },
  {
   "cell_type": "code",
   "execution_count": 37,
   "id": "27837a82",
   "metadata": {},
   "outputs": [
    {
     "data": {
      "text/plain": [
       "'python program'"
      ]
     },
     "execution_count": 37,
     "metadata": {},
     "output_type": "execute_result"
    },
    {
     "data": {
      "text/plain": [
       "'PYTHON PROGRAM'"
      ]
     },
     "execution_count": 37,
     "metadata": {},
     "output_type": "execute_result"
    },
    {
     "data": {
      "text/plain": [
       "'  PYTHON PROGRAM   '"
      ]
     },
     "execution_count": 37,
     "metadata": {},
     "output_type": "execute_result"
    }
   ],
   "source": [
    "mystr1.lower()\n",
    "mystr2.upper()\n",
    "mystr3.upper()"
   ]
  },
  {
   "cell_type": "code",
   "execution_count": 38,
   "id": "f500ec26",
   "metadata": {},
   "outputs": [
    {
     "name": "stdout",
     "output_type": "stream",
     "text": [
      "  Python Program 16\n",
      "Python Program    17\n",
      "Python Program 14\n"
     ]
    }
   ],
   "source": [
    "# remove trailing spaces in a string\n",
    "print(mystr3.rstrip(), len(mystr3.rstrip()))\n",
    "print(mystr3.lstrip(), len(mystr3.lstrip()))\n",
    "print(mystr3.strip(), len(mystr3.strip()))"
   ]
  },
  {
   "cell_type": "code",
   "execution_count": 39,
   "id": "0f5cb6f5",
   "metadata": {},
   "outputs": [
    {
     "name": "stdout",
     "output_type": "stream",
     "text": [
      "True\n",
      "False\n"
     ]
    }
   ],
   "source": [
    "# returns bool output\n",
    "print(mystr1.startswith('P'))\n",
    "print(mystr1.endswith('P'))"
   ]
  },
  {
   "cell_type": "code",
   "execution_count": 40,
   "id": "e71bbda8",
   "metadata": {},
   "outputs": [
    {
     "name": "stdout",
     "output_type": "stream",
     "text": [
      "['PYTHON', 'PROGRAM']\n",
      "['PYTHON', 'PROGRAMMING', 'LANGUAGE']\n"
     ]
    }
   ],
   "source": [
    "print(mystr1.split())\n",
    "print(mystr4.split(sep='_'))"
   ]
  },
  {
   "cell_type": "code",
   "execution_count": 41,
   "id": "2a179ea4",
   "metadata": {},
   "outputs": [
    {
     "data": {
      "text/plain": [
       "['I', 'am', 'learning', 'Python', 'programming']"
      ]
     },
     "execution_count": 41,
     "metadata": {},
     "output_type": "execute_result"
    }
   ],
   "source": [
    "'I am learning Python programming'.split()"
   ]
  },
  {
   "cell_type": "code",
   "execution_count": 42,
   "id": "044af790",
   "metadata": {},
   "outputs": [
    {
     "data": {
      "text/plain": [
       "['19/Oct/2022']"
      ]
     },
     "execution_count": 42,
     "metadata": {},
     "output_type": "execute_result"
    },
    {
     "data": {
      "text/plain": [
       "['19', 'Oct', '2022']"
      ]
     },
     "execution_count": 42,
     "metadata": {},
     "output_type": "execute_result"
    }
   ],
   "source": [
    "'19/Oct/2022'.split()\n",
    "'19/Oct/2022'.split(sep = '/')"
   ]
  },
  {
   "cell_type": "code",
   "execution_count": 43,
   "id": "39a83b00",
   "metadata": {},
   "outputs": [
    {
     "ename": "SyntaxError",
     "evalue": "(unicode error) 'unicodeescape' codec can't decode bytes in position 29-30: truncated \\UXXXXXXXX escape (892188238.py, line 1)",
     "output_type": "error",
     "traceback": [
      "\u001b[1;36m  Input \u001b[1;32mIn [43]\u001b[1;36m\u001b[0m\n\u001b[1;33m    'C:\\Program Files (x86)\\Google\\Update'.split(sep='\\')\u001b[0m\n\u001b[1;37m                                          ^\u001b[0m\n\u001b[1;31mSyntaxError\u001b[0m\u001b[1;31m:\u001b[0m (unicode error) 'unicodeescape' codec can't decode bytes in position 29-30: truncated \\UXXXXXXXX escape\n"
     ]
    }
   ],
   "source": [
    "'C:\\Program Files (x86)\\Google\\Update'.split(sep='\\')"
   ]
  },
  {
   "cell_type": "code",
   "execution_count": 18,
   "id": "28b51bd7",
   "metadata": {
    "ExecuteTime": {
     "end_time": "2022-12-04T18:00:00.356500Z",
     "start_time": "2022-12-04T18:00:00.348480Z"
    }
   },
   "outputs": [
    {
     "ename": "SyntaxError",
     "evalue": "(unicode error) 'unicodeescape' codec can't decode bytes in position 29-30: truncated \\UXXXXXXXX escape (2722748444.py, line 1)",
     "output_type": "error",
     "traceback": [
      "\u001b[1;36m  Input \u001b[1;32mIn [18]\u001b[1;36m\u001b[0m\n\u001b[1;33m    myfolderpath = 'C:\\Program Files (x86)\\Google\\Update'\u001b[0m\n\u001b[1;37m                                                         ^\u001b[0m\n\u001b[1;31mSyntaxError\u001b[0m\u001b[1;31m:\u001b[0m (unicode error) 'unicodeescape' codec can't decode bytes in position 29-30: truncated \\UXXXXXXXX escape\n"
     ]
    }
   ],
   "source": [
    "myfolderpath = 'C:\\Program Files (x86)\\Google\\Update'\n",
    "myfolderpath.splits(sep = '\\')"
   ]
  },
  {
   "cell_type": "code",
   "execution_count": 45,
   "id": "436983ae",
   "metadata": {},
   "outputs": [
    {
     "ename": "SyntaxError",
     "evalue": "(unicode error) 'unicodeescape' codec can't decode bytes in position 29-30: truncated \\UXXXXXXXX escape (1573165441.py, line 1)",
     "output_type": "error",
     "traceback": [
      "\u001b[1;36m  Input \u001b[1;32mIn [45]\u001b[1;36m\u001b[0m\n\u001b[1;33m    'C:\\Program Files (x86)\\Google\\Update'.replace('\\', '/')\u001b[0m\n\u001b[1;37m                                          ^\u001b[0m\n\u001b[1;31mSyntaxError\u001b[0m\u001b[1;31m:\u001b[0m (unicode error) 'unicodeescape' codec can't decode bytes in position 29-30: truncated \\UXXXXXXXX escape\n"
     ]
    }
   ],
   "source": [
    "'C:\\Program Files (x86)\\Google\\Update'.replace('\\', '/')"
   ]
  },
  {
   "cell_type": "markdown",
   "id": "575d2f78",
   "metadata": {},
   "source": [
    "### Escape character \\\n",
    "In Python strings, the backslash \"\\\" is a special character, also called the \"escape\" character.\n",
    "\n",
    "An escape character is a backslash \\ followed by the character you want to insert."
   ]
  },
  {
   "cell_type": "code",
   "execution_count": 46,
   "id": "de546c7d",
   "metadata": {},
   "outputs": [
    {
     "name": "stdout",
     "output_type": "stream",
     "text": [
      "I am travelling today\n"
     ]
    }
   ],
   "source": [
    "print('I am travelling today')"
   ]
  },
  {
   "cell_type": "code",
   "execution_count": 47,
   "id": "c14dec52",
   "metadata": {},
   "outputs": [
    {
     "ename": "SyntaxError",
     "evalue": "invalid syntax (3200655273.py, line 1)",
     "output_type": "error",
     "traceback": [
      "\u001b[1;36m  Input \u001b[1;32mIn [47]\u001b[1;36m\u001b[0m\n\u001b[1;33m    print('I'm travelling today')\u001b[0m\n\u001b[1;37m             ^\u001b[0m\n\u001b[1;31mSyntaxError\u001b[0m\u001b[1;31m:\u001b[0m invalid syntax\n"
     ]
    }
   ],
   "source": [
    "print('I'm travelling today')"
   ]
  },
  {
   "cell_type": "code",
   "execution_count": 48,
   "id": "7ab178d4",
   "metadata": {},
   "outputs": [
    {
     "name": "stdout",
     "output_type": "stream",
     "text": [
      "I'm travelling today\n"
     ]
    }
   ],
   "source": [
    "print('I\\'m travelling today')"
   ]
  },
  {
   "cell_type": "code",
   "execution_count": 49,
   "id": "a84e48d0",
   "metadata": {},
   "outputs": [
    {
     "data": {
      "text/plain": [
       "['C:', 'Program Files (x86)', 'Google', 'Update']"
      ]
     },
     "execution_count": 49,
     "metadata": {},
     "output_type": "execute_result"
    }
   ],
   "source": [
    "# handling the back slash\n",
    "'C:\\\\Program Files (x86)\\\\Google\\\\Update'.split(sep='\\\\')"
   ]
  },
  {
   "cell_type": "code",
   "execution_count": 50,
   "id": "5c608abd",
   "metadata": {},
   "outputs": [
    {
     "data": {
      "text/plain": [
       "['C:', 'PROGRAM FILES (X86)', 'GOOGLE', 'UPDATE']"
      ]
     },
     "execution_count": 50,
     "metadata": {},
     "output_type": "execute_result"
    }
   ],
   "source": [
    "# using multiple string methods \n",
    "'C:\\\\Program Files (x86)\\\\Google\\\\Update'.replace('\\\\', '/').upper().split('/')"
   ]
  },
  {
   "cell_type": "markdown",
   "id": "a52a560d",
   "metadata": {},
   "source": [
    "### Raw stirngs\n",
    "Python raw string is created by prefixing a string literal with 'r' or 'R'. Python raw string treats backslash (\\) as a literal character."
   ]
  },
  {
   "cell_type": "code",
   "execution_count": 51,
   "id": "d950f703",
   "metadata": {},
   "outputs": [
    {
     "ename": "SyntaxError",
     "evalue": "unexpected character after line continuation character (320450568.py, line 1)",
     "output_type": "error",
     "traceback": [
      "\u001b[1;36m  Input \u001b[1;32mIn [51]\u001b[1;36m\u001b[0m\n\u001b[1;33m    C:\\Program Files (x86)\\Google\\Update'\u001b[0m\n\u001b[1;37m       ^\u001b[0m\n\u001b[1;31mSyntaxError\u001b[0m\u001b[1;31m:\u001b[0m unexpected character after line continuation character\n"
     ]
    }
   ],
   "source": [
    "C:\\ProgramProgram Files (x86)\\Google\\Update'"
   ]
  },
  {
   "cell_type": "code",
   "execution_count": 52,
   "id": "ee882fba",
   "metadata": {},
   "outputs": [
    {
     "data": {
      "text/plain": [
       "'C:\\\\Program Files (x86)\\\\Google\\\\Update'"
      ]
     },
     "execution_count": 52,
     "metadata": {},
     "output_type": "execute_result"
    },
    {
     "data": {
      "text/plain": [
       "'C:/Program Files (x86)/Google/Update'"
      ]
     },
     "execution_count": 52,
     "metadata": {},
     "output_type": "execute_result"
    },
    {
     "data": {
      "text/plain": [
       "'C:\\\\Program Files (x86)\\\\Google\\\\Update'"
      ]
     },
     "execution_count": 52,
     "metadata": {},
     "output_type": "execute_result"
    }
   ],
   "source": [
    "'C:\\\\Program Files (x86)\\\\Google\\\\Update'\n",
    "'C:/Program Files (x86)/Google/Update'\n",
    "r'C:\\Program Files (x86)\\Google\\Update'"
   ]
  },
  {
   "cell_type": "markdown",
   "id": "8616e540",
   "metadata": {},
   "source": [
    "### Python strings are immutable (not changeable)"
   ]
  },
  {
   "cell_type": "code",
   "execution_count": 53,
   "id": "36624b9a",
   "metadata": {},
   "outputs": [
    {
     "name": "stdout",
     "output_type": "stream",
     "text": [
      "PYTHON PROGRAM\n"
     ]
    }
   ],
   "source": [
    "print(mystr1)"
   ]
  },
  {
   "cell_type": "code",
   "execution_count": 54,
   "id": "cfdd093b",
   "metadata": {},
   "outputs": [
    {
     "data": {
      "text/plain": [
       "'P'"
      ]
     },
     "execution_count": 54,
     "metadata": {},
     "output_type": "execute_result"
    }
   ],
   "source": [
    "mystr1[7]"
   ]
  },
  {
   "cell_type": "code",
   "execution_count": 55,
   "id": "0ffa0991",
   "metadata": {},
   "outputs": [
    {
     "ename": "TypeError",
     "evalue": "'str' object does not support item assignment",
     "output_type": "error",
     "traceback": [
      "\u001b[1;31m---------------------------------------------------------------------------\u001b[0m",
      "\u001b[1;31mTypeError\u001b[0m                                 Traceback (most recent call last)",
      "Input \u001b[1;32mIn [55]\u001b[0m, in \u001b[0;36m<cell line: 2>\u001b[1;34m()\u001b[0m\n\u001b[0;32m      1\u001b[0m \u001b[38;5;66;03m# try item assignment\u001b[39;00m\n\u001b[1;32m----> 2\u001b[0m mystr1[\u001b[38;5;241m7\u001b[39m] \u001b[38;5;241m=\u001b[39m \u001b[38;5;124m'\u001b[39m\u001b[38;5;124mp\u001b[39m\u001b[38;5;124m'\u001b[39m\n",
      "\u001b[1;31mTypeError\u001b[0m: 'str' object does not support item assignment"
     ]
    }
   ],
   "source": [
    "# try item assignment\n",
    "mystr1[7] = 'p'"
   ]
  },
  {
   "cell_type": "code",
   "execution_count": 56,
   "id": "8d53dc64",
   "metadata": {},
   "outputs": [
    {
     "data": {
      "text/plain": [
       "0"
      ]
     },
     "execution_count": 56,
     "metadata": {},
     "output_type": "execute_result"
    },
    {
     "data": {
      "text/plain": [
       "7"
      ]
     },
     "execution_count": 56,
     "metadata": {},
     "output_type": "execute_result"
    },
    {
     "data": {
      "text/plain": [
       "-1"
      ]
     },
     "execution_count": 56,
     "metadata": {},
     "output_type": "execute_result"
    }
   ],
   "source": [
    "# identify the location of 'P'\n",
    "mystr1.find('P')\n",
    "mystr1.find('P', 1)\n",
    "mystr1.find('P', 8)\n",
    "\n",
    "# use replace to change the string values\n",
    "# change only the second 'P' --> 'p'"
   ]
  },
  {
   "cell_type": "code",
   "execution_count": 57,
   "id": "b04484a4",
   "metadata": {},
   "outputs": [
    {
     "data": {
      "text/plain": [
       "11"
      ]
     },
     "execution_count": 57,
     "metadata": {},
     "output_type": "execute_result"
    }
   ],
   "source": [
    "mystr1.find('RAM')"
   ]
  },
  {
   "cell_type": "code",
   "execution_count": 13,
   "id": "41b8f514",
   "metadata": {},
   "outputs": [
    {
     "ename": "NameError",
     "evalue": "name 'mystr1' is not defined",
     "output_type": "error",
     "traceback": [
      "\u001b[1;31m---------------------------------------------------------------------------\u001b[0m",
      "\u001b[1;31mNameError\u001b[0m                                 Traceback (most recent call last)",
      "Input \u001b[1;32mIn [13]\u001b[0m, in \u001b[0;36m<cell line: 1>\u001b[1;34m()\u001b[0m\n\u001b[1;32m----> 1\u001b[0m \u001b[43mmystr1\u001b[49m\n",
      "\u001b[1;31mNameError\u001b[0m: name 'mystr1' is not defined"
     ]
    }
   ],
   "source": [
    "mystr1"
   ]
  },
  {
   "cell_type": "code",
   "execution_count": 64,
   "id": "c35d043c",
   "metadata": {},
   "outputs": [
    {
     "data": {
      "text/plain": [
       "-1"
      ]
     },
     "execution_count": 64,
     "metadata": {},
     "output_type": "execute_result"
    },
    {
     "data": {
      "text/plain": [
       "'pYTHON pROGRAM'"
      ]
     },
     "execution_count": 64,
     "metadata": {},
     "output_type": "execute_result"
    }
   ],
   "source": [
    "mystr1.find('P', 8)\n",
    "mystr1.replace(\"P\",\"p\")"
   ]
  },
  {
   "cell_type": "code",
   "execution_count": 22,
   "id": "2076849f",
   "metadata": {},
   "outputs": [
    {
     "name": "stdout",
     "output_type": "stream",
     "text": [
      "p\n",
      "p\n"
     ]
    }
   ],
   "source": [
    "print(mystr1[:][7].replace('P','p'))\n",
    "print(mystr1[7].replace('P','p'))"
   ]
  },
  {
   "cell_type": "code",
   "execution_count": 21,
   "id": "2e8f20b4",
   "metadata": {},
   "outputs": [
    {
     "name": "stdout",
     "output_type": "stream",
     "text": [
      "PYTHON PROGRAM pROGRAM\n",
      "PYTHON  pROGRAM\n"
     ]
    },
    {
     "data": {
      "text/plain": [
       "'PYTHON pROGRAM'"
      ]
     },
     "execution_count": 21,
     "metadata": {},
     "output_type": "execute_result"
    },
    {
     "data": {
      "text/plain": [
       "'PYTHON pROGRAM'"
      ]
     },
     "execution_count": 21,
     "metadata": {},
     "output_type": "execute_result"
    }
   ],
   "source": [
    "print(mystr1, mystr1[7:].replace('P','p'))\n",
    "print(mystr1[:7],mystr1[7:].replace('P','p'))\n",
    "mystr1.replace('PROGRAM','pROGRAM')\n",
    "mystr1.split()[0]+' '+mystr1.split()[1].replace('P','p')"
   ]
  },
  {
   "cell_type": "markdown",
   "id": "dc767a24",
   "metadata": {},
   "source": [
    "*`Python`*"
   ]
  },
  {
   "cell_type": "code",
   "execution_count": 5,
   "id": "44fecde4",
   "metadata": {},
   "outputs": [
    {
     "data": {
      "text/plain": [
       "'pYTHON pROGRAM'"
      ]
     },
     "execution_count": 5,
     "metadata": {},
     "output_type": "execute_result"
    },
    {
     "data": {
      "text/plain": [
       "'pYTHON PROGRAM'"
      ]
     },
     "execution_count": 5,
     "metadata": {},
     "output_type": "execute_result"
    },
    {
     "data": {
      "text/plain": [
       "'pYTHON pROGRAM'"
      ]
     },
     "execution_count": 5,
     "metadata": {},
     "output_type": "execute_result"
    },
    {
     "data": {
      "text/plain": [
       "'PYTHON pROGRAM'"
      ]
     },
     "execution_count": 5,
     "metadata": {},
     "output_type": "execute_result"
    }
   ],
   "source": [
    "mystr1.replace('P', 'p', -1) # default count value\n",
    "mystr1.replace('P', 'p', 1)\n",
    "mystr1.replace('P', 'p', 2)\n",
    "\n",
    "mystr1[::-1].replace('P', 'p', 1)[::-1]\n"
   ]
  },
  {
   "cell_type": "code",
   "execution_count": 6,
   "id": "84478302",
   "metadata": {},
   "outputs": [
    {
     "data": {
      "text/plain": [
       "0"
      ]
     },
     "execution_count": 6,
     "metadata": {},
     "output_type": "execute_result"
    },
    {
     "data": {
      "text/plain": [
       "7"
      ]
     },
     "execution_count": 6,
     "metadata": {},
     "output_type": "execute_result"
    },
    {
     "data": {
      "text/plain": [
       "-1"
      ]
     },
     "execution_count": 6,
     "metadata": {},
     "output_type": "execute_result"
    },
    {
     "data": {
      "text/plain": [
       "'pYTHON pROGRAM'"
      ]
     },
     "execution_count": 6,
     "metadata": {},
     "output_type": "execute_result"
    },
    {
     "name": "stdout",
     "output_type": "stream",
     "text": [
      "PYTHON  pROGRAM\n"
     ]
    },
    {
     "data": {
      "text/plain": [
       "'PYTHON pROGRAM'"
      ]
     },
     "execution_count": 6,
     "metadata": {},
     "output_type": "execute_result"
    },
    {
     "data": {
      "text/plain": [
       "'PYTHON pROGRAM'"
      ]
     },
     "execution_count": 6,
     "metadata": {},
     "output_type": "execute_result"
    },
    {
     "data": {
      "text/plain": [
       "'pYTHON pROGRAM'"
      ]
     },
     "execution_count": 6,
     "metadata": {},
     "output_type": "execute_result"
    },
    {
     "data": {
      "text/plain": [
       "'pYTHON PROGRAM'"
      ]
     },
     "execution_count": 6,
     "metadata": {},
     "output_type": "execute_result"
    },
    {
     "data": {
      "text/plain": [
       "'pYTHON pROGRAM'"
      ]
     },
     "execution_count": 6,
     "metadata": {},
     "output_type": "execute_result"
    },
    {
     "data": {
      "text/plain": [
       "'PYTHON pROGRAM'"
      ]
     },
     "execution_count": 6,
     "metadata": {},
     "output_type": "execute_result"
    }
   ],
   "source": [
    "# identify the location of 'P'\n",
    "mystr1.find('P')\n",
    "mystr1.find('P', 1)\n",
    "mystr1.find('P', 8)\n",
    "\n",
    "# use replace to change the string values\n",
    "# change only the second 'P' --> 'p'\n",
    "\n",
    "mystr1.replace(mystr1[7:8], 'p')\n",
    "print(mystr1[:7],mystr1[7:].replace('P', 'p'))\n",
    "mystr1.replace('PROGRAM', 'pROGRAM')\n",
    "mystr1.split()[0]+' '+mystr1.split()[1].replace('P', 'p')\n",
    "\n",
    "mystr1.replace('P', 'p', -1) # default count value\n",
    "mystr1.replace('P', 'p', 1)\n",
    "mystr1.replace('P', 'p', 2)\n",
    "\n",
    "mystr1[::-1].replace('P', 'p', 1)[::-1]"
   ]
  },
  {
   "cell_type": "markdown",
   "id": "74c40050",
   "metadata": {},
   "source": [
    "### String formatting in Python\n",
    "Using %d, %f, %s\n",
    "\n",
    "Using str.format()\n",
    "\n",
    "Using f-strings"
   ]
  },
  {
   "cell_type": "code",
   "execution_count": 7,
   "id": "d71a8ea1",
   "metadata": {},
   "outputs": [
    {
     "name": "stdout",
     "output_type": "stream",
     "text": [
      "If you score 75% you will get Distinction class\n",
      "If you score 68% you will get 1st class\n",
      "If you score 52% you will get 2nd class\n",
      "If you score X you will get Y class\n",
      "If you score 80% you will get Distinction class\n",
      "If you score 80% you will get Distinction class\n",
      "For the next 7 days it is going to be cold with temp less than 19.500000\n"
     ]
    }
   ],
   "source": [
    "#-------------------- Using %d, %f, %s--------------------------\n",
    "# %d - int, %f - float, %s - string\n",
    "\n",
    "print('If you score 75% you will get Distinction class')\n",
    "print('If you score 68% you will get 1st class')\n",
    "print('If you score 52% you will get 2nd class')\n",
    "\n",
    "X = '80%'\n",
    "Y = 'Distinction'\n",
    "\n",
    "print('If you score X you will get Y class')\n",
    "\n",
    "print('If you score', X, 'you will get', Y ,'class') # basic approach\n",
    "\n",
    "print('If you score %s you will get %s class'%(X,Y))\n",
    "\n",
    "X,Y,Z = 7, 19.5, 'cold'\n",
    "print('For the next %d days it is going to be %s with temp less than %f'%(X,Z,Y))"
   ]
  },
  {
   "cell_type": "code",
   "execution_count": 8,
   "id": "642a8698",
   "metadata": {},
   "outputs": [
    {
     "name": "stdout",
     "output_type": "stream",
     "text": [
      "If you score 80% you will get Distinction class\n",
      "For the next 7 days it is going to be cold with temp less than 19.5\n"
     ]
    }
   ],
   "source": [
    "#------------------str.format()-------------------------\n",
    "X = '80%'\n",
    "Y = 'Distinction'\n",
    "print('If you score {} you will get {} class'.format(X,Y))\n",
    "\n",
    "X,Y,Z = 7, 19.5, 'cold'\n",
    "print('For the next {} days it is going to be {} with temp less than {}'.format(X,Z,Y))"
   ]
  },
  {
   "cell_type": "code",
   "execution_count": 9,
   "id": "af1a9115",
   "metadata": {},
   "outputs": [
    {
     "name": "stdout",
     "output_type": "stream",
     "text": [
      "If you score 80% you will get Distinction class\n",
      "For the next 7 days it is going to be cold with temp less than 19.5\n"
     ]
    }
   ],
   "source": [
    "#---------------------# f-strings (Formatted strings)----------\n",
    "\n",
    "X = '80%'\n",
    "Y = 'Distinction'\n",
    "print(f'If you score {X} you will get {Y} class')\n",
    "\n",
    "X,Y,Z = 7, 19.5, 'cold'\n",
    "print(f'For the next {X} days it is going to be {Z} with temp less than {Y}')"
   ]
  },
  {
   "cell_type": "markdown",
   "id": "594f2c5c",
   "metadata": {},
   "source": [
    "## Numeric Operations"
   ]
  },
  {
   "cell_type": "code",
   "execution_count": 10,
   "id": "66317b2a",
   "metadata": {},
   "outputs": [],
   "source": [
    "x,y = 99, 7"
   ]
  },
  {
   "cell_type": "markdown",
   "id": "d8051980",
   "metadata": {},
   "source": [
    "### 1. Arithmetic operators"
   ]
  },
  {
   "cell_type": "code",
   "execution_count": 12,
   "id": "249ef949",
   "metadata": {},
   "outputs": [
    {
     "data": {
      "text/plain": [
       "106"
      ]
     },
     "execution_count": 12,
     "metadata": {},
     "output_type": "execute_result"
    },
    {
     "data": {
      "text/plain": [
       "92"
      ]
     },
     "execution_count": 12,
     "metadata": {},
     "output_type": "execute_result"
    },
    {
     "data": {
      "text/plain": [
       "693"
      ]
     },
     "execution_count": 12,
     "metadata": {},
     "output_type": "execute_result"
    },
    {
     "data": {
      "text/plain": [
       "14.142857142857142"
      ]
     },
     "execution_count": 12,
     "metadata": {},
     "output_type": "execute_result"
    },
    {
     "data": {
      "text/plain": [
       "1"
      ]
     },
     "execution_count": 12,
     "metadata": {},
     "output_type": "execute_result"
    },
    {
     "data": {
      "text/plain": [
       "14"
      ]
     },
     "execution_count": 12,
     "metadata": {},
     "output_type": "execute_result"
    },
    {
     "data": {
      "text/plain": [
       "93206534790699"
      ]
     },
     "execution_count": 12,
     "metadata": {},
     "output_type": "execute_result"
    }
   ],
   "source": [
    "x+y\n",
    "x-y\n",
    "x*y\n",
    "x/y\n",
    "x % y # Modulus operator - evaluates to the remainder of x/y\n",
    "x // y # Floor divison - Quotient\n",
    "x ** y # power operator"
   ]
  },
  {
   "cell_type": "markdown",
   "id": "7e51214c",
   "metadata": {},
   "source": [
    "### 2. Comparison Operators\n",
    "Comparison operators are used to compare two values and returns Boolean output (True or False)."
   ]
  },
  {
   "cell_type": "code",
   "execution_count": 13,
   "id": "dc1e84c8",
   "metadata": {},
   "outputs": [
    {
     "data": {
      "text/plain": [
       "False"
      ]
     },
     "execution_count": 13,
     "metadata": {},
     "output_type": "execute_result"
    },
    {
     "data": {
      "text/plain": [
       "True"
      ]
     },
     "execution_count": 13,
     "metadata": {},
     "output_type": "execute_result"
    },
    {
     "data": {
      "text/plain": [
       "True"
      ]
     },
     "execution_count": 13,
     "metadata": {},
     "output_type": "execute_result"
    },
    {
     "data": {
      "text/plain": [
       "False"
      ]
     },
     "execution_count": 13,
     "metadata": {},
     "output_type": "execute_result"
    },
    {
     "data": {
      "text/plain": [
       "True"
      ]
     },
     "execution_count": 13,
     "metadata": {},
     "output_type": "execute_result"
    },
    {
     "data": {
      "text/plain": [
       "False"
      ]
     },
     "execution_count": 13,
     "metadata": {},
     "output_type": "execute_result"
    }
   ],
   "source": [
    "x == y\n",
    "x != y\n",
    "x > y\n",
    "x < y\n",
    "x >= y\n",
    "x <= y"
   ]
  },
  {
   "cell_type": "code",
   "execution_count": 14,
   "id": "e95656e3",
   "metadata": {},
   "outputs": [
    {
     "data": {
      "text/plain": [
       "0"
      ]
     },
     "execution_count": 14,
     "metadata": {},
     "output_type": "execute_result"
    },
    {
     "data": {
      "text/plain": [
       "1"
      ]
     },
     "execution_count": 14,
     "metadata": {},
     "output_type": "execute_result"
    }
   ],
   "source": [
    "# bool -> int conversion\n",
    "int(x == y)\n",
    "int(x != y)"
   ]
  },
  {
   "cell_type": "code",
   "execution_count": 15,
   "id": "1900ea0b",
   "metadata": {},
   "outputs": [
    {
     "data": {
      "text/plain": [
       "True"
      ]
     },
     "execution_count": 15,
     "metadata": {},
     "output_type": "execute_result"
    },
    {
     "data": {
      "text/plain": [
       "False"
      ]
     },
     "execution_count": 15,
     "metadata": {},
     "output_type": "execute_result"
    }
   ],
   "source": [
    "# int -> bool conversion\n",
    "bool(1)\n",
    "bool(0)"
   ]
  },
  {
   "cell_type": "code",
   "execution_count": 16,
   "id": "37c05c38",
   "metadata": {},
   "outputs": [
    {
     "data": {
      "text/plain": [
       "True"
      ]
     },
     "execution_count": 16,
     "metadata": {},
     "output_type": "execute_result"
    },
    {
     "data": {
      "text/plain": [
       "True"
      ]
     },
     "execution_count": 16,
     "metadata": {},
     "output_type": "execute_result"
    },
    {
     "data": {
      "text/plain": [
       "True"
      ]
     },
     "execution_count": 16,
     "metadata": {},
     "output_type": "execute_result"
    },
    {
     "data": {
      "text/plain": [
       "True"
      ]
     },
     "execution_count": 16,
     "metadata": {},
     "output_type": "execute_result"
    },
    {
     "data": {
      "text/plain": [
       "True"
      ]
     },
     "execution_count": 16,
     "metadata": {},
     "output_type": "execute_result"
    },
    {
     "data": {
      "text/plain": [
       "False"
      ]
     },
     "execution_count": 16,
     "metadata": {},
     "output_type": "execute_result"
    }
   ],
   "source": [
    "bool(-1)\n",
    "bool(-100)\n",
    "bool(2)\n",
    "bool(2.5)\n",
    "bool(2000)\n",
    "bool(0)"
   ]
  },
  {
   "cell_type": "code",
   "execution_count": 17,
   "id": "13ccb967",
   "metadata": {},
   "outputs": [
    {
     "data": {
      "text/plain": [
       "True"
      ]
     },
     "execution_count": 17,
     "metadata": {},
     "output_type": "execute_result"
    }
   ],
   "source": [
    "bool(x//y)"
   ]
  },
  {
   "cell_type": "markdown",
   "id": "faeeded2",
   "metadata": {},
   "source": [
    "+ Markdown\n",
    "+ print(values, sep, end)\n",
    "+ Variables\n",
    "+ Data types\n",
    "+ Type casting\n",
    "+ Strings\n",
    "    + string indexing\n",
    "    + string methods\n",
    "    + raw strings\n",
    "    + Escape char\n",
    "    + string operators\n",
    "    + Immutable property of strings\n",
    "    + string formatting\n",
    "+ Numeric opertions\n",
    "     + Arithmetic\n",
    "     + Comparision\n",
    "+ Boolean"
   ]
  },
  {
   "cell_type": "code",
   "execution_count": null,
   "id": "7e1a0ce1",
   "metadata": {},
   "outputs": [],
   "source": []
  }
 ],
 "metadata": {
  "kernelspec": {
   "display_name": "Python 3 (ipykernel)",
   "language": "python",
   "name": "python3"
  },
  "language_info": {
   "codemirror_mode": {
    "name": "ipython",
    "version": 3
   },
   "file_extension": ".py",
   "mimetype": "text/x-python",
   "name": "python",
   "nbconvert_exporter": "python",
   "pygments_lexer": "ipython3",
   "version": "3.9.12"
  }
 },
 "nbformat": 4,
 "nbformat_minor": 5
}
