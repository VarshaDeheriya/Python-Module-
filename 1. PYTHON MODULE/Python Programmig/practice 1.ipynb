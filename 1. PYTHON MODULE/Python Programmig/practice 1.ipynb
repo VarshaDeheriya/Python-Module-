{
 "cells": [
  {
   "cell_type": "code",
   "execution_count": 1,
   "id": "f3c2e44e",
   "metadata": {},
   "outputs": [
    {
     "ename": "SyntaxError",
     "evalue": "invalid syntax (1618920088.py, line 1)",
     "output_type": "error",
     "traceback": [
      "\u001b[1;36m  Input \u001b[1;32mIn [1]\u001b[1;36m\u001b[0m\n\u001b[1;33m    *majja*\u001b[0m\n\u001b[1;37m           ^\u001b[0m\n\u001b[1;31mSyntaxError\u001b[0m\u001b[1;31m:\u001b[0m invalid syntax\n"
     ]
    }
   ],
   "source": [
    "*majja*"
   ]
  },
  {
   "cell_type": "markdown",
   "id": "ae93c955",
   "metadata": {},
   "source": [
    "*majja*"
   ]
  },
  {
   "cell_type": "code",
   "execution_count": 2,
   "id": "aede3ebc",
   "metadata": {},
   "outputs": [
    {
     "name": "stdout",
     "output_type": "stream",
     "text": [
      "data science course\n"
     ]
    }
   ],
   "source": [
    "print('data','science','course')"
   ]
  },
  {
   "cell_type": "code",
   "execution_count": 7,
   "id": "bfb1c33f",
   "metadata": {},
   "outputs": [
    {
     "name": "stdout",
     "output_type": "stream",
     "text": [
      "data+science+course\n"
     ]
    }
   ],
   "source": [
    "print('data','science','course', sep='+')"
   ]
  },
  {
   "cell_type": "code",
   "execution_count": 8,
   "id": "28b41c77",
   "metadata": {},
   "outputs": [
    {
     "data": {
      "text/plain": [
       "('data', 'science', 'course')"
      ]
     },
     "execution_count": 8,
     "metadata": {},
     "output_type": "execute_result"
    }
   ],
   "source": [
    "'data','science','course'"
   ]
  },
  {
   "cell_type": "code",
   "execution_count": null,
   "id": "49f62613",
   "metadata": {},
   "outputs": [],
   "source": []
  }
 ],
 "metadata": {
  "kernelspec": {
   "display_name": "Python 3 (ipykernel)",
   "language": "python",
   "name": "python3"
  },
  "language_info": {
   "codemirror_mode": {
    "name": "ipython",
    "version": 3
   },
   "file_extension": ".py",
   "mimetype": "text/x-python",
   "name": "python",
   "nbconvert_exporter": "python",
   "pygments_lexer": "ipython3",
   "version": "3.9.12"
  }
 },
 "nbformat": 4,
 "nbformat_minor": 5
}
