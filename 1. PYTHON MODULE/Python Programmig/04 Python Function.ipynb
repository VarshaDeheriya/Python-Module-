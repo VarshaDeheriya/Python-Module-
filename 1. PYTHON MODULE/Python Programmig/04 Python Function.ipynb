{
 "cells": [
  {
   "cell_type": "markdown",
   "id": "d98f9dd8",
   "metadata": {},
   "source": [
    "#### Function is a group of related statements that perform a specific task.\n",
    "**Advantages of Functions:**\n",
    "\n",
    "- Makes our code more organized and manageable.\n",
    "- it avoids repetition and makes code reusable."
   ]
  },
  {
   "cell_type": "code",
   "execution_count": 1,
   "id": "24c11a3c",
   "metadata": {},
   "outputs": [],
   "source": [
    "# EMI Formula = p * r * (1+r)^n/((1+r)^n-1)\n",
    "\n",
    "# If the interest rate per annum is R% then \n",
    "# interest rate per month is calculated using: \n",
    "\n",
    "# Monthly Interest Rate (r) = R/(12*100)\n",
    "\n",
    "# Varaible name details:\n",
    "# p = Principal or Loan Amount\n",
    "# r = Interest Rate Per Month\n",
    "# n = Number of monthly installments"
   ]
  },
  {
   "cell_type": "code",
   "execution_count": 4,
   "id": "06eb4159",
   "metadata": {},
   "outputs": [
    {
     "name": "stdout",
     "output_type": "stream",
     "text": [
      "Enter principal amount: 100000\n",
      "Enter annual interest rate: 10\n",
      "Enter number of months: 12\n",
      "Monthly EMI =  8791.59\n"
     ]
    }
   ],
   "source": [
    "# Reading inputs from user\n",
    "p = float(input(\"Enter principal amount: \"))\n",
    "R = float(input(\"Enter annual interest rate: \"))\n",
    "n = int(input(\"Enter number of months: \" ))\n",
    "\n",
    "# Calculating interest rate per month\n",
    "r = R/(12*100)\n",
    "\n",
    "# Calculating Equated Monthly Installment (EMI)\n",
    "emi = p * r * ((1+r)**n)/((1+r)**n - 1)\n",
    "\n",
    "print(\"Monthly EMI = \", round(emi, 2))"
   ]
  },
  {
   "cell_type": "markdown",
   "id": "c35b37ff",
   "metadata": {},
   "source": [
    "##### Syntax of Function\n",
    "```\n",
    "def function_name(arguments):\n",
    "    \"\"\"docstring\"\"\"\n",
    "    statement 1\n",
    "    statement 2\n",
    "    statement 3\n",
    "    ...\n",
    "    return output or print(output)\n",
    "    \n",
    " ```   \n",
    "    \n",
    "1. Keyword **`def`** to uniquely identify it. Function naming follows the same rules of writing identifiers/variables in Python.\n",
    "3. **`Parameters (arguments)`** through which we pass values to a function. They are `optional`.\n",
    "4. A colon **`(:)`** to mark the end of function header.\n",
    "5. Documentation string **`(docstring)`** to describe what the function does. This is `optional`.\n",
    "6. One or more valid python statements that make up the function body. Statements must have same indentation level (usually 4 spaces).\n",
    "7. An optional **`return`** statement to return a value from the function.\n"
   ]
  },
  {
   "cell_type": "markdown",
   "id": "fe127775",
   "metadata": {},
   "source": [
    "#### Write a function to calculate monthly EMI"
   ]
  },
  {
   "cell_type": "code",
   "execution_count": 3,
   "id": "407ecc07",
   "metadata": {},
   "outputs": [],
   "source": [
    "def monthly_emi(p, R, n):\n",
    "    \"\"\"p = Principal or Loan Amount\n",
    "    R = Interest Rate Per annum\n",
    "    n = Number of monthly installments\"\"\"\n",
    "    # Calculating interest rate per month\n",
    "    r = R/(12*100)\n",
    "    # Calculating Equated Monthly Installment (EMI)\n",
    "    emi = p * r * ((1+r)**n)/((1+r)**n - 1)\n",
    "    \n",
    "    print(\"Monthly EMI = \", round(emi, 2))"
   ]
  },
  {
   "cell_type": "code",
   "execution_count": 7,
   "id": "a5453b79",
   "metadata": {},
   "outputs": [
    {
     "data": {
      "text/plain": [
       "builtin_function_or_method"
      ]
     },
     "execution_count": 7,
     "metadata": {},
     "output_type": "execute_result"
    }
   ],
   "source": [
    "type(round)"
   ]
  },
  {
   "cell_type": "code",
   "execution_count": 8,
   "id": "6a565e3d",
   "metadata": {},
   "outputs": [
    {
     "data": {
      "text/plain": [
       "function"
      ]
     },
     "execution_count": 8,
     "metadata": {},
     "output_type": "execute_result"
    }
   ],
   "source": [
    "type(monthly_emi)"
   ]
  },
  {
   "cell_type": "code",
   "execution_count": 4,
   "id": "aade51b6",
   "metadata": {},
   "outputs": [
    {
     "name": "stdout",
     "output_type": "stream",
     "text": [
      "Monthly EMI =  7119.72\n"
     ]
    }
   ],
   "source": [
    "# call a fucntion to use it\n",
    "monthly_emi(100000,10,15)"
   ]
  },
  {
   "cell_type": "markdown",
   "id": "02173efd",
   "metadata": {},
   "source": [
    "#### Common errors while using fucntions"
   ]
  },
  {
   "cell_type": "code",
   "execution_count": 5,
   "id": "ee9953bf",
   "metadata": {},
   "outputs": [
    {
     "name": "stdout",
     "output_type": "stream",
     "text": [
      "Monthly EMI =  833.33\n"
     ]
    }
   ],
   "source": [
    "monthly_emi(10,100000,15)"
   ]
  },
  {
   "cell_type": "code",
   "execution_count": 8,
   "id": "9c2372d1",
   "metadata": {},
   "outputs": [
    {
     "name": "stdout",
     "output_type": "stream",
     "text": [
      "Monthly EMI =  53573.62\n"
     ]
    }
   ],
   "source": [
    "monthly_emi(p = 1000000,R= 8,n=20 )"
   ]
  },
  {
   "cell_type": "code",
   "execution_count": 11,
   "id": "a77a3de8",
   "metadata": {},
   "outputs": [
    {
     "name": "stdout",
     "output_type": "stream",
     "text": [
      "Monthly EMI =  7119.72\n",
      "Monthly EMI =  7119.72\n",
      "Monthly EMI =  7119.72\n"
     ]
    }
   ],
   "source": [
    "# pass the params in the same order as in the definition for the fucntion\n",
    "\n",
    "monthly_emi(p = 100000, R=10, n=15)\n",
    "monthly_emi(R=10, n=15, p = 100000)\n",
    "monthly_emi(n=15, p = 100000, R=10)"
   ]
  },
  {
   "cell_type": "code",
   "execution_count": 6,
   "id": "cd032799",
   "metadata": {},
   "outputs": [
    {
     "ename": "TypeError",
     "evalue": "unsupported operand type(s) for ** or pow(): 'float' and 'str'",
     "output_type": "error",
     "traceback": [
      "\u001b[1;31m---------------------------------------------------------------------------\u001b[0m",
      "\u001b[1;31mTypeError\u001b[0m                                 Traceback (most recent call last)",
      "Input \u001b[1;32mIn [6]\u001b[0m, in \u001b[0;36m<cell line: 1>\u001b[1;34m()\u001b[0m\n\u001b[1;32m----> 1\u001b[0m \u001b[43mmonthly_emi\u001b[49m\u001b[43m(\u001b[49m\u001b[38;5;241;43m10\u001b[39;49m\u001b[43m,\u001b[49m\u001b[38;5;241;43m100000\u001b[39;49m\u001b[43m,\u001b[49m\u001b[38;5;124;43m'\u001b[39;49m\u001b[38;5;124;43m15\u001b[39;49m\u001b[38;5;124;43m'\u001b[39;49m\u001b[43m)\u001b[49m\n",
      "Input \u001b[1;32mIn [3]\u001b[0m, in \u001b[0;36mmonthly_emi\u001b[1;34m(p, R, n)\u001b[0m\n\u001b[0;32m      6\u001b[0m r \u001b[38;5;241m=\u001b[39m R\u001b[38;5;241m/\u001b[39m(\u001b[38;5;241m12\u001b[39m\u001b[38;5;241m*\u001b[39m\u001b[38;5;241m100\u001b[39m)\n\u001b[0;32m      7\u001b[0m \u001b[38;5;66;03m# Calculating Equated Monthly Installment (EMI)\u001b[39;00m\n\u001b[1;32m----> 8\u001b[0m emi \u001b[38;5;241m=\u001b[39m p \u001b[38;5;241m*\u001b[39m r \u001b[38;5;241m*\u001b[39m (\u001b[43m(\u001b[49m\u001b[38;5;241;43m1\u001b[39;49m\u001b[38;5;241;43m+\u001b[39;49m\u001b[43mr\u001b[49m\u001b[43m)\u001b[49m\u001b[38;5;241;43m*\u001b[39;49m\u001b[38;5;241;43m*\u001b[39;49m\u001b[43mn\u001b[49m)\u001b[38;5;241m/\u001b[39m((\u001b[38;5;241m1\u001b[39m\u001b[38;5;241m+\u001b[39mr)\u001b[38;5;241m*\u001b[39m\u001b[38;5;241m*\u001b[39mn \u001b[38;5;241m-\u001b[39m \u001b[38;5;241m1\u001b[39m)\n\u001b[0;32m     10\u001b[0m \u001b[38;5;28mprint\u001b[39m(\u001b[38;5;124m\"\u001b[39m\u001b[38;5;124mMonthly EMI = \u001b[39m\u001b[38;5;124m\"\u001b[39m, \u001b[38;5;28mround\u001b[39m(emi, \u001b[38;5;241m2\u001b[39m))\n",
      "\u001b[1;31mTypeError\u001b[0m: unsupported operand type(s) for ** or pow(): 'float' and 'str'"
     ]
    }
   ],
   "source": [
    "monthly_emi(10,100000,'15')"
   ]
  },
  {
   "cell_type": "markdown",
   "id": "7b37097d",
   "metadata": {},
   "source": [
    "### print vs return"
   ]
  },
  {
   "cell_type": "code",
   "execution_count": 14,
   "id": "af866126",
   "metadata": {},
   "outputs": [],
   "source": [
    "def monthly_emi(p, R, n):\n",
    "    \"\"\"p = Principal or Loan Amount\n",
    "    R = Interest Rate Per annum\n",
    "    n = Number of monthly installments\"\"\"\n",
    "    # Calculating interest rate per month\n",
    "    r = R/(12*100)\n",
    "    # Calculating Equated Monthly Installment (EMI)\n",
    "    emi = p * r * ((1+r)**n)/((1+r)**n - 1)\n",
    "    \n",
    "    return round(emi, 2)"
   ]
  },
  {
   "cell_type": "code",
   "execution_count": 15,
   "id": "b1091691",
   "metadata": {},
   "outputs": [
    {
     "data": {
      "text/plain": [
       "7119.72"
      ]
     },
     "execution_count": 15,
     "metadata": {},
     "output_type": "execute_result"
    }
   ],
   "source": [
    "monthly_emi(100000,10,15) # function with return"
   ]
  },
  {
   "cell_type": "code",
   "execution_count": 16,
   "id": "2bd9383e",
   "metadata": {},
   "outputs": [
    {
     "name": "stdout",
     "output_type": "stream",
     "text": [
      "7119.72\n"
     ]
    }
   ],
   "source": [
    "emi = monthly_emi(100000,10,15)\n",
    "print(emi)"
   ]
  },
  {
   "cell_type": "code",
   "execution_count": 17,
   "id": "7143eb90",
   "metadata": {},
   "outputs": [],
   "source": [
    "def monthly_emi(p, R, n):\n",
    "    \"\"\"p = Principal or Loan Amount\n",
    "    R = Interest Rate Per annum\n",
    "    n = Number of monthly installments\"\"\"\n",
    "    # Calculating interest rate per month\n",
    "    r = R/(12*100)\n",
    "    # Calculating Equated Monthly Installment (EMI)\n",
    "    emi = p * r * ((1+r)**n)/((1+r)**n - 1)\n",
    "    \n",
    "    print(round(emi, 2))"
   ]
  },
  {
   "cell_type": "code",
   "execution_count": 18,
   "id": "310ad6a3",
   "metadata": {},
   "outputs": [
    {
     "name": "stdout",
     "output_type": "stream",
     "text": [
      "7119.72\n"
     ]
    }
   ],
   "source": [
    "monthly_emi(100000,10,15) # function with print"
   ]
  },
  {
   "cell_type": "code",
   "execution_count": 19,
   "id": "cfd60232",
   "metadata": {},
   "outputs": [
    {
     "name": "stdout",
     "output_type": "stream",
     "text": [
      "7119.72\n",
      "None\n"
     ]
    }
   ],
   "source": [
    "emi = monthly_emi(100000,10,15)\n",
    "print(emi)"
   ]
  },
  {
   "cell_type": "markdown",
   "id": "f9aed610",
   "metadata": {},
   "source": [
    "Use `return`, when you want to capture the function outcome `and` use later."
   ]
  },
  {
   "cell_type": "code",
   "execution_count": null,
   "id": "ba6fdab9",
   "metadata": {},
   "outputs": [],
   "source": []
  },
  {
   "cell_type": "markdown",
   "id": "14581c2e",
   "metadata": {},
   "source": [
    "#### Write a function to calculate BMI"
   ]
  },
  {
   "cell_type": "code",
   "execution_count": 20,
   "id": "ccafe2a6",
   "metadata": {},
   "outputs": [],
   "source": [
    "def BMI_calc(h,w):\n",
    "    \"\"\"h - height in meters\n",
    "        w - weight in Kgs\"\"\"\n",
    "    BMI = round(w/(h**2),1)\n",
    "    return BMI"
   ]
  },
  {
   "cell_type": "code",
   "execution_count": 21,
   "id": "eae1a09e",
   "metadata": {},
   "outputs": [
    {
     "data": {
      "text/plain": [
       "21.9"
      ]
     },
     "execution_count": 21,
     "metadata": {},
     "output_type": "execute_result"
    }
   ],
   "source": [
    "# call the fucntion\n",
    "BMI_calc(1.85,75)"
   ]
  },
  {
   "attachments": {
    "image.png": {
     "image/png": "[encoded data removed]"
    }
   },
   "cell_type": "markdown",
   "id": "0e894fe9",
   "metadata": {},
   "source": [
    "#### Add the below conditions to the BMI func:\n",
    "![image.png](attachment:image.png)"
   ]
  },
  {
   "cell_type": "code",
   "execution_count": 1,
   "id": "2c8e7aa9",
   "metadata": {},
   "outputs": [],
   "source": [
    "def BMI_calc(height,weight):\n",
    "    \"\"\" h - height in meter\n",
    "        w - weight in Kgs\"\"\"\n",
    "    \n",
    "    height = float(input(\"Enter your height in meter: \"))\n",
    "    weight = float(input(\"Enter your weight in kg: \"))\n",
    "    BMI = weight / (height**2)\n",
    "    print(f\"You BMI is {BMI}\")\n",
    "\n",
    "    if (BMI <= 18.4):\n",
    "        print(\"Underweight\")\n",
    "    elif (BMI >= 18.5 and BMI <= 24.9):\n",
    "        print(\"Normal weight\")\n",
    "    elif (BMI >= 25.0 and BMI <= 29.9):\n",
    "        print(\"Over weight\")\n",
    "    elif (BMI >= 30.0 and BMI <= 34.9 ):\n",
    "        print(\"Obesity class I\")\n",
    "    elif (BMI >= 35.0 and BMI <= 39.9 ):\n",
    "        print(\"Obesity class II\")\n",
    "    elif (BMI > 39.9):\n",
    "        print(\"Obesity class III\")\n",
    "    \n",
    "    \n",
    "    "
   ]
  },
  {
   "cell_type": "code",
   "execution_count": 2,
   "id": "5c07a598",
   "metadata": {},
   "outputs": [
    {
     "name": "stdout",
     "output_type": "stream",
     "text": [
      "Enter your height in meter: 1.88\n",
      "Enter your weight in kg: 60\n",
      "You BMI is 16.976007243096426\n",
      "Underweight\n"
     ]
    }
   ],
   "source": [
    "BMI_calc(890,50)"
   ]
  },
  {
   "cell_type": "code",
   "execution_count": 1,
   "id": "f38d53fb",
   "metadata": {},
   "outputs": [
    {
     "name": "stdout",
     "output_type": "stream",
     "text": [
      "Enter your height in cm: 66\n",
      "Enter your weight in kg: 50\n",
      "You BMI is 114.78420569329658\n",
      "You are severely obese.\n"
     ]
    }
   ],
   "source": [
    "### Write a function to calculate BMI\n",
    "\n",
    "\n",
    "height = float(input(\"Enter your height in cm: \"))\n",
    "weight = float(input(\"Enter your weight in kg: \"))\n",
    "\n",
    "BMI = weight / (height/100)**2\n",
    "print(f\"You BMI is {BMI}\")\n",
    "\n",
    "if BMI <= 18.4:\n",
    "    print(\"You are underweight.\")\n",
    "elif BMI <= 24.9:\n",
    "    print(\"You are healthy.\")\n",
    "elif BMI <= 29.9:\n",
    "    print(\"You are over weight.\")\n",
    "elif BMI <= 34.9:\n",
    "    print(\"You are severely over weight.\")\n",
    "elif BMI <= 39.9:\n",
    "    print(\"You are obese.\")\n",
    "else:\n",
    "    print(\"You are severely obese.\")"
   ]
  },
  {
   "cell_type": "code",
   "execution_count": null,
   "id": "b7b7b8b2",
   "metadata": {},
   "outputs": [],
   "source": [
    "def BMI(h,w):\n",
    "    ``` height in meter\n",
    "        weight in kgs\n",
    "    BMI = weight / (height/100)**2"
   ]
  },
  {
   "cell_type": "code",
   "execution_count": 7,
   "id": "56e758f2",
   "metadata": {},
   "outputs": [],
   "source": [
    "def BMI(height,weight):\n",
    "    BMI = weight / (height/100)**2\n",
    "    print(f\"You BMI is {BMI}\")\n",
    "\n",
    "    if BMI <= 18.4:\n",
    "        print(\"You are underweight.\")\n",
    "    elif BMI <= 24.9:\n",
    "        print(\"You are healthy.\")\n",
    "    elif BMI <= 29.9:\n",
    "        print(\"You are over weight.\")\n",
    "    elif BMI <= 34.9:\n",
    "        print(\"You are severely over weight.\")\n",
    "    elif BMI <= 39.9:\n",
    "        print(\"You are obese.\")\n",
    "    else:\n",
    "        print(\"You are severely obese.\")\n",
    "        \n",
    "    return BMI"
   ]
  },
  {
   "cell_type": "code",
   "execution_count": 10,
   "id": "a0932173",
   "metadata": {},
   "outputs": [
    {
     "name": "stdout",
     "output_type": "stream",
     "text": [
      "You BMI is 1.6722361420397376\n",
      "You are underweight.\n"
     ]
    },
    {
     "data": {
      "text/plain": [
       "1.6722361420397376"
      ]
     },
     "execution_count": 10,
     "metadata": {},
     "output_type": "execute_result"
    }
   ],
   "source": [
    "BMI(599,60)"
   ]
  },
  {
   "cell_type": "code",
   "execution_count": 11,
   "id": "97a85abb",
   "metadata": {},
   "outputs": [
    {
     "name": "stdout",
     "output_type": "stream",
     "text": [
      "discounted prise:  1559.22\n",
      "saved amount:  439.78\n"
     ]
    }
   ],
   "source": [
    "# prise = float(input('Enter the amount'))\n",
    "# discount = float(input('Enter the amount'))\n",
    "\n",
    "prise = 1999\n",
    "discount = 0.22\n",
    "print('discounted prise: ', prise - (prise*discount))\n",
    "print('saved amount: ', prise-(prise - (prise*discount)))"
   ]
  },
  {
   "cell_type": "code",
   "execution_count": 18,
   "id": "c191fbdf",
   "metadata": {},
   "outputs": [],
   "source": [
    "def discount_calc(mrp, disc):\n",
    "    \"\"\" mrp : in rupees\n",
    "        disc: in percentage\"\"\"\n",
    "    mrp = float(Input('Enter MRP:'))\n",
    "    disc = float(Input('Enter discount:'))\n",
    "    disc_amt = mrp*(disc/100)\n",
    "    payable_amt = mrp - disc_amt\n",
    "    print(f'Amount payable: {payable_amt}')\n",
    "    print(f'saving: {disc_amt}')\n",
    "    return discount_calc\n",
    "    "
   ]
  },
  {
   "cell_type": "code",
   "execution_count": 19,
   "id": "4823682a",
   "metadata": {},
   "outputs": [
    {
     "ename": "NameError",
     "evalue": "name 'Input' is not defined",
     "output_type": "error",
     "traceback": [
      "\u001b[1;31m---------------------------------------------------------------------------\u001b[0m",
      "\u001b[1;31mNameError\u001b[0m                                 Traceback (most recent call last)",
      "Input \u001b[1;32mIn [19]\u001b[0m, in \u001b[0;36m<cell line: 1>\u001b[1;34m()\u001b[0m\n\u001b[1;32m----> 1\u001b[0m \u001b[43mdiscount_calc\u001b[49m\u001b[43m(\u001b[49m\u001b[38;5;241;43m1999\u001b[39;49m\u001b[43m,\u001b[49m\u001b[43m \u001b[49m\u001b[38;5;241;43m22\u001b[39;49m\u001b[43m)\u001b[49m\n",
      "Input \u001b[1;32mIn [18]\u001b[0m, in \u001b[0;36mdiscount_calc\u001b[1;34m(mrp, disc)\u001b[0m\n\u001b[0;32m      1\u001b[0m \u001b[38;5;28;01mdef\u001b[39;00m \u001b[38;5;21mdiscount_calc\u001b[39m(mrp, disc):\n\u001b[0;32m      2\u001b[0m     \u001b[38;5;124;03m\"\"\" mrp : in rupees\u001b[39;00m\n\u001b[0;32m      3\u001b[0m \u001b[38;5;124;03m        disc: in percentage\"\"\"\u001b[39;00m\n\u001b[1;32m----> 4\u001b[0m     mrp \u001b[38;5;241m=\u001b[39m \u001b[38;5;28mfloat\u001b[39m(\u001b[43mInput\u001b[49m(\u001b[38;5;124m'\u001b[39m\u001b[38;5;124mEnter MRP:\u001b[39m\u001b[38;5;124m'\u001b[39m))\n\u001b[0;32m      5\u001b[0m     disc \u001b[38;5;241m=\u001b[39m \u001b[38;5;28mfloat\u001b[39m(Input(\u001b[38;5;124m'\u001b[39m\u001b[38;5;124mEnter discount:\u001b[39m\u001b[38;5;124m'\u001b[39m))\n\u001b[0;32m      6\u001b[0m     disc_amt \u001b[38;5;241m=\u001b[39m mrp\u001b[38;5;241m*\u001b[39m(disc\u001b[38;5;241m/\u001b[39m\u001b[38;5;241m100\u001b[39m)\n",
      "\u001b[1;31mNameError\u001b[0m: name 'Input' is not defined"
     ]
    }
   ],
   "source": [
    "discount_calc(1999, 22)   ## call the function"
   ]
  },
  {
   "cell_type": "markdown",
   "id": "e31bde23",
   "metadata": {},
   "source": [
    "#### Write a function for Discount calculator\n",
    "If the shirt with original price as Rs 1999 is 22% off, Print Payable amount and Saved amount."
   ]
  },
  {
   "cell_type": "code",
   "execution_count": 43,
   "id": "467bcbfc",
   "metadata": {},
   "outputs": [],
   "source": [
    "def discount_calc(mrp, disc):\n",
    "    \"\"\"mrp - in Rupees\n",
    "        disc - in percentage\"\"\"\n",
    "    disc_amt = mrp*(disc/100)\n",
    "    payable_amt = mrp-disc_amt\n",
    "    print(f'Amount payable: {payable_amt}')\n",
    "    print(f'Savings: {disc_amt}')    "
   ]
  },
  {
   "cell_type": "code",
   "execution_count": 44,
   "id": "bcbba4a3",
   "metadata": {},
   "outputs": [
    {
     "name": "stdout",
     "output_type": "stream",
     "text": [
      "Amount payable: 1559.22\n",
      "Savings: 439.78000000000003\n"
     ]
    }
   ],
   "source": [
    "discount_calc(1999,22)"
   ]
  },
  {
   "cell_type": "markdown",
   "id": "4edd0ef0",
   "metadata": {},
   "source": [
    "##### Fucntion without parameters"
   ]
  },
  {
   "cell_type": "code",
   "execution_count": 1,
   "id": "ef8124ad",
   "metadata": {},
   "outputs": [],
   "source": [
    "def discount_calc():\n",
    "    \"\"\"mrp - in Rupees\n",
    "        disc - in percentage\"\"\"\n",
    "    mrp = float(input('Enter MRP: '))\n",
    "    disc = float(input('Enter discount %: '))\n",
    "    disc_amt = mrp*(disc/100)\n",
    "    payable_amt = mrp-disc_amt\n",
    "    print(f'Amount payable: {payable_amt}')\n",
    "    print(f'Savings: {disc_amt}') "
   ]
  },
  {
   "cell_type": "code",
   "execution_count": 3,
   "id": "032a7cfd",
   "metadata": {},
   "outputs": [
    {
     "name": "stdout",
     "output_type": "stream",
     "text": [
      "Enter MRP: 1999\n",
      "Enter discount %: 25\n",
      "Amount payable: 1499.25\n",
      "Savings: 499.75\n"
     ]
    }
   ],
   "source": [
    "discount_calc()"
   ]
  },
  {
   "cell_type": "markdown",
   "id": "0e591448",
   "metadata": {},
   "source": [
    "#### Function with optional parameter(s)"
   ]
  },
  {
   "cell_type": "code",
   "execution_count": 5,
   "id": "6a7bdeb3",
   "metadata": {},
   "outputs": [],
   "source": [
    "def discount_calc(mrp, disc = 5, isMember = False):\n",
    "    \"\"\"mrp - in Rupees\n",
    "        disc - in percentage\"\"\"\n",
    "    if(isMember):\n",
    "        disc = disc + 7\n",
    "    disc_amt = mrp*(disc/100)\n",
    "    payable_amt = mrp-disc_amt\n",
    "    print(f'Amount payable: {payable_amt}')\n",
    "    print(f'Savings: {disc_amt}') "
   ]
  },
  {
   "cell_type": "code",
   "execution_count": 6,
   "id": "c69e8b0d",
   "metadata": {},
   "outputs": [
    {
     "name": "stdout",
     "output_type": "stream",
     "text": [
      "Amount payable: 1519.05\n",
      "Savings: 79.95\n"
     ]
    }
   ],
   "source": [
    "discount_calc(1599)"
   ]
  },
  {
   "cell_type": "code",
   "execution_count": 28,
   "id": "0821a5e4",
   "metadata": {},
   "outputs": [
    {
     "name": "stdout",
     "output_type": "stream",
     "text": [
      "Amount payable: 1407.12\n",
      "Savings: 191.88\n"
     ]
    }
   ],
   "source": [
    "discount_calc(1599, isMember=True)"
   ]
  },
  {
   "cell_type": "markdown",
   "id": "9a58579b",
   "metadata": {},
   "source": [
    "### Accessing the Docstring"
   ]
  },
  {
   "cell_type": "code",
   "execution_count": 29,
   "id": "60fe0123",
   "metadata": {},
   "outputs": [
    {
     "name": "stdout",
     "output_type": "stream",
     "text": [
      "h - height in meters\n",
      "        w - weight in Kgs\n"
     ]
    }
   ],
   "source": [
    "print(BMI_calc.__doc__)"
   ]
  },
  {
   "cell_type": "code",
   "execution_count": 30,
   "id": "1462d865",
   "metadata": {},
   "outputs": [
    {
     "name": "stdout",
     "output_type": "stream",
     "text": [
      "p = Principal or Loan Amount\n",
      "    R = Interest Rate Per annum\n",
      "    n = Number of monthly installments\n"
     ]
    }
   ],
   "source": [
    "print(monthly_emi.__doc__)"
   ]
  },
  {
   "cell_type": "code",
   "execution_count": 31,
   "id": "803f0e0b",
   "metadata": {},
   "outputs": [
    {
     "name": "stdout",
     "output_type": "stream",
     "text": [
      "Round a number to a given precision in decimal digits.\n",
      "\n",
      "The return value is an integer if ndigits is omitted or None.  Otherwise\n",
      "the return value has the same type as the number.  ndigits may be negative.\n"
     ]
    }
   ],
   "source": [
    "print(round.__doc__)"
   ]
  },
  {
   "cell_type": "code",
   "execution_count": 32,
   "id": "1144a601",
   "metadata": {},
   "outputs": [
    {
     "name": "stdout",
     "output_type": "stream",
     "text": [
      "print(value, ..., sep=' ', end='\\n', file=sys.stdout, flush=False)\n",
      "\n",
      "Prints the values to a stream, or to sys.stdout by default.\n",
      "Optional keyword arguments:\n",
      "file:  a file-like object (stream); defaults to the current sys.stdout.\n",
      "sep:   string inserted between values, default a space.\n",
      "end:   string appended after the last value, default a newline.\n",
      "flush: whether to forcibly flush the stream.\n"
     ]
    }
   ],
   "source": [
    "print(print.__doc__)"
   ]
  },
  {
   "cell_type": "markdown",
   "id": "4b77c2e7",
   "metadata": {},
   "source": [
    "#### Scope of variables\n",
    "- Scope or lifetime of a variable is the portion of a program where the variable is recognized.\n",
    "- Parameters and variables defined inside a function is not visible from outside. Hence, they have a local scope."
   ]
  },
  {
   "cell_type": "code",
   "execution_count": 33,
   "id": "5a415004",
   "metadata": {},
   "outputs": [],
   "source": [
    "def discount_calc(mrp, disc = 5, isMember = False):\n",
    "    \"\"\"mrp - in Rupees\n",
    "        disc - in percentage\"\"\"\n",
    "    if(isMember):\n",
    "        disc = disc + 7\n",
    "    disc_amt = mrp*(disc/100) \n",
    "    payable_amt = mrp-disc_amt\n",
    "    print(f'Amount payable: {payable_amt}')\n",
    "    print(f'Savings: {disc_amt}') "
   ]
  },
  {
   "cell_type": "code",
   "execution_count": 34,
   "id": "59a1ec08",
   "metadata": {},
   "outputs": [
    {
     "ename": "NameError",
     "evalue": "name 'disc_amt' is not defined",
     "output_type": "error",
     "traceback": [
      "\u001b[1;31m---------------------------------------------------------------------------\u001b[0m",
      "\u001b[1;31mNameError\u001b[0m                                 Traceback (most recent call last)",
      "Input \u001b[1;32mIn [34]\u001b[0m, in \u001b[0;36m<cell line: 1>\u001b[1;34m()\u001b[0m\n\u001b[1;32m----> 1\u001b[0m \u001b[38;5;28mprint\u001b[39m(\u001b[43mdisc_amt\u001b[49m,payable_amt)\n",
      "\u001b[1;31mNameError\u001b[0m: name 'disc_amt' is not defined"
     ]
    }
   ],
   "source": [
    "print(disc_amt,payable_amt)"
   ]
  },
  {
   "cell_type": "code",
   "execution_count": 37,
   "id": "afdd9f0b",
   "metadata": {},
   "outputs": [],
   "source": [
    "disc_amt,payable_amt = 0,0\n",
    "\n",
    "\n",
    "def discount_calc(mrp, disc = 5, isMember = False):\n",
    "    \"\"\"mrp - in Rupees\n",
    "        disc - in percentage\"\"\"\n",
    "    if(isMember):\n",
    "        disc = disc + 7\n",
    "    disc_amt = mrp*(disc/100)\n",
    "    payable_amt = mrp-disc_amt\n",
    "    print(f'Amount payable: {payable_amt}')\n",
    "    print(f'Savings: {disc_amt}') "
   ]
  },
  {
   "cell_type": "code",
   "execution_count": 38,
   "id": "ad0ca07e",
   "metadata": {},
   "outputs": [
    {
     "name": "stdout",
     "output_type": "stream",
     "text": [
      "Amount payable: 1407.12\n",
      "Savings: 191.88\n"
     ]
    }
   ],
   "source": [
    "discount_calc(1599, isMember=True)"
   ]
  },
  {
   "cell_type": "code",
   "execution_count": 39,
   "id": "d8ce86f8",
   "metadata": {},
   "outputs": [
    {
     "name": "stdout",
     "output_type": "stream",
     "text": [
      "0 0\n"
     ]
    }
   ],
   "source": [
    "print(disc_amt,payable_amt)"
   ]
  },
  {
   "attachments": {
    "image.png": {
     "image/png": "[encoded data removed]"
    }
   },
   "cell_type": "markdown",
   "id": "9b95ec78",
   "metadata": {},
   "source": [
    "####Write a function to compute Income Tax\n",
    "**Print:**\n",
    "\n",
    "- Which tax regime choosen\n",
    "- Gross salary\n",
    "- Tax percentage\n",
    "- Total tax payable\n",
    "- Salary after tax\n",
    "\n",
    "\n",
    "![image.png](attachment:image.png)"
   ]
  },
  {
   "cell_type": "code",
   "execution_count": 12,
   "id": "fc6ff19f",
   "metadata": {},
   "outputs": [],
   "source": [
    "## practice work\n",
    "\n",
    "def income_tax_calc(income,tax_rate):\n",
    "    print(\"\"\"\" for new tax rate choose a\n",
    "             for old tax rate choose b\"\"\" )\n",
    "    salary = float(input(\"Enter your income: \"))\n",
    "    tex_rate = int(input(\"Enter tax regime: \"))\n",
    "    x = salary \n",
    "    if(tax_rate == a):\n",
    "        if(salary>=250000):\n",
    "            print('Income tax =',x*1)\n",
    "        elif(salary ==250001 and salary == 500000):\n",
    "            print('Income tax =',(x-x%5))\n",
    "        elif(salary ==500001 and salary == 750000):\n",
    "            print('Income tax =',(x-x%10))\n",
    "        elif(salary ==750001 and salary == 1000000):\n",
    "            print('Income tax =',(x-x%15))\n",
    "        elif(salary ==1000001 and salary == 1250000):\n",
    "            print('Income tax =',(x-x%20))\n",
    "        elif(salary ==1250001 and salary == 1500000):\n",
    "            print('Income tax =',(x-x%25))\n",
    "        elif(salary ==1500001 and salary == 3000000):\n",
    "            print('Income tax =',(x%30))\n",
    "        else:\n",
    "            print('enter a number')\n",
    "    if(tax_rate == b):\n",
    "        if(salary >=250000):\n",
    "            print('Income tax =',x*1)\n",
    "        elif(salary  ==250001 and salary == 500000):\n",
    "            print('Income tax =',(x-x%5))\n",
    "        elif(salary ==500001 and salary == 1000000):\n",
    "            print('Income tax =',(x-x%20))\n",
    "        elif(salary ==1000001 and salary == 3000000):\n",
    "            print('Income tax =',(x-x%30))\n",
    "        else:\n",
    "            print('enter a number')\n",
    "        \n",
    "        \n",
    "        \n",
    "        \n"
   ]
  },
  {
   "cell_type": "code",
   "execution_count": 11,
   "id": "a6512321",
   "metadata": {},
   "outputs": [],
   "source": [
    "def incometax_calc():\n",
    "    tax_regiem = input(\"Which Tax regime you want to choose(old/new):\")\n",
    "    salary = float "
   ]
  },
  {
   "cell_type": "code",
   "execution_count": 7,
   "id": "e10e1be2",
   "metadata": {},
   "outputs": [
    {
     "ename": "NameError",
     "evalue": "name 'income_tax_calc' is not defined",
     "output_type": "error",
     "traceback": [
      "\u001b[1;31m---------------------------------------------------------------------------\u001b[0m",
      "\u001b[1;31mNameError\u001b[0m                                 Traceback (most recent call last)",
      "Input \u001b[1;32mIn [7]\u001b[0m, in \u001b[0;36m<cell line: 1>\u001b[1;34m()\u001b[0m\n\u001b[1;32m----> 1\u001b[0m \u001b[43mincome_tax_calc\u001b[49m(\u001b[38;5;241m100000\u001b[39m,\u001b[38;5;241m5\u001b[39m)\n",
      "\u001b[1;31mNameError\u001b[0m: name 'income_tax_calc' is not defined"
     ]
    }
   ],
   "source": [
    "income_tax_calc(100000,5)\n",
    "                \n"
   ]
  },
  {
   "cell_type": "code",
   "execution_count": 2,
   "id": "ae1723ca",
   "metadata": {},
   "outputs": [],
   "source": [
    "def incometax_calc():\n",
    "    tax_regime = input(\"Which Tax regime you want to choose (Old/New): \")\n",
    "    salary = float(input(\"Enter your Salary: \"))\n",
    "    \n",
    "    if(tax_regime.lower() == 'new'):\n",
    "        print(f'Selected Tax regime: {tax_regime.upper()}')\n",
    "        print(f'Salary entered: {salary}')\n",
    "        if(salary <= 250000):\n",
    "            print('Tax rate is Nil', 'Tax payable is 0', sep = '\\n')\n",
    "        elif(salary > 250000 and salary <= 500000):\n",
    "            tax_payable = salary*0.05\n",
    "            print('Tax rate is 5%')\n",
    "            print('Tax payable is:', tax_payable)\n",
    "        elif(salary > 500000 and salary <= 750000):\n",
    "            tax_payable = salary*0.1\n",
    "            print('Tax rate is 10%')\n",
    "            print('Tax payable is:', tax_payable)\n",
    "        elif(salary > 750000 and salary <= 1000000):\n",
    "            tax_payable = salary*0.15\n",
    "            print('Tax rate is 15%')\n",
    "            print('Tax payable is:', tax_payable)\n",
    "        elif(salary > 1000000 and salary <= 1250000):\n",
    "            tax_payable = salary*0.2\n",
    "            print('Tax rate is 20%')\n",
    "            print('Tax payable is:', tax_payable)\n",
    "        elif(salary > 1250000 and salary <= 1500000):\n",
    "            tax_payable = salary*0.25\n",
    "            print('Tax rate is 25%')\n",
    "            print('Tax payable is:', tax_payable)\n",
    "        elif(salary > 1500000 and salary <= 3000000):\n",
    "            tax_payable = salary*0.3\n",
    "            print('Tax rate is 30%')\n",
    "            print('Tax payable is:', tax_payable)\n",
    "    elif(tax_regime.lower() == 'old'):\n",
    "        print(f'Selected Tax regime is {tax_regime.upper()}')\n",
    "        print(f'Salary entered: {salary}')\n",
    "        if(salary <= 250000):\n",
    "            print('Tax rate is Nil', 'Tax payable is 0', sep = '\\n')\n",
    "        elif(salary > 250000 and salary <= 500000):\n",
    "            tax_payable = salary*0.05\n",
    "            print('Tax rate is 5%')\n",
    "            print('Tax payable is:', tax_payable)\n",
    "        elif(salary > 500000 and salary <= 1000000):\n",
    "            tax_payable = salary*0.2\n",
    "            print('Tax rate is 20%')\n",
    "            print('Tax payable is:', tax_payable)\n",
    "        elif(salary > 1000000 and salary <= 3000000):\n",
    "            tax_payable = salary*0.3\n",
    "            print('Tax rate is 30%')\n",
    "            print('Tax payable is:', tax_payable)\n",
    "        \n",
    "    return tax_payable"
   ]
  },
  {
   "cell_type": "code",
   "execution_count": 3,
   "id": "158f6e5e",
   "metadata": {},
   "outputs": [],
   "source": [
    "def incometax_calc():\n",
    "    tax_regiem = input(\"Which Tax regime you want to choose(old/new):\")\n",
    "    salary = float "
   ]
  },
  {
   "cell_type": "code",
   "execution_count": 4,
   "id": "db734f4d",
   "metadata": {},
   "outputs": [
    {
     "name": "stdout",
     "output_type": "stream",
     "text": [
      "Which Tax regime you want to choose(old/new):new\n"
     ]
    }
   ],
   "source": [
    "finaltax = incometax_calc()"
   ]
  },
  {
   "cell_type": "code",
   "execution_count": 9,
   "id": "935fc7d2",
   "metadata": {},
   "outputs": [
    {
     "ename": "NameError",
     "evalue": "name 'finaltax' is not defined",
     "output_type": "error",
     "traceback": [
      "\u001b[1;31m---------------------------------------------------------------------------\u001b[0m",
      "\u001b[1;31mNameError\u001b[0m                                 Traceback (most recent call last)",
      "Input \u001b[1;32mIn [9]\u001b[0m, in \u001b[0;36m<cell line: 1>\u001b[1;34m()\u001b[0m\n\u001b[1;32m----> 1\u001b[0m \u001b[38;5;28mprint\u001b[39m(\u001b[43mfinaltax\u001b[49m)\n",
      "\u001b[1;31mNameError\u001b[0m: name 'finaltax' is not defined"
     ]
    }
   ],
   "source": [
    "print(finaltax)"
   ]
  },
  {
   "cell_type": "markdown",
   "id": "054b0790",
   "metadata": {},
   "source": [
    "#### Lambda Function (Anonymous functions)\n",
    "While normal functions are defined using the `def` keyword, in Python anonymous functions are defined using the `lambda` keyword.\n",
    "\n",
    "Hence, anonymous functions are also called `lambda` functions.\n",
    "\n",
    "+ Lambda function is defined without a name.\n",
    "\n",
    "#### Syntax of Lambda Function\n",
    "**`lambda arguments: expression`**\n",
    "\n",
    "Lambda functions can have any number of arguments but only one expression. The expression is evaluated and returned.\n",
    "\n"
   ]
  },
  {
   "cell_type": "code",
   "execution_count": 6,
   "id": "a1c53038",
   "metadata": {},
   "outputs": [],
   "source": [
    "def BMI_calc(h,w):\n",
    "    \"\"\"h - height in meters\n",
    "        w - weight in Kgs\"\"\"\n",
    "    BMI = round(w/(h**2),1)\n",
    "    return BMI"
   ]
  },
  {
   "cell_type": "code",
   "execution_count": 7,
   "id": "f677447b",
   "metadata": {},
   "outputs": [
    {
     "data": {
      "text/plain": [
       "27.2"
      ]
     },
     "execution_count": 7,
     "metadata": {},
     "output_type": "execute_result"
    }
   ],
   "source": [
    "BMI_calc(1.8, 88)"
   ]
  },
  {
   "cell_type": "code",
   "execution_count": 8,
   "id": "7e4c5bc3",
   "metadata": {},
   "outputs": [
    {
     "data": {
      "text/plain": [
       "<function __main__.<lambda>(ht, wt)>"
      ]
     },
     "execution_count": 8,
     "metadata": {},
     "output_type": "execute_result"
    }
   ],
   "source": [
    "# create the BMI function using lambda\n",
    "\n",
    "lambda ht,wt: round(wt/(ht**2),1)"
   ]
  },
  {
   "cell_type": "code",
   "execution_count": 8,
   "id": "b2f90bab",
   "metadata": {},
   "outputs": [],
   "source": [
    "# using the lambda func\n",
    "\n",
    "bmicalc = lambda ht,wt: round(wt/(ht**2),1)"
   ]
  },
  {
   "cell_type": "code",
   "execution_count": 9,
   "id": "598e868f",
   "metadata": {},
   "outputs": [
    {
     "data": {
      "text/plain": [
       "function"
      ]
     },
     "execution_count": 9,
     "metadata": {},
     "output_type": "execute_result"
    }
   ],
   "source": [
    "type(bmicalc)"
   ]
  },
  {
   "cell_type": "code",
   "execution_count": 10,
   "id": "d7ecaac4",
   "metadata": {},
   "outputs": [
    {
     "data": {
      "text/plain": [
       "27.2"
      ]
     },
     "execution_count": 10,
     "metadata": {},
     "output_type": "execute_result"
    }
   ],
   "source": [
    "bmicalc(1.8,88)"
   ]
  },
  {
   "cell_type": "code",
   "execution_count": 10,
   "id": "fe886415",
   "metadata": {},
   "outputs": [],
   "source": [
    "# write a lambda func to compute (a+b)^2\n",
    "\n",
    "myfunc1  = lambda a,b: (a+b)**2"
   ]
  },
  {
   "cell_type": "code",
   "execution_count": 11,
   "id": "37e6d2cf",
   "metadata": {},
   "outputs": [
    {
     "data": {
      "text/plain": [
       "90000"
      ]
     },
     "execution_count": 11,
     "metadata": {},
     "output_type": "execute_result"
    }
   ],
   "source": [
    "myfunc1(100,200)"
   ]
  },
  {
   "cell_type": "code",
   "execution_count": 12,
   "id": "a6a7ca35",
   "metadata": {},
   "outputs": [
    {
     "data": {
      "text/plain": [
       "90000"
      ]
     },
     "execution_count": 12,
     "metadata": {},
     "output_type": "execute_result"
    }
   ],
   "source": [
    "a = 100\n",
    "b = 200\n",
    "myfunc1(a,b)"
   ]
  },
  {
   "cell_type": "code",
   "execution_count": 13,
   "id": "7cd39e32",
   "metadata": {},
   "outputs": [
    {
     "data": {
      "text/plain": [
       "8100"
      ]
     },
     "execution_count": 13,
     "metadata": {},
     "output_type": "execute_result"
    }
   ],
   "source": [
    "myfunc1(25,65)"
   ]
  },
  {
   "cell_type": "code",
   "execution_count": 16,
   "id": "5d48b5b7",
   "metadata": {},
   "outputs": [],
   "source": [
    "# write a func to compute to compute area of a circle\n",
    "myfunc2 = lambda r: 3.14*(r**2)"
   ]
  },
  {
   "cell_type": "code",
   "execution_count": 15,
   "id": "940046ec",
   "metadata": {},
   "outputs": [
    {
     "data": {
      "text/plain": [
       "254.34"
      ]
     },
     "execution_count": 15,
     "metadata": {},
     "output_type": "execute_result"
    }
   ],
   "source": [
    "myfunc2(9)"
   ]
  },
  {
   "cell_type": "code",
   "execution_count": 17,
   "id": "18c08ad5",
   "metadata": {},
   "outputs": [],
   "source": [
    "str1 = 'Lambda functions can have any number of arguments'\n",
    "\n",
    "# extract the words of length upto 3 in capital case into a list"
   ]
  },
  {
   "cell_type": "code",
   "execution_count": 18,
   "id": "74f13619",
   "metadata": {},
   "outputs": [
    {
     "name": "stdout",
     "output_type": "stream",
     "text": [
      "['CAN', 'ANY', 'OF']\n"
     ]
    }
   ],
   "source": [
    "k = []\n",
    "for i in str1.upper().split():\n",
    "    if(len(i) <= 3):\n",
    "        k.append(i)\n",
    "        \n",
    "print(k)"
   ]
  },
  {
   "cell_type": "code",
   "execution_count": 19,
   "id": "4b62f617",
   "metadata": {},
   "outputs": [
    {
     "data": {
      "text/plain": [
       "['CAN', 'ANY', 'OF']"
      ]
     },
     "execution_count": 19,
     "metadata": {},
     "output_type": "execute_result"
    }
   ],
   "source": [
    "# using List comprehension\n",
    "[i for i in str1.upper().split() if(len(i) <= 3)]"
   ]
  },
  {
   "cell_type": "code",
   "execution_count": 12,
   "id": "c46fa18a",
   "metadata": {},
   "outputs": [],
   "source": [
    "# using lambda func with list comprehension\n",
    "myfunc3 = lambda str1: [i for i in str1.upper().split() if(len(i) <= 3)]"
   ]
  },
  {
   "cell_type": "code",
   "execution_count": 21,
   "id": "21fd8570",
   "metadata": {},
   "outputs": [
    {
     "data": {
      "text/plain": [
       "['THE', 'OF', '3', 'IN', 'A']"
      ]
     },
     "execution_count": 21,
     "metadata": {},
     "output_type": "execute_result"
    }
   ],
   "source": [
    "myfunc3('extract the words of length upto 3 in capital case into a list')"
   ]
  },
  {
   "cell_type": "markdown",
   "id": "3ce6fcee",
   "metadata": {},
   "source": [
    "#### Use of Lambda Function\n",
    "+ Use lambda functions when you require a nameless function for a short period of time.\n",
    "+ Lambda functions are used along with built-in functions like **`filter(), map()`** etc.\n",
    "\n",
    "#### Using with filter()\n",
    "The **filter()** function in Python takes in **a function** and **a list** as arguments.\n",
    "\n",
    "The function is called with all the items in the list and a new list is returned which contains items for which the function evaluates to `True`."
   ]
  },
  {
   "cell_type": "code",
   "execution_count": 23,
   "id": "a7ccb923",
   "metadata": {},
   "outputs": [
    {
     "name": "stdout",
     "output_type": "stream",
     "text": [
      "[6, 12, 18, 24, 30, 36, 42, 48, 54, 60, 66, 72, 78, 84, 90, 96]\n"
     ]
    }
   ],
   "source": [
    "# find the numbers divisble by 6 between 1 to 100\n",
    "\n",
    "# regular approach\n",
    "k = []\n",
    "\n",
    "for i in range(1,101):\n",
    "    if(i%6 == 0):\n",
    "        k.append(i)\n",
    "        \n",
    "print(k)"
   ]
  },
  {
   "cell_type": "code",
   "execution_count": 24,
   "id": "18066cb0",
   "metadata": {},
   "outputs": [
    {
     "data": {
      "text/plain": [
       "<filter at 0x18a687fce80>"
      ]
     },
     "execution_count": 24,
     "metadata": {},
     "output_type": "execute_result"
    }
   ],
   "source": [
    "# using filter and lambda\n",
    "\n",
    "filter(lambda i: i%6==0, range(1,101))"
   ]
  },
  {
   "cell_type": "code",
   "execution_count": 25,
   "id": "d54cda2a",
   "metadata": {},
   "outputs": [
    {
     "name": "stdout",
     "output_type": "stream",
     "text": [
      "[6, 12, 18, 24, 30, 36, 42, 48, 54, 60, 66, 72, 78, 84, 90, 96]\n"
     ]
    }
   ],
   "source": [
    "print(list(filter(lambda i: i%6==0, range(1,101))))"
   ]
  },
  {
   "cell_type": "code",
   "execution_count": 26,
   "id": "a7005526",
   "metadata": {},
   "outputs": [
    {
     "data": {
      "text/plain": [
       "[6, 12, 18, 24, 30, 36, 42, 48, 54, 60, 66, 72, 78, 84, 90, 96]"
      ]
     },
     "execution_count": 26,
     "metadata": {},
     "output_type": "execute_result"
    }
   ],
   "source": [
    "# same function with list comprehension\n",
    "[i for i in range(1,101) if(i%6==0)]"
   ]
  },
  {
   "cell_type": "code",
   "execution_count": 27,
   "id": "4f668b44",
   "metadata": {},
   "outputs": [],
   "source": [
    "# same function with list comprehension & lambda\n",
    "myfunc4 = lambda x: [i for i in x if(i%6==0)]"
   ]
  },
  {
   "cell_type": "code",
   "execution_count": 28,
   "id": "d2579a32",
   "metadata": {},
   "outputs": [
    {
     "name": "stdout",
     "output_type": "stream",
     "text": [
      "[6, 12, 18, 24, 30, 36, 42, 48, 54, 60, 66, 72, 78, 84, 90, 96]\n"
     ]
    }
   ],
   "source": [
    "print(myfunc4(range(1,101)))"
   ]
  },
  {
   "cell_type": "markdown",
   "id": "f4142551",
   "metadata": {},
   "source": [
    "### Using with map()\n",
    "The **map()** function in Python takes in a **function** and a **list** as arguments.\n",
    "\n",
    "The function is called with all the items in the list and a object is returned (can be converted into list) which contains items returned by that function expression for each item.\n",
    "\n"
   ]
  },
  {
   "cell_type": "code",
   "execution_count": 29,
   "id": "72a9be1d",
   "metadata": {},
   "outputs": [
    {
     "name": "stdout",
     "output_type": "stream",
     "text": [
      "['LAMBDA', 'FUNCTIONS', 'CAN', 'HAVE', 'ANY', 'NUMBER', 'OF', 'ARGUMENTS']\n"
     ]
    }
   ],
   "source": [
    "str1 = 'Lambda functions can have any number of arguments'\n",
    "\n",
    "# convert the string into a list of UPPER CASE words\n",
    "\n",
    "k = []\n",
    "for i in str1.split():\n",
    "    k.append(i.upper())\n",
    "print(k)"
   ]
  },
  {
   "cell_type": "code",
   "execution_count": 30,
   "id": "b53baacf",
   "metadata": {},
   "outputs": [
    {
     "data": {
      "text/plain": [
       "['LAMBDA', 'FUNCTIONS', 'CAN', 'HAVE', 'ANY', 'NUMBER', 'OF', 'ARGUMENTS']"
      ]
     },
     "execution_count": 30,
     "metadata": {},
     "output_type": "execute_result"
    }
   ],
   "source": [
    "# using lambda & map\n",
    "\n",
    "list(map(lambda x: x.upper(), str1.split()))"
   ]
  },
  {
   "cell_type": "code",
   "execution_count": 31,
   "id": "bc063a32",
   "metadata": {},
   "outputs": [
    {
     "data": {
      "text/plain": [
       "[1, 8, 27, 64, 125, 216, 343, 512, 729, 1000]"
      ]
     },
     "execution_count": 31,
     "metadata": {},
     "output_type": "execute_result"
    }
   ],
   "source": [
    "# get the cubes of numbers 1 to 10\n",
    "\n",
    "list(map(lambda x: x**3, range(1,11)))"
   ]
  },
  {
   "cell_type": "code",
   "execution_count": 32,
   "id": "1f860ad5",
   "metadata": {},
   "outputs": [],
   "source": [
    "mystr1 = '''Python is meant to be an easily readable language. \n",
    "Its formatting is visually uncluttered and often uses \n",
    "English keywords where other languages use punctuation. \n",
    "Unlike many other languages, it does not use curly brackets \n",
    "to delimit blocks, and semicolons after statements are \n",
    "allowed but rarely used. It has fewer syntactic exceptions \n",
    "nd special cases than C or Pascal.[83]'''"
   ]
  },
  {
   "cell_type": "code",
   "execution_count": 33,
   "id": "e6ed9986",
   "metadata": {},
   "outputs": [
    {
     "name": "stdout",
     "output_type": "stream",
     "text": [
      "uncluttered\n",
      "uses\n",
      "use\n",
      "Unlike\n",
      "use\n",
      "used.\n"
     ]
    }
   ],
   "source": [
    "for i in mystr1.split():\n",
    "    if(i.lower().startswith('u')):\n",
    "        print(i)"
   ]
  },
  {
   "cell_type": "code",
   "execution_count": 34,
   "id": "2db11580",
   "metadata": {},
   "outputs": [
    {
     "name": "stdout",
     "output_type": "stream",
     "text": [
      "language.\n",
      "visually\n",
      "uncluttered\n",
      "uses\n",
      "languages\n",
      "use\n",
      "punctuation.\n",
      "Unlike\n",
      "languages,\n",
      "use\n",
      "curly\n",
      "but\n",
      "used.\n"
     ]
    }
   ],
   "source": [
    "for i in mystr1.split():\n",
    "    if(i.lower().find('u') != -1):\n",
    "        print(i)"
   ]
  },
  {
   "cell_type": "code",
   "execution_count": 35,
   "id": "9ba1fdae",
   "metadata": {},
   "outputs": [
    {
     "name": "stdout",
     "output_type": "stream",
     "text": [
      "is\n",
      "Its\n",
      "is\n",
      "uses\n",
      "keywords\n",
      "languages\n",
      "does\n",
      "brackets\n",
      "semicolons\n",
      "statements\n",
      "has\n",
      "exceptions\n",
      "cases\n"
     ]
    }
   ],
   "source": [
    "for i in mystr1.split():\n",
    "    if(i.lower().endswith('s')):\n",
    "        print(i)"
   ]
  },
  {
   "cell_type": "markdown",
   "id": "3e31c8e7",
   "metadata": {},
   "source": [
    "### Python Modules\n",
    "##### What are modules in Python?\n",
    "In Python, Modules are simply files with the “.py” extension containing Python code that can be imported inside another Python Program.\n",
    "\n",
    "A file containing Python code, for example: example.py, is called a module, and its module name would be example.\n",
    "\n",
    "+ We use modules to break down large programs into small manageable and organized files. Furthermore, modules provide reusability of code.\n",
    "\n",
    "+ We can define our most used functions in a module and import it, instead of copying their definitions into different programs."
   ]
  },
  {
   "cell_type": "markdown",
   "id": "23cba18e",
   "metadata": {},
   "source": [
    "##### How to create Python Modules?\n",
    "Create a function and save it in a file with the extension \".py\".\n",
    "\n"
   ]
  },
  {
   "cell_type": "code",
   "execution_count": 37,
   "id": "993927ef",
   "metadata": {},
   "outputs": [],
   "source": [
    "# Create a function to return the vowel count from a given input string\n",
    "\n",
    "str1 = 'Python is meant to be an easily readable language.'\n",
    "\n",
    "def vowel_count(str1):\n",
    "    vowels = ['a', 'e', 'i', 'o', 'u']\n",
    "    vowelcount = 0\n",
    "    for i in str1.lower().split():\n",
    "        for j in i:        \n",
    "            if(j in vowels):\n",
    "                vowelcount = vowelcount+1\n",
    "\n",
    "    print(vowelcount)"
   ]
  },
  {
   "cell_type": "code",
   "execution_count": 38,
   "id": "ec86c1ad",
   "metadata": {},
   "outputs": [
    {
     "name": "stdout",
     "output_type": "stream",
     "text": [
      "18\n"
     ]
    },
    {
     "ename": "NameError",
     "evalue": "name 'monthly_emi' is not defined",
     "output_type": "error",
     "traceback": [
      "\u001b[1;31m---------------------------------------------------------------------------\u001b[0m",
      "\u001b[1;31mNameError\u001b[0m                                 Traceback (most recent call last)",
      "Input \u001b[1;32mIn [38]\u001b[0m, in \u001b[0;36m<cell line: 5>\u001b[1;34m()\u001b[0m\n\u001b[0;32m      3\u001b[0m vowel_count(str1)\n\u001b[0;32m      4\u001b[0m BMI_calc(\u001b[38;5;241m1.8\u001b[39m, \u001b[38;5;241m88\u001b[39m)\n\u001b[1;32m----> 5\u001b[0m \u001b[43mmonthly_emi\u001b[49m(\u001b[38;5;241m15000\u001b[39m,\u001b[38;5;241m12\u001b[39m,\u001b[38;5;241m15\u001b[39m)\n\u001b[0;32m      6\u001b[0m discount_calc(\u001b[38;5;241m1599\u001b[39m,\u001b[38;5;241m12\u001b[39m)\n",
      "\u001b[1;31mNameError\u001b[0m: name 'monthly_emi' is not defined"
     ]
    }
   ],
   "source": [
    "# let us create a module with the below functions\n",
    "\n",
    "vowel_count(str1)\n",
    "BMI_calc(1.8, 88)\n",
    "monthly_emi(15000,12,15)\n",
    "discount_calc(1599,12)"
   ]
  },
  {
   "cell_type": "markdown",
   "id": "8aba1a3e",
   "metadata": {},
   "source": [
    "#### How to use Python Modules?\n",
    "Python modules are used with the keyword `import`.\n",
    "\n",
    "`import modulename`\n",
    "\n",
    "Use the required function as -\n",
    "\n",
    "`module_name.function_name`\n",
    "\n",
    "Importing all names -\n",
    "\n",
    "`from module_name import *`\n",
    "\n",
    "Import with renaming\n",
    "\n",
    "`import module_name as xyz`"
   ]
  },
  {
   "cell_type": "code",
   "execution_count": 39,
   "id": "f68d7d3c",
   "metadata": {},
   "outputs": [
    {
     "ename": "ModuleNotFoundError",
     "evalue": "No module named 'MyModule_20221105'",
     "output_type": "error",
     "traceback": [
      "\u001b[1;31m---------------------------------------------------------------------------\u001b[0m",
      "\u001b[1;31mModuleNotFoundError\u001b[0m                       Traceback (most recent call last)",
      "Input \u001b[1;32mIn [39]\u001b[0m, in \u001b[0;36m<cell line: 1>\u001b[1;34m()\u001b[0m\n\u001b[1;32m----> 1\u001b[0m \u001b[38;5;28;01mimport\u001b[39;00m \u001b[38;5;21;01mMyModule_20221105\u001b[39;00m\n",
      "\u001b[1;31mModuleNotFoundError\u001b[0m: No module named 'MyModule_20221105'"
     ]
    }
   ],
   "source": [
    "import MyModule_20221105"
   ]
  },
  {
   "cell_type": "markdown",
   "id": "1a60cad9",
   "metadata": {},
   "source": [
    "### Python default directory"
   ]
  },
  {
   "cell_type": "code",
   "execution_count": 41,
   "id": "7ded2aa7",
   "metadata": {},
   "outputs": [],
   "source": [
    "# important root directories for Python\n",
    "\n",
    "# import a library - \"sys\"\n",
    "\n",
    "import sys"
   ]
  },
  {
   "cell_type": "code",
   "execution_count": 42,
   "id": "42fb7915",
   "metadata": {},
   "outputs": [
    {
     "name": "stdout",
     "output_type": "stream",
     "text": [
      "['__breakpointhook__', '__displayhook__', '__doc__', '__excepthook__', '__interactivehook__', '__loader__', '__name__', '__package__', '__spec__', '__stderr__', '__stdin__', '__stdout__', '__unraisablehook__', '_base_executable', '_clear_type_cache', '_current_frames', '_debugmallocstats', '_enablelegacywindowsfsencoding', '_framework', '_getframe', '_git', '_home', '_xoptions', 'addaudithook', 'api_version', 'argv', 'audit', 'base_exec_prefix', 'base_prefix', 'breakpointhook', 'builtin_module_names', 'byteorder', 'call_tracing', 'copyright', 'displayhook', 'dllhandle', 'dont_write_bytecode', 'exc_info', 'excepthook', 'exec_prefix', 'executable', 'exit', 'flags', 'float_info', 'float_repr_style', 'get_asyncgen_hooks', 'get_coroutine_origin_tracking_depth', 'getallocatedblocks', 'getdefaultencoding', 'getfilesystemencodeerrors', 'getfilesystemencoding', 'getprofile', 'getrecursionlimit', 'getrefcount', 'getsizeof', 'getswitchinterval', 'gettrace', 'getwindowsversion', 'hash_info', 'hexversion', 'implementation', 'int_info', 'intern', 'is_finalizing', 'last_traceback', 'last_type', 'last_value', 'maxsize', 'maxunicode', 'meta_path', 'modules', 'path', 'path_hooks', 'path_importer_cache', 'platform', 'platlibdir', 'prefix', 'ps1', 'ps2', 'ps3', 'pycache_prefix', 'set_asyncgen_hooks', 'set_coroutine_origin_tracking_depth', 'setprofile', 'setrecursionlimit', 'setswitchinterval', 'settrace', 'stderr', 'stdin', 'stdout', 'thread_info', 'unraisablehook', 'version', 'version_info', 'warnoptions', 'winver']\n"
     ]
    }
   ],
   "source": [
    "print(dir(sys))"
   ]
  },
  {
   "cell_type": "code",
   "execution_count": 43,
   "id": "337c61f5",
   "metadata": {},
   "outputs": [
    {
     "data": {
      "text/plain": [
       "['C:\\\\Users\\\\HP PC\\\\Data Science course\\\\Python Programmig',\n",
       " 'E:\\\\Innomatics data sci\\\\python39.zip',\n",
       " 'E:\\\\Innomatics data sci\\\\DLLs',\n",
       " 'E:\\\\Innomatics data sci\\\\lib',\n",
       " 'E:\\\\Innomatics data sci',\n",
       " '',\n",
       " 'E:\\\\Innomatics data sci\\\\lib\\\\site-packages',\n",
       " 'E:\\\\Innomatics data sci\\\\lib\\\\site-packages\\\\win32',\n",
       " 'E:\\\\Innomatics data sci\\\\lib\\\\site-packages\\\\win32\\\\lib',\n",
       " 'E:\\\\Innomatics data sci\\\\lib\\\\site-packages\\\\Pythonwin']"
      ]
     },
     "execution_count": 43,
     "metadata": {},
     "output_type": "execute_result"
    }
   ],
   "source": [
    "sys.path"
   ]
  },
  {
   "cell_type": "code",
   "execution_count": 44,
   "id": "f8c48f59",
   "metadata": {},
   "outputs": [],
   "source": [
    "# import another library \"os\"\n",
    "\n",
    "import os"
   ]
  },
  {
   "cell_type": "code",
   "execution_count": 47,
   "id": "14124ced",
   "metadata": {},
   "outputs": [
    {
     "name": "stdout",
     "output_type": "stream",
     "text": [
      "C:\\Users\\HP PC\\Data Science course\\Python Programmig\n"
     ]
    }
   ],
   "source": [
    "# get the current working directory with the help of \"os\" module\n",
    "print(os.getcwd())"
   ]
  },
  {
   "cell_type": "code",
   "execution_count": 46,
   "id": "fdd18145",
   "metadata": {},
   "outputs": [
    {
     "ename": "FileNotFoundError",
     "evalue": "[WinError 2] The system cannot find the file specified: 'C:\\\\Data'",
     "output_type": "error",
     "traceback": [
      "\u001b[1;31m---------------------------------------------------------------------------\u001b[0m",
      "\u001b[1;31mFileNotFoundError\u001b[0m                         Traceback (most recent call last)",
      "Input \u001b[1;32mIn [46]\u001b[0m, in \u001b[0;36m<cell line: 2>\u001b[1;34m()\u001b[0m\n\u001b[0;32m      1\u001b[0m \u001b[38;5;66;03m# change your default directory\u001b[39;00m\n\u001b[1;32m----> 2\u001b[0m \u001b[43mos\u001b[49m\u001b[38;5;241;43m.\u001b[39;49m\u001b[43mchdir\u001b[49m\u001b[43m(\u001b[49m\u001b[38;5;124;43mr\u001b[39;49m\u001b[38;5;124;43m'\u001b[39;49m\u001b[38;5;124;43mC:\u001b[39;49m\u001b[38;5;124;43m\\\u001b[39;49m\u001b[38;5;124;43mData\u001b[39;49m\u001b[38;5;124;43m'\u001b[39;49m\u001b[43m)\u001b[49m\n",
      "\u001b[1;31mFileNotFoundError\u001b[0m: [WinError 2] The system cannot find the file specified: 'C:\\\\Data'"
     ]
    }
   ],
   "source": [
    "# change your default directory\n",
    "os.chdir(r'C:\\Data')"
   ]
  },
  {
   "cell_type": "code",
   "execution_count": 48,
   "id": "47beabd8",
   "metadata": {},
   "outputs": [
    {
     "name": "stdout",
     "output_type": "stream",
     "text": [
      "['.ipynb_checkpoints', '01 python program.ipynb', '02_python data structure.ipynb', '03 Python Condition Statements, loops & Control Statements.ipynb', '04 Python Function.ipynb', 'Assignments', 'practice 1.ipynb', 'Untitled1.ipynb']\n"
     ]
    }
   ],
   "source": [
    "print(os.listdir())\n",
    "# Return a list containing the names of the files in the directory.\n"
   ]
  },
  {
   "cell_type": "markdown",
   "id": "ae263aa0",
   "metadata": {},
   "source": [
    "#### After changing the default directory, try importing your module"
   ]
  },
  {
   "cell_type": "code",
   "execution_count": 50,
   "id": "fc9e4918",
   "metadata": {},
   "outputs": [
    {
     "ename": "ModuleNotFoundError",
     "evalue": "No module named 'MyModule_20221105'",
     "output_type": "error",
     "traceback": [
      "\u001b[1;31m---------------------------------------------------------------------------\u001b[0m",
      "\u001b[1;31mModuleNotFoundError\u001b[0m                       Traceback (most recent call last)",
      "Input \u001b[1;32mIn [50]\u001b[0m, in \u001b[0;36m<cell line: 3>\u001b[1;34m()\u001b[0m\n\u001b[0;32m      1\u001b[0m \u001b[38;5;66;03m# importing a module only\u001b[39;00m\n\u001b[0;32m      2\u001b[0m \u001b[38;5;66;03m# when you import a module only, to use a function, you need to specify modulename.funcname\u001b[39;00m\n\u001b[1;32m----> 3\u001b[0m \u001b[38;5;28;01mimport\u001b[39;00m \u001b[38;5;21;01mMyModule_20221105\u001b[39;00m\n",
      "\u001b[1;31mModuleNotFoundError\u001b[0m: No module named 'MyModule_20221105'"
     ]
    }
   ],
   "source": [
    "# importing a module only\n",
    "# when you import a module only, to use a function, you need to specify modulename.funcname\n",
    "import MyModule_20221105"
   ]
  },
  {
   "cell_type": "code",
   "execution_count": 51,
   "id": "dfec1c36",
   "metadata": {},
   "outputs": [
    {
     "ename": "NameError",
     "evalue": "name 'MyModule_20221105' is not defined",
     "output_type": "error",
     "traceback": [
      "\u001b[1;31m---------------------------------------------------------------------------\u001b[0m",
      "\u001b[1;31mNameError\u001b[0m                                 Traceback (most recent call last)",
      "Input \u001b[1;32mIn [51]\u001b[0m, in \u001b[0;36m<cell line: 1>\u001b[1;34m()\u001b[0m\n\u001b[1;32m----> 1\u001b[0m \u001b[38;5;28mprint\u001b[39m(\u001b[38;5;28mdir\u001b[39m(\u001b[43mMyModule_20221105\u001b[49m))\n",
      "\u001b[1;31mNameError\u001b[0m: name 'MyModule_20221105' is not defined"
     ]
    }
   ],
   "source": [
    "print(dir(MyModule_20221105))"
   ]
  },
  {
   "cell_type": "code",
   "execution_count": 52,
   "id": "8d7a51ac",
   "metadata": {},
   "outputs": [
    {
     "ename": "NameError",
     "evalue": "name 'MyModule_20221105' is not defined",
     "output_type": "error",
     "traceback": [
      "\u001b[1;31m---------------------------------------------------------------------------\u001b[0m",
      "\u001b[1;31mNameError\u001b[0m                                 Traceback (most recent call last)",
      "Input \u001b[1;32mIn [52]\u001b[0m, in \u001b[0;36m<cell line: 2>\u001b[1;34m()\u001b[0m\n\u001b[0;32m      1\u001b[0m \u001b[38;5;66;03m# use a function from your module\u001b[39;00m\n\u001b[1;32m----> 2\u001b[0m \u001b[43mMyModule_20221105\u001b[49m\u001b[38;5;241m.\u001b[39mBMI_calc(\u001b[38;5;241m1.88\u001b[39m, \u001b[38;5;241m85\u001b[39m)\n\u001b[0;32m      3\u001b[0m \u001b[38;5;241m24.0\u001b[39m\n",
      "\u001b[1;31mNameError\u001b[0m: name 'MyModule_20221105' is not defined"
     ]
    }
   ],
   "source": [
    "# use a function from your module\n",
    "MyModule_20221105.BMI_calc(1.88, 85)\n",
    "24.0"
   ]
  },
  {
   "cell_type": "code",
   "execution_count": 54,
   "id": "13c054c8",
   "metadata": {},
   "outputs": [
    {
     "name": "stdout",
     "output_type": "stream",
     "text": [
      "s3transfer                    0.5.0\n",
      "scikit-image                  0.19.2\n",
      "scikit-learn                  1.0.2\n",
      "scikit-learn-intelex          2021.20220215.102710\n",
      "scipy                         1.7.3\n",
      "Scrapy                        2.6.1\n",
      "seaborn                       0.11.2\n",
      "Send2Trash                    1.8.0\n",
      "service-identity              18.1.0\n",
      "setuptools                    61.2.0\n",
      "sip                           4.19.13\n",
      "six                           1.16.0\n",
      "smart-open                    5.1.0\n",
      "sniffio                       1.2.0\n",
      "snowballstemmer               2.2.0\n",
      "sortedcollections             2.1.0\n",
      "sortedcontainers              2.4.0\n",
      "soupsieve                     2.3.1\n",
      "Sphinx                        4.4.0\n",
      "sphinxcontrib-applehelp       1.0.2\n",
      "sphinxcontrib-devhelp         1.0.2\n",
      "sphinxcontrib-htmlhelp        2.0.0\n",
      "sphinxcontrib-jsmath          1.0.1\n",
      "sphinxcontrib-qthelp          1.0.3\n",
      "sphinxcontrib-serializinghtml 1.1.5\n",
      "spyder                        5.1.5\n",
      "spyder-kernels                2.1.3\n",
      "SQLAlchemy                    1.4.32\n",
      "stack-data                    0.2.0\n",
      "statsmodels                   0.13.2\n",
      "sympy                         1.10.1\n",
      "tables                        3.6.1\n",
      "tabulate                      0.8.9\n",
      "TBB                           0.2\n",
      "tblib                         1.7.0\n",
      "tenacity                      8.0.1\n",
      "terminado                     0.13.1\n",
      "testpath                      0.5.0\n",
      "text-unidecode                1.3\n",
      "textdistance                  4.2.1\n",
      "threadpoolctl                 2.2.0\n",
      "three-merge                   0.1.1\n",
      "tifffile                      2021.7.2\n",
      "tinycss                       0.4\n",
      "tldextract                    3.2.0\n",
      "toml                          0.10.2\n",
      "tomli                         1.2.2\n",
      "toolz                         0.11.2\n",
      "tornado                       6.1\n",
      "tqdm                          4.64.0\n",
      "traitlets                     5.1.1\n",
      "Twisted                       22.2.0\n",
      "twisted-iocpsupport           1.0.2\n",
      "typed-ast                     1.4.3\n",
      "typing_extensions             4.1.1\n",
      "ujson                         5.1.0\n",
      "Unidecode                     1.2.0\n",
      "urllib3                       1.26.9\n",
      "w3lib                         1.21.0\n",
      "watchdog                      2.1.6\n",
      "wcwidth                       0.2.5\n",
      "webencodings                  0.5.1\n",
      "websocket-client              0.58.0\n",
      "Werkzeug                      2.0.3\n",
      "wheel                         0.37.1\n",
      "widgetsnbextension            3.5.2\n",
      "win-inet-pton                 1.1.0\n",
      "win-unicode-console           0.5\n",
      "wincertstore                  0.2\n",
      "wrapt                         1.12.1\n",
      "xarray                        0.20.1\n",
      "xlrd                          2.0.1\n",
      "XlsxWriter                    3.0.3\n",
      "xlwings                       0.24.9\n",
      "yapf                          0.31.0\n",
      "yarl                          1.6.3\n",
      "zict                          2.0.0\n",
      "zipp                          3.7.0\n",
      "zope.interface                5.4.0\n",
      "Package                       VersionNote: you may need to restart the kernel to use updated packages.\n",
      "----------------------------- --------------------\n",
      "aiohttp                       3.8.1\n",
      "aiosignal                     1.2.0\n",
      "alabaster                     0.7.12\n",
      "anaconda-client               1.9.0\n",
      "anaconda-navigator            2.1.4\n",
      "anaconda-project              0.10.2\n",
      "anyio                         3.5.0\n",
      "appdirs                       1.4.4\n",
      "argon2-cffi                   21.3.0\n",
      "argon2-cffi-bindings          21.2.0\n",
      "arrow                         1.2.2\n",
      "astroid                       2.6.6\n",
      "astropy                       5.0.4\n",
      "asttokens                     2.0.5\n",
      "async-timeout                 4.0.1\n",
      "atomicwrites                  1.4.0\n",
      "attrs                         21.4.0\n",
      "Automat                       20.2.0\n",
      "autopep8                      1.6.0\n",
      "Babel                         2.9.1\n",
      "backcall                      0.2.0\n",
      "backports.functools-lru-cache 1.6.4\n",
      "backports.tempfile            1.0\n",
      "backports.weakref             1.0.post1\n",
      "bcrypt                        3.2.0\n",
      "beautifulsoup4                4.11.1\n",
      "binaryornot                   0.4.4\n",
      "\n",
      "bitarray                      2.4.1\n",
      "bkcharts                      0.2\n",
      "black                         19.10b0\n",
      "bleach                        4.1.0\n",
      "bokeh                         2.4.2\n",
      "boto3                         1.21.32\n",
      "botocore                      1.24.32\n",
      "Bottleneck                    1.3.4\n",
      "brotlipy                      0.7.0\n",
      "cachetools                    4.2.2\n",
      "certifi                       2021.10.8\n",
      "cffi                          1.15.0\n",
      "chardet                       4.0.0\n",
      "charset-normalizer            2.0.4\n",
      "click                         8.0.4\n",
      "cloudpickle                   2.0.0\n",
      "clyent                        1.2.2\n",
      "colorama                      0.4.4\n",
      "colorcet                      2.0.6\n",
      "comtypes                      1.1.10\n",
      "conda                         4.12.0\n",
      "conda-build                   3.21.8\n",
      "conda-content-trust           0+unknown\n",
      "conda-pack                    0.6.0\n",
      "conda-package-handling        1.8.1\n",
      "conda-repo-cli                1.0.4\n",
      "conda-token                   0.3.0\n",
      "conda-verify                  3.4.2\n",
      "constantly                    15.1.0\n",
      "cookiecutter                  1.7.3\n",
      "cryptography                  3.4.8\n",
      "cssselect                     1.1.0\n",
      "cycler                        0.11.0\n",
      "Cython                        0.29.28\n",
      "cytoolz                       0.11.0\n",
      "daal4py                       2021.5.0\n",
      "dask                          2022.2.1\n",
      "datashader                    0.13.0\n",
      "datashape                     0.5.4\n",
      "debugpy                       1.5.1\n",
      "decorator                     5.1.1\n",
      "defusedxml                    0.7.1\n",
      "diff-match-patch              20200713\n",
      "distributed                   2022.2.1\n",
      "docutils                      0.17.1\n",
      "entrypoints                   0.4\n",
      "et-xmlfile                    1.1.0\n",
      "executing                     0.8.3\n",
      "fastjsonschema                2.15.1\n",
      "filelock                      3.6.0\n",
      "flake8                        3.9.2\n",
      "Flask                         1.1.2\n",
      "fonttools                     4.25.0\n",
      "frozenlist                    1.2.0\n",
      "fsspec                        2022.2.0\n",
      "future                        0.18.2\n",
      "gensim                        4.1.2\n",
      "glob2                         0.7\n",
      "google-api-core               1.25.1\n",
      "google-auth                   1.33.0\n",
      "google-cloud-core             1.7.1\n",
      "google-cloud-storage          1.31.0\n",
      "google-crc32c                 1.1.2\n",
      "google-resumable-media        1.3.1\n",
      "googleapis-common-protos      1.53.0\n",
      "greenlet                      1.1.1\n",
      "grpcio                        1.42.0\n",
      "h5py                          3.6.0\n",
      "HeapDict                      1.0.1\n",
      "holoviews                     1.14.8\n",
      "hvplot                        0.7.3\n",
      "hyperlink                     21.0.0\n",
      "idna                          3.3\n",
      "imagecodecs                   2021.8.26\n",
      "imageio                       2.9.0\n",
      "imagesize                     1.3.0\n",
      "importlib-metadata            4.11.3\n",
      "incremental                   21.3.0\n",
      "inflection                    0.5.1\n",
      "iniconfig                     1.1.1\n",
      "intake                        0.6.5\n",
      "intervaltree                  3.1.0\n",
      "ipykernel                     6.9.1\n",
      "ipython                       8.2.0\n",
      "ipython-genutils              0.2.0\n",
      "ipywidgets                    7.6.5\n",
      "isort                         5.9.3\n",
      "itemadapter                   0.3.0\n",
      "itemloaders                   1.0.4\n",
      "itsdangerous                  2.0.1\n",
      "jdcal                         1.4.1\n",
      "jedi                          0.18.1\n",
      "Jinja2                        2.11.3\n",
      "jinja2-time                   0.2.0\n",
      "jmespath                      0.10.0\n",
      "joblib                        1.1.0\n",
      "json5                         0.9.6\n",
      "jsonschema                    4.4.0\n",
      "jupyter                       1.0.0\n",
      "jupyter-client                6.1.12\n",
      "jupyter-console               6.4.0\n",
      "jupyter-core                  4.9.2\n",
      "jupyter-server                1.13.5\n",
      "jupyterlab                    3.3.2\n",
      "jupyterlab-pygments           0.1.2\n",
      "jupyterlab-server             2.10.3\n",
      "jupyterlab-widgets            1.0.0\n",
      "keyring                       23.4.0\n",
      "kiwisolver                    1.3.2\n",
      "lazy-object-proxy             1.6.0\n",
      "libarchive-c                  2.9\n",
      "llvmlite                      0.38.0\n",
      "locket                        0.2.1\n",
      "lxml                          4.8.0\n",
      "Markdown                      3.3.4\n",
      "MarkupSafe                    2.0.1\n",
      "matplotlib                    3.5.1\n",
      "matplotlib-inline             0.1.2\n",
      "mccabe                        0.6.1\n",
      "menuinst                      1.4.18\n",
      "mistune                       0.8.4\n",
      "mkl-fft                       1.3.1\n",
      "mkl-random                    1.2.2\n",
      "mkl-service                   2.4.0\n",
      "mock                          4.0.3\n",
      "mpmath                        1.2.1\n",
      "msgpack                       1.0.2\n",
      "multidict                     5.1.0\n",
      "multipledispatch              0.6.0\n",
      "munkres                       1.1.4\n",
      "mypy-extensions               0.4.3\n",
      "navigator-updater             0.2.1\n",
      "nbclassic                     0.3.5\n",
      "nbclient                      0.5.13\n",
      "nbconvert                     6.4.4\n",
      "nbformat                      5.3.0\n",
      "nest-asyncio                  1.5.5\n",
      "networkx                      2.7.1\n",
      "nltk                          3.7\n",
      "nose                          1.3.7\n",
      "notebook                      6.4.8\n",
      "numba                         0.55.1\n",
      "numexpr                       2.8.1\n",
      "numpy                         1.21.5\n",
      "numpydoc                      1.2\n",
      "olefile                       0.46\n",
      "openpyxl                      3.0.9\n",
      "packaging                     21.3\n",
      "pandas                        1.4.2\n",
      "pandocfilters                 1.5.0\n",
      "panel                         0.13.0\n",
      "param                         1.12.0\n",
      "paramiko                      2.8.1\n",
      "parsel                        1.6.0\n",
      "parso                         0.8.3\n",
      "partd                         1.2.0\n",
      "pathspec                      0.7.0\n",
      "patsy                         0.5.2\n",
      "pep8                          1.7.1\n",
      "pexpect                       4.8.0\n",
      "pickleshare                   0.7.5\n",
      "Pillow                        9.0.1\n",
      "pip                           21.2.4\n",
      "pkginfo                       1.8.2\n",
      "plotly                        5.6.0\n",
      "pluggy                        1.0.0\n",
      "poyo                          0.5.0\n",
      "prometheus-client             0.13.1\n",
      "prompt-toolkit                3.0.20\n",
      "Protego                       0.1.16\n",
      "protobuf                      3.19.1\n",
      "psutil                        5.8.0\n",
      "ptyprocess                    0.7.0\n",
      "pure-eval                     0.2.2\n",
      "py                            1.11.0\n",
      "pyasn1                        0.4.8\n",
      "pyasn1-modules                0.2.8\n",
      "pycodestyle                   2.7.0\n",
      "pycosat                       0.6.3\n",
      "pycparser                     2.21\n",
      "pyct                          0.4.6\n",
      "pycurl                        7.44.1\n",
      "PyDispatcher                  2.0.5\n",
      "pydocstyle                    6.1.1\n",
      "pyerfa                        2.0.0\n",
      "pyflakes                      2.3.1\n",
      "Pygments                      2.11.2\n",
      "PyHamcrest                    2.0.2\n",
      "PyJWT                         2.1.0\n",
      "pylint                        2.9.6\n",
      "pyls-spyder                   0.4.0\n",
      "PyNaCl                        1.4.0\n",
      "pyodbc                        4.0.32\n",
      "pyOpenSSL                     21.0.0\n",
      "pyparsing                     3.0.4\n",
      "pyreadline                    2.1\n",
      "pyrsistent                    0.18.0\n",
      "PySocks                       1.7.1\n",
      "pytest                        7.1.1\n",
      "python-dateutil               2.8.2\n",
      "python-lsp-black              1.0.0\n",
      "python-lsp-jsonrpc            1.0.0\n",
      "python-lsp-server             1.2.4\n",
      "python-slugify                5.0.2\n",
      "python-snappy                 0.6.0\n",
      "pytz                          2021.3\n",
      "pyviz-comms                   2.0.2\n",
      "PyWavelets                    1.3.0\n",
      "pywin32                       302\n",
      "pywin32-ctypes                0.2.0\n",
      "pywinpty                      2.0.2\n",
      "PyYAML                        6.0\n",
      "pyzmq                         22.3.0\n",
      "QDarkStyle                    3.0.2\n",
      "qstylizer                     0.1.10\n",
      "QtAwesome                     1.0.3\n",
      "qtconsole                     5.3.0\n",
      "QtPy                          2.0.1\n",
      "queuelib                      1.5.0\n",
      "regex                         2022.3.15\n",
      "requests                      2.27.1\n",
      "requests-file                 1.5.1\n",
      "rope                          0.22.0\n",
      "rsa                           4.7.2\n",
      "Rtree                         0.9.7\n",
      "ruamel-yaml-conda             0.15.100\n",
      "s3transfer                    0.5.0\n",
      "scikit-image                  0.19.2\n",
      "scikit-learn                  1.0.2\n",
      "scikit-learn-intelex          2021.20220215.102710\n",
      "scipy                         1.7.3\n",
      "Scrapy                        2.6.1\n",
      "seaborn                       0.11.2\n",
      "Send2Trash                    1.8.0\n",
      "service-identity              18.1.0\n",
      "setuptools                    61.2.0\n",
      "sip                           4.19.13\n",
      "six                           1.16.0\n",
      "smart-open                    5.1.0\n",
      "sniffio                       1.2.0\n",
      "snowballstemmer               2.2.0\n",
      "sortedcollections             2.1.0\n",
      "sortedcontainers              2.4.0\n",
      "soupsieve                     2.3.1\n",
      "Sphinx                        4.4.0\n",
      "sphinxcontrib-applehelp       1.0.2\n",
      "sphinxcontrib-devhelp         1.0.2\n",
      "sphinxcontrib-htmlhelp        2.0.0\n",
      "sphinxcontrib-jsmath          1.0.1\n",
      "sphinxcontrib-qthelp          1.0.3\n",
      "sphinxcontrib-serializinghtml 1.1.5\n",
      "spyder                        5.1.5\n",
      "spyder-kernels                2.1.3\n",
      "SQLAlchemy                    1.4.32\n",
      "stack-data                    0.2.0\n",
      "statsmodels                   0.13.2\n",
      "sympy                         1.10.1\n",
      "tables                        3.6.1\n",
      "tabulate                      0.8.9\n",
      "TBB                           0.2\n",
      "tblib                         1.7.0\n",
      "tenacity                      8.0.1\n",
      "terminado                     0.13.1\n",
      "testpath                      0.5.0\n",
      "text-unidecode                1.3\n",
      "textdistance                  4.2.1\n",
      "threadpoolctl                 2.2.0\n",
      "three-merge                   0.1.1\n",
      "tifffile                      2021.7.2\n",
      "tinycss                       0.4\n",
      "tldextract                    3.2.0\n",
      "toml                          0.10.2\n",
      "tomli                         1.2.2\n",
      "toolz                         0.11.2\n",
      "tornado                       6.1\n",
      "tqdm                          4.64.0\n",
      "traitlets                     5.1.1\n",
      "Twisted                       22.2.0\n",
      "twisted-iocpsupport           1.0.2\n",
      "typed-ast                     1.4.3\n",
      "typing_extensions             4.1.1\n",
      "ujson                         5.1.0\n",
      "Unidecode                     1.2.0\n",
      "urllib3                       1.26.9\n",
      "w3lib                         1.21.0\n",
      "watchdog                      2.1.6\n",
      "wcwidth                       0.2.5\n",
      "webencodings                  0.5.1\n",
      "websocket-client              0.58.0\n",
      "Werkzeug                      2.0.3\n",
      "wheel                         0.37.1\n",
      "widgetsnbextension            3.5.2\n",
      "win-inet-pton                 1.1.0\n",
      "win-unicode-console           0.5\n",
      "wincertstore                  0.2\n",
      "wrapt                         1.12.1\n",
      "xarray                        0.20.1\n",
      "xlrd                          2.0.1\n",
      "XlsxWriter                    3.0.3\n",
      "xlwings                       0.24.9\n",
      "yapf                          0.31.0\n",
      "yarl                          1.6.3\n",
      "zict                          2.0.0\n",
      "zipp                          3.7.0\n",
      "zope.interface                5.4.0\n"
     ]
    }
   ],
   "source": [
    "pip list"
   ]
  },
  {
   "cell_type": "code",
   "execution_count": null,
   "id": "7fe04bca",
   "metadata": {},
   "outputs": [],
   "source": []
  }
 ],
 "metadata": {
  "kernelspec": {
   "display_name": "Python 3 (ipykernel)",
   "language": "python",
   "name": "python3"
  },
  "language_info": {
   "codemirror_mode": {
    "name": "ipython",
    "version": 3
   },
   "file_extension": ".py",
   "mimetype": "text/x-python",
   "name": "python",
   "nbconvert_exporter": "python",
   "pygments_lexer": "ipython3",
   "version": "3.9.12"
  }
 },
 "nbformat": 4,
 "nbformat_minor": 5
}
