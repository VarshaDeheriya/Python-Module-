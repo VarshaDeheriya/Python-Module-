{
 "cells": [
  {
   "cell_type": "markdown",
   "id": "5a3f6cf0",
   "metadata": {},
   "source": [
    "# DateTime in Python"
   ]
  },
  {
   "cell_type": "markdown",
   "id": "ff393391",
   "metadata": {},
   "source": [
    "### Python has a module named `datetime` to work with dates and times."
   ]
  },
  {
   "cell_type": "code",
   "execution_count": 77,
   "id": "65cc9ca6",
   "metadata": {},
   "outputs": [],
   "source": [
    "from IPython.core.interactiveshell import InteractiveShell\n",
    "InteractiveShell.ast_node_interactivity = 'all'"
   ]
  },
  {
   "cell_type": "code",
   "execution_count": 78,
   "id": "44268f9d",
   "metadata": {},
   "outputs": [],
   "source": [
    "#import the module\n",
    "\n",
    "import datetime"
   ]
  },
  {
   "cell_type": "code",
   "execution_count": 79,
   "id": "0f728885",
   "metadata": {},
   "outputs": [
    {
     "data": {
      "text/plain": [
       "module"
      ]
     },
     "execution_count": 79,
     "metadata": {},
     "output_type": "execute_result"
    }
   ],
   "source": [
    "type(datetime)"
   ]
  },
  {
   "cell_type": "code",
   "execution_count": 80,
   "id": "017bfc7d",
   "metadata": {},
   "outputs": [
    {
     "name": "stdout",
     "output_type": "stream",
     "text": [
      "['MAXYEAR', 'MINYEAR', '__all__', '__builtins__', '__cached__', '__doc__', '__file__', '__loader__', '__name__', '__package__', '__spec__', 'date', 'datetime', 'datetime_CAPI', 'sys', 'time', 'timedelta', 'timezone', 'tzinfo']\n"
     ]
    }
   ],
   "source": [
    "# check the contents/functions available in the module\n",
    "print(dir(datetime))"
   ]
  },
  {
   "cell_type": "markdown",
   "id": "08c90a66",
   "metadata": {},
   "source": [
    "Module\n",
    "\n",
    "+ Functions\n",
    "+ Classes\n",
    "    - methods\n",
    "\n",
    "A method is nothing but a function, that does a specific task but it resides inside a class.\n",
    "\n",
    "To access a function:\n",
    "+ modulename.functionname\n",
    "\n",
    "To access a method:\n",
    "+ modulename.classname.method\n",
    "\n",
    "Frequently used classes from datetime module are:\n",
    "+ date Class\n",
    "+ time Class\n",
    "+ datetime Class `# the class name is same as module name`\n",
    "+ timedelta Class"
   ]
  },
  {
   "cell_type": "code",
   "execution_count": 7,
   "id": "cfff1cfa",
   "metadata": {},
   "outputs": [
    {
     "name": "stdout",
     "output_type": "stream",
     "text": [
      "['__add__', '__class__', '__delattr__', '__dir__', '__doc__', '__eq__', '__format__', '__ge__', '__getattribute__', '__gt__', '__hash__', '__init__', '__init_subclass__', '__le__', '__lt__', '__ne__', '__new__', '__radd__', '__reduce__', '__reduce_ex__', '__repr__', '__rsub__', '__setattr__', '__sizeof__', '__str__', '__sub__', '__subclasshook__', 'ctime', 'day', 'fromisocalendar', 'fromisoformat', 'fromordinal', 'fromtimestamp', 'isocalendar', 'isoformat', 'isoweekday', 'max', 'min', 'month', 'replace', 'resolution', 'strftime', 'timetuple', 'today', 'toordinal', 'weekday', 'year']\n"
     ]
    }
   ],
   "source": [
    "# check the contents of a class\n",
    "print(dir(datetime.date))"
   ]
  },
  {
   "cell_type": "code",
   "execution_count": 4,
   "id": "aa36def9",
   "metadata": {},
   "outputs": [
    {
     "data": {
      "text/plain": [
       "type"
      ]
     },
     "execution_count": 4,
     "metadata": {},
     "output_type": "execute_result"
    }
   ],
   "source": [
    "type(datetime.date) # class is nothing but a type"
   ]
  },
  {
   "cell_type": "code",
   "execution_count": 47,
   "id": "9b0ef224",
   "metadata": {},
   "outputs": [
    {
     "data": {
      "text/plain": [
       "datetime.date"
      ]
     },
     "execution_count": 47,
     "metadata": {},
     "output_type": "execute_result"
    }
   ],
   "source": [
    "type(datetime.date.today())"
   ]
  },
  {
   "cell_type": "markdown",
   "id": "698a49b1",
   "metadata": {},
   "source": [
    "### Get Today's date"
   ]
  },
  {
   "cell_type": "code",
   "execution_count": 6,
   "id": "036d05e1",
   "metadata": {},
   "outputs": [
    {
     "data": {
      "text/plain": [
       "datetime.date(2022, 11, 20)"
      ]
     },
     "execution_count": 6,
     "metadata": {},
     "output_type": "execute_result"
    },
    {
     "name": "stdout",
     "output_type": "stream",
     "text": [
      "2022-11-20\n"
     ]
    }
   ],
   "source": [
    "# format is module.class.method\n",
    "# datetime\n",
    "#     date\n",
    "#       today()\n",
    "\n",
    "datetime.date.today()\n",
    "\n",
    "print(datetime.date.today()) # date format is yyyy-mm-dd"
   ]
  },
  {
   "cell_type": "code",
   "execution_count": 7,
   "id": "241168ce",
   "metadata": {},
   "outputs": [
    {
     "ename": "NameError",
     "evalue": "name 'date' is not defined",
     "output_type": "error",
     "traceback": [
      "\u001b[1;31m---------------------------------------------------------------------------\u001b[0m",
      "\u001b[1;31mNameError\u001b[0m                                 Traceback (most recent call last)",
      "Input \u001b[1;32mIn [7]\u001b[0m, in \u001b[0;36m<cell line: 1>\u001b[1;34m()\u001b[0m\n\u001b[1;32m----> 1\u001b[0m \u001b[38;5;28mprint\u001b[39m(\u001b[43mdate\u001b[49m\u001b[38;5;241m.\u001b[39mtoday())\n",
      "\u001b[1;31mNameError\u001b[0m: name 'date' is not defined"
     ]
    }
   ],
   "source": [
    "print(date.today())"
   ]
  },
  {
   "cell_type": "code",
   "execution_count": 70,
   "id": "4358f363",
   "metadata": {},
   "outputs": [],
   "source": [
    "# Let us import classes from the datetime module\n",
    "from datetime import date, datetime, time, timedelta"
   ]
  },
  {
   "cell_type": "code",
   "execution_count": 9,
   "id": "c89ad189",
   "metadata": {},
   "outputs": [
    {
     "name": "stdout",
     "output_type": "stream",
     "text": [
      "2022-11-20\n"
     ]
    }
   ],
   "source": [
    "# since we imported classes we can write class.method\n",
    "\n",
    "# today's date\n",
    "\n",
    "print(date.today())"
   ]
  },
  {
   "cell_type": "markdown",
   "id": "c98d8851",
   "metadata": {},
   "source": [
    "### Access the date components"
   ]
  },
  {
   "cell_type": "code",
   "execution_count": 10,
   "id": "1b109820",
   "metadata": {},
   "outputs": [
    {
     "name": "stdout",
     "output_type": "stream",
     "text": [
      "2022-11-20 <class 'datetime.date'>\n"
     ]
    }
   ],
   "source": [
    "tdy = date.today()\n",
    "\n",
    "print(tdy, type(tdy))"
   ]
  },
  {
   "cell_type": "code",
   "execution_count": 11,
   "id": "46e7cc07",
   "metadata": {},
   "outputs": [
    {
     "name": "stdout",
     "output_type": "stream",
     "text": [
      "20 11 2022\n"
     ]
    }
   ],
   "source": [
    "print(tdy.day, tdy.month, tdy.year)"
   ]
  },
  {
   "cell_type": "code",
   "execution_count": 12,
   "id": "21d387da",
   "metadata": {},
   "outputs": [
    {
     "name": "stdout",
     "output_type": "stream",
     "text": [
      "6\n"
     ]
    }
   ],
   "source": [
    "# get the weekday number from today()\n",
    "\n",
    "print(tdy.weekday())\n",
    "\n",
    "# Return the day of the week represented by the date.\n",
    "# Monday == 0 ... Sunday == 6"
   ]
  },
  {
   "cell_type": "markdown",
   "id": "f866d97b",
   "metadata": {},
   "source": [
    "### Get current datetime stamp"
   ]
  },
  {
   "cell_type": "code",
   "execution_count": 49,
   "id": "1845ca9a",
   "metadata": {},
   "outputs": [
    {
     "data": {
      "text/plain": [
       "datetime.datetime(2022, 11, 20, 20, 32, 35, 899027)"
      ]
     },
     "execution_count": 49,
     "metadata": {},
     "output_type": "execute_result"
    }
   ],
   "source": [
    "datetime.now()"
   ]
  },
  {
   "cell_type": "code",
   "execution_count": 69,
   "id": "6bfdbea3",
   "metadata": {},
   "outputs": [
    {
     "name": "stdout",
     "output_type": "stream",
     "text": [
      "2022-11-20 20:39:50.317299 <class 'datetime.datetime'>\n"
     ]
    }
   ],
   "source": [
    "cdts = datetime.now()\n",
    "\n",
    "print(cdts, type(cdts))"
   ]
  },
  {
   "cell_type": "markdown",
   "id": "dabf3f09",
   "metadata": {},
   "source": [
    "### Get time stamp only"
   ]
  },
  {
   "cell_type": "code",
   "execution_count": 43,
   "id": "587504dd",
   "metadata": {},
   "outputs": [
    {
     "name": "stdout",
     "output_type": "stream",
     "text": [
      "20:25:32.679789\n",
      "2022-11-20\n"
     ]
    }
   ],
   "source": [
    "# datetime class has a method \"time\" to fetch the time only\n",
    "\n",
    "print(datetime.time(cdts))\n",
    "\n",
    "print(datetime.date(cdts))"
   ]
  },
  {
   "cell_type": "code",
   "execution_count": 16,
   "id": "5038b7d7",
   "metadata": {},
   "outputs": [
    {
     "data": {
      "text/plain": [
       "datetime.date(2022, 11, 20)"
      ]
     },
     "execution_count": 16,
     "metadata": {},
     "output_type": "execute_result"
    },
    {
     "name": "stdout",
     "output_type": "stream",
     "text": [
      "2022-11-20\n"
     ]
    },
    {
     "data": {
      "text/plain": [
       "datetime.datetime(2022, 11, 20, 20, 25, 11, 587453)"
      ]
     },
     "execution_count": 16,
     "metadata": {},
     "output_type": "execute_result"
    },
    {
     "name": "stdout",
     "output_type": "stream",
     "text": [
      "2022-11-20 20:25:11.592461\n"
     ]
    },
    {
     "data": {
      "text/plain": [
       "datetime.time(20, 25, 11, 592461)"
      ]
     },
     "execution_count": 16,
     "metadata": {},
     "output_type": "execute_result"
    },
    {
     "name": "stdout",
     "output_type": "stream",
     "text": [
      "20:25:11.592461\n",
      "2022-11-20\n"
     ]
    }
   ],
   "source": [
    "date.today()\n",
    "print(date.today())\n",
    "\n",
    "datetime.now()\n",
    "print(datetime.now())\n",
    "\n",
    "cdts = datetime.now()\n",
    "datetime.time(cdts)\n",
    "print(datetime.time(cdts))\n",
    "print(datetime.date(cdts))"
   ]
  },
  {
   "cell_type": "markdown",
   "id": "f9080d12",
   "metadata": {},
   "source": [
    "### Access the time components"
   ]
  },
  {
   "cell_type": "code",
   "execution_count": 50,
   "id": "dd6240b3",
   "metadata": {},
   "outputs": [
    {
     "name": "stdout",
     "output_type": "stream",
     "text": [
      "2022-11-20 20:32:52.425129\n",
      "20\n",
      "11\n",
      "2022\n",
      "20\n",
      "32\n",
      "52\n",
      "425129\n"
     ]
    }
   ],
   "source": [
    "cdts = datetime.now()\n",
    "print(cdts)\n",
    "print(cdts.day)\n",
    "print(cdts.month)\n",
    "print(cdts.year)\n",
    "print(cdts.hour)\n",
    "print(cdts.minute)\n",
    "print(cdts.second)\n",
    "print(cdts.microsecond)"
   ]
  },
  {
   "cell_type": "markdown",
   "id": "467d1397",
   "metadata": {},
   "source": [
    "### Construct a Date object"
   ]
  },
  {
   "cell_type": "code",
   "execution_count": 18,
   "id": "cfd3121f",
   "metadata": {},
   "outputs": [
    {
     "name": "stdout",
     "output_type": "stream",
     "text": [
      "2022-11-05\n"
     ]
    }
   ],
   "source": [
    "dd,mm,yyyy = 5,11,2022\n",
    "\n",
    "print(date(yyyy,mm,dd)) # date(year, month, day) --> date object"
   ]
  },
  {
   "cell_type": "markdown",
   "id": "7fcd376f",
   "metadata": {},
   "source": [
    "### Construct a time object"
   ]
  },
  {
   "cell_type": "code",
   "execution_count": 19,
   "id": "b327dec7",
   "metadata": {},
   "outputs": [
    {
     "name": "stdout",
     "output_type": "stream",
     "text": [
      "00:00:00\n"
     ]
    }
   ],
   "source": [
    "print(time()) # parameters for time() are optional"
   ]
  },
  {
   "cell_type": "code",
   "execution_count": 20,
   "id": "d3a12f87",
   "metadata": {},
   "outputs": [
    {
     "name": "stdout",
     "output_type": "stream",
     "text": [
      "12:45:36.000012\n"
     ]
    }
   ],
   "source": [
    "h, m,s, ms = 12,45,36,12\n",
    "\n",
    "print(time(h, m,s, ms))"
   ]
  },
  {
   "cell_type": "markdown",
   "id": "224f86de",
   "metadata": {},
   "source": [
    "### Construct a datetime object"
   ]
  },
  {
   "cell_type": "code",
   "execution_count": 21,
   "id": "460f6b58",
   "metadata": {},
   "outputs": [],
   "source": [
    "dd,mm,yy = 5,11,2022\n",
    "h, m,s, ms = 12,45,36,12"
   ]
  },
  {
   "cell_type": "code",
   "execution_count": 51,
   "id": "9d05be2a",
   "metadata": {},
   "outputs": [
    {
     "name": "stdout",
     "output_type": "stream",
     "text": [
      "2022-11-05 00:00:00\n",
      "2022-11-05 12:00:00\n",
      "2022-11-05 12:45:00\n",
      "2022-11-05 12:45:36.000012\n"
     ]
    }
   ],
   "source": [
    "print(datetime(yy,mm,dd))\n",
    "print(datetime(yy,mm,dd, h))\n",
    "print(datetime(yy,mm,dd,h,m))\n",
    "print(datetime(yy,mm,dd, h,m,s,ms))"
   ]
  },
  {
   "cell_type": "markdown",
   "id": "7e5208b2",
   "metadata": {},
   "source": [
    "### Unix timestamp\n",
    "\n",
    "the unix time stamp is a way to track time as a running total of seconds."
   ]
  },
  {
   "cell_type": "code",
   "execution_count": 68,
   "id": "c75eaac4",
   "metadata": {},
   "outputs": [],
   "source": [
    "cdts = datetime.now()"
   ]
  },
  {
   "cell_type": "code",
   "execution_count": 53,
   "id": "abd82ff8",
   "metadata": {},
   "outputs": [
    {
     "name": "stdout",
     "output_type": "stream",
     "text": [
      "2022-11-20 20:33:02.796207\n",
      "1668956582.796207\n"
     ]
    }
   ],
   "source": [
    "print(cdts, cdts.timestamp(), sep = '\\n')"
   ]
  },
  {
   "cell_type": "code",
   "execution_count": 66,
   "id": "9174040d",
   "metadata": {},
   "outputs": [
    {
     "name": "stdout",
     "output_type": "stream",
     "text": [
      "2022-11-05 12:53:13.440945\n"
     ]
    }
   ],
   "source": [
    "print(datetime.fromtimestamp(1667632993.440945))"
   ]
  },
  {
   "cell_type": "markdown",
   "id": "0f241df2",
   "metadata": {},
   "source": [
    "### `datetime` module\n"
   ]
  },
  {
   "cell_type": "code",
   "execution_count": 83,
   "id": "80bca599",
   "metadata": {},
   "outputs": [
    {
     "name": "stdout",
     "output_type": "stream",
     "text": [
      "<class 'module'>\n",
      "<class 'type'>\n",
      "<class 'method_descriptor'>\n"
     ]
    }
   ],
   "source": [
    "print(type(datetime))\n",
    "print(type(datetime.date))\n",
    "print(type(datetime.date.isocalendar))"
   ]
  },
  {
   "cell_type": "markdown",
   "id": "902488d7",
   "metadata": {},
   "source": [
    "### Formating option for datetime\n",
    "\n",
    "used with the function `strftime()`\n",
    "\n",
    "\n",
    "#### Date formatting:\n",
    "\n",
    "- (%y/%Y – Year)\n",
    "- (%b/%B/%m- month)\n",
    "- (%d - day of month)\n",
    "- (%a/%A- weekday Name)\n",
    "\n",
    "#### Time Formatting:\n",
    "\n",
    "- %I/%H - 12/24 Hour\n",
    "- %M - minute\n",
    "- %S - second\n",
    "- %p - local's AM/PM\n",
    "\n",
    "#### Pre-defined formatting:\n",
    "\n",
    "- %c - local date and time\n",
    "- %x-local date\n",
    "- %X- local time"
   ]
  },
  {
   "cell_type": "code",
   "execution_count": 84,
   "id": "27125e59",
   "metadata": {},
   "outputs": [
    {
     "name": "stdout",
     "output_type": "stream",
     "text": [
      "<class 'datetime.datetime'>\n"
     ]
    }
   ],
   "source": [
    "cdts = datetime.datetime.now()\n",
    "print(type(cdts))"
   ]
  },
  {
   "cell_type": "code",
   "execution_count": 11,
   "id": "02e5ef19",
   "metadata": {},
   "outputs": [
    {
     "name": "stdout",
     "output_type": "stream",
     "text": [
      "22 <class 'str'>\n",
      "2022\n",
      "Nov\n",
      "November\n",
      "11\n",
      "09\n",
      "Wed\n",
      "Wednesday\n",
      "------------------------------------------------------------\n",
      "22\n",
      "10\n",
      "06\n",
      "35\n",
      "PM\n"
     ]
    }
   ],
   "source": [
    "print(cdts.strftime('%y'), type(cdts.strftime('%y'))) # short year\n",
    "print(cdts.strftime('%Y')) # full year\n",
    "\n",
    "print(cdts.strftime('%b')) # short month name\n",
    "print(cdts.strftime('%B')) # full month name\n",
    "print(cdts.strftime('%m')) # month number\n",
    "\n",
    "print(cdts.strftime('%d')) # day number \n",
    "print(cdts.strftime('%a')) # short day name\n",
    "print(cdts.strftime('%A')) # full day name\n",
    "\n",
    "print('--'*30)\n",
    "\n",
    "print(cdts.strftime('%H')) # hours in 24-hr format\n",
    "print(cdts.strftime('%I')) # hours in 12-hr format\n",
    "\n",
    "print(cdts.strftime('%M')) # minutes\n",
    "print(cdts.strftime('%S')) # seconds\n",
    "print(cdts.strftime('%p')) # AM/PM"
   ]
  },
  {
   "cell_type": "code",
   "execution_count": 63,
   "id": "baae4e62",
   "metadata": {},
   "outputs": [
    {
     "name": "stdout",
     "output_type": "stream",
     "text": [
      "Sun, 20-Nov-22\n",
      "20/Nov/2022\n",
      "20:33:02 PM\n",
      "----------------------------------------\n",
      "Sun Nov 20 20:33:02 2022\n",
      "11/20/22\n",
      "20:33:02\n"
     ]
    }
   ],
   "source": [
    "# design a custom date/datetime format\n",
    "\n",
    "# Wed, 09-Nov-22\n",
    "\n",
    "print(cdts.strftime('%a, %d-%b-%y'))\n",
    "print(cdts.strftime('%d/%b/%Y'))\n",
    "print(cdts.strftime('%H:%M:%S %p'))\n",
    "\n",
    "print('--'*20)\n",
    "# pre-defined custom formatting options\n",
    "print(cdts.strftime('%c')) \n",
    "print(cdts.strftime('%x')) \n",
    "print(cdts.strftime('%X')) "
   ]
  },
  {
   "cell_type": "markdown",
   "id": "9428d8d4",
   "metadata": {},
   "source": [
    "### Converting a String into Date & Time"
   ]
  },
  {
   "cell_type": "code",
   "execution_count": 87,
   "id": "a970f627",
   "metadata": {},
   "outputs": [],
   "source": [
    "dt_str = '09/Nov/2022'"
   ]
  },
  {
   "cell_type": "code",
   "execution_count": 88,
   "id": "1510f29b",
   "metadata": {},
   "outputs": [
    {
     "name": "stdout",
     "output_type": "stream",
     "text": [
      "09/Nov/2022 <class 'str'>\n"
     ]
    }
   ],
   "source": [
    "print(dt_str,type(dt_str))"
   ]
  },
  {
   "cell_type": "code",
   "execution_count": 89,
   "id": "28d3ac8b",
   "metadata": {},
   "outputs": [
    {
     "name": "stdout",
     "output_type": "stream",
     "text": [
      "2022-11-09 00:00:00\n",
      "9\n",
      "11\n",
      "2022\n"
     ]
    }
   ],
   "source": [
    "# convert the str into \n",
    "\n",
    "dt_new = datetime.datetime.strptime(dt_str, '%d/%b/%Y') # module.class.method\n",
    "print(dt_new)\n",
    "print(dt_new.day)\n",
    "print(dt_new.month)\n",
    "print(dt_new.year)"
   ]
  },
  {
   "cell_type": "code",
   "execution_count": 90,
   "id": "23aa6dd9",
   "metadata": {},
   "outputs": [
    {
     "name": "stdout",
     "output_type": "stream",
     "text": [
      "2020-08-15 09:40:25\n",
      "2020-08-15 09:40:25\n"
     ]
    }
   ],
   "source": [
    "# construct a random datetime object\n",
    "\n",
    "# 15/08/2020 09:40:25\n",
    "\n",
    "dt2 = datetime.datetime(2020,8,15, 9,40,25)\n",
    "print(dt2)\n",
    "\n",
    "# now save this value as a string\n",
    "dt_str1 = '2020-08-15 09:40:25'\n",
    "\n",
    "# convert this string to datetime again using strptime\n",
    "print(datetime.datetime.strptime(dt_str1, '%Y-%m-%d %H:%M:%S'))"
   ]
  },
  {
   "cell_type": "code",
   "execution_count": 104,
   "id": "33192ff0",
   "metadata": {},
   "outputs": [
    {
     "name": "stdout",
     "output_type": "stream",
     "text": [
      "2020-08-15 09:40:25\n"
     ]
    }
   ],
   "source": [
    "dt_str1 = '2020-08-15 09:40:25'\n",
    "\n",
    "print(datetime.datetime.strptime(dt_str1,'%Y-%m-%d %H:%M:%S'))"
   ]
  },
  {
   "cell_type": "markdown",
   "id": "89ed4fef",
   "metadata": {},
   "source": [
    "### Timedelta\n",
    "\n",
    "**`timedelta`** object represents the difference between two dates or time stamps."
   ]
  },
  {
   "cell_type": "code",
   "execution_count": 92,
   "id": "915f6f3a",
   "metadata": {},
   "outputs": [],
   "source": [
    "dt1 = datetime.date(2015,8,15)\n",
    "dt2 = datetime.date.today()"
   ]
  },
  {
   "cell_type": "code",
   "execution_count": 93,
   "id": "1965bf8c",
   "metadata": {},
   "outputs": [
    {
     "name": "stdout",
     "output_type": "stream",
     "text": [
      "2015-08-15 2022-11-20\n"
     ]
    }
   ],
   "source": [
    "print(dt1,dt2)"
   ]
  },
  {
   "cell_type": "code",
   "execution_count": 94,
   "id": "61fdaaa2",
   "metadata": {},
   "outputs": [
    {
     "name": "stdout",
     "output_type": "stream",
     "text": [
      "2654 days, 0:00:00 <class 'datetime.timedelta'>\n"
     ]
    }
   ],
   "source": [
    "# calculate the difference between two dates\n",
    "\n",
    "diff = dt2-dt1\n",
    "print(diff, type(diff))"
   ]
  },
  {
   "cell_type": "code",
   "execution_count": 95,
   "id": "5e6bfd21",
   "metadata": {},
   "outputs": [
    {
     "name": "stdout",
     "output_type": "stream",
     "text": [
      "2022-11-20 20:45:48.235542\n",
      "2002-08-15 09:40:25\n"
     ]
    }
   ],
   "source": [
    "dt1 = datetime.datetime.now()\n",
    "\n",
    "dt2 = datetime.datetime(2002,8,15, 9,40,25)\n",
    "print(dt1, dt2, sep = '\\n')"
   ]
  },
  {
   "cell_type": "code",
   "execution_count": 96,
   "id": "efa03a6b",
   "metadata": {},
   "outputs": [
    {
     "name": "stdout",
     "output_type": "stream",
     "text": [
      "7402 days, 11:05:23.235542 <class 'datetime.timedelta'>\n"
     ]
    }
   ],
   "source": [
    "# calculate the difference between two dates\n",
    "diff = dt1-dt2\n",
    "print(diff, type(diff))"
   ]
  },
  {
   "cell_type": "code",
   "execution_count": 97,
   "id": "b857f4d8",
   "metadata": {},
   "outputs": [
    {
     "data": {
      "text/plain": [
       "7402"
      ]
     },
     "execution_count": 97,
     "metadata": {},
     "output_type": "execute_result"
    },
    {
     "data": {
      "text/plain": [
       "int"
      ]
     },
     "execution_count": 97,
     "metadata": {},
     "output_type": "execute_result"
    },
    {
     "data": {
      "text/plain": [
       "639572723.235542"
      ]
     },
     "execution_count": 97,
     "metadata": {},
     "output_type": "execute_result"
    },
    {
     "data": {
      "text/plain": [
       "float"
      ]
     },
     "execution_count": 97,
     "metadata": {},
     "output_type": "execute_result"
    },
    {
     "data": {
      "text/plain": [
       "39923"
      ]
     },
     "execution_count": 97,
     "metadata": {},
     "output_type": "execute_result"
    },
    {
     "data": {
      "text/plain": [
       "int"
      ]
     },
     "execution_count": 97,
     "metadata": {},
     "output_type": "execute_result"
    }
   ],
   "source": [
    "diff.days; type(diff.days)\n",
    "diff.total_seconds(); type(diff.total_seconds())\n",
    "diff.seconds; type(diff.seconds)"
   ]
  },
  {
   "cell_type": "code",
   "execution_count": 41,
   "id": "38c43b0e",
   "metadata": {},
   "outputs": [
    {
     "data": {
      "text/plain": [
       "3425"
      ]
     },
     "execution_count": 41,
     "metadata": {},
     "output_type": "execute_result"
    }
   ],
   "source": [
    "57*60 + 5"
   ]
  },
  {
   "cell_type": "code",
   "execution_count": 42,
   "id": "b94aa85a",
   "metadata": {},
   "outputs": [
    {
     "data": {
      "text/plain": [
       "638585825"
      ]
     },
     "execution_count": 42,
     "metadata": {},
     "output_type": "execute_result"
    }
   ],
   "source": [
    "24*60*60*7391 + 3425"
   ]
  },
  {
   "cell_type": "markdown",
   "id": "82473fe2",
   "metadata": {},
   "source": [
    "### Time zones"
   ]
  },
  {
   "cell_type": "code",
   "execution_count": 98,
   "id": "74e45dd8",
   "metadata": {},
   "outputs": [],
   "source": [
    "# import python time zone module\n",
    "\n",
    "import pytz"
   ]
  },
  {
   "cell_type": "code",
   "execution_count": 99,
   "id": "cb7035fe",
   "metadata": {},
   "outputs": [
    {
     "name": "stdout",
     "output_type": "stream",
     "text": [
      "2022-11-20 20:46:01.483856\n"
     ]
    }
   ],
   "source": [
    "# local time, IST\n",
    "print(datetime.datetime.now())"
   ]
  },
  {
   "cell_type": "code",
   "execution_count": 100,
   "id": "5b1b4341",
   "metadata": {},
   "outputs": [
    {
     "name": "stdout",
     "output_type": "stream",
     "text": [
      "2022-11-20 15:16:05.602064+00:00\n"
     ]
    },
    {
     "data": {
      "text/plain": [
       "'Europe/Dublin'"
      ]
     },
     "execution_count": 100,
     "metadata": {},
     "output_type": "execute_result"
    },
    {
     "data": {
      "text/plain": [
       "<DstTzInfo 'Europe/Dublin' LMT-1 day, 23:35:00 STD>"
      ]
     },
     "execution_count": 100,
     "metadata": {},
     "output_type": "execute_result"
    }
   ],
   "source": [
    "print(datetime.datetime.now(pytz.timezone('Europe/Dublin')))\n",
    "\n",
    "'Europe/Dublin'\n",
    "pytz.timezone('Europe/Dublin')"
   ]
  },
  {
   "cell_type": "code",
   "execution_count": 101,
   "id": "fcb84e41",
   "metadata": {},
   "outputs": [
    {
     "name": "stdout",
     "output_type": "stream",
     "text": [
      "2022-11-20 10:16:07.382997-05:00\n",
      "2022-11-20 20:46:07.385002+05:30\n"
     ]
    }
   ],
   "source": [
    "print(datetime.datetime.now(pytz.timezone('US/Eastern')))\n",
    "print(datetime.datetime.now(pytz.timezone('Asia/Calcutta')))"
   ]
  },
  {
   "cell_type": "code",
   "execution_count": 46,
   "id": "577ffbb8",
   "metadata": {},
   "outputs": [
    {
     "data": {
      "text/plain": [
       "594"
      ]
     },
     "execution_count": 46,
     "metadata": {},
     "output_type": "execute_result"
    },
    {
     "name": "stdout",
     "output_type": "stream",
     "text": [
      "['Africa/Abidjan', 'Africa/Accra', 'Africa/Addis_Ababa', 'Africa/Algiers', 'Africa/Asmara', 'Africa/Asmera', 'Africa/Bamako', 'Africa/Bangui', 'Africa/Banjul', 'Africa/Bissau', 'Africa/Blantyre', 'Africa/Brazzaville', 'Africa/Bujumbura', 'Africa/Cairo', 'Africa/Casablanca', 'Africa/Ceuta', 'Africa/Conakry', 'Africa/Dakar', 'Africa/Dar_es_Salaam', 'Africa/Djibouti', 'Africa/Douala', 'Africa/El_Aaiun', 'Africa/Freetown', 'Africa/Gaborone', 'Africa/Harare', 'Africa/Johannesburg', 'Africa/Juba', 'Africa/Kampala', 'Africa/Khartoum', 'Africa/Kigali', 'Africa/Kinshasa', 'Africa/Lagos', 'Africa/Libreville', 'Africa/Lome', 'Africa/Luanda', 'Africa/Lubumbashi', 'Africa/Lusaka', 'Africa/Malabo', 'Africa/Maputo', 'Africa/Maseru', 'Africa/Mbabane', 'Africa/Mogadishu', 'Africa/Monrovia', 'Africa/Nairobi', 'Africa/Ndjamena', 'Africa/Niamey', 'Africa/Nouakchott', 'Africa/Ouagadougou', 'Africa/Porto-Novo', 'Africa/Sao_Tome', 'Africa/Timbuktu', 'Africa/Tripoli', 'Africa/Tunis', 'Africa/Windhoek', 'America/Adak', 'America/Anchorage', 'America/Anguilla', 'America/Antigua', 'America/Araguaina', 'America/Argentina/Buenos_Aires', 'America/Argentina/Catamarca', 'America/Argentina/ComodRivadavia', 'America/Argentina/Cordoba', 'America/Argentina/Jujuy', 'America/Argentina/La_Rioja', 'America/Argentina/Mendoza', 'America/Argentina/Rio_Gallegos', 'America/Argentina/Salta', 'America/Argentina/San_Juan', 'America/Argentina/San_Luis', 'America/Argentina/Tucuman', 'America/Argentina/Ushuaia', 'America/Aruba', 'America/Asuncion', 'America/Atikokan', 'America/Atka', 'America/Bahia', 'America/Bahia_Banderas', 'America/Barbados', 'America/Belem', 'America/Belize', 'America/Blanc-Sablon', 'America/Boa_Vista', 'America/Bogota', 'America/Boise', 'America/Buenos_Aires', 'America/Cambridge_Bay', 'America/Campo_Grande', 'America/Cancun', 'America/Caracas', 'America/Catamarca', 'America/Cayenne', 'America/Cayman', 'America/Chicago', 'America/Chihuahua', 'America/Coral_Harbour', 'America/Cordoba', 'America/Costa_Rica', 'America/Creston', 'America/Cuiaba', 'America/Curacao', 'America/Danmarkshavn', 'America/Dawson', 'America/Dawson_Creek', 'America/Denver', 'America/Detroit', 'America/Dominica', 'America/Edmonton', 'America/Eirunepe', 'America/El_Salvador', 'America/Ensenada', 'America/Fort_Nelson', 'America/Fort_Wayne', 'America/Fortaleza', 'America/Glace_Bay', 'America/Godthab', 'America/Goose_Bay', 'America/Grand_Turk', 'America/Grenada', 'America/Guadeloupe', 'America/Guatemala', 'America/Guayaquil', 'America/Guyana', 'America/Halifax', 'America/Havana', 'America/Hermosillo', 'America/Indiana/Indianapolis', 'America/Indiana/Knox', 'America/Indiana/Marengo', 'America/Indiana/Petersburg', 'America/Indiana/Tell_City', 'America/Indiana/Vevay', 'America/Indiana/Vincennes', 'America/Indiana/Winamac', 'America/Indianapolis', 'America/Inuvik', 'America/Iqaluit', 'America/Jamaica', 'America/Jujuy', 'America/Juneau', 'America/Kentucky/Louisville', 'America/Kentucky/Monticello', 'America/Knox_IN', 'America/Kralendijk', 'America/La_Paz', 'America/Lima', 'America/Los_Angeles', 'America/Louisville', 'America/Lower_Princes', 'America/Maceio', 'America/Managua', 'America/Manaus', 'America/Marigot', 'America/Martinique', 'America/Matamoros', 'America/Mazatlan', 'America/Mendoza', 'America/Menominee', 'America/Merida', 'America/Metlakatla', 'America/Mexico_City', 'America/Miquelon', 'America/Moncton', 'America/Monterrey', 'America/Montevideo', 'America/Montreal', 'America/Montserrat', 'America/Nassau', 'America/New_York', 'America/Nipigon', 'America/Nome', 'America/Noronha', 'America/North_Dakota/Beulah', 'America/North_Dakota/Center', 'America/North_Dakota/New_Salem', 'America/Nuuk', 'America/Ojinaga', 'America/Panama', 'America/Pangnirtung', 'America/Paramaribo', 'America/Phoenix', 'America/Port-au-Prince', 'America/Port_of_Spain', 'America/Porto_Acre', 'America/Porto_Velho', 'America/Puerto_Rico', 'America/Punta_Arenas', 'America/Rainy_River', 'America/Rankin_Inlet', 'America/Recife', 'America/Regina', 'America/Resolute', 'America/Rio_Branco', 'America/Rosario', 'America/Santa_Isabel', 'America/Santarem', 'America/Santiago', 'America/Santo_Domingo', 'America/Sao_Paulo', 'America/Scoresbysund', 'America/Shiprock', 'America/Sitka', 'America/St_Barthelemy', 'America/St_Johns', 'America/St_Kitts', 'America/St_Lucia', 'America/St_Thomas', 'America/St_Vincent', 'America/Swift_Current', 'America/Tegucigalpa', 'America/Thule', 'America/Thunder_Bay', 'America/Tijuana', 'America/Toronto', 'America/Tortola', 'America/Vancouver', 'America/Virgin', 'America/Whitehorse', 'America/Winnipeg', 'America/Yakutat', 'America/Yellowknife', 'Antarctica/Casey', 'Antarctica/Davis', 'Antarctica/DumontDUrville', 'Antarctica/Macquarie', 'Antarctica/Mawson', 'Antarctica/McMurdo', 'Antarctica/Palmer', 'Antarctica/Rothera', 'Antarctica/South_Pole', 'Antarctica/Syowa', 'Antarctica/Troll', 'Antarctica/Vostok', 'Arctic/Longyearbyen', 'Asia/Aden', 'Asia/Almaty', 'Asia/Amman', 'Asia/Anadyr', 'Asia/Aqtau', 'Asia/Aqtobe', 'Asia/Ashgabat', 'Asia/Ashkhabad', 'Asia/Atyrau', 'Asia/Baghdad', 'Asia/Bahrain', 'Asia/Baku', 'Asia/Bangkok', 'Asia/Barnaul', 'Asia/Beirut', 'Asia/Bishkek', 'Asia/Brunei', 'Asia/Calcutta', 'Asia/Chita', 'Asia/Choibalsan', 'Asia/Chongqing', 'Asia/Chungking', 'Asia/Colombo', 'Asia/Dacca', 'Asia/Damascus', 'Asia/Dhaka', 'Asia/Dili', 'Asia/Dubai', 'Asia/Dushanbe', 'Asia/Famagusta', 'Asia/Gaza', 'Asia/Harbin', 'Asia/Hebron', 'Asia/Ho_Chi_Minh', 'Asia/Hong_Kong', 'Asia/Hovd', 'Asia/Irkutsk', 'Asia/Istanbul', 'Asia/Jakarta', 'Asia/Jayapura', 'Asia/Jerusalem', 'Asia/Kabul', 'Asia/Kamchatka', 'Asia/Karachi', 'Asia/Kashgar', 'Asia/Kathmandu', 'Asia/Katmandu', 'Asia/Khandyga', 'Asia/Kolkata', 'Asia/Krasnoyarsk', 'Asia/Kuala_Lumpur', 'Asia/Kuching', 'Asia/Kuwait', 'Asia/Macao', 'Asia/Macau', 'Asia/Magadan', 'Asia/Makassar', 'Asia/Manila', 'Asia/Muscat', 'Asia/Nicosia', 'Asia/Novokuznetsk', 'Asia/Novosibirsk', 'Asia/Omsk', 'Asia/Oral', 'Asia/Phnom_Penh', 'Asia/Pontianak', 'Asia/Pyongyang', 'Asia/Qatar', 'Asia/Qostanay', 'Asia/Qyzylorda', 'Asia/Rangoon', 'Asia/Riyadh', 'Asia/Saigon', 'Asia/Sakhalin', 'Asia/Samarkand', 'Asia/Seoul', 'Asia/Shanghai', 'Asia/Singapore', 'Asia/Srednekolymsk', 'Asia/Taipei', 'Asia/Tashkent', 'Asia/Tbilisi', 'Asia/Tehran', 'Asia/Tel_Aviv', 'Asia/Thimbu', 'Asia/Thimphu', 'Asia/Tokyo', 'Asia/Tomsk', 'Asia/Ujung_Pandang', 'Asia/Ulaanbaatar', 'Asia/Ulan_Bator', 'Asia/Urumqi', 'Asia/Ust-Nera', 'Asia/Vientiane', 'Asia/Vladivostok', 'Asia/Yakutsk', 'Asia/Yangon', 'Asia/Yekaterinburg', 'Asia/Yerevan', 'Atlantic/Azores', 'Atlantic/Bermuda', 'Atlantic/Canary', 'Atlantic/Cape_Verde', 'Atlantic/Faeroe', 'Atlantic/Faroe', 'Atlantic/Jan_Mayen', 'Atlantic/Madeira', 'Atlantic/Reykjavik', 'Atlantic/South_Georgia', 'Atlantic/St_Helena', 'Atlantic/Stanley', 'Australia/ACT', 'Australia/Adelaide', 'Australia/Brisbane', 'Australia/Broken_Hill', 'Australia/Canberra', 'Australia/Currie', 'Australia/Darwin', 'Australia/Eucla', 'Australia/Hobart', 'Australia/LHI', 'Australia/Lindeman', 'Australia/Lord_Howe', 'Australia/Melbourne', 'Australia/NSW', 'Australia/North', 'Australia/Perth', 'Australia/Queensland', 'Australia/South', 'Australia/Sydney', 'Australia/Tasmania', 'Australia/Victoria', 'Australia/West', 'Australia/Yancowinna', 'Brazil/Acre', 'Brazil/DeNoronha', 'Brazil/East', 'Brazil/West', 'CET', 'CST6CDT', 'Canada/Atlantic', 'Canada/Central', 'Canada/Eastern', 'Canada/Mountain', 'Canada/Newfoundland', 'Canada/Pacific', 'Canada/Saskatchewan', 'Canada/Yukon', 'Chile/Continental', 'Chile/EasterIsland', 'Cuba', 'EET', 'EST', 'EST5EDT', 'Egypt', 'Eire', 'Etc/GMT', 'Etc/GMT+0', 'Etc/GMT+1', 'Etc/GMT+10', 'Etc/GMT+11', 'Etc/GMT+12', 'Etc/GMT+2', 'Etc/GMT+3', 'Etc/GMT+4', 'Etc/GMT+5', 'Etc/GMT+6', 'Etc/GMT+7', 'Etc/GMT+8', 'Etc/GMT+9', 'Etc/GMT-0', 'Etc/GMT-1', 'Etc/GMT-10', 'Etc/GMT-11', 'Etc/GMT-12', 'Etc/GMT-13', 'Etc/GMT-14', 'Etc/GMT-2', 'Etc/GMT-3', 'Etc/GMT-4', 'Etc/GMT-5', 'Etc/GMT-6', 'Etc/GMT-7', 'Etc/GMT-8', 'Etc/GMT-9', 'Etc/GMT0', 'Etc/Greenwich', 'Etc/UCT', 'Etc/UTC', 'Etc/Universal', 'Etc/Zulu', 'Europe/Amsterdam', 'Europe/Andorra', 'Europe/Astrakhan', 'Europe/Athens', 'Europe/Belfast', 'Europe/Belgrade', 'Europe/Berlin', 'Europe/Bratislava', 'Europe/Brussels', 'Europe/Bucharest', 'Europe/Budapest', 'Europe/Busingen', 'Europe/Chisinau', 'Europe/Copenhagen', 'Europe/Dublin', 'Europe/Gibraltar', 'Europe/Guernsey', 'Europe/Helsinki', 'Europe/Isle_of_Man', 'Europe/Istanbul', 'Europe/Jersey', 'Europe/Kaliningrad', 'Europe/Kiev', 'Europe/Kirov', 'Europe/Lisbon', 'Europe/Ljubljana', 'Europe/London', 'Europe/Luxembourg', 'Europe/Madrid', 'Europe/Malta', 'Europe/Mariehamn', 'Europe/Minsk', 'Europe/Monaco', 'Europe/Moscow', 'Europe/Nicosia', 'Europe/Oslo', 'Europe/Paris', 'Europe/Podgorica', 'Europe/Prague', 'Europe/Riga', 'Europe/Rome', 'Europe/Samara', 'Europe/San_Marino', 'Europe/Sarajevo', 'Europe/Saratov', 'Europe/Simferopol', 'Europe/Skopje', 'Europe/Sofia', 'Europe/Stockholm', 'Europe/Tallinn', 'Europe/Tirane', 'Europe/Tiraspol', 'Europe/Ulyanovsk', 'Europe/Uzhgorod', 'Europe/Vaduz', 'Europe/Vatican', 'Europe/Vienna', 'Europe/Vilnius', 'Europe/Volgograd', 'Europe/Warsaw', 'Europe/Zagreb', 'Europe/Zaporozhye', 'Europe/Zurich', 'GB', 'GB-Eire', 'GMT', 'GMT+0', 'GMT-0', 'GMT0', 'Greenwich', 'HST', 'Hongkong', 'Iceland', 'Indian/Antananarivo', 'Indian/Chagos', 'Indian/Christmas', 'Indian/Cocos', 'Indian/Comoro', 'Indian/Kerguelen', 'Indian/Mahe', 'Indian/Maldives', 'Indian/Mauritius', 'Indian/Mayotte', 'Indian/Reunion', 'Iran', 'Israel', 'Jamaica', 'Japan', 'Kwajalein', 'Libya', 'MET', 'MST', 'MST7MDT', 'Mexico/BajaNorte', 'Mexico/BajaSur', 'Mexico/General', 'NZ', 'NZ-CHAT', 'Navajo', 'PRC', 'PST8PDT', 'Pacific/Apia', 'Pacific/Auckland', 'Pacific/Bougainville', 'Pacific/Chatham', 'Pacific/Chuuk', 'Pacific/Easter', 'Pacific/Efate', 'Pacific/Enderbury', 'Pacific/Fakaofo', 'Pacific/Fiji', 'Pacific/Funafuti', 'Pacific/Galapagos', 'Pacific/Gambier', 'Pacific/Guadalcanal', 'Pacific/Guam', 'Pacific/Honolulu', 'Pacific/Johnston', 'Pacific/Kanton', 'Pacific/Kiritimati', 'Pacific/Kosrae', 'Pacific/Kwajalein', 'Pacific/Majuro', 'Pacific/Marquesas', 'Pacific/Midway', 'Pacific/Nauru', 'Pacific/Niue', 'Pacific/Norfolk', 'Pacific/Noumea', 'Pacific/Pago_Pago', 'Pacific/Palau', 'Pacific/Pitcairn', 'Pacific/Pohnpei', 'Pacific/Ponape', 'Pacific/Port_Moresby', 'Pacific/Rarotonga', 'Pacific/Saipan', 'Pacific/Samoa', 'Pacific/Tahiti', 'Pacific/Tarawa', 'Pacific/Tongatapu', 'Pacific/Truk', 'Pacific/Wake', 'Pacific/Wallis', 'Pacific/Yap', 'Poland', 'Portugal', 'ROC', 'ROK', 'Singapore', 'Turkey', 'UCT', 'US/Alaska', 'US/Aleutian', 'US/Arizona', 'US/Central', 'US/East-Indiana', 'US/Eastern', 'US/Hawaii', 'US/Indiana-Starke', 'US/Michigan', 'US/Mountain', 'US/Pacific', 'US/Samoa', 'UTC', 'Universal', 'W-SU', 'WET', 'Zulu']\n"
     ]
    }
   ],
   "source": [
    "len(pytz.all_timezones)\n",
    "print(pytz.all_timezones)"
   ]
  },
  {
   "cell_type": "code",
   "execution_count": 102,
   "id": "c0b78279",
   "metadata": {},
   "outputs": [
    {
     "name": "stdout",
     "output_type": "stream",
     "text": [
      "Asia/Calcutta\n"
     ]
    }
   ],
   "source": [
    "for i in pytz.all_timezones:\n",
    "    if(i.find('Cal') != -1):\n",
    "        print(i)"
   ]
  },
  {
   "cell_type": "code",
   "execution_count": null,
   "id": "46dbed39",
   "metadata": {},
   "outputs": [],
   "source": []
  },
  {
   "cell_type": "code",
   "execution_count": null,
   "id": "0d483529",
   "metadata": {},
   "outputs": [],
   "source": []
  },
  {
   "cell_type": "code",
   "execution_count": null,
   "id": "a22cb947",
   "metadata": {},
   "outputs": [],
   "source": []
  },
  {
   "cell_type": "code",
   "execution_count": 17,
   "id": "8875cdda",
   "metadata": {},
   "outputs": [
    {
     "name": "stdout",
     "output_type": "stream",
     "text": [
      "8285 days, 10:51:27.393402\n"
     ]
    },
    {
     "data": {
      "text/plain": [
       "22.7"
      ]
     },
     "execution_count": 17,
     "metadata": {},
     "output_type": "execute_result"
    }
   ],
   "source": [
    "\n",
    "dt1 = datetime.datetime.now()\n",
    "dt2 = datetime.datetime(2000, 3, 4)\n",
    "diff = dt1 - dt2\n",
    "print(diff)\n",
    "\n",
    "round(diff.days/365, 2)"
   ]
  },
  {
   "cell_type": "code",
   "execution_count": null,
   "id": "05bdaaf9",
   "metadata": {},
   "outputs": [],
   "source": []
  }
 ],
 "metadata": {
  "kernelspec": {
   "display_name": "Python 3 (ipykernel)",
   "language": "python",
   "name": "python3"
  },
  "language_info": {
   "codemirror_mode": {
    "name": "ipython",
    "version": 3
   },
   "file_extension": ".py",
   "mimetype": "text/x-python",
   "name": "python",
   "nbconvert_exporter": "python",
   "pygments_lexer": "ipython3",
   "version": "3.9.12"
  }
 },
 "nbformat": 4,
 "nbformat_minor": 5
}
