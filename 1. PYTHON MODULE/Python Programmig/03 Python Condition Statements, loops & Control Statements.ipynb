{
 "cells": [
  {
   "cell_type": "markdown",
   "id": "b7dba16d",
   "metadata": {},
   "source": [
    "# Python Conditional Statements, Loops & Control Statements"
   ]
  },
  {
   "cell_type": "markdown",
   "id": "9956ab99",
   "metadata": {},
   "source": [
    "##### Topics covered in this Notebook:\n",
    "```\n",
    "Cond Stataments\n",
    "Loops\n",
    "Control statements\n",
    "Patterns\n",
    "enumerate() & zip()\n",
    "List comprehensions\n",
    "```"
   ]
  },
  {
   "cell_type": "code",
   "execution_count": null,
   "id": "aafe703e",
   "metadata": {},
   "outputs": [],
   "source": []
  },
  {
   "cell_type": "code",
   "execution_count": 6,
   "id": "8130c626",
   "metadata": {},
   "outputs": [
    {
     "name": "stdout",
     "output_type": "stream",
     "text": [
      "Enter a number 10\n",
      "Enter a number 20\n",
      "Sum is less than 100\n"
     ]
    }
   ],
   "source": [
    "i = int(input('Enter a number '))\n",
    "j = int(input('Enter a number '))\n",
    "a = i+j\n",
    "if(a < 100):\n",
    "    print('Sum is less than 100')"
   ]
  },
  {
   "cell_type": "code",
   "execution_count": 5,
   "id": "71b4caab",
   "metadata": {},
   "outputs": [
    {
     "name": "stdout",
     "output_type": "stream",
     "text": [
      "Enter a number:55.6\n",
      "Enter a number:3.5\n",
      "Difference is greater than 49.5\n"
     ]
    }
   ],
   "source": [
    "i = float(input('Enter a number:'))\n",
    "j = float(input('Enter a number:'))\n",
    "a = i-j\n",
    "if(a > 49.5):\n",
    "    print('Difference is greater than 49.5')"
   ]
  },
  {
   "cell_type": "code",
   "execution_count": 19,
   "id": "6e1b8ba0",
   "metadata": {},
   "outputs": [
    {
     "name": "stdout",
     "output_type": "stream",
     "text": [
      "--------------------------------------------------\n"
     ]
    }
   ],
   "source": [
    "print(''*50)"
   ]
  },
  {
   "cell_type": "markdown",
   "id": "1c6f0418",
   "metadata": {},
   "source": [
    "## Python Conditional Statements\n",
    "- If statement\n",
    "- If-else statement\n",
    "- Elif statement\n",
    "- Nested if and if-else statement\n",
    "- Elif ladder\n",
    "\n"
   ]
  },
  {
   "cell_type": "markdown",
   "id": "799616ca",
   "metadata": {},
   "source": [
    "## Revisit the Comparision operators\n",
    "- Equals: a == b\n",
    "- Not Equals: a != b\n",
    "- Less than: a < b\n",
    "- Less than or equal to: a <= b\n",
    "- Greater than: a > b\n",
    "- Greater than or equal to: a >= b\n",
    "\n",
    "## Python Indentation\n",
    "-Most of the programming languages like C, C++, Java use braces { } to define a block of code. Python uses indentation.\n",
    "\n",
    "### If statement\n",
    "- Syntax:\n",
    "     - if(condition):\n",
    "     - ......\n",
    "     - ......"
   ]
  },
  {
   "cell_type": "code",
   "execution_count": 2,
   "id": "3f606991",
   "metadata": {},
   "outputs": [
    {
     "name": "stdout",
     "output_type": "stream",
     "text": [
      "Inside IF block\n"
     ]
    }
   ],
   "source": [
    "if(100>50):\n",
    "    print('Inside IF block')"
   ]
  },
  {
   "cell_type": "code",
   "execution_count": 5,
   "id": "ef0d8c92",
   "metadata": {},
   "outputs": [
    {
     "ename": "IndentationError",
     "evalue": "unexpected indent (3623507372.py, line 3)",
     "output_type": "error",
     "traceback": [
      "\u001b[1;36m  Input \u001b[1;32mIn [5]\u001b[1;36m\u001b[0m\n\u001b[1;33m    print('Inside IF block')\u001b[0m\n\u001b[1;37m    ^\u001b[0m\n\u001b[1;31mIndentationError\u001b[0m\u001b[1;31m:\u001b[0m unexpected indent\n"
     ]
    }
   ],
   "source": [
    "if(100>50):\n",
    "   print('Inside IF block')\n",
    "    print('Inside IF block')\n",
    "    print('Inside IF block')  "
   ]
  },
  {
   "cell_type": "code",
   "execution_count": 1,
   "id": "6292c2a7",
   "metadata": {},
   "outputs": [],
   "source": [
    "i = 55\n",
    "\n",
    "if(i/6 == 0):\n",
    "    print('i is divisible by 6')\n",
    "    \n",
    "# else condi is ot given here, thatswhy nothing print here"
   ]
  },
  {
   "cell_type": "code",
   "execution_count": 8,
   "id": "5444ade3",
   "metadata": {},
   "outputs": [
    {
     "name": "stdout",
     "output_type": "stream",
     "text": [
      "5\n",
      "Inside the code block\n",
      "25\n"
     ]
    }
   ],
   "source": [
    "k = 5\n",
    "\n",
    "if(k<10):\n",
    "    print(k)\n",
    "    print('Inside the code block')\n",
    "    \n",
    "k = 25\n",
    "print(k)"
   ]
  },
  {
   "cell_type": "code",
   "execution_count": 9,
   "id": "3a36c92d",
   "metadata": {},
   "outputs": [
    {
     "name": "stdout",
     "output_type": "stream",
     "text": [
      "25\n"
     ]
    }
   ],
   "source": [
    "k = 55\n",
    "\n",
    "if(k<10):\n",
    "    print(k)\n",
    "    print('Inside the code block')\n",
    "    \n",
    "k = 25\n",
    "print(k)"
   ]
  },
  {
   "cell_type": "markdown",
   "id": "ee722ca7",
   "metadata": {},
   "source": [
    "## input()"
   ]
  },
  {
   "cell_type": "code",
   "execution_count": 2,
   "id": "3d83ac85",
   "metadata": {},
   "outputs": [
    {
     "name": "stdout",
     "output_type": "stream",
     "text": [
      "103\n"
     ]
    }
   ],
   "source": [
    "i = input()"
   ]
  },
  {
   "cell_type": "code",
   "execution_count": 12,
   "id": "869187e0",
   "metadata": {},
   "outputs": [
    {
     "name": "stdout",
     "output_type": "stream",
     "text": [
      "103\n"
     ]
    }
   ],
   "source": [
    "print(i)"
   ]
  },
  {
   "cell_type": "code",
   "execution_count": 13,
   "id": "dc9ca77f",
   "metadata": {},
   "outputs": [
    {
     "name": "stdout",
     "output_type": "stream",
     "text": [
      "Enter a number: Python\n"
     ]
    }
   ],
   "source": [
    "# add a label/prompt to the text box\n",
    "i = input(\"Enter a number: \")"
   ]
  },
  {
   "cell_type": "code",
   "execution_count": 14,
   "id": "9bc33653",
   "metadata": {},
   "outputs": [
    {
     "name": "stdout",
     "output_type": "stream",
     "text": [
      "Python\n"
     ]
    }
   ],
   "source": [
    "print(i)"
   ]
  },
  {
   "cell_type": "code",
   "execution_count": 15,
   "id": "2d036f6a",
   "metadata": {},
   "outputs": [],
   "source": [
    "# collect 2 variables (i & j) as input and \n",
    "# check if the sum of the two variables is < 100, \n",
    "# if yes then print 'Sum is less than 100' otherwise do nothing."
   ]
  },
  {
   "cell_type": "code",
   "execution_count": 16,
   "id": "fb4291c8",
   "metadata": {},
   "outputs": [
    {
     "name": "stdout",
     "output_type": "stream",
     "text": [
      "Enter a number: 25\n",
      "Enter a number: 55\n",
      "25 55\n",
      "Sum is less than 100\n"
     ]
    }
   ],
   "source": [
    "i = int(input(\"Enter a number: \"))\n",
    "j = int(input(\"Enter a number: \"))\n",
    "print(i,j)\n",
    "\n",
    "if(i+j < 100):\n",
    "    print('Sum is less than 100')"
   ]
  },
  {
   "cell_type": "code",
   "execution_count": 17,
   "id": "e0db3289",
   "metadata": {},
   "outputs": [],
   "source": [
    "# collect 2 float variables (i & j) as input and \n",
    "# check if the difference of the two variables is > 49.5, \n",
    "# if yes then print 'Diff is greater than 49.5' otherwise do nothing."
   ]
  },
  {
   "cell_type": "code",
   "execution_count": 20,
   "id": "9580682f",
   "metadata": {},
   "outputs": [
    {
     "name": "stdout",
     "output_type": "stream",
     "text": [
      "Enter a number: 12.5\n",
      "Enter a number: 10.2\n",
      "12.5 10.2\n"
     ]
    }
   ],
   "source": [
    "i = float(input(\"Enter a number: \"))\n",
    "j = float(input(\"Enter a number: \"))\n",
    "print(i,j)\n",
    "\n",
    "if(i-j > 49.5):\n",
    "    print('Diff is > 49.5')"
   ]
  },
  {
   "cell_type": "markdown",
   "id": "8292f3f4",
   "metadata": {},
   "source": [
    "## If-else statement"
   ]
  },
  {
   "cell_type": "markdown",
   "id": "bc64c108",
   "metadata": {},
   "source": [
    "**Syntax:**"
   ]
  },
  {
   "cell_type": "code",
   "execution_count": 31,
   "id": "4af127d9",
   "metadata": {},
   "outputs": [
    {
     "name": "stdout",
     "output_type": "stream",
     "text": [
      " if(condition):\n",
      "    statement 1\n",
      "    ......\n",
      "    statement n\n",
      "else:\n",
      "    statements\n"
     ]
    }
   ],
   "source": [
    "print(\"\"\" if(condition):\n",
    "    statement 1\n",
    "    ......\n",
    "    statement n\n",
    "else:\n",
    "    statements\"\"\")"
   ]
  },
  {
   "cell_type": "code",
   "execution_count": 23,
   "id": "397a4cd4",
   "metadata": {},
   "outputs": [
    {
     "name": "stdout",
     "output_type": "stream",
     "text": [
      "Enter a number: 25\n",
      "Enter a number: 25\n",
      "25 25\n",
      "<class 'str'> <class 'str'>\n",
      "Sum of i and j: 2525\n",
      "Sum of i and j: 50\n"
     ]
    }
   ],
   "source": [
    "# Collect two numbers as input\n",
    "# Check if they are numeric\n",
    "# If yes, add them and print the sum\n",
    "# Else, print the message\n",
    "\n",
    "i = input(\"Enter a number: \")\n",
    "j = input(\"Enter a number: \")\n",
    "print(i,j)\n",
    "\n",
    "if(i.isnumeric() & j.isnumeric()):\n",
    "    print(type(i), type(j))\n",
    "    print('Sum of i and j:', i+j)    \n",
    "    \n",
    "    print('Sum of i and j:', int(i)+int(j))\n",
    "else:\n",
    "    print('Please enter numeric values')"
   ]
  },
  {
   "cell_type": "markdown",
   "id": "b7f60617",
   "metadata": {},
   "source": [
    "## elif & elif ladder"
   ]
  },
  {
   "cell_type": "code",
   "execution_count": 24,
   "id": "a6d2969b",
   "metadata": {},
   "outputs": [
    {
     "name": "stdout",
     "output_type": "stream",
     "text": [
      "Enter a number: 12.5\n",
      "Enter a number: 12.2\n",
      "Sum of i and j: 24.7\n"
     ]
    }
   ],
   "source": [
    "# Collect two numbers as input\n",
    "# Check if they are int/float\n",
    "# If yes, add them and print the sum\n",
    "# Else, print the message\n",
    "\n",
    "i = input(\"Enter a number: \")\n",
    "j = input(\"Enter a number: \")\n",
    "\n",
    "if(i.isnumeric() & j.isnumeric()):   \n",
    "    print('Sum of i and j:', int(i)+int(j))\n",
    "elif(isinstance(float(i), float) & isinstance(float(j), float)):   \n",
    "    print('Sum of i and j:', float(i)+float(j))\n",
    "else:\n",
    "    print('Please enter int/float values only')"
   ]
  },
  {
   "cell_type": "code",
   "execution_count": 25,
   "id": "44be4e51",
   "metadata": {},
   "outputs": [
    {
     "name": "stdout",
     "output_type": "stream",
     "text": [
      "Enter a number: 12.5\n",
      "Enter a number: 11\n",
      "Inside 1st Elif\n",
      "Sum of i and j: 23.5\n"
     ]
    }
   ],
   "source": [
    "i = input(\"Enter a number: \")\n",
    "j = input(\"Enter a number: \")\n",
    "\n",
    "if(i.isnumeric() & j.isnumeric()):   \n",
    "    print('Sum of i and j:', int(i)+int(j))\n",
    "elif(isinstance(float(i), float) & isinstance(float(j), float)):  \n",
    "    print('Inside 1st Elif')\n",
    "    print('Sum of i and j:', float(i)+float(j))\n",
    "elif(i.isnumeric() | j.isnumeric() | isinstance(float(i), float) | isinstance(float(j), float)):   \n",
    "    print('Inside 2nd Elif')\n",
    "    print('Sum of i and j:', int(i)+int(j))\n",
    "else:\n",
    "    print('Please enter int/float values only')"
   ]
  },
  {
   "cell_type": "markdown",
   "id": "029b2181",
   "metadata": {},
   "source": [
    "### Write a program based on below conditions:\n",
    "\n",
    "- < 35 -- Fail\n",
    "- 35 -- Just Pass\n",
    "- 36-65 -- Second class\n",
    "- 66-75 -- First class\n",
    "- >75 - Distinction"
   ]
  },
  {
   "cell_type": "code",
   "execution_count": 14,
   "id": "4759a4f6",
   "metadata": {},
   "outputs": [
    {
     "name": "stdout",
     "output_type": "stream",
     "text": [
      "Enter the Marks:88\n",
      "i = 88.0\n",
      "inside 2nd elif\n",
      "Second Class\n"
     ]
    }
   ],
   "source": [
    "i = float(input('Enter the Marks:'))\n",
    "print('i =',i)\n",
    "if(i < 35):\n",
    "    print('Fail')\n",
    "elif(i == 35):\n",
    "    print('inside 1st elif')\n",
    "    print('Just Pass')\n",
    "elif(i >= 36):\n",
    "    print('inside 2nd elif')\n",
    "    print('Second Class')\n",
    "elif(i <= 65):\n",
    "    print('inside 3rd elif')\n",
    "    print('Second Class')\n",
    "elif(i >= 66):\n",
    "    print('inside 4th elif')\n",
    "    print('First Class')\n",
    "elif(i <= 75):\n",
    "    print('inside 5th elif')\n",
    "    print('First Class')\n",
    "elif(i > 75):\n",
    "    print('inside 6th elif')\n",
    "    print('Distinction')\n",
    "else:\n",
    "    print('Please enter int/float values only')"
   ]
  },
  {
   "cell_type": "code",
   "execution_count": null,
   "id": "c5bce134",
   "metadata": {},
   "outputs": [],
   "source": [
    "mylist = [*range(1,101,1)]      # * is unpacking operator\n",
    "print(mylist)\n",
    "i = float(input('Enter the Marks:'))\n",
    "print('i =',i)\n",
    "if(i < 35):\n",
    "    print('Fail')\n",
    "elif(i == 35):\n",
    "    print('inside 1st elif')\n",
    "    print('Just Pass')\n",
    "elif(i >= [range(36,66)]):\n",
    "    print('inside 2nd elif')\n",
    "    print('Second Class')\n",
    "elif(i >= [range(66,76)]):\n",
    "    print('inside 3rd elif')\n",
    "    print('First Class')\n",
    "elif(i > [range(75,101)]):\n",
    "    print('inside 4th elif')\n",
    "    print('Distinction')\n",
    "else:\n",
    "    print('Please enter int/float values only')\n",
    "\n",
    "    \n"
   ]
  },
  {
   "cell_type": "code",
   "execution_count": 15,
   "id": "8f7d58ea",
   "metadata": {},
   "outputs": [
    {
     "ename": "SyntaxError",
     "evalue": "invalid syntax (1398281588.py, line 10)",
     "output_type": "error",
     "traceback": [
      "\u001b[1;36m  Input \u001b[1;32mIn [15]\u001b[1;36m\u001b[0m\n\u001b[1;33m    elif(i >= (mylist1 = [*range(36,66,1)]):\u001b[0m\n\u001b[1;37m                       ^\u001b[0m\n\u001b[1;31mSyntaxError\u001b[0m\u001b[1;31m:\u001b[0m invalid syntax\n"
     ]
    }
   ],
   "source": [
    "mylist = [*range(1,101,1)]  # * is unpacking operator\n",
    "print(mylist)\n",
    "i = float(input('Enter the Marks:'))\n",
    "print('i =',i)\n",
    "if(i < 35):\n",
    "    print('Fail')\n",
    "elif(i == 35):\n",
    "    print('inside 1st elif')\n",
    "    print('Just Pass')\n",
    "elif(i >= (mylist1 = [*range(36,66,1)]):    \n",
    "    \n",
    "mylist1 = [*range(36,66,1)]\n",
    "print(mylist1)\n",
    "i in mylist1\n",
    "print('Second Class')\n",
    "    \n",
    "    \n",
    "\n"
   ]
  },
  {
   "cell_type": "code",
   "execution_count": 4,
   "id": "bb2eea72",
   "metadata": {},
   "outputs": [
    {
     "name": "stdout",
     "output_type": "stream",
     "text": [
      "[36, 37, 38, 39, 40, 41, 42, 43, 44, 45, 46, 47, 48, 49, 50, 51, 52, 53, 54, 55, 56, 57, 58, 59, 60, 61, 62, 63, 64, 65]\n"
     ]
    }
   ],
   "source": [
    "list1 = [*range(36,66)]\n",
    "print(list1)"
   ]
  },
  {
   "cell_type": "code",
   "execution_count": 16,
   "id": "c2c22e16",
   "metadata": {},
   "outputs": [
    {
     "name": "stdout",
     "output_type": "stream",
     "text": [
      "[1, 2, 3, 4, 5, 6, 7, 8, 9, 10, 11, 12, 13, 14, 15, 16, 17, 18, 19, 20, 21, 22, 23, 24, 25, 26, 27, 28, 29, 30, 31, 32, 33, 34, 35, 36, 37, 38, 39, 40, 41, 42, 43, 44, 45, 46, 47, 48, 49, 50, 51, 52, 53, 54, 55, 56, 57, 58, 59, 60, 61, 62, 63, 64, 65, 66, 67, 68, 69, 70, 71, 72, 73, 74, 75, 76, 77, 78, 79, 80, 81, 82, 83, 84, 85, 86, 87, 88, 89, 90, 91, 92, 93, 94, 95, 96, 97, 98, 99, 100]\n",
      "Enter the Marks:65\n",
      "i = 65.0\n",
      "[36, 37, 38, 39, 40, 41, 42, 43, 44, 45, 46, 47, 48, 49, 50, 51, 52, 53, 54, 55, 56, 57, 58, 59, 60, 61, 62, 63, 64, 65]\n",
      "Second Class\n"
     ]
    }
   ],
   "source": [
    "mylist = [*range(1,101,1)]  # * is unpacking operator\n",
    "print(mylist)\n",
    "i = float(input('Enter the Marks:'))\n",
    "print('i =',i)\n",
    "if(i < 35):\n",
    "    print('Fail')\n",
    "elif(i == 35):\n",
    "    print('inside 1st elif')\n",
    "    print('Just Pass')\n",
    "\n",
    "    \n",
    "mylist1 = [*range(36,66,1)]\n",
    "print(mylist1)\n",
    "i in mylist1\n",
    "print('Second Class')"
   ]
  },
  {
   "cell_type": "code",
   "execution_count": null,
   "id": "4dfea70f",
   "metadata": {},
   "outputs": [],
   "source": [
    "i = float(input('Enter the Marks:'))\n",
    "print('i =',i)\n",
    "if(i < 35):\n",
    "    print('Fail')\n",
    "elif(i == 35):\n",
    "    print('inside 1st elif')\n",
    "    print('Just Pass')\n",
    "elif(i >= 36 and i <= 65 ):\n",
    "    print('inside 2nd elif')\n",
    "    print('Second Class')\n",
    "elif(i >= 66 and i <= 75):\n",
    "    print('inside 3rd elif')\n",
    "    print('First Class')\n",
    "elif(i > 75):\n",
    "    print('inside 4th elif')\n",
    "    print('Distinction')\n",
    "else:\n",
    "    print('Please enter int/float values only')"
   ]
  },
  {
   "cell_type": "code",
   "execution_count": 4,
   "id": "4e298cb4",
   "metadata": {},
   "outputs": [
    {
     "name": "stdout",
     "output_type": "stream",
     "text": [
      "Enter the grade:77\n",
      "Grade = 77.0\n",
      "Distinction\n"
     ]
    }
   ],
   "source": [
    "i = float(input('Enter the grade:'))\n",
    "print('Grade =', i)\n",
    "if(i < 35):\n",
    "    print('Fail')\n",
    "elif(i == 35):\n",
    "    print('Just Pass')\n",
    "elif(i >= 36 and i <= 65 ):\n",
    "    print('Second Class')\n",
    "elif(i >= 66 and i <= 75):\n",
    "    print('First Class')\n",
    "elif(i > 75):\n",
    "    print('Distinction')\n",
    "else:\n",
    "    print('Please enter int/float values only')"
   ]
  },
  {
   "cell_type": "code",
   "execution_count": 7,
   "id": "9e9bae6c",
   "metadata": {},
   "outputs": [
    {
     "name": "stdout",
     "output_type": "stream",
     "text": [
      "------------------------------------------------------------------------------------------------------------------------\n"
     ]
    }
   ],
   "source": [
    "print('-'* 120)"
   ]
  },
  {
   "cell_type": "code",
   "execution_count": 10,
   "id": "7755c602",
   "metadata": {
    "scrolled": true
   },
   "outputs": [
    {
     "name": "stdout",
     "output_type": "stream",
     "text": [
      "2\n",
      "4\n",
      "6\n",
      "8\n",
      "10\n",
      "12\n",
      "14\n",
      "16\n",
      "18\n",
      "20\n",
      "22\n",
      "24\n",
      "26\n",
      "28\n",
      "30\n",
      "32\n",
      "34\n",
      "36\n",
      "38\n",
      "40\n",
      "42\n",
      "44\n",
      "46\n",
      "48\n",
      "50\n",
      "52\n",
      "54\n",
      "56\n",
      "58\n",
      "60\n",
      "62\n",
      "64\n",
      "66\n",
      "68\n",
      "70\n",
      "72\n",
      "74\n",
      "76\n",
      "78\n",
      "80\n",
      "82\n",
      "84\n",
      "86\n",
      "88\n",
      "90\n",
      "92\n",
      "94\n",
      "96\n",
      "98\n",
      "100\n"
     ]
    }
   ],
   "source": [
    "\n",
    "i = 2\n",
    "while(i<= 100):\n",
    "    print(i)\n",
    "    i = i+2"
   ]
  },
  {
   "cell_type": "code",
   "execution_count": 19,
   "id": "1390a597",
   "metadata": {},
   "outputs": [
    {
     "name": "stdout",
     "output_type": "stream",
     "text": [
      "Interation\t\tValue\n",
      "----------\t\t-----\n",
      "1\t\t\tP\n",
      "2\t\t\tY\n",
      "3\t\t\tT\n",
      "4\t\t\tH\n",
      "5\t\t\tO\n",
      "6\t\t\tN\n",
      "7\t\t\t \n",
      "8\t\t\tP\n",
      "9\t\t\tR\n",
      "10\t\t\tO\n",
      "11\t\t\tG\n",
      "12\t\t\tR\n",
      "13\t\t\tA\n",
      "14\t\t\tM\n"
     ]
    }
   ],
   "source": [
    "str1 = 'PYTHON PROGRAM'\n",
    "print('Interation','Value', sep = '\\t\\t' )\n",
    "print('----------','-----', sep = '\\t\\t' )\n",
    "i=1\n",
    "while(i<=14):\n",
    "    print(i,str1[i-1], sep = '\\t\\t\\t')\n",
    "    i = i+1 "
   ]
  },
  {
   "cell_type": "code",
   "execution_count": 1,
   "id": "be12a179",
   "metadata": {},
   "outputs": [
    {
     "name": "stdout",
     "output_type": "stream",
     "text": [
      "------------------------------------------------------------------------------------------------------------------------\n"
     ]
    }
   ],
   "source": [
    "print('-'* 120)"
   ]
  },
  {
   "cell_type": "markdown",
   "id": "2df85510",
   "metadata": {},
   "source": [
    "#### Write a program based on below conditions:\n",
    "\n",
    "- < 35 -- Fail\n",
    "- 35 -- Just Pass\n",
    "- 36-65 -- Second class\n",
    "- 66-75 -- First calss\n",
    "- (> 75) - Distinction"
   ]
  },
  {
   "cell_type": "code",
   "execution_count": 15,
   "id": "8a0918c8",
   "metadata": {},
   "outputs": [
    {
     "name": "stdout",
     "output_type": "stream",
     "text": [
      "Enter the marks: 65\n",
      "II class\n"
     ]
    }
   ],
   "source": [
    "marks = int(input('Enter the marks: '))\n",
    "\n",
    "if(marks < 35):\n",
    "    print('Fail')\n",
    "elif(marks==35):\n",
    "    print('Just Pass')\n",
    "elif(marks>=36 and marks<=65):\n",
    "    print('II class')\n",
    "elif(marks >= 66 and marks <= 75):\n",
    "    print('I class')\n",
    "elif(marks > 75):\n",
    "    print('Distinction')"
   ]
  },
  {
   "cell_type": "code",
   "execution_count": 16,
   "id": "3c8137d4",
   "metadata": {},
   "outputs": [
    {
     "name": "stdout",
     "output_type": "stream",
     "text": [
      "65 pass\n"
     ]
    }
   ],
   "source": [
    "if marks in range(36,66):\n",
    "    print(marks,'pass')"
   ]
  },
  {
   "cell_type": "markdown",
   "id": "177003d1",
   "metadata": {},
   "source": [
    "## Nested if and if-else statements"
   ]
  },
  {
   "cell_type": "code",
   "execution_count": 5,
   "id": "da093a70",
   "metadata": {},
   "outputs": [
    {
     "name": "stdout",
     "output_type": "stream",
     "text": [
      "Enter the marks: 70\n",
      "Pass\n"
     ]
    }
   ],
   "source": [
    "## Nested if\n",
    "\n",
    "\n",
    "marks = int(input('Enter the marks: '))\n",
    "\n",
    "if(marks>=35):\n",
    "    if(marks>=75):\n",
    "        print('Distinction')\n",
    "    if(marks<75):\n",
    "        print('Pass')\n",
    "else:\n",
    "    print('Fail')"
   ]
  },
  {
   "cell_type": "code",
   "execution_count": 19,
   "id": "3a72726f",
   "metadata": {},
   "outputs": [
    {
     "name": "stdout",
     "output_type": "stream",
     "text": [
      "Enter a number: 90\n",
      "Number is > 0\n"
     ]
    }
   ],
   "source": [
    "# nested if-else\n",
    "\n",
    "num = int(input('Enter a number: '))\n",
    "\n",
    "if(num != 0):\n",
    "    if(num > 0):\n",
    "        print('Number is > 0')\n",
    "    else:\n",
    "        print('Number is < 0')\n",
    "else:\n",
    "    print('Number is equal to 0')"
   ]
  },
  {
   "cell_type": "markdown",
   "id": "8d42719d",
   "metadata": {},
   "source": [
    "### Write a program based on below conditions:\n",
    "\n",
    "- < 35 -- Fail\n",
    "- 35 -- Just Pass\n",
    "- 36-65 -- Second class\n",
    "- 66-75 -- First calss\n",
    "- (> 75) - Distinction"
   ]
  },
  {
   "cell_type": "code",
   "execution_count": 8,
   "id": "ad443be9",
   "metadata": {},
   "outputs": [
    {
     "name": "stdout",
     "output_type": "stream",
     "text": [
      "Enter the marks: 33\n",
      "Fail\n"
     ]
    }
   ],
   "source": [
    "# Re-write the same program without elif, insted use nested if/if-else\n",
    "\n",
    "marks = int(input('Enter the marks: '))\n",
    "\n",
    "if(marks>=35):\n",
    "    if(marks>=75):\n",
    "        print('Distinction')\n",
    "    if(marks >= 66 and marks <= 75):\n",
    "        print('First Class')\n",
    "    if(marks >= 36 and marks <= 65):\n",
    "        print('Second Class')\n",
    "    if(marks == 35):\n",
    "        print('Just Pass')\n",
    "else:\n",
    "    print('Fail')\n",
    "    "
   ]
  },
  {
   "attachments": {
    "image.png": {
     "image/png": "[encoded data removed]"
    }
   },
   "cell_type": "markdown",
   "id": "a00f774d",
   "metadata": {},
   "source": [
    "## Python Loops\n",
    "- While loop\n",
    "- For loop\n",
    "- Nested Loops\n",
    "### while loop\n",
    "- while loop repeats the same code as long as the given condition is true.\n",
    "#### Syntax:\n",
    "\n",
    "``` while(condition):\n",
    "    statement 1\n",
    "    statement 2\n",
    "    ...... \n",
    "    increment/decrement         # to terminate the loop after a specific point\n",
    "```\n",
    "\n",
    "![image.png](attachment:image.png)"
   ]
  },
  {
   "cell_type": "code",
   "execution_count": 1,
   "id": "1a332186",
   "metadata": {},
   "outputs": [
    {
     "name": "stdout",
     "output_type": "stream",
     "text": [
      "Inside WHILE loop\n",
      "Inside WHILE loop\n",
      "Inside WHILE loop\n",
      "Inside WHILE loop\n",
      "Inside WHILE loop\n"
     ]
    }
   ],
   "source": [
    "i = 5\n",
    "\n",
    "while(i<10):\n",
    "    print('Inside WHILE loop')\n",
    "    i = i+1 # increment logic\n",
    "    # i+=1 # another way of writing i = i+1"
   ]
  },
  {
   "cell_type": "code",
   "execution_count": 2,
   "id": "ef4a0c23",
   "metadata": {},
   "outputs": [
    {
     "name": "stdout",
     "output_type": "stream",
     "text": [
      "1\n",
      "2\n",
      "3\n",
      "4\n",
      "5\n",
      "6\n",
      "7\n",
      "8\n",
      "9\n",
      "10\n"
     ]
    }
   ],
   "source": [
    "i = 1\n",
    "\n",
    "while(i<=10):\n",
    "    print(i)\n",
    "    i = i+1"
   ]
  },
  {
   "cell_type": "code",
   "execution_count": 3,
   "id": "876e39a2",
   "metadata": {},
   "outputs": [
    {
     "name": "stdout",
     "output_type": "stream",
     "text": [
      "1 2 3 4 5 6 7 8 9 10 "
     ]
    }
   ],
   "source": [
    "i = 1\n",
    "\n",
    "while(i<=10):\n",
    "    print(i, end = ' ')\n",
    "    i = i+1"
   ]
  },
  {
   "cell_type": "code",
   "execution_count": 4,
   "id": "d1703272",
   "metadata": {},
   "outputs": [
    {
     "name": "stdout",
     "output_type": "stream",
     "text": [
      "1\t2\t3\t4\t5\t6\t7\t8\t9\t10\t"
     ]
    }
   ],
   "source": [
    "i = 1\n",
    "\n",
    "while(i<=10):\n",
    "    print(i, end = '\\t')\n",
    "    i = i+1"
   ]
  },
  {
   "cell_type": "markdown",
   "id": "2a8fdd51",
   "metadata": {},
   "source": [
    "#### Print the below output:\n",
    "```\n",
    "1\n",
    "    2\n",
    "        3\n",
    "            4\n",
    "                5\n",
    "                    6\n",
    "```"
   ]
  },
  {
   "cell_type": "code",
   "execution_count": 6,
   "id": "9469e544",
   "metadata": {},
   "outputs": [
    {
     "name": "stdout",
     "output_type": "stream",
     "text": [
      " 1\n",
      "   2\n",
      "     3\n",
      "       4\n",
      "         5\n",
      "           6\n",
      "             7\n",
      "               8\n",
      "                 9\n",
      "                   10\n"
     ]
    }
   ],
   "source": [
    "i = 1\n",
    "\n",
    "while(i<=10):\n",
    "    print((i-1)*'  ',i)\n",
    "    i = i+1"
   ]
  },
  {
   "cell_type": "code",
   "execution_count": 7,
   "id": "2f0df65f",
   "metadata": {},
   "outputs": [
    {
     "name": "stdout",
     "output_type": "stream",
     "text": [
      "1\n",
      "..2\n",
      "....3\n",
      "......4\n",
      "........5\n",
      "..........6\n",
      "............7\n",
      "..............8\n",
      "................9\n",
      "..................10\n"
     ]
    }
   ],
   "source": [
    "i = 1\n",
    "\n",
    "while(i<=10):\n",
    "    print((i-1)*'..', end = '')\n",
    "    print(i)\n",
    "    i = i+1"
   ]
  },
  {
   "cell_type": "code",
   "execution_count": 8,
   "id": "d7a45238",
   "metadata": {},
   "outputs": [
    {
     "name": "stdout",
     "output_type": "stream",
     "text": [
      "10\n",
      "9\n",
      "8\n",
      "7\n",
      "6\n",
      "5\n",
      "4\n",
      "3\n",
      "2\n",
      "1\n",
      "10 9 8 7 6 5 4 3 2 1 "
     ]
    }
   ],
   "source": [
    "# print 1 to 10 numbers  in reverse order using while\n",
    "# horizontally & vertically\n",
    "\n",
    "i = 10\n",
    "\n",
    "while(i>=1):\n",
    "    print(i)\n",
    "    i = i-1\n",
    "    \n",
    "i = 10\n",
    "\n",
    "while(i>=1):\n",
    "    print(i, end = ' ')\n",
    "    i = i-1"
   ]
  },
  {
   "cell_type": "code",
   "execution_count": 9,
   "id": "8269f294",
   "metadata": {},
   "outputs": [
    {
     "name": "stdout",
     "output_type": "stream",
     "text": [
      "2,4,6,8,10,12,14,16,18,20,22,24,26,28,30,32,34,36,38,40,42,44,46,48,50,52,54,56,58,60,62,64,66,68,70,72,74,76,78,80,82,84,86,88,90,92,94,96,98,100,"
     ]
    }
   ],
   "source": [
    "# print even numbers (between 1 to 100) using while loop\n",
    "\n",
    "i = 2\n",
    "j = 100\n",
    "while(i<=j):\n",
    "    print(i, end = ',')\n",
    "    i = i+2"
   ]
  },
  {
   "cell_type": "code",
   "execution_count": 10,
   "id": "4f5a2c9d",
   "metadata": {},
   "outputs": [
    {
     "name": "stdout",
     "output_type": "stream",
     "text": [
      "1,3,5,7,9,11,13,15,17,19,21,23,25,27,29,31,33,35,37,39,41,43,45,47,49,51,53,55,57,59,61,63,65,67,69,71,73,75,77,79,81,83,85,87,89,91,93,95,97,99,"
     ]
    }
   ],
   "source": [
    "# print odd numbers (between 1 to 100) using while loop\n",
    "\n",
    "i = 1\n",
    "j = 100\n",
    "while(i<=j):\n",
    "    print(i, end = ',')\n",
    "    i = i+2"
   ]
  },
  {
   "cell_type": "code",
   "execution_count": 12,
   "id": "d93c290c",
   "metadata": {},
   "outputs": [
    {
     "name": "stdout",
     "output_type": "stream",
     "text": [
      "P\n",
      "Y\n",
      "T\n",
      "H\n",
      "O\n",
      "N\n",
      " \n",
      "P\n",
      "R\n",
      "O\n",
      "G\n",
      "R\n",
      "A\n",
      "M\n"
     ]
    }
   ],
   "source": [
    "str1 = 'PYTHON PROGRAM'\n",
    "\n",
    "str1[0]\n",
    "str1[1]\n",
    "str1[2]\n",
    "str1[3]\n",
    "str1[4]\n",
    "str1[5]\n",
    "str1[6]\n",
    "\n",
    "i = 0\n",
    "j = len(str1)\n",
    "while(i<j):\n",
    "    print(str1[i])\n",
    "    i = i+1\n",
    "    #print() # this prints an empty line\n"
   ]
  },
  {
   "attachments": {
    "image.png": {
     "image/png": "[encoded data removed]"
    }
   },
   "cell_type": "markdown",
   "id": "f1d08b09",
   "metadata": {},
   "source": [
    "#### Write a program to print the below output\n",
    "![image.png](attachment:image.png)\n"
   ]
  },
  {
   "cell_type": "code",
   "execution_count": 13,
   "id": "d2fdd627",
   "metadata": {},
   "outputs": [
    {
     "name": "stdout",
     "output_type": "stream",
     "text": [
      "Iteration \t Value\n",
      "---------- \t -----\n",
      "1 \t\t P\n",
      "2 \t\t y\n",
      "3 \t\t t\n",
      "4 \t\t h\n",
      "5 \t\t o\n",
      "6 \t\t n\n",
      "7 \t\t  \n",
      "8 \t\t P\n",
      "9 \t\t r\n",
      "10 \t\t o\n",
      "11 \t\t g\n",
      "12 \t\t r\n",
      "13 \t\t a\n",
      "14 \t\t m\n"
     ]
    }
   ],
   "source": [
    "str1 = 'Python Program'\n",
    "print('Iteration \\t Value')\n",
    "print('-'*10, '\\t', '-'*5)\n",
    "i = 1\n",
    "while(i<=14):\n",
    "    print(i,'\\t\\t', str1[i-1])\n",
    "    i = i+1"
   ]
  },
  {
   "cell_type": "code",
   "execution_count": 11,
   "id": "2463aa10",
   "metadata": {},
   "outputs": [
    {
     "name": "stdout",
     "output_type": "stream",
     "text": [
      "Enter the marks: 66\n",
      "First Class\n"
     ]
    }
   ],
   "source": [
    "# Re-write the same program without elif, insted use nested if/if-else\n",
    "\n",
    "marks = int(input('Enter the marks: '))\n",
    "\n",
    "if(marks>=35):\n",
    "    if(marks>=75):\n",
    "        print('Distinction')\n",
    "    if(marks >= 66 and marks <= 75):\n",
    "        print('First Class')\n",
    "    if(marks >= 36 and marks <= 65):\n",
    "        print('Second Class')\n",
    "    if(marks == 35):\n",
    "        print('Just Pass')\n",
    "else:\n",
    "    print('Fail')\n",
    "    "
   ]
  },
  {
   "attachments": {
    "download.png": {
     "image/png": "[encoded data removed]"
    }
   },
   "cell_type": "markdown",
   "id": "31075b5f",
   "metadata": {},
   "source": [
    "## Nested while loop\n",
    "\n",
    "![download.png](attachment:download.png)"
   ]
  },
  {
   "cell_type": "raw",
   "id": "d8a1ce2c",
   "metadata": {},
   "source": [
    "i = 1\n",
    "j = 5\n",
    "\n",
    "\n",
    "while(i <= j):\n",
    "    print(i)\n",
    "    i = i+1"
   ]
  },
  {
   "cell_type": "markdown",
   "id": "d14f52fc",
   "metadata": {},
   "source": [
    "### Write a program to print the below output:\n",
    "```\n",
    "1\n",
    "1.1\n",
    "1.2\n",
    "1.3\n",
    "...\n",
    "...\n",
    "...\n",
    "5\n",
    "5.1\n",
    "5.2\n",
    "5.3\n",
    "```"
   ]
  },
  {
   "cell_type": "code",
   "execution_count": 2,
   "id": "bfb9eac3",
   "metadata": {},
   "outputs": [
    {
     "name": "stdout",
     "output_type": "stream",
     "text": [
      "1\n",
      "1.1\n",
      "1.2\n",
      "2\n",
      "3\n",
      "4\n",
      "5\n"
     ]
    }
   ],
   "source": [
    "parent_loop_start_val = 1\n",
    "parent_loop_end_val = 5\n",
    "\n",
    "child_loop_start_val = 0.1\n",
    "child_loop_end_val = 0.3\n",
    "\n",
    "# parent while loop\n",
    "while(parent_loop_start_val<=parent_loop_end_val):\n",
    "    print(parent_loop_start_val)\n",
    "    # inner while loop\n",
    "    while(child_loop_start_val<=child_loop_end_val):\n",
    "        print(parent_loop_start_val + child_loop_start_val)\n",
    "        child_loop_start_val = child_loop_start_val+0.1\n",
    "    parent_loop_start_val = parent_loop_start_val+1"
   ]
  },
  {
   "cell_type": "code",
   "execution_count": null,
   "id": "608a0eaa",
   "metadata": {},
   "outputs": [],
   "source": []
  },
  {
   "cell_type": "code",
   "execution_count": 1,
   "id": "a0b1eae5",
   "metadata": {},
   "outputs": [
    {
     "name": "stdout",
     "output_type": "stream",
     "text": [
      "1\n",
      "1.1\n",
      "1.2\n",
      "1.3\n",
      "2\n",
      "2.1\n",
      "2.2\n",
      "2.3\n",
      "3\n",
      "3.1\n",
      "3.2\n",
      "3.3\n",
      "4\n",
      "4.1\n",
      "4.2\n",
      "4.3\n",
      "5\n",
      "5.1\n",
      "5.2\n",
      "5.3\n"
     ]
    }
   ],
   "source": [
    "i = 1\n",
    "j = 5\n",
    "\n",
    "\n",
    "while(i <= j):\n",
    "    print(i)\n",
    "    if(i <= j):\n",
    "        print(i + 0.1,i + 0.2,i + 0.3, sep='\\n' )\n",
    "    i = i + 1"
   ]
  },
  {
   "cell_type": "code",
   "execution_count": 2,
   "id": "9e40ffe8",
   "metadata": {},
   "outputs": [
    {
     "name": "stdout",
     "output_type": "stream",
     "text": [
      "1\n",
      "1.1\n",
      "1.2\n",
      "1.3\n",
      "2\n",
      "2.1\n",
      "2.2\n",
      "2.3\n",
      "3\n",
      "3.1\n",
      "3.2\n",
      "3.3\n",
      "4\n",
      "4.1\n",
      "4.2\n",
      "4.3\n",
      "5\n",
      "5.1\n",
      "5.2\n",
      "5.3\n"
     ]
    }
   ],
   "source": [
    "i,j,k,l = 1,5,0.1,0.3\n",
    "\n",
    "while(i <= j):\n",
    "    print(i)\n",
    "    k = 0.1\n",
    "    while(k <= l):\n",
    "        print(i + k)\n",
    "        k = round(k + 0.1,1)\n",
    "    i = i+1\n"
   ]
  },
  {
   "cell_type": "markdown",
   "id": "59646cd5",
   "metadata": {},
   "source": [
    "### Write a program to print the below output\n",
    "```\n",
    "1\n",
    "    1.1 \n",
    "        1.1.1\n",
    "        1.1.2\n",
    "    1.2\n",
    "        1.2.1\n",
    "        1.2.\n",
    "2\n",
    "    2.1\n",
    "        2.1.1\n",
    "        2.1.2\n",
    "    2.2\n",
    "        2.2.1\n",
    "        2.2.2\n",
    "```"
   ]
  },
  {
   "cell_type": "code",
   "execution_count": 10,
   "id": "d91314ab",
   "metadata": {},
   "outputs": [
    {
     "name": "stdout",
     "output_type": "stream",
     "text": [
      "1\n",
      "\t1.1\n",
      "\t\t1.1.1\n",
      "\t\t1.1.2\n",
      "\t1.2\n",
      "\t\t1.2.1\n",
      "\t\t1.2.2\n",
      "2\n",
      "\t2.1\n",
      "\t\t2.1.1\n",
      "\t\t2.1.2\n",
      "\t2.2\n",
      "\t\t2.2.1\n",
      "\t\t2.2.2\n"
     ]
    }
   ],
   "source": [
    "#### Write a program to print the below output\n",
    "\n",
    "i,j,k,l,m,n = 1,2,1,2,1,2\n",
    "\n",
    "while(i <= j):\n",
    "    print(i)\n",
    "    k = 1\n",
    "    while(k <= l):\n",
    "        print('\\t'+ str(i) + '.'+ str(k))\n",
    "        m = 1\n",
    "        while(m <= n):\n",
    "            print('\\t\\t'+ str(i) + '.'+ str(k) +'.'+ str(m)  )\n",
    "            m = m+1\n",
    "        k = k+1\n",
    "        \n",
    "    i = i+1"
   ]
  },
  {
   "cell_type": "markdown",
   "id": "deef1572",
   "metadata": {},
   "source": [
    "#### to do:\n",
    "```write a program to print the below program\n",
    "multiplication table\n",
    " 20 * 1 = 20 \n",
    " \n",
    "```\n",
    "\n",
    "![image.png](attachment:image.png)"
   ]
  },
  {
   "cell_type": "code",
   "execution_count": 1,
   "id": "a4b95023",
   "metadata": {},
   "outputs": [
    {
     "name": "stdout",
     "output_type": "stream",
     "text": [
      "20 \t * \t 1 \t = \t 20\n",
      "20 \t * \t 2 \t = \t 40\n",
      "20 \t * \t 3 \t = \t 60\n",
      "20 \t * \t 4 \t = \t 80\n",
      "20 \t * \t 5 \t = \t 100\n",
      "20 \t * \t 6 \t = \t 120\n",
      "20 \t * \t 7 \t = \t 140\n",
      "20 \t * \t 8 \t = \t 160\n",
      "20 \t * \t 9 \t = \t 180\n",
      "20 \t * \t 10 \t = \t 200\n"
     ]
    }
   ],
   "source": [
    "i = 1\n",
    "j = 10\n",
    "while(i <= j):\n",
    "    k = 20 * i\n",
    "    print('20','\\t','*','\\t',i,'\\t','=','\\t',k)\n",
    "    i = i+1"
   ]
  },
  {
   "cell_type": "code",
   "execution_count": 8,
   "id": "d8d81f79",
   "metadata": {},
   "outputs": [
    {
     "name": "stdout",
     "output_type": "stream",
     "text": [
      "Enter a number:5\n",
      "Enter a number:1\n",
      "Enter a number:20\n",
      "5 \t * \t 1 \t = \t 5\n",
      "5 \t * \t 2 \t = \t 10\n",
      "5 \t * \t 3 \t = \t 15\n",
      "5 \t * \t 4 \t = \t 20\n",
      "5 \t * \t 5 \t = \t 25\n",
      "5 \t * \t 6 \t = \t 30\n",
      "5 \t * \t 7 \t = \t 35\n",
      "5 \t * \t 8 \t = \t 40\n",
      "5 \t * \t 9 \t = \t 45\n",
      "5 \t * \t 10 \t = \t 50\n",
      "5 \t * \t 11 \t = \t 55\n",
      "5 \t * \t 12 \t = \t 60\n",
      "5 \t * \t 13 \t = \t 65\n",
      "5 \t * \t 14 \t = \t 70\n",
      "5 \t * \t 15 \t = \t 75\n",
      "5 \t * \t 16 \t = \t 80\n",
      "5 \t * \t 17 \t = \t 85\n",
      "5 \t * \t 18 \t = \t 90\n",
      "5 \t * \t 19 \t = \t 95\n",
      "5 \t * \t 20 \t = \t 100\n"
     ]
    }
   ],
   "source": [
    "n = int(input('Enter a number:'))    \n",
    "i = int(input('Enter a number:'))\n",
    "j = int(input('Enter a number:'))\n",
    "while(i <= j):\n",
    "    k = n * i\n",
    "    print(n ,'\\t','*','\\t',i,'\\t','=','\\t',k)\n",
    "    i = i+1"
   ]
  },
  {
   "cell_type": "code",
   "execution_count": 6,
   "id": "4d5772de",
   "metadata": {},
   "outputs": [],
   "source": [
    "mylist1 = list(range(10,51,10))\n",
    "mylist1 = list(range(100,501,100))\n",
    "\n",
    "i = 0\n",
    "j = len(mylist1)\n",
    "k = []\n"
   ]
  },
  {
   "cell_type": "code",
   "execution_count": 5,
   "id": "2dc1e323",
   "metadata": {},
   "outputs": [
    {
     "name": "stdout",
     "output_type": "stream",
     "text": [
      "[110, 220, 330, 440, 550]\n"
     ]
    }
   ],
   "source": [
    "mylist1 = list(range(10,51,10))\n",
    "mylist2 = list(range(100,501,100))\n",
    "\n",
    "# write a program to add the values in the above lists:\n",
    "# [110,220,330,440,550]\n",
    "# check if both lists are of same length only then proceed for addition\n",
    "\n",
    "i = 0\n",
    "j = len(mylist1)\n",
    "k = []\n",
    "if(len(mylist1) == len(mylist2)):\n",
    "    while(i<j):\n",
    "        k.append(mylist1[i] + mylist2[i])\n",
    "        i = i+1\n",
    "\n",
    "print(k)"
   ]
  },
  {
   "cell_type": "code",
   "execution_count": 6,
   "id": "f9502846",
   "metadata": {},
   "outputs": [
    {
     "name": "stdout",
     "output_type": "stream",
     "text": [
      "[8, 16, 24, 32, 40, 48, 56, 64, 72, 80, 88, 96]\n"
     ]
    }
   ],
   "source": [
    "# list of numbers divisble by 8 between 1 to 100\n",
    "i = 1\n",
    "j = 100\n",
    "k = []\n",
    "while(i<=j):\n",
    "    if(i%8 == 0):\n",
    "        k.append(i)\n",
    "    i = i+1\n",
    "    \n",
    "print(k)"
   ]
  },
  {
   "cell_type": "markdown",
   "id": "9db29e01",
   "metadata": {},
   "source": [
    "### for loop\n",
    "```\n",
    "A for loop is used to iterate over a sequence (range) or iterable object (string, list, tuple, dictionary or sets).\n",
    "\n",
    "for i in iterableobject:\n",
    "    statement 1\n",
    "    statement 2\n",
    "    ...\n",
    "```"
   ]
  },
  {
   "cell_type": "code",
   "execution_count": 7,
   "id": "32e36183",
   "metadata": {},
   "outputs": [
    {
     "name": "stdout",
     "output_type": "stream",
     "text": [
      "P\n",
      "Y\n",
      "T\n",
      "H\n",
      "O\n",
      "N\n"
     ]
    }
   ],
   "source": [
    "str1 = 'PYTHON'\n",
    "i = 0\n",
    "j = len(str1)\n",
    "while(i<j):\n",
    "    print(str1[i])\n",
    "    i = i+1"
   ]
  },
  {
   "cell_type": "code",
   "execution_count": 8,
   "id": "bc1939d6",
   "metadata": {},
   "outputs": [
    {
     "name": "stdout",
     "output_type": "stream",
     "text": [
      "P\n",
      "Y\n",
      "T\n",
      "H\n",
      "O\n",
      "N\n"
     ]
    }
   ],
   "source": [
    "str1 = 'PYTHON'\n",
    "for i in str1:\n",
    "    print(i)"
   ]
  },
  {
   "cell_type": "code",
   "execution_count": 1,
   "id": "c5457ce0",
   "metadata": {},
   "outputs": [
    {
     "name": "stdout",
     "output_type": "stream",
     "text": [
      "black\n",
      "white\n",
      "grey\n",
      "silver\n",
      "maroon\n",
      "------------------------------\n",
      "maroon\n",
      "silver\n",
      "grey\n",
      "white\n",
      "black\n",
      "------------------------------\n",
      "black\n",
      "white\n",
      "grey\n",
      "silver\n",
      "maroon\n"
     ]
    }
   ],
   "source": [
    "mystr_list = [\"black\", \"white\", \"grey\", \"silver\", \"maroon\"]\n",
    "\n",
    "# while vs for\n",
    "\n",
    "i = 0\n",
    "j = len(mystr_list)\n",
    "while(i<j):\n",
    "    print(mystr_list[i])\n",
    "    i = i+1\n",
    "\n",
    "print('-'*30)  \n",
    "\n",
    "# advantage of while\n",
    "j = 0\n",
    "i = len(mystr_list)-1\n",
    "while(i>=j):\n",
    "    print(mystr_list[i])\n",
    "    i = i-1\n",
    "\n",
    "print('-'*30)\n",
    "    \n",
    "for x in mystr_list:\n",
    "    print(x)"
   ]
  },
  {
   "cell_type": "markdown",
   "id": "a0e6a408",
   "metadata": {},
   "source": [
    "### Python range() Function\n",
    "```\n",
    "It generates a list of numbers, which is generally used to iterate over with for loops.\n",
    "\n",
    "Syntax:\n",
    "\n",
    "range([start], stop[, step])\n",
    "\n",
    "start: Starting number of the sequence.\n",
    "\n",
    "stop: Generate numbers up to, but not including this number.\n",
    "\n",
    "step: Difference between each number in the sequence.\n",
    "    ```"
   ]
  },
  {
   "cell_type": "code",
   "execution_count": 8,
   "id": "3619f24a",
   "metadata": {},
   "outputs": [
    {
     "name": "stdout",
     "output_type": "stream",
     "text": [
      "1\n",
      "6\n",
      "11\n"
     ]
    }
   ],
   "source": [
    "for i in range(1,15,5):\n",
    "    print(i)"
   ]
  },
  {
   "cell_type": "code",
   "execution_count": 4,
   "id": "791e36f0",
   "metadata": {},
   "outputs": [
    {
     "name": "stdout",
     "output_type": "stream",
     "text": [
      "[2, 4, 6, 8, 10, 12, 14, 16, 18, 20, 22, 24, 26, 28, 30, 32, 34, 36, 38, 40, 42, 44, 46, 48, 50, 52, 54, 56, 58, 60, 62, 64, 66, 68, 70, 72, 74, 76, 78, 80, 82, 84, 86, 88, 90, 92, 94, 96, 98, 100]\n"
     ]
    }
   ],
   "source": [
    "# even numbers between 1 to 100 in a list\n",
    "k = []\n",
    "for i in range(1,101):\n",
    "    if(i%2 == 0):\n",
    "        k.append(i)\n",
    "        \n",
    "print(k)"
   ]
  },
  {
   "cell_type": "markdown",
   "id": "a18482f0",
   "metadata": {},
   "source": [
    "```\n",
    "Nested for loop    # outer for loop\n",
    "for element in sequence:  # inner for loop\n",
    "    for element in sequence:\n",
    "        body of inner for loop\n",
    "    body of outer for loop\n",
    "    \n",
    "```\n"
   ]
  },
  {
   "cell_type": "markdown",
   "id": "6d588098",
   "metadata": {},
   "source": [
    "**Write a program using for loop to print the below ooutput:**\n",
    "```\n",
    "A - 1\n",
    "A - 2\n",
    "A - 3\n",
    "B - 1\n",
    "B - 2\n",
    "B - 3\n",
    "C - 1\n",
    "C - 2\n",
    "C - 3\n",
    "D - 1\n",
    "D - 2\n",
    "D - 3\n",
    "```"
   ]
  },
  {
   "cell_type": "code",
   "execution_count": 8,
   "id": "326b340d",
   "metadata": {},
   "outputs": [
    {
     "name": "stdout",
     "output_type": "stream",
     "text": [
      "A - 1\n",
      "A - 2\n",
      "A - 3\n",
      "B - 1\n",
      "B - 2\n",
      "B - 3\n",
      "C - 1\n",
      "C - 2\n",
      "C - 3\n",
      "D - 1\n",
      "D - 2\n",
      "D - 3\n"
     ]
    }
   ],
   "source": [
    "mylist1 = ['A', 'B', 'C', 'D']\n",
    "\n",
    "for i in mylist1:\n",
    "    for j in range(1,4):\n",
    "        print(i,'-',j)"
   ]
  },
  {
   "cell_type": "code",
   "execution_count": 9,
   "id": "a1a093f2",
   "metadata": {},
   "outputs": [],
   "source": [
    "# create the below list \n",
    "seasons = [\"Spring\", \"Summer\", \"Fall\", \"Winter\"]\n",
    "# print the below output\n",
    "# 0 Spring\n",
    "# 1 Summer\n",
    "# 2 Fall\n",
    "# 3 Winter"
   ]
  },
  {
   "cell_type": "code",
   "execution_count": 10,
   "id": "cda77571",
   "metadata": {},
   "outputs": [
    {
     "name": "stdout",
     "output_type": "stream",
     "text": [
      "0 Spring\n",
      "1 Spring\n",
      "2 Spring\n",
      "3 Spring\n",
      "0 Summer\n",
      "1 Summer\n",
      "2 Summer\n",
      "3 Summer\n",
      "0 Fall\n",
      "1 Fall\n",
      "2 Fall\n",
      "3 Fall\n",
      "0 Winter\n",
      "1 Winter\n",
      "2 Winter\n",
      "3 Winter\n"
     ]
    }
   ],
   "source": [
    "for i in seasons:\n",
    "    for j in range(0,4):\n",
    "        print(j, i)"
   ]
  },
  {
   "cell_type": "code",
   "execution_count": 11,
   "id": "03b5d733",
   "metadata": {},
   "outputs": [
    {
     "name": "stdout",
     "output_type": "stream",
     "text": [
      "0 Spring\n",
      "1 Summer\n",
      "2 Fall\n",
      "3 Winter\n"
     ]
    }
   ],
   "source": [
    "j = 0\n",
    "for i in seasons:\n",
    "    print(j,i)\n",
    "    j = j+1"
   ]
  },
  {
   "cell_type": "markdown",
   "id": "123663fd",
   "metadata": {},
   "source": [
    "### Python’s enumerate()"
   ]
  },
  {
   "cell_type": "code",
   "execution_count": 112,
   "id": "7bf929c2",
   "metadata": {},
   "outputs": [],
   "source": [
    "from IPython.core.interactiveshell import InteractiveShell\n",
    "InteractiveShell.ast_node_interactivity = 'all'"
   ]
  },
  {
   "cell_type": "code",
   "execution_count": 13,
   "id": "b6e540a4",
   "metadata": {},
   "outputs": [
    {
     "data": {
      "text/plain": [
       "[(0, 'P'), (1, 'Y'), (2, 'T'), (3, 'H'), (4, 'O'), (5, 'N')]"
      ]
     },
     "execution_count": 13,
     "metadata": {},
     "output_type": "execute_result"
    },
    {
     "data": {
      "text/plain": [
       "[(100, 'P'), (101, 'Y'), (102, 'T'), (103, 'H'), (104, 'O'), (105, 'N')]"
      ]
     },
     "execution_count": 13,
     "metadata": {},
     "output_type": "execute_result"
    },
    {
     "data": {
      "text/plain": [
       "[(0, 'Spring'), (1, 'Summer'), (2, 'Fall'), (3, 'Winter')]"
      ]
     },
     "execution_count": 13,
     "metadata": {},
     "output_type": "execute_result"
    },
    {
     "data": {
      "text/plain": [
       "[(0, 'Spring'), (1, 'Summer'), (2, 'Fall'), (3, 'Winter')]"
      ]
     },
     "execution_count": 13,
     "metadata": {},
     "output_type": "execute_result"
    }
   ],
   "source": [
    "list(enumerate('PYTHON'))\n",
    "list(enumerate('PYTHON', 100))\n",
    "\n",
    "list(enumerate(seasons))\n",
    "\n",
    "set1 = {\"Spring\", \"Summer\", \"Fall\", \"Winter\"}\n",
    "list(enumerate(set1))"
   ]
  },
  {
   "cell_type": "code",
   "execution_count": 14,
   "id": "a10323f9",
   "metadata": {},
   "outputs": [
    {
     "name": "stdout",
     "output_type": "stream",
     "text": [
      "(0, 'Spring')\n",
      "(1, 'Summer')\n",
      "(2, 'Fall')\n",
      "(3, 'Winter')\n",
      "--------------------\n",
      "0 Spring\n",
      "1 Summer\n",
      "2 Fall\n",
      "3 Winter\n",
      "--------------------\n",
      "0 Spring\n",
      "1 Summer\n",
      "2 Fall\n",
      "3 Winter\n"
     ]
    }
   ],
   "source": [
    "for i in enumerate(seasons):\n",
    "    print(i)\n",
    "    \n",
    "print('-'*20)\n",
    "\n",
    "for i in enumerate(seasons):\n",
    "    print(i[0], i[1])\n",
    "    \n",
    "print('-'*20)\n",
    "\n",
    "for i,j in enumerate(seasons):\n",
    "    print(i,j)"
   ]
  },
  {
   "cell_type": "markdown",
   "id": "5a5fae6f",
   "metadata": {},
   "source": [
    "```\n",
    "1st Iteration i --> (0, 'Spring') --> i[0], i[1] --> 0 Spring\n",
    "2nd Iteration i --> (1, 'Summer') --> i[0], i[1] --> 1 Summer\n",
    "3rd Iteration i --> (2, 'Fall')   --> i[0], i[1] --> 2 Fall\n",
    "4th Iteration i --> (3, 'Winter') --> i[0], i[1] --> 3 Winter\n",
    "```"
   ]
  },
  {
   "cell_type": "code",
   "execution_count": 16,
   "id": "15aff27f",
   "metadata": {},
   "outputs": [
    {
     "data": {
      "text/plain": [
       "['black', 'grey', 'maroon', 20]"
      ]
     },
     "execution_count": 16,
     "metadata": {},
     "output_type": "execute_result"
    },
    {
     "name": "stdout",
     "output_type": "stream",
     "text": [
      "0 black\n",
      "2 grey\n",
      "4 maroon\n",
      "6 20\n",
      "['black', 'grey', 'maroon', 20]\n"
     ]
    }
   ],
   "source": [
    "# Print alternate values from the below list:\n",
    "mylist2 = ['black', 'white', 'grey', 'silver', 'maroon', 10, 20]\n",
    "\n",
    "mylist2[0:len(mylist2):2]\n",
    "\n",
    "l = []\n",
    "for i,j in enumerate(mylist2):\n",
    "    if(i%2 == 0):\n",
    "        print(i,j)\n",
    "        l.append(j)        \n",
    "print(l)"
   ]
  },
  {
   "cell_type": "markdown",
   "id": "119229dc",
   "metadata": {},
   "source": [
    "## Python `zip()`"
   ]
  },
  {
   "cell_type": "code",
   "execution_count": 17,
   "id": "3f310a3c",
   "metadata": {},
   "outputs": [
    {
     "data": {
      "text/plain": [
       "[('a', 0, 100, 'R'), ('b', 1, 200, 'G'), ('c', 2, 300, 'B')]"
      ]
     },
     "execution_count": 17,
     "metadata": {},
     "output_type": "execute_result"
    },
    {
     "data": {
      "text/plain": [
       "[('a', 0, 100, 'R'), ('b', 1, 200, 'G')]"
      ]
     },
     "execution_count": 17,
     "metadata": {},
     "output_type": "execute_result"
    }
   ],
   "source": [
    "list(zip('abcdefg', range(3), range(100,301,100), ['R', 'G', 'B']))\n",
    "list(zip('abcdefg', range(2), range(100,301,100), ['R', 'G', 'B']))"
   ]
  },
  {
   "cell_type": "code",
   "execution_count": 18,
   "id": "08d369c9",
   "metadata": {},
   "outputs": [
    {
     "name": "stdout",
     "output_type": "stream",
     "text": [
      "abcdefg\n",
      "[0, 1, 2]\n",
      "[100, 200, 300]\n",
      "['R', 'G', 'B']\n"
     ]
    }
   ],
   "source": [
    "print('abcdefg', list(range(3)), list(range(100,301,100)),['R', 'G', 'B'], sep = '\\n')"
   ]
  },
  {
   "cell_type": "code",
   "execution_count": 19,
   "id": "3961bf33",
   "metadata": {},
   "outputs": [
    {
     "data": {
      "text/plain": [
       "[('A', 'D', 'G', 'I', 'Id'),\n",
       " ('B', 'E', 'H', 'N', 'Product'),\n",
       " ('C', 'F', 'I', 'T', 'Price')]"
      ]
     },
     "execution_count": 19,
     "metadata": {},
     "output_type": "execute_result"
    }
   ],
   "source": [
    "mylist1 = ['A','B','C']\n",
    "mylist2 = ['D','E','F']\n",
    "mylist3 = ['G','H','I']\n",
    "str1 = 'INT'\n",
    "mydict1 = {'Id':101, 'Product':'Mobile phone','Price':10000}\n",
    "\n",
    "list(zip(mylist1, mylist2, mylist3, str1, mydict1))"
   ]
  },
  {
   "cell_type": "code",
   "execution_count": 20,
   "id": "c1ffd211",
   "metadata": {},
   "outputs": [],
   "source": [
    "mylist1 = ['A','B','C']\n",
    "mylist2 = ['D','E','F']\n",
    "mylist3 = ['G','H','I']"
   ]
  },
  {
   "cell_type": "markdown",
   "id": "b8e44279",
   "metadata": {},
   "source": [
    "#### Write a prog to print the below output using the above 3 list objects:\n",
    "```\n",
    "A D G\n",
    "B E H\n",
    "C F I\n",
    "```"
   ]
  },
  {
   "cell_type": "code",
   "execution_count": 22,
   "id": "cac06533",
   "metadata": {},
   "outputs": [
    {
     "data": {
      "text/plain": [
       "[('A', 'D', 'G'), ('B', 'E', 'H'), ('C', 'F', 'I')]"
      ]
     },
     "execution_count": 22,
     "metadata": {},
     "output_type": "execute_result"
    }
   ],
   "source": [
    "list(zip(mylist1, mylist2, mylist3))"
   ]
  },
  {
   "cell_type": "code",
   "execution_count": 23,
   "id": "778b8f05",
   "metadata": {},
   "outputs": [
    {
     "name": "stdout",
     "output_type": "stream",
     "text": [
      "A D G\n",
      "B E H\n",
      "C F I\n"
     ]
    }
   ],
   "source": [
    "for i,j,k in zip(mylist1, mylist2, mylist3):\n",
    "    print(i,j,k)"
   ]
  },
  {
   "cell_type": "markdown",
   "id": "b49234b0",
   "metadata": {},
   "source": [
    "**Using nested for loop, print the below output:**\n",
    "```\n",
    "0 -> 0 1 2 3 \n",
    "1 -> 0 1 2 3 \n",
    "2 -> 0 1 2 3 \n",
    "3 -> 0 1 2 3\n",
    "```"
   ]
  },
  {
   "cell_type": "code",
   "execution_count": null,
   "id": "b5be8dab",
   "metadata": {},
   "outputs": [],
   "source": []
  },
  {
   "cell_type": "code",
   "execution_count": 24,
   "id": "b79d801a",
   "metadata": {},
   "outputs": [
    {
     "name": "stdout",
     "output_type": "stream",
     "text": [
      "Enter a number: 4\n",
      "Enter a number: 6\n",
      "0 -> 0 1 2 3 4 5 \n",
      "1 -> 0 1 2 3 4 5 \n",
      "2 -> 0 1 2 3 4 5 \n",
      "3 -> 0 1 2 3 4 5 \n",
      "------------------------------\n",
      "0 -> 0 1 2 3 \n",
      "1 -> 0 1 2 3 \n",
      "2 -> 0 1 2 3 \n",
      "3 -> 0 1 2 3 \n"
     ]
    }
   ],
   "source": [
    "x = int(input('Enter a number: '))             \n",
    "y = int(input('Enter a number: '))\n",
    "\n",
    "for i in range(x):\n",
    "    print(i,'->', end = ' ')\n",
    "    for j in range(y):\n",
    "        print(j, end = ' ')\n",
    "    print()    \n",
    "   \n",
    "        \n",
    "print('-'*30)\n",
    "\n",
    "\n",
    "for i in range(4):                         # pre defined input\n",
    "    print(i,'->', end = ' ')\n",
    "    for j in range(4):\n",
    "        print(j, end = ' ')\n",
    "    print()    \n",
    "           \n",
    "    "
   ]
  },
  {
   "cell_type": "markdown",
   "id": "50eebd02",
   "metadata": {},
   "source": [
    "#### Differences between **while and for** loops\n",
    "- Initialization, condition checking, and iteration statements\n",
    "- for loop: written in the loop header. In for loop condition checking is if the element is the last one or not.Iteration of for loop depends on the length of the iterable object or sequence.\n",
    "-while loop: Initialization before header. condition checking in the header. iteration logic in the the loop.\n",
    "##### When to use while or for\n",
    "- Use for- When you already know the number of iterations.\n",
    "- Use while - When you don’t know the number of iterations."
   ]
  },
  {
   "cell_type": "markdown",
   "id": "185b80a1",
   "metadata": {},
   "source": [
    "#### Python Control Statements:\n",
    "**continue** - It returns the control to the beginning/header of the loop.\n",
    "\n",
    "**break** - It terminates the loop and the execution will comeout of the loop.\n",
    "\n",
    "**pass** - Used to write empty loops or skip the loop execution to last."
   ]
  },
  {
   "cell_type": "code",
   "execution_count": 26,
   "id": "b5defc42",
   "metadata": {},
   "outputs": [
    {
     "name": "stdout",
     "output_type": "stream",
     "text": [
      "\n",
      "Here is a list of the Python keywords.  Enter any keyword to get more help.\n",
      "\n",
      "False               break               for                 not\n",
      "None                class               from                or\n",
      "True                continue            global              pass\n",
      "__peg_parser__      def                 if                  raise\n",
      "and                 del                 import              return\n",
      "as                  elif                in                  try\n",
      "assert              else                is                  while\n",
      "async               except              lambda              with\n",
      "await               finally             nonlocal            yield\n",
      "\n"
     ]
    }
   ],
   "source": [
    "help('keywords')"
   ]
  },
  {
   "cell_type": "markdown",
   "id": "24318bfa",
   "metadata": {},
   "source": [
    "### continue"
   ]
  },
  {
   "cell_type": "code",
   "execution_count": 27,
   "id": "c530897d",
   "metadata": {},
   "outputs": [
    {
     "name": "stdout",
     "output_type": "stream",
     "text": [
      "Character is:  P\n",
      "Character is:  Y\n",
      "Character is:  H\n",
      "Character is:  O\n",
      "Character is:  N\n",
      "Value at the end of the loop is:  N\n"
     ]
    }
   ],
   "source": [
    "mystr1 = 'PYTHON'\n",
    "\n",
    "for i in mystr1: \n",
    "    if(i == 'T'):\n",
    "        continue\n",
    "    print('Character is: ', i)\n",
    "    \n",
    "print('Value at the end of the loop is: ', i)"
   ]
  },
  {
   "cell_type": "markdown",
   "id": "c38b9852",
   "metadata": {},
   "source": [
    "### break"
   ]
  },
  {
   "cell_type": "code",
   "execution_count": 29,
   "id": "4cc6c9a4",
   "metadata": {},
   "outputs": [
    {
     "name": "stdout",
     "output_type": "stream",
     "text": [
      "Character is:  P\n",
      "Character is:  Y\n",
      "Value at the end of the loop is:  T\n"
     ]
    }
   ],
   "source": [
    "mystr1 = 'PYTHON'\n",
    "\n",
    "for i in mystr1: \n",
    "    if(i == 'T'):\n",
    "        break\n",
    "    print('Character is: ', i)\n",
    "    \n",
    "print('Value at the end of the loop is: ', i)"
   ]
  },
  {
   "cell_type": "markdown",
   "id": "f68c6921",
   "metadata": {},
   "source": [
    "### pass"
   ]
  },
  {
   "cell_type": "code",
   "execution_count": 30,
   "id": "15d3293a",
   "metadata": {},
   "outputs": [
    {
     "name": "stdout",
     "output_type": "stream",
     "text": [
      "Character is:  P\n",
      "Character is:  Y\n",
      "Character is:  T\n",
      "Character is:  H\n",
      "Character is:  O\n",
      "Character is:  N\n",
      "Value at the end of the loop is:  N\n"
     ]
    }
   ],
   "source": [
    "mystr1 = 'PYTHON'\n",
    "\n",
    "for i in mystr1: \n",
    "    if(i == 'T'):\n",
    "        pass\n",
    "    print('Character is: ', i)\n",
    "    \n",
    "print('Value at the end of the loop is: ', i)"
   ]
  },
  {
   "cell_type": "code",
   "execution_count": 31,
   "id": "05123280",
   "metadata": {},
   "outputs": [
    {
     "name": "stdout",
     "output_type": "stream",
     "text": [
      "Value at the end of the loop is:  N\n",
      "Value at the end of the loop is:  N\n"
     ]
    }
   ],
   "source": [
    "mystr1 = 'PYTHON'\n",
    "\n",
    "# empty loop\n",
    "for i in mystr1:\n",
    "    print(end = '')\n",
    "    \n",
    "print('Value at the end of the loop is: ', i)\n",
    "\n",
    "# empty loop with pass\n",
    "for i in mystr1:\n",
    "    pass\n",
    "    \n",
    "print('Value at the end of the loop is: ', i)"
   ]
  },
  {
   "attachments": {
    "image.png": {
     "image/png": "[encoded data removed]"
    }
   },
   "cell_type": "markdown",
   "id": "e2e37bf9",
   "metadata": {},
   "source": [
    "### Printing Patterns using Python Loops & Cond. Statements\n",
    "\n",
    "![image.png](attachment:image.png)"
   ]
  },
  {
   "cell_type": "markdown",
   "id": "939c798c",
   "metadata": {},
   "source": [
    "#### Steps involved in Pattern Printing:\n",
    "\n",
    "- Decide the number of rows and columns.\n",
    "- Iterate rows - Outer loop.\n",
    "- Iterate columns - Inner/Nested loop.\n",
    "- Use print() function to print symbols or number or any other character. Use end() param accordigly.\n",
    "- Add a new line/blank line after each iteration of outer loop.\n"
   ]
  },
  {
   "cell_type": "code",
   "execution_count": null,
   "id": "006a802b",
   "metadata": {},
   "outputs": [],
   "source": []
  },
  {
   "cell_type": "code",
   "execution_count": null,
   "id": "15f41009",
   "metadata": {},
   "outputs": [],
   "source": []
  },
  {
   "cell_type": "markdown",
   "id": "723d7e5f",
   "metadata": {},
   "source": [
    "### 1. Print 6X5 matrix "
   ]
  },
  {
   "cell_type": "code",
   "execution_count": 32,
   "id": "71b63fb1",
   "metadata": {},
   "outputs": [
    {
     "name": "stdout",
     "output_type": "stream",
     "text": [
      "*  *  *  *  *  \n",
      "*  *  *  *  *  \n",
      "*  *  *  *  *  \n",
      "*  *  *  *  *  \n",
      "*  *  *  *  *  \n",
      "*  *  *  *  *  \n"
     ]
    }
   ],
   "source": [
    "rows = 6\n",
    "cols = 5\n",
    "for x in range(rows):# Iterate rows - Outer loop\n",
    "    for y in range(cols): # Iterate columns - Inner/Nested loop\n",
    "        print('*', end = '  ') # use print()\n",
    "    print()"
   ]
  },
  {
   "cell_type": "code",
   "execution_count": 2,
   "id": "7ddce94f",
   "metadata": {},
   "outputs": [
    {
     "name": "stdout",
     "output_type": "stream",
     "text": [
      "*  *  *  *  *  \n",
      "*  *  *  *  *  \n",
      "*  *  *  *  *  \n",
      "*  *  *  *  *  \n",
      "*  *  *  *  *  \n",
      "*  *  *  *  *  \n"
     ]
    }
   ],
   "source": [
    "rows = 6\n",
    "cols = 5\n",
    "for x in range(rows):\n",
    "    for y in range(cols):\n",
    "        print('*', end = '  ')\n",
    "    print()   "
   ]
  },
  {
   "cell_type": "markdown",
   "id": "69c1b1a0",
   "metadata": {},
   "source": [
    "### 2. Print 5X5 square"
   ]
  },
  {
   "cell_type": "code",
   "execution_count": 33,
   "id": "e4ad60d1",
   "metadata": {},
   "outputs": [
    {
     "name": "stdout",
     "output_type": "stream",
     "text": [
      "♣  ♣  ♣  ♣  ♣  \n",
      "♣  ♣  ♣  ♣  ♣  \n",
      "♣  ♣  ♣  ♣  ♣  \n",
      "♣  ♣  ♣  ♣  ♣  \n",
      "♣  ♣  ♣  ♣  ♣  \n"
     ]
    }
   ],
   "source": [
    "rows = 5\n",
    "cols = 5\n",
    "for x in range(rows):# Iterate rows - Outer loop\n",
    "    for y in range(cols): # Iterate columns - Inner/Nested loop\n",
    "        print('♣', end = '  ') # use print()\n",
    "    print()"
   ]
  },
  {
   "cell_type": "code",
   "execution_count": 3,
   "id": "0e6f08ea",
   "metadata": {},
   "outputs": [
    {
     "name": "stdout",
     "output_type": "stream",
     "text": [
      "*  *  *  *  *  \n",
      "*  *  *  *  *  \n",
      "*  *  *  *  *  \n",
      "*  *  *  *  *  \n",
      "*  *  *  *  *  \n"
     ]
    }
   ],
   "source": [
    "rows = 5\n",
    "cols = 5\n",
    "for x in range(rows):\n",
    "    for y in range(cols):\n",
    "        print('*', end = '  ')\n",
    "    print()   "
   ]
  },
  {
   "cell_type": "code",
   "execution_count": 5,
   "id": "8940758c",
   "metadata": {},
   "outputs": [
    {
     "name": "stdout",
     "output_type": "stream",
     "text": [
      "$  $  $  $  $  \n",
      "$  $  $  $  $  \n",
      "$  $  $  $  $  \n",
      "$  $  $  $  $  \n",
      "$  $  $  $  $  \n"
     ]
    }
   ],
   "source": [
    "rows = 5\n",
    "cols = 5\n",
    "for x in range(rows):\n",
    "    for y in range(cols):\n",
    "        print('$', end = '  ')\n",
    "    print()\n",
    "    "
   ]
  },
  {
   "cell_type": "markdown",
   "id": "aa09644e",
   "metadata": {},
   "source": [
    "``Alt codes:``\n",
    "\n",
    "https://www.freecodecamp.org/news/alt-codes-special-characters-keyboard-symbols-windows-list/\n",
    "\n",
    "https://www.webnots.com/alt-key-windows-shortcuts/"
   ]
  },
  {
   "cell_type": "markdown",
   "id": "61b25ff2",
   "metadata": {},
   "source": [
    "#### Triangle Pattern\n",
    "```\n",
    "*  \n",
    "*  *  \n",
    "*  *  *  \n",
    "*  *  *  *  \n",
    "*  *  *  *  *  \n",
    "*  *  *  *  *  *\n",
    "```"
   ]
  },
  {
   "cell_type": "code",
   "execution_count": 35,
   "id": "bbef2997",
   "metadata": {},
   "outputs": [
    {
     "name": "stdout",
     "output_type": "stream",
     "text": [
      "00  01  02  03  04  05  \n",
      "10  11  12  13  14  15  \n",
      "20  21  22  23  24  25  \n",
      "30  31  32  33  34  35  \n",
      "40  41  42  43  44  45  \n",
      "50  51  52  53  54  55  \n"
     ]
    }
   ],
   "source": [
    "rows = 6\n",
    "cols = 6\n",
    "for x in range(rows):# Iterate rows - Outer loop\n",
    "    for y in range(cols): # Iterate columns - Inner/Nested loop\n",
    "        print(str(x)+str(y), end = '  ') # use print()\n",
    "    print()"
   ]
  },
  {
   "cell_type": "markdown",
   "id": "a0370a8e",
   "metadata": {},
   "source": [
    "```\n",
    "00    \n",
    "10  11   \n",
    "20  21  22   \n",
    "30  31  32  33    \n",
    "40  41  42  43  44   \n",
    "50  51  52  53  54  55\n",
    "\n",
    "This is the required pattern\n",
    "```"
   ]
  },
  {
   "cell_type": "code",
   "execution_count": 36,
   "id": "f7b3ac46",
   "metadata": {},
   "outputs": [
    {
     "name": "stdout",
     "output_type": "stream",
     "text": [
      "♦  \n",
      "♦  ♦  \n",
      "♦  ♦  ♦  \n",
      "♦  ♦  ♦  ♦  \n",
      "♦  ♦  ♦  ♦  ♦  \n",
      "♦  ♦  ♦  ♦  ♦  ♦  \n"
     ]
    }
   ],
   "source": [
    "rows = 6\n",
    "cols = 6\n",
    "for x in range(rows):# Iterate rows - Outer loop\n",
    "    for y in range(cols): # Iterate columns - Inner/Nested loop\n",
    "        if(y == 0 or x == rows-1 or x==y or x>y):\n",
    "            print('♦', end = '  ') # use print()\n",
    "    print()"
   ]
  },
  {
   "cell_type": "code",
   "execution_count": 37,
   "id": "7fc41c2d",
   "metadata": {},
   "outputs": [
    {
     "name": "stdout",
     "output_type": "stream",
     "text": [
      "♦  \n",
      "♦  ♦  \n",
      "♦  ♦  ♦  \n",
      "♦  ♦  ♦  ♦  \n",
      "♦  ♦  ♦  ♦  ♦  \n",
      "♦  ♦  ♦  ♦  ♦  ♦  \n"
     ]
    }
   ],
   "source": [
    "rows = 6\n",
    "cols = 6\n",
    "for x in range(rows):# Iterate rows - Outer loop\n",
    "    for y in range(cols): # Iterate columns - Inner/Nested loop\n",
    "        if(x>=y):\n",
    "            print('♦', end = '  ') # use print()\n",
    "    print()"
   ]
  },
  {
   "cell_type": "code",
   "execution_count": 38,
   "id": "a359404c",
   "metadata": {},
   "outputs": [
    {
     "name": "stdout",
     "output_type": "stream",
     "text": [
      "♦  \n",
      "♦  ♦  \n",
      "♦  ♦  ♦  \n",
      "♦  ♦  ♦  ♦  \n",
      "♦  ♦  ♦  ♦  ♦  \n",
      "♦  ♦  ♦  ♦  ♦  ♦  \n"
     ]
    }
   ],
   "source": [
    "rows = 6\n",
    "cols = 6\n",
    "for x in range(rows):# Iterate rows - Outer loop\n",
    "    for y in range(cols): # Iterate columns - Inner/Nested loop\n",
    "        if(x<y):\n",
    "            pass\n",
    "        else:\n",
    "            print('♦', end = '  ') # use print()\n",
    "    print()"
   ]
  },
  {
   "attachments": {
    "image.png": {
     "image/png": "[encoded data removed]"
    }
   },
   "cell_type": "markdown",
   "id": "ff1f6772",
   "metadata": {},
   "source": [
    "#### Print the below pattern:\n",
    "\n",
    "![image.png](attachment:image.png)"
   ]
  },
  {
   "cell_type": "code",
   "execution_count": 39,
   "id": "1fe1f803",
   "metadata": {},
   "outputs": [
    {
     "name": "stdout",
     "output_type": "stream",
     "text": [
      "00  01  02  03  04  05  06  \n",
      "10  11  12  13  14  15  16  \n",
      "20  21  22  23  24  25  26  \n",
      "30  31  32  33  34  35  36  \n",
      "40  41  42  43  44  45  46  \n",
      "50  51  52  53  54  55  56  \n",
      "60  61  62  63  64  65  66  \n"
     ]
    }
   ],
   "source": [
    "rows = 7\n",
    "cols = 7\n",
    "for x in range(rows):# Iterate rows - Outer loop\n",
    "    for y in range(cols): # Iterate columns - Inner/Nested loop\n",
    "        print(str(x)+str(y), end = '  ') # use print()\n",
    "    print()"
   ]
  },
  {
   "cell_type": "markdown",
   "id": "02bab1b9",
   "metadata": {},
   "source": [
    "\n",
    "```\n",
    "00    \n",
    "10  11   \n",
    "20      22   \n",
    "30          33    \n",
    "40              44    \n",
    "50                  55  \n",
    "60  61  62  63  64  65  66\n",
    "```"
   ]
  },
  {
   "cell_type": "code",
   "execution_count": 40,
   "id": "b7d7bcf1",
   "metadata": {},
   "outputs": [
    {
     "name": "stdout",
     "output_type": "stream",
     "text": [
      "♣  \n",
      "♣  ♣  \n",
      "♣     ♣  \n",
      "♣        ♣  \n",
      "♣           ♣  \n",
      "♣              ♣  \n",
      "♣  ♣  ♣  ♣  ♣  ♣  ♣  \n"
     ]
    }
   ],
   "source": [
    "rows = 7\n",
    "cols = 7\n",
    "for x in range(rows):# Iterate rows - Outer loop\n",
    "    for y in range(cols): # Iterate columns - Inner/Nested loop\n",
    "        if(y == 0 or x  == rows-1 or x == y):\n",
    "            print('♣', end = '  ') # use print()\n",
    "        elif(x>y):\n",
    "            print('  ', end = ' ')\n",
    "    print()"
   ]
  },
  {
   "cell_type": "markdown",
   "id": "ed4ef667",
   "metadata": {},
   "source": [
    "```\n",
    "1. Print the below pattern:\n",
    "\n",
    "* * * * * *  \n",
    "* * * * *   \n",
    "* * * *    \n",
    "* * *     \n",
    "* *      \n",
    "*\n",
    "2. Print the below pattern:\n",
    "\n",
    "* * * * * *  \n",
    "  * * * * *  \n",
    "    * * * *  \n",
    "      * * *  \n",
    "        * *  \n",
    "          *\n",
    "3. Print the below pattern:\n",
    "\n",
    "          *  \n",
    "        * *  \n",
    "      * * *  \n",
    "    * * * *  \n",
    "  * * * * *  \n",
    "* * * * * *\n",
    "```"
   ]
  },
  {
   "cell_type": "markdown",
   "id": "64b235ec",
   "metadata": {},
   "source": [
    "**1. Print the below pattern:**\n",
    "```\n",
    "\n",
    "* * * * * *  \n",
    "* * * * *   \n",
    "* * * *    \n",
    "* * *     \n",
    "* *      \n",
    "*\n",
    "```            "
   ]
  },
  {
   "cell_type": "code",
   "execution_count": 1,
   "id": "211ccfce",
   "metadata": {},
   "outputs": [
    {
     "name": "stdout",
     "output_type": "stream",
     "text": [
      "*  *  *  *  *  *  \n",
      "*  *  *  *  *  \n",
      "*  *  *  *  \n",
      "*  *  *  \n",
      "*  *  \n",
      "*  \n",
      "--------------------------------------------------\n",
      "*  *  *  *  *  *  \n",
      "*  *  *  *  *  \n",
      "*  *  *  *  \n",
      "*  *  *  \n",
      "*  *  \n",
      "*  \n",
      "--------------------------------------------------\n",
      "♦  ♦  ♦  ♦  ♦  ♦  \n",
      "♦  ♦  ♦  ♦  ♦  \n",
      "♦  ♦  ♦  ♦  \n",
      "♦  ♦  ♦  \n",
      "♦  ♦  \n",
      "♦  \n",
      "--------------------------------------------------\n",
      "♠  ♠  ♠  ♠  ♠  ♠  ♠  \n",
      "♠  ♠  ♠  ♠  ♠  ♠  \n",
      "♠  ♠  ♠  ♠  ♠  \n",
      "♠  ♠  ♠  ♠  \n",
      "♠  ♠  ♠  \n",
      "♠  ♠  \n",
      "♠  \n"
     ]
    }
   ],
   "source": [
    "rows = 6\n",
    "cols = 6\n",
    "for x in range(rows):\n",
    "    \n",
    "    for y in range(cols):\n",
    "        if(x>y):\n",
    "            pass\n",
    "        else:\n",
    "            print('*', end = '  ') \n",
    "    print()\n",
    "    \n",
    "    \n",
    "    \n",
    "    # or  \n",
    "print('-'*50)\n",
    "\n",
    "    \n",
    "rows = 6\n",
    "cols = 6\n",
    "for x in range(rows):\n",
    "    for y in range(cols):\n",
    "        if(x<=y):\n",
    "            print('*', end = '  ') \n",
    "    print()\n",
    "    \n",
    "    \n",
    " # or  \n",
    "print('-'*50)\n",
    "\n",
    "rows = 6\n",
    "cols = 6\n",
    "for x in range(rows):# Iterate rows - Outer loop\n",
    "    for y in range(cols): # Iterate columns - Inner/Nested loop\n",
    "        #if(y == 0 or x == rows-1 or x==y or x>y):\n",
    "        if(x == 0 or y == 0 or x<y):\n",
    "            print('♦', end = '  ') # use print()\n",
    "    print()\n",
    "    \n",
    "\n",
    "    \n",
    " # or  \n",
    "print('-'*50)\n",
    "\n",
    "rows = 7\n",
    "cols = 7\n",
    "for x in range(rows):# Iterate rows - Outer loop\n",
    "    for y in range(cols): # Iterate columns - Inner/Nested loop\n",
    "        if(x<=y):\n",
    "            print('♠', end = '  ') # use print()\n",
    "    print()\n",
    "\n"
   ]
  },
  {
   "cell_type": "markdown",
   "id": "fe263444",
   "metadata": {},
   "source": [
    "**2. Print the below pattern:**\n",
    "```\n",
    "* * * * * *  \n",
    "  * * * * *  \n",
    "    * * * *  \n",
    "      * * *  \n",
    "        * *  \n",
    "          *\n",
    "```            "
   ]
  },
  {
   "cell_type": "code",
   "execution_count": 2,
   "id": "857aacf0",
   "metadata": {},
   "outputs": [
    {
     "name": "stdout",
     "output_type": "stream",
     "text": [
      "* * * * * * \n",
      "  * * * * * \n",
      "    * * * * \n",
      "      * * * \n",
      "        * * \n",
      "          * \n",
      "--------------------------------------------------\n",
      "♠  ♠  ♠  ♠  ♠  ♠  ♠  \n",
      "   ♠  ♠  ♠  ♠  ♠  ♠  \n",
      "      ♠  ♠  ♠  ♠  ♠  \n",
      "         ♠  ♠  ♠  ♠  \n",
      "            ♠  ♠  ♠  \n",
      "               ♠  ♠  \n",
      "                  ♠  \n"
     ]
    }
   ],
   "source": [
    "rows = 6\n",
    "cols = 6\n",
    "for x in range(rows):\n",
    "    for y in range(cols):\n",
    "        if(y>=x):\n",
    "            print('*', end = ' ')\n",
    "        else:  \n",
    "            print(' ', end =' ') \n",
    "    print()\n",
    "    \n",
    "    \n",
    "# or  \n",
    "print('-'*50)\n",
    "\n",
    "rows = 7\n",
    "cols = 7\n",
    "for x in range(rows):# Iterate rows - Outer loop\n",
    "    for y in range(cols): # Iterate columns - Inner/Nested loop\n",
    "        if(x==y or x < y):\n",
    "            print('♠', end = '  ') # use print()\n",
    "        elif(x>y):\n",
    "            print(' ', end = '  ')\n",
    "    print()"
   ]
  },
  {
   "cell_type": "markdown",
   "id": "bcd089a1",
   "metadata": {},
   "source": [
    "**3. Print the below pattern:**\n",
    "```\n",
    "          *  \n",
    "        * *  \n",
    "      * * *  \n",
    "    * * * *  \n",
    "  * * * * *  \n",
    "* * * * * *\n",
    "```"
   ]
  },
  {
   "cell_type": "code",
   "execution_count": 3,
   "id": "502436a2",
   "metadata": {},
   "outputs": [
    {
     "name": "stdout",
     "output_type": "stream",
     "text": [
      "                  ♠  \n",
      "               ♠  ♠  \n",
      "            ♠  ♠  ♠  \n",
      "         ♠  ♠  ♠  ♠  \n",
      "      ♠  ♠  ♠  ♠  ♠  \n",
      "   ♠  ♠  ♠  ♠  ♠  ♠  \n",
      "♠  ♠  ♠  ♠  ♠  ♠  ♠  \n"
     ]
    }
   ],
   "source": [
    "rows = 7\n",
    "cols = 7\n",
    "for x in range(rows):# Iterate rows - Outer loop\n",
    "    for y in range(cols): # Iterate columns - Inner/Nested loop\n",
    "        if(y == rows-1 or x == rows-1 or y >= rows-x-1):\n",
    "            print('♠', end = '  ') # use print()\n",
    "        else:\n",
    "            print(' ', end = '  ')\n",
    "    print()"
   ]
  },
  {
   "cell_type": "code",
   "execution_count": 141,
   "id": "472ed8c1",
   "metadata": {},
   "outputs": [
    {
     "name": "stdout",
     "output_type": "stream",
     "text": [
      "*  *  *  *  *  *  "
     ]
    }
   ],
   "source": [
    "rows = 6\n",
    "cols = 6\n",
    "for x in range(rows):\n",
    "    for y in range(cols):\n",
    "        if(x == 0 ):\n",
    "            print('', end = '  ') \n",
    "    print('*',end = '  ')"
   ]
  },
  {
   "cell_type": "code",
   "execution_count": 138,
   "id": "cd778a8b",
   "metadata": {},
   "outputs": [
    {
     "name": "stdout",
     "output_type": "stream",
     "text": [
      "*  ♦  ♦  ♦  ♦  ♦  \n",
      "*  *  ♦  ♦  ♦  ♦  \n",
      "*  *  *  ♦  ♦  ♦  \n",
      "*  *  *  *  ♦  ♦  \n",
      "*  *  *  *  *  ♦  \n",
      "*  *  *  *  *  *  \n"
     ]
    }
   ],
   "source": [
    "rows = 6\n",
    "cols = 6\n",
    "for x in range(rows):# Iterate rows - Outer loop\n",
    "    for y in range(cols): # Iterate columns - Inner/Nested loop\n",
    "        #if(y == 0 or x == rows-1 or x==y or x>y):\n",
    "        if(y<=x):\n",
    "            print('*',end = '  ' ) # use print()\n",
    "        else:\n",
    "            print('♦', end = '  ')\n",
    "    print()\n"
   ]
  },
  {
   "cell_type": "code",
   "execution_count": 165,
   "id": "df33978d",
   "metadata": {},
   "outputs": [
    {
     "name": "stdout",
     "output_type": "stream",
     "text": [
      "♦  ♦  ♦  ♦  ♦  *  \n",
      "♦  ♦  ♦  ♦  ♦  *  \n",
      "♦  ♦  ♦  ♦  ♦  *  \n",
      "♦  ♦  ♦  ♦  ♦  *  \n",
      "♦  ♦  ♦  ♦  ♦  *  \n",
      "*  *  *  *  *  *  \n",
      "----------------------------------------\n",
      "* * * * * * \n",
      "* * * * * * \n",
      "* * * * * \n",
      "* * * * \n",
      "* * * \n",
      "* * \n",
      "----------------------------------------\n",
      "*\n",
      "**\n",
      "***\n",
      "****\n",
      "*****\n"
     ]
    }
   ],
   "source": [
    "rows = 6\n",
    "cols = 6\n",
    "for x in range(rows):# Iterate rows - Outer loop\n",
    "    for y in range(cols): # Iterate columns - Inner/Nested loop\n",
    "        #if(y == 0 or x == rows-1 or x==y or x>y):\n",
    "        if(x == 5 or y == 5  ):\n",
    "            print('*',end = '  ' ) # use print()\n",
    "        else:\n",
    "            print('♦',end = '  ')\n",
    "    print()\n",
    "    \n",
    "print('-'*40)    \n",
    "    \n",
    "rows = 6\n",
    "cols = 6\n",
    "for x in range(rows):\n",
    "    for y in range(cols):\n",
    "        if(x <= rows-y):\n",
    "            print('*',end = ' ')\n",
    "    print()     \n",
    "    \n",
    "print('-'*40)      \n",
    "\n",
    "rows = 5\n",
    "for i in range(1,rows+1):\n",
    "    for j in range(1,rows+1):\n",
    "        if(j<=rows-i):\n",
    "            print('',end = '')\n",
    "        else:\n",
    "            print('*',end = '')\n",
    "    print()        \n",
    "    "
   ]
  },
  {
   "cell_type": "markdown",
   "id": "1762a3ae",
   "metadata": {},
   "source": [
    "#### Print number pattern\n",
    "``` \n",
    "1  \n",
    "2 2  \n",
    "3 3 3  \n",
    "4 4 4 4  \n",
    "5 5 5 5 5\n",
    "```"
   ]
  },
  {
   "cell_type": "code",
   "execution_count": 4,
   "id": "ffcd3d76",
   "metadata": {},
   "outputs": [
    {
     "name": "stdout",
     "output_type": "stream",
     "text": [
      "1  \n",
      "2  2  \n",
      "3  3  3  \n",
      "4  4  4  4  \n",
      "5  5  5  5  5  \n"
     ]
    }
   ],
   "source": [
    "rows = 5\n",
    "\n",
    "for i in range(1,rows+1):\n",
    "    for j in range(i):\n",
    "        print(i, end = '  ')\n",
    "    print()"
   ]
  },
  {
   "cell_type": "markdown",
   "id": "21d6e8b3",
   "metadata": {},
   "source": [
    "#### Pyramid pattern of numbers\n",
    "```\n",
    "1 \n",
    "1 2 \n",
    "1 2 3 \n",
    "1 2 3 4 \n",
    "1 2 3 4 5\n",
    "```"
   ]
  },
  {
   "cell_type": "code",
   "execution_count": 6,
   "id": "93080d06",
   "metadata": {},
   "outputs": [
    {
     "name": "stdout",
     "output_type": "stream",
     "text": [
      "1  \n",
      "1  2  \n",
      "1  2  3  \n",
      "1  2  3  4  \n",
      "1  2  3  4  5  \n"
     ]
    }
   ],
   "source": [
    "rows = 5\n",
    "\n",
    "for i in range(1,rows+1):\n",
    "    for j in range(i):\n",
    "        print(j+1, end = '  ')\n",
    "    print()"
   ]
  },
  {
   "cell_type": "markdown",
   "id": "00ac5880",
   "metadata": {},
   "source": [
    "#### Inverted pyramid pattern\n",
    "```\n",
    "1 1 1 1 1 \n",
    "2 2 2 2 \n",
    "3 3 3 \n",
    "4 4 \n",
    "5\n",
    "````"
   ]
  },
  {
   "cell_type": "code",
   "execution_count": 7,
   "id": "b763c960",
   "metadata": {},
   "outputs": [
    {
     "name": "stdout",
     "output_type": "stream",
     "text": [
      "1  1  1  1  1  \n",
      "2  2  2  2  \n",
      "3  3  3  \n",
      "4  4  \n",
      "5  \n"
     ]
    }
   ],
   "source": [
    "rows = 5\n",
    "\n",
    "for i in range(1,rows+1):\n",
    "    for j in range(rows-i+1):\n",
    "        print(i, end = '  ')\n",
    "    print()"
   ]
  },
  {
   "cell_type": "markdown",
   "id": "083b3e95",
   "metadata": {},
   "source": [
    "##### Floyd's Triangle\n",
    "```\n",
    "1  \n",
    "2  3  \n",
    "4  5  6  \n",
    "7  8  9  10  \n",
    "11  12  13  14  15\n",
    "```"
   ]
  },
  {
   "cell_type": "code",
   "execution_count": 9,
   "id": "cd8528bc",
   "metadata": {},
   "outputs": [
    {
     "name": "stdout",
     "output_type": "stream",
     "text": [
      "1  \n",
      "2  3  \n",
      "4  5  6  \n",
      "7  8  9  10  \n",
      "11  12  13  14  15  \n"
     ]
    }
   ],
   "source": [
    "rows = 5\n",
    "k = 1\n",
    "\n",
    "for i in range(1,rows+1):\n",
    "    for j in range(i):\n",
    "        print(k, end = '  ')\n",
    "        k = k+1\n",
    "    print()"
   ]
  },
  {
   "cell_type": "markdown",
   "id": "ba3e67ea",
   "metadata": {},
   "source": [
    "#### Pattern Program In Python (for more practice)\n",
    "\n",
    "https://www.tutorialstonight.com/python/pattern-program-in-python.php"
   ]
  },
  {
   "cell_type": "markdown",
   "id": "4541258d",
   "metadata": {},
   "source": [
    "### List Comprehensions\n",
    "##### Synatx:\n",
    "\n",
    "with `for`\n",
    "\n",
    "[variable for variable in iterable]\n",
    "\n",
    "with `for & if`\n",
    "\n",
    "[variable for variable in iterable if condition]\n",
    "\n",
    "with `for & if-else`\n",
    "\n",
    "- [variable if condition else some code for variable in iterable]\n",
    "- In the place of the variable we can write an expression.\n",
    "- We can have multiple for loops\n",
    "- If is optional and we can have multiple if statements.\n",
    "- Output of List comprehension is a List object"
   ]
  },
  {
   "cell_type": "code",
   "execution_count": 10,
   "id": "c239a862",
   "metadata": {},
   "outputs": [
    {
     "name": "stdout",
     "output_type": "stream",
     "text": [
      "[7, 14, 21, 28, 35, 42, 49, 56, 63, 70, 77, 84, 91, 98]\n",
      "[0, 0, 0, 0, 0, 0, 1, 0, 0, 0, 0, 0, 0, 1, 0, 0, 0, 0, 0, 0, 1, 0, 0, 0, 0, 0, 0, 1, 0, 0, 0, 0, 0, 0, 1, 0, 0, 0, 0, 0, 0, 1, 0, 0, 0, 0, 0, 0, 1, 0, 0, 0, 0, 0, 0, 1, 0, 0, 0, 0, 0, 0, 1, 0, 0, 0, 0, 0, 0, 1, 0, 0, 0, 0, 0, 0, 1, 0, 0, 0, 0, 0, 0, 1, 0, 0, 0, 0, 0, 0, 1, 0, 0, 0, 0, 0, 0, 1, 0, 0]\n"
     ]
    }
   ],
   "source": [
    "# Generate a list of numbers divisible by 7 between 1 to 100\n",
    "\n",
    "# using for loop\n",
    "l = []\n",
    "for i in range(1,101):\n",
    "    if(i%7==0):\n",
    "        l.append(i)        \n",
    "print(l)\n",
    "\n",
    "# using List comprehension\n",
    "[i for i in range(1,101) if(i%7 == 0)]\n",
    "\n",
    "# using List comprehension\n",
    "print([1 if(i%7 == 0) else 0 for i in range(1,101)])"
   ]
  },
  {
   "cell_type": "code",
   "execution_count": 11,
   "id": "f3a7748f",
   "metadata": {},
   "outputs": [
    {
     "data": {
      "text/plain": [
       "['P', 'Y', 'T', 'H', 'O', 'N', ' ', 'P', 'R', 'O', 'G', 'R', 'A', 'M']"
      ]
     },
     "execution_count": 11,
     "metadata": {},
     "output_type": "execute_result"
    }
   ],
   "source": [
    "[x for x in 'PYTHON PROGRAM']"
   ]
  },
  {
   "cell_type": "code",
   "execution_count": 12,
   "id": "cd95737a",
   "metadata": {},
   "outputs": [
    {
     "data": {
      "text/plain": [
       "[1, 8, 27, 64, 125, 216, 343, 512, 729, 1000]"
      ]
     },
     "execution_count": 12,
     "metadata": {},
     "output_type": "execute_result"
    }
   ],
   "source": [
    "[i**3 for i in range(1,11)]"
   ]
  },
  {
   "cell_type": "markdown",
   "id": "c95970d6",
   "metadata": {},
   "source": [
    "##### Topics covered in this Notebook:\n",
    "```\n",
    "Cond Stataments\n",
    "Loops\n",
    "Control statements\n",
    "Patterns\n",
    "enumerate() & zip()\n",
    "List comprehensions\n",
    "```"
   ]
  },
  {
   "cell_type": "code",
   "execution_count": null,
   "id": "f70bec69",
   "metadata": {},
   "outputs": [],
   "source": []
  }
 ],
 "metadata": {
  "kernelspec": {
   "display_name": "Python 3 (ipykernel)",
   "language": "python",
   "name": "python3"
  },
  "language_info": {
   "codemirror_mode": {
    "name": "ipython",
    "version": 3
   },
   "file_extension": ".py",
   "mimetype": "text/x-python",
   "name": "python",
   "nbconvert_exporter": "python",
   "pygments_lexer": "ipython3",
   "version": "3.9.12"
  }
 },
 "nbformat": 4,
 "nbformat_minor": 5
}
