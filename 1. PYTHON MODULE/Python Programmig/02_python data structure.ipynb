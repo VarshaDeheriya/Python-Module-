{
 "cells": [
  {
   "cell_type": "markdown",
   "id": "5a5a06db",
   "metadata": {},
   "source": [
    "\n",
    "<div style=\"background-color:#1A237E;color:#FFEB3B;padding:20px;border:1px solid #3F51B5;text-align:center;\">\n",
    "<p><font size=\"14\" color=#FFF9C4 face=\"Lora\"><i> Python Data Structures </i></font> </p>\n",
    "</div>\n"
   ]
  },
  {
   "cell_type": "markdown",
   "id": "a4c33e73",
   "metadata": {},
   "source": [
    "1. List\n",
    "2. Tuple\n",
    "3. Set\n",
    "4. Dictionary"
   ]
  },
  {
   "cell_type": "code",
   "execution_count": 84,
   "id": "b953593f",
   "metadata": {},
   "outputs": [],
   "source": [
    "# get the output of commands in a cell with out print\n",
    "from IPython.core.interactiveshell import InteractiveShell\n",
    "InteractiveShell.ast_node_interactivity = 'all'"
   ]
  },
  {
   "cell_type": "markdown",
   "id": "8a9117c5",
   "metadata": {},
   "source": [
    "## List\n",
    "1. Written with [] braces.\n",
    "2. Indexing is allowed and so the ordering of the data.\n",
    "3. Data is changeable (mutable).\n",
    "4. Duplicates are allowed."
   ]
  },
  {
   "cell_type": "code",
   "execution_count": 2,
   "id": "5483049e",
   "metadata": {},
   "outputs": [],
   "source": [
    "# create a list object \n",
    "\n",
    "mystr_list = [\"black\", \"white\", \"grey\", \"silver\", \"maroon\"]\n",
    "\n",
    "mynum_list = [10,20,30,40,50]"
   ]
  },
  {
   "cell_type": "code",
   "execution_count": 3,
   "id": "151db7f5",
   "metadata": {},
   "outputs": [
    {
     "name": "stdout",
     "output_type": "stream",
     "text": [
      "['black', 'white', 'grey', 'silver', 'maroon']\n",
      "[10, 20, 30, 40, 50]\n",
      "<class 'list'>\n",
      "<class 'list'>\n"
     ]
    }
   ],
   "source": [
    "print(mystr_list, mynum_list, sep ='\\n')\n",
    "\n",
    "print(type(mystr_list), type(mynum_list), sep ='\\n')"
   ]
  },
  {
   "cell_type": "markdown",
   "id": "78a080b3",
   "metadata": {},
   "source": [
    "## List Indexing\n",
    "**Syntax:**\n",
    "\n",
    "list_name[index num]"
   ]
  },
  {
   "cell_type": "code",
   "execution_count": 2,
   "id": "13dc5186",
   "metadata": {},
   "outputs": [],
   "source": [
    "mylist1 = [\"black\", \"white\", \"grey\", \"silver\", \n",
    "           \"maroon\", 10,20,30,40,50, True, False, \n",
    "           15.5,100.25]"
   ]
  },
  {
   "cell_type": "code",
   "execution_count": 3,
   "id": "dc4c911f",
   "metadata": {},
   "outputs": [
    {
     "data": {
      "text/plain": [
       "14"
      ]
     },
     "execution_count": 3,
     "metadata": {},
     "output_type": "execute_result"
    }
   ],
   "source": [
    "len(mylist1)"
   ]
  },
  {
   "cell_type": "markdown",
   "id": "2b6d9199",
   "metadata": {},
   "source": [
    "+ index numbers can be +ve/-ve\n",
    "+ +ve Index numbers always start with 0.\n",
    "+ -ve Index numbers always end at -1.\n",
    "+ First value will have the Index num : 0 or -(len(list))\n",
    "+ Last value will have the Index num : -1 or len(list)-1\n",
    "+ Indexing is done by using the operator - []\n",
    "Say, \"a\" is a list variable\n",
    "\n",
    "**a[index num]** - extracts the single value\n",
    "\n",
    "**a[start:stop]** - items from starting position to stop-1, : is sequence operator.\n",
    "\n",
    "**a[start:]** - items start through the rest of the array\n",
    "\n",
    "**a[:stop]** - items from the beginning through stop-1\n",
    "\n",
    "**a[:]** - a copy of the whole array\n",
    "\n",
    "**a[::-1]** - reverse the list (here -1 is the step)"
   ]
  },
  {
   "cell_type": "code",
   "execution_count": 4,
   "id": "dd0e46a8",
   "metadata": {},
   "outputs": [
    {
     "name": "stdout",
     "output_type": "stream",
     "text": [
      "mylist1[2]:  grey <class 'str'>\n",
      "mylist1[12]:  15.5 <class 'float'>\n",
      "mylist1[10]:  True <class 'bool'>\n",
      "mylist1[8]:  40 <class 'int'>\n",
      "--------------------------------------------------\n",
      "mylist1[0]:  black\n",
      "mylist1[-len(mylist1)]:  black\n",
      "mylist1[-1]:  100.25\n",
      "mylist1[len(mylist1)-1]:  100.25\n",
      "--------------------------------------------------\n",
      "mylist1[0:1]:  ['black'] <class 'list'>\n",
      "mylist1[0:2]:  ['black', 'white'] <class 'list'>\n",
      "mylist1[7:10]:  [30, 40, 50] <class 'list'>\n",
      "mylist1[11:14]:  [False, 15.5, 100.25] <class 'list'>\n",
      "mylist1[7:len(mylist1)]:  [30, 40, 50, True, False, 15.5, 100.25] <class 'list'>\n",
      "--------------------------------------------------\n",
      "mylist1[7:]:  [30, 40, 50, True, False, 15.5, 100.25]\n",
      "mylist1[2:]:  ['grey', 'silver', 'maroon', 10, 20, 30, 40, 50, True, False, 15.5, 100.25]\n",
      "mylist1[:7]:  ['black', 'white', 'grey', 'silver', 'maroon', 10, 20]\n",
      "mylist1[:len(mylist1)]:  ['black', 'white', 'grey', 'silver', 'maroon', 10, 20, 30, 40, 50, True, False, 15.5, 100.25]\n",
      "--------------------------------------------------\n",
      "mylist1[:]: ['black', 'white', 'grey', 'silver', 'maroon', 10, 20, 30, 40, 50, True, False, 15.5, 100.25]\n",
      "--------------------------------------------------\n",
      "mylist1[2:10:2]: ['grey', 'maroon', 20, 40]\n",
      "mylist1[::1]: ['black', 'white', 'grey', 'silver', 'maroon', 10, 20, 30, 40, 50, True, False, 15.5, 100.25]\n",
      "mylist1[::2]: ['black', 'grey', 'maroon', 20, 40, True, 15.5]\n",
      "mylist1[::3]: ['black', 'silver', 20, 50, 15.5]\n",
      "mylist1[::]: ['black', 'white', 'grey', 'silver', 'maroon', 10, 20, 30, 40, 50, True, False, 15.5, 100.25]\n",
      "--------------------------------------------------\n",
      "mylist1[::-1]: [100.25, 15.5, False, True, 50, 40, 30, 20, 10, 'maroon', 'silver', 'grey', 'white', 'black']\n",
      "mylist1[::-2]: [100.25, False, 50, 30, 10, 'silver', 'white']\n",
      "mylist1[::-3]: [100.25, True, 30, 'maroon', 'white']\n",
      "--------------------------------------------------\n",
      "mylist1[0:-8:]: ['black', 'white', 'grey', 'silver', 'maroon', 10]\n",
      "mylist1[-6:1]: []\n",
      "--------------------------------------------------\n",
      "mylist1[-7:-1]: [30, 40, 50, True, False, 15.5]\n",
      "mylist1[-7:]: [30, 40, 50, True, False, 15.5, 100.25]\n",
      "mylist1[-7::-1]: [30, 20, 10, 'maroon', 'silver', 'grey', 'white', 'black']\n",
      "--------------------------------------------------\n",
      "mylist1[2:7][2][1]:  a\n"
     ]
    }
   ],
   "source": [
    "# a[index num] - extracts the single value\n",
    "\n",
    "print(\"mylist1[2]: \", mylist1[2], type(mylist1[2]))\n",
    "print(\"mylist1[12]: \", mylist1[12], type(mylist1[12]))\n",
    "print(\"mylist1[10]: \", mylist1[10], type(mylist1[10]))\n",
    "print(\"mylist1[8]: \", mylist1[8], type(mylist1[8]))\n",
    "\n",
    "print('-'*50)\n",
    "\n",
    "# extract the first value\n",
    "print(\"mylist1[0]: \", mylist1[0])\n",
    "print(\"mylist1[-len(mylist1)]: \", mylist1[-len(mylist1)])\n",
    "\n",
    "# extract the last value\n",
    "print(\"mylist1[-1]: \", mylist1[-1])\n",
    "print(\"mylist1[len(mylist1)-1]: \", mylist1[len(mylist1)-1])\n",
    "\n",
    "print('-'*50)\n",
    "\n",
    "# a[start:stop] - \":\" - colon is the sequence operator used for slicing\n",
    "print('mylist1[0:1]: ', mylist1[0:1], type(mylist1[0:1]))\n",
    "print('mylist1[0:2]: ', mylist1[0:2], type(mylist1[0:2]))\n",
    "print('mylist1[7:10]: ', mylist1[7:10], type(mylist1[7:10]))\n",
    "print('mylist1[11:14]: ', mylist1[11:14], type(mylist1[11:14]))\n",
    "print('mylist1[7:len(mylist1)]: ', mylist1[7:len(mylist1)], type(mylist1[7:len(mylist1)]))\n",
    "\n",
    "print('-'*50)\n",
    "# a[start:]\n",
    "print('mylist1[7:]: ', mylist1[7:])\n",
    "print('mylist1[2:]: ', mylist1[2:])\n",
    "\n",
    "# a[:stop]\n",
    "print('mylist1[:7]: ', mylist1[:7])\n",
    "print('mylist1[:len(mylist1)]: ', mylist1[:len(mylist1)])\n",
    "\n",
    "print('-'*50)\n",
    "\n",
    "# a[:]\n",
    "print('mylist1[:]:', mylist1[:])\n",
    "\n",
    "print('-'*50)\n",
    "# a[start:end:step] - where step is the increment of position; by default step = 1\n",
    "print('mylist1[2:10:2]:', mylist1[2:10:2])\n",
    "print('mylist1[::1]:', mylist1[::1])\n",
    "print('mylist1[::2]:', mylist1[::2])\n",
    "print('mylist1[::3]:', mylist1[::3])\n",
    "print('mylist1[::]:', mylist1[::])\n",
    "\n",
    "print('-'*50)\n",
    "# reversing the list\n",
    "print('mylist1[::-1]:', mylist1[::-1])\n",
    "print('mylist1[::-2]:', mylist1[::-2]) # first reverse the list and pick every second word\n",
    "print('mylist1[::-3]:', mylist1[::-3])\n",
    "\n",
    "print('-'*50)\n",
    "# Using both +ve & -ve indexing numbers\n",
    "print('mylist1[0:-8:]:', mylist1[0:-8:])\n",
    "print('mylist1[-6:1]:', mylist1[-6:1]) # reverse direction doesn't work\n",
    "\n",
    "print('-'*50)\n",
    "# using -ve index numbers\n",
    "print('mylist1[-7:-1]:', mylist1[-7:-1])\n",
    "print('mylist1[-7:]:', mylist1[-7:])\n",
    "print('mylist1[-7::-1]:', mylist1[-7::-1])\n",
    "\n",
    "print('-'*50)\n",
    "# multi level indexing\n",
    "print('mylist1[2:7][2][1]: ', mylist1[2:7][2][1])"
   ]
  },
  {
   "cell_type": "code",
   "execution_count": 7,
   "id": "26ed9529",
   "metadata": {},
   "outputs": [
    {
     "name": "stdout",
     "output_type": "stream",
     "text": [
      "['black', 'white', 'grey', 'silver', 'maroon', 10, 20, 30, 40, 50, True, False, 15.5, 100.25]\n"
     ]
    }
   ],
   "source": [
    "print(mylist1)"
   ]
  },
  {
   "cell_type": "code",
   "execution_count": 8,
   "id": "9175fad3",
   "metadata": {},
   "outputs": [
    {
     "name": "stdout",
     "output_type": "stream",
     "text": [
      "a\n",
      "['grey', 'silver', 'maroon', 10, 20] <class 'list'>\n",
      "maroon <class 'str'>\n",
      "a\n"
     ]
    }
   ],
   "source": [
    "print(mylist1[2:7][2][1])\n",
    "\n",
    "print(mylist1[2:7], type(mylist1[2:7]))\n",
    "print(mylist1[2:7][2], type(mylist1[2:7][2]))\n",
    "print(mylist1[2:7][2][1])"
   ]
  },
  {
   "cell_type": "code",
   "execution_count": 9,
   "id": "bd6fb44d",
   "metadata": {},
   "outputs": [
    {
     "data": {
      "text/plain": [
       "[30, 40, 50]"
      ]
     },
     "execution_count": 9,
     "metadata": {},
     "output_type": "execute_result"
    },
    {
     "data": {
      "text/plain": [
       "50"
      ]
     },
     "execution_count": 9,
     "metadata": {},
     "output_type": "execute_result"
    },
    {
     "ename": "TypeError",
     "evalue": "'int' object is not subscriptable",
     "output_type": "error",
     "traceback": [
      "\u001b[1;31m---------------------------------------------------------------------------\u001b[0m",
      "\u001b[1;31mTypeError\u001b[0m                                 Traceback (most recent call last)",
      "Input \u001b[1;32mIn [9]\u001b[0m, in \u001b[0;36m<cell line: 3>\u001b[1;34m()\u001b[0m\n\u001b[0;32m      1\u001b[0m mynum_list[\u001b[38;5;241m2\u001b[39m:\u001b[38;5;241m5\u001b[39m]\n\u001b[0;32m      2\u001b[0m mynum_list[\u001b[38;5;241m2\u001b[39m:\u001b[38;5;241m5\u001b[39m][\u001b[38;5;241m2\u001b[39m]\n\u001b[1;32m----> 3\u001b[0m \u001b[43mmynum_list\u001b[49m\u001b[43m[\u001b[49m\u001b[38;5;241;43m2\u001b[39;49m\u001b[43m:\u001b[49m\u001b[38;5;241;43m5\u001b[39;49m\u001b[43m]\u001b[49m\u001b[43m[\u001b[49m\u001b[38;5;241;43m2\u001b[39;49m\u001b[43m]\u001b[49m\u001b[43m[\u001b[49m\u001b[38;5;241;43m1\u001b[39;49m\u001b[43m]\u001b[49m\n",
      "\u001b[1;31mTypeError\u001b[0m: 'int' object is not subscriptable"
     ]
    }
   ],
   "source": [
    "mynum_list[2:5]\n",
    "mynum_list[2:5][2]\n",
    "mynum_list[2:5][2][1]"
   ]
  },
  {
   "cell_type": "markdown",
   "id": "41ed9001",
   "metadata": {},
   "source": [
    "## List items are changeable/mutable"
   ]
  },
  {
   "cell_type": "code",
   "execution_count": 10,
   "id": "c221f585",
   "metadata": {},
   "outputs": [
    {
     "data": {
      "text/plain": [
       "[10, 20, 30, 40, 50]"
      ]
     },
     "execution_count": 10,
     "metadata": {},
     "output_type": "execute_result"
    }
   ],
   "source": [
    "mynum_list"
   ]
  },
  {
   "cell_type": "code",
   "execution_count": 11,
   "id": "06b8a8db",
   "metadata": {},
   "outputs": [],
   "source": [
    "mynum_list[3] = 4000 # item assignment is supported"
   ]
  },
  {
   "cell_type": "code",
   "execution_count": 12,
   "id": "48dd7603",
   "metadata": {},
   "outputs": [
    {
     "data": {
      "text/plain": [
       "[10, 20, 30, 4000, 50]"
      ]
     },
     "execution_count": 12,
     "metadata": {},
     "output_type": "execute_result"
    }
   ],
   "source": [
    "mynum_list"
   ]
  },
  {
   "cell_type": "code",
   "execution_count": 13,
   "id": "aafb0744",
   "metadata": {},
   "outputs": [],
   "source": [
    "mystr_list[1] = mystr_list[1].upper()"
   ]
  },
  {
   "cell_type": "code",
   "execution_count": 14,
   "id": "549913aa",
   "metadata": {},
   "outputs": [
    {
     "data": {
      "text/plain": [
       "['black', 'WHITE', 'grey', 'silver', 'maroon']"
      ]
     },
     "execution_count": 14,
     "metadata": {},
     "output_type": "execute_result"
    }
   ],
   "source": [
    "mystr_list"
   ]
  },
  {
   "cell_type": "markdown",
   "id": "e0dae561",
   "metadata": {},
   "source": [
    "## Duplicate values are allowed"
   ]
  },
  {
   "cell_type": "code",
   "execution_count": 15,
   "id": "65f80b25",
   "metadata": {},
   "outputs": [],
   "source": [
    "mynum_list = [10, 20, 300, 40, 50,10, 20, 300, 40, 50]"
   ]
  },
  {
   "cell_type": "code",
   "execution_count": 16,
   "id": "1f2c58c1",
   "metadata": {},
   "outputs": [
    {
     "data": {
      "text/plain": [
       "[10, 20, 300, 40, 50, 10, 20, 300, 40, 50]"
      ]
     },
     "execution_count": 16,
     "metadata": {},
     "output_type": "execute_result"
    }
   ],
   "source": [
    "mynum_list"
   ]
  },
  {
   "cell_type": "code",
   "execution_count": 17,
   "id": "c8b4f1c5",
   "metadata": {},
   "outputs": [],
   "source": [
    "mystr_list = ['black', 'WHITE', 'grey', 'silver', 'WHITE', 'grey', 'silver', 'maroon']"
   ]
  },
  {
   "cell_type": "code",
   "execution_count": 18,
   "id": "062f7a14",
   "metadata": {},
   "outputs": [
    {
     "data": {
      "text/plain": [
       "['black', 'WHITE', 'grey', 'silver', 'WHITE', 'grey', 'silver', 'maroon']"
      ]
     },
     "execution_count": 18,
     "metadata": {},
     "output_type": "execute_result"
    }
   ],
   "source": [
    "mystr_list"
   ]
  },
  {
   "cell_type": "markdown",
   "id": "030b5ed6",
   "metadata": {},
   "source": [
    "## Nested List"
   ]
  },
  {
   "cell_type": "code",
   "execution_count": 20,
   "id": "12ee2b15",
   "metadata": {},
   "outputs": [],
   "source": [
    "mylist2 = [['white', 'grey', 'silver'], [2022,2023,2024],\n",
    "           '22-04-2022',[ True, False]]"
   ]
  },
  {
   "cell_type": "code",
   "execution_count": 21,
   "id": "a819c603",
   "metadata": {},
   "outputs": [
    {
     "data": {
      "text/plain": [
       "4"
      ]
     },
     "execution_count": 21,
     "metadata": {},
     "output_type": "execute_result"
    }
   ],
   "source": [
    "len(mylist2)"
   ]
  },
  {
   "cell_type": "code",
   "execution_count": 22,
   "id": "2abc0d22",
   "metadata": {},
   "outputs": [
    {
     "name": "stdout",
     "output_type": "stream",
     "text": [
      "['white', 'grey', 'silver'] <class 'list'>\n",
      "white <class 'str'>\n",
      "[['white', 'grey', 'silver'], [2022, 2023, 2024], '22-04-2022'] <class 'list'>\n",
      "2024 <class 'int'>\n",
      "22-04-2022 <class 'str'>\n",
      "[True, False] <class 'list'>\n",
      "revlis\n"
     ]
    }
   ],
   "source": [
    "print(mylist2[0],type(mylist2[0]))\n",
    "print(mylist2[0][0],type(mylist2[0][0]))\n",
    "print(mylist2[0:3],type(mylist2[0:3]))\n",
    "print(mylist2[0:3][1][2],type(mylist2[0:3][1][2]))\n",
    "print(mylist2[2],type(mylist2[2]))\n",
    "print(mylist2[3],type(mylist2[3]))\n",
    "print(mylist2[0][2][::-1])"
   ]
  },
  {
   "cell_type": "code",
   "execution_count": 23,
   "id": "13eb6bb9",
   "metadata": {},
   "outputs": [
    {
     "name": "stdout",
     "output_type": "stream",
     "text": [
      "grey True\n",
      "['grey', True]\n"
     ]
    },
    {
     "data": {
      "text/plain": [
       "list"
      ]
     },
     "execution_count": 23,
     "metadata": {},
     "output_type": "execute_result"
    }
   ],
   "source": [
    "print(mylist2[0][1],mylist2[3][0])\n",
    "\n",
    "print([mylist2[0][1],mylist2[3][0]])\n",
    "type([mylist2[0][1],mylist2[3][0]])"
   ]
  },
  {
   "cell_type": "code",
   "execution_count": 24,
   "id": "48fb4de6",
   "metadata": {},
   "outputs": [
    {
     "ename": "TypeError",
     "evalue": "type() takes 1 or 3 arguments",
     "output_type": "error",
     "traceback": [
      "\u001b[1;31m---------------------------------------------------------------------------\u001b[0m",
      "\u001b[1;31mTypeError\u001b[0m                                 Traceback (most recent call last)",
      "Input \u001b[1;32mIn [24]\u001b[0m, in \u001b[0;36m<cell line: 1>\u001b[1;34m()\u001b[0m\n\u001b[1;32m----> 1\u001b[0m \u001b[38;5;28;43mtype\u001b[39;49m\u001b[43m(\u001b[49m\u001b[43mmylist2\u001b[49m\u001b[43m[\u001b[49m\u001b[38;5;241;43m0\u001b[39;49m\u001b[43m]\u001b[49m\u001b[43m[\u001b[49m\u001b[38;5;241;43m1\u001b[39;49m\u001b[43m]\u001b[49m\u001b[43m,\u001b[49m\u001b[43mmylist2\u001b[49m\u001b[43m[\u001b[49m\u001b[38;5;241;43m3\u001b[39;49m\u001b[43m]\u001b[49m\u001b[43m[\u001b[49m\u001b[38;5;241;43m0\u001b[39;49m\u001b[43m]\u001b[49m\u001b[43m)\u001b[49m\n",
      "\u001b[1;31mTypeError\u001b[0m: type() takes 1 or 3 arguments"
     ]
    }
   ],
   "source": [
    "type(mylist2[0][1],mylist2[3][0])"
   ]
  },
  {
   "cell_type": "markdown",
   "id": "c263ed8b",
   "metadata": {},
   "source": [
    "## Common errors in Indexing"
   ]
  },
  {
   "cell_type": "code",
   "execution_count": 25,
   "id": "41073a2a",
   "metadata": {},
   "outputs": [
    {
     "ename": "IndexError",
     "evalue": "list index out of range",
     "output_type": "error",
     "traceback": [
      "\u001b[1;31m---------------------------------------------------------------------------\u001b[0m",
      "\u001b[1;31mIndexError\u001b[0m                                Traceback (most recent call last)",
      "Input \u001b[1;32mIn [25]\u001b[0m, in \u001b[0;36m<cell line: 1>\u001b[1;34m()\u001b[0m\n\u001b[1;32m----> 1\u001b[0m \u001b[43mmylist2\u001b[49m\u001b[43m[\u001b[49m\u001b[38;5;241;43m7\u001b[39;49m\u001b[43m]\u001b[49m\n",
      "\u001b[1;31mIndexError\u001b[0m: list index out of range"
     ]
    }
   ],
   "source": [
    "mylist2[7]"
   ]
  },
  {
   "cell_type": "code",
   "execution_count": 26,
   "id": "1abe7817",
   "metadata": {},
   "outputs": [
    {
     "ename": "TypeError",
     "evalue": "list indices must be integers or slices, not float",
     "output_type": "error",
     "traceback": [
      "\u001b[1;31m---------------------------------------------------------------------------\u001b[0m",
      "\u001b[1;31mTypeError\u001b[0m                                 Traceback (most recent call last)",
      "Input \u001b[1;32mIn [26]\u001b[0m, in \u001b[0;36m<cell line: 1>\u001b[1;34m()\u001b[0m\n\u001b[1;32m----> 1\u001b[0m \u001b[43mmynum_list\u001b[49m\u001b[43m[\u001b[49m\u001b[38;5;241;43m2.5\u001b[39;49m\u001b[43m]\u001b[49m\n",
      "\u001b[1;31mTypeError\u001b[0m: list indices must be integers or slices, not float"
     ]
    }
   ],
   "source": [
    "mynum_list[2.5]"
   ]
  },
  {
   "cell_type": "markdown",
   "id": "e8464cbe",
   "metadata": {},
   "source": [
    "## List Methods"
   ]
  },
  {
   "cell_type": "code",
   "execution_count": 27,
   "id": "2919b689",
   "metadata": {},
   "outputs": [
    {
     "name": "stdout",
     "output_type": "stream",
     "text": [
      "['__add__', '__class__', '__class_getitem__', '__contains__', '__delattr__', '__delitem__', '__dir__', '__doc__', '__eq__', '__format__', '__ge__', '__getattribute__', '__getitem__', '__gt__', '__hash__', '__iadd__', '__imul__', '__init__', '__init_subclass__', '__iter__', '__le__', '__len__', '__lt__', '__mul__', '__ne__', '__new__', '__reduce__', '__reduce_ex__', '__repr__', '__reversed__', '__rmul__', '__setattr__', '__setitem__', '__sizeof__', '__str__', '__subclasshook__', 'append', 'clear', 'copy', 'count', 'extend', 'index', 'insert', 'pop', 'remove', 'reverse', 'sort']\n"
     ]
    }
   ],
   "source": [
    "print(dir(list))"
   ]
  },
  {
   "cell_type": "code",
   "execution_count": 28,
   "id": "ad086bcc",
   "metadata": {},
   "outputs": [
    {
     "data": {
      "text/plain": [
       "'PYTHON PROGRAMMING'"
      ]
     },
     "execution_count": 28,
     "metadata": {},
     "output_type": "execute_result"
    },
    {
     "data": {
      "text/plain": [
       "'PYTHON PROGRAMMING'"
      ]
     },
     "execution_count": 28,
     "metadata": {},
     "output_type": "execute_result"
    },
    {
     "data": {
      "text/plain": [
       "'PYTHON PROGRAMMING'"
      ]
     },
     "execution_count": 28,
     "metadata": {},
     "output_type": "execute_result"
    }
   ],
   "source": [
    "# usage of str methods\n",
    "r'Python Programming'.upper()\n",
    "'Python Programming'.upper()\n",
    "\n",
    "str1 = 'Python Programming'\n",
    "str1.upper()\n"
   ]
  },
  {
   "cell_type": "markdown",
   "id": "20070da8",
   "metadata": {},
   "source": [
    "### List Methods\n",
    " 'append', 'clear', 'copy', 'count', 'extend', 'index', 'insert', 'pop', 'remove', 'reverse', 'sort'"
   ]
  },
  {
   "cell_type": "markdown",
   "id": "12d0c005",
   "metadata": {},
   "source": [
    "#### 1.append()"
   ]
  },
  {
   "cell_type": "code",
   "execution_count": 29,
   "id": "3b3f25fd",
   "metadata": {},
   "outputs": [
    {
     "name": "stdout",
     "output_type": "stream",
     "text": [
      "['black', 'WHITE', 'grey', 'silver', 'WHITE', 'grey', 'silver', 'maroon']\n"
     ]
    }
   ],
   "source": [
    "print(mystr_list)"
   ]
  },
  {
   "cell_type": "code",
   "execution_count": 30,
   "id": "92f6b738",
   "metadata": {},
   "outputs": [],
   "source": [
    "# append a single value - str/int/float/bool/date\n",
    "\n",
    "# Append object to the end of the list.\n",
    "mystr_list.append(2022)\n",
    "mystr_list.append('RED')"
   ]
  },
  {
   "cell_type": "code",
   "execution_count": 31,
   "id": "7d717f87",
   "metadata": {},
   "outputs": [
    {
     "name": "stdout",
     "output_type": "stream",
     "text": [
      "['black', 'WHITE', 'grey', 'silver', 'WHITE', 'grey', 'silver', 'maroon', 2022, 'RED']\n"
     ]
    }
   ],
   "source": [
    "print(mystr_list)"
   ]
  },
  {
   "cell_type": "code",
   "execution_count": 32,
   "id": "3950c8a9",
   "metadata": {},
   "outputs": [],
   "source": [
    "mystr_list.append(['red','BLUE','Green'])\n",
    "\n",
    "newlist = ['red','BLUE','Green']\n",
    "mystr_list.append(newlist)"
   ]
  },
  {
   "cell_type": "code",
   "execution_count": 33,
   "id": "4aaf09f5",
   "metadata": {},
   "outputs": [
    {
     "name": "stdout",
     "output_type": "stream",
     "text": [
      "['black', 'WHITE', 'grey', 'silver', 'WHITE', 'grey', 'silver', 'maroon', 2022, 'RED', ['red', 'BLUE', 'Green'], ['red', 'BLUE', 'Green']]\n"
     ]
    }
   ],
   "source": [
    "print(mystr_list)"
   ]
  },
  {
   "cell_type": "markdown",
   "id": "bca9d7f1",
   "metadata": {},
   "source": [
    "#### 2. copy()"
   ]
  },
  {
   "cell_type": "code",
   "execution_count": 34,
   "id": "33654e6b",
   "metadata": {},
   "outputs": [],
   "source": [
    "# create a list from an existing list\n",
    "\n",
    "mystr_list_new = mystr_list"
   ]
  },
  {
   "cell_type": "code",
   "execution_count": 35,
   "id": "38c35ac9",
   "metadata": {},
   "outputs": [
    {
     "name": "stdout",
     "output_type": "stream",
     "text": [
      "['black', 'WHITE', 'grey', 'silver', 'WHITE', 'grey', 'silver', 'maroon', 2022, 'RED', ['red', 'BLUE', 'Green'], ['red', 'BLUE', 'Green']]\n",
      "\n",
      "['black', 'WHITE', 'grey', 'silver', 'WHITE', 'grey', 'silver', 'maroon', 2022, 'RED', ['red', 'BLUE', 'Green'], ['red', 'BLUE', 'Green']]\n"
     ]
    }
   ],
   "source": [
    "print(mystr_list_new, mystr_list, sep = '\\n\\n')"
   ]
  },
  {
   "cell_type": "code",
   "execution_count": 36,
   "id": "47c79dc3",
   "metadata": {},
   "outputs": [],
   "source": [
    "mystr_list_new.append('YELLOW')"
   ]
  },
  {
   "cell_type": "code",
   "execution_count": 37,
   "id": "81e6b606",
   "metadata": {},
   "outputs": [
    {
     "name": "stdout",
     "output_type": "stream",
     "text": [
      "['black', 'WHITE', 'grey', 'silver', 'WHITE', 'grey', 'silver', 'maroon', 2022, 'RED', ['red', 'BLUE', 'Green'], ['red', 'BLUE', 'Green'], 'YELLOW']\n",
      "\n",
      "['black', 'WHITE', 'grey', 'silver', 'WHITE', 'grey', 'silver', 'maroon', 2022, 'RED', ['red', 'BLUE', 'Green'], ['red', 'BLUE', 'Green'], 'YELLOW']\n"
     ]
    }
   ],
   "source": [
    "print(mystr_list_new, mystr_list, sep = '\\n\\n')"
   ]
  },
  {
   "cell_type": "code",
   "execution_count": 38,
   "id": "5251841a",
   "metadata": {},
   "outputs": [
    {
     "name": "stdout",
     "output_type": "stream",
     "text": [
      "1888094703232\n",
      "\n",
      "1888094703232\n"
     ]
    }
   ],
   "source": [
    "print(id(mystr_list_new), id(mystr_list), sep = '\\n\\n')"
   ]
  },
  {
   "cell_type": "code",
   "execution_count": 39,
   "id": "2f29893f",
   "metadata": {},
   "outputs": [],
   "source": [
    "# using copy()\n",
    "\n",
    "mystr_list_new = mystr_list.copy()"
   ]
  },
  {
   "cell_type": "code",
   "execution_count": 40,
   "id": "b9b27a51",
   "metadata": {},
   "outputs": [
    {
     "name": "stdout",
     "output_type": "stream",
     "text": [
      "1888095365824\n",
      "\n",
      "1888094703232\n"
     ]
    }
   ],
   "source": [
    "print(id(mystr_list_new), id(mystr_list), sep = '\\n\\n')"
   ]
  },
  {
   "cell_type": "markdown",
   "id": "bc8864c0",
   "metadata": {},
   "source": [
    "#### 3. count()"
   ]
  },
  {
   "cell_type": "code",
   "execution_count": 41,
   "id": "94b7b598",
   "metadata": {},
   "outputs": [
    {
     "data": {
      "text/plain": [
       "0"
      ]
     },
     "execution_count": 41,
     "metadata": {},
     "output_type": "execute_result"
    }
   ],
   "source": [
    "mystr_list.count(2023)"
   ]
  },
  {
   "cell_type": "code",
   "execution_count": 42,
   "id": "b1255aee",
   "metadata": {},
   "outputs": [
    {
     "data": {
      "text/plain": [
       "1"
      ]
     },
     "execution_count": 42,
     "metadata": {},
     "output_type": "execute_result"
    }
   ],
   "source": [
    "mystr_list.count('RED')"
   ]
  },
  {
   "cell_type": "code",
   "execution_count": 43,
   "id": "7e2c11c9",
   "metadata": {},
   "outputs": [
    {
     "data": {
      "text/plain": [
       "2"
      ]
     },
     "execution_count": 43,
     "metadata": {},
     "output_type": "execute_result"
    }
   ],
   "source": [
    "mystr_list.count('silver')\n"
   ]
  },
  {
   "cell_type": "markdown",
   "id": "83377888",
   "metadata": {},
   "source": [
    "#### 4. extend()"
   ]
  },
  {
   "cell_type": "code",
   "execution_count": 44,
   "id": "8c304622",
   "metadata": {},
   "outputs": [],
   "source": [
    "newlist = ['red','BLUE','Green']\n",
    "mystr_list.extend(newlist)"
   ]
  },
  {
   "cell_type": "code",
   "execution_count": 45,
   "id": "310ddb91",
   "metadata": {},
   "outputs": [
    {
     "name": "stdout",
     "output_type": "stream",
     "text": [
      "['black', 'WHITE', 'grey', 'silver', 'WHITE', 'grey', 'silver', 'maroon', 2022, 'RED', ['red', 'BLUE', 'Green'], ['red', 'BLUE', 'Green'], 'YELLOW', 'red', 'BLUE', 'Green']\n"
     ]
    }
   ],
   "source": [
    "print(mystr_list)"
   ]
  },
  {
   "cell_type": "markdown",
   "id": "e3c98917",
   "metadata": {},
   "source": [
    "#### 5.index()"
   ]
  },
  {
   "cell_type": "code",
   "execution_count": 46,
   "id": "30ff2ab9",
   "metadata": {},
   "outputs": [
    {
     "data": {
      "text/plain": [
       "13"
      ]
     },
     "execution_count": 46,
     "metadata": {},
     "output_type": "execute_result"
    }
   ],
   "source": [
    "mystr_list.index('red') # Return first index of value."
   ]
  },
  {
   "cell_type": "code",
   "execution_count": 47,
   "id": "bd762d0a",
   "metadata": {},
   "outputs": [
    {
     "data": {
      "text/plain": [
       "3"
      ]
     },
     "execution_count": 47,
     "metadata": {},
     "output_type": "execute_result"
    },
    {
     "data": {
      "text/plain": [
       "6"
      ]
     },
     "execution_count": 47,
     "metadata": {},
     "output_type": "execute_result"
    }
   ],
   "source": [
    "mystr_list.index('silver') # Return first index of value.\n",
    "mystr_list.index('silver', 4) # second index of value."
   ]
  },
  {
   "cell_type": "code",
   "execution_count": 48,
   "id": "a95870fe",
   "metadata": {},
   "outputs": [
    {
     "ename": "ValueError",
     "evalue": "'silver' is not in list",
     "output_type": "error",
     "traceback": [
      "\u001b[1;31m---------------------------------------------------------------------------\u001b[0m",
      "\u001b[1;31mValueError\u001b[0m                                Traceback (most recent call last)",
      "Input \u001b[1;32mIn [48]\u001b[0m, in \u001b[0;36m<cell line: 1>\u001b[1;34m()\u001b[0m\n\u001b[1;32m----> 1\u001b[0m \u001b[43mmystr_list\u001b[49m\u001b[38;5;241;43m.\u001b[39;49m\u001b[43mindex\u001b[49m\u001b[43m(\u001b[49m\u001b[38;5;124;43m'\u001b[39;49m\u001b[38;5;124;43msilver\u001b[39;49m\u001b[38;5;124;43m'\u001b[39;49m\u001b[43m,\u001b[49m\u001b[43m \u001b[49m\u001b[38;5;241;43m7\u001b[39;49m\u001b[43m)\u001b[49m\n",
      "\u001b[1;31mValueError\u001b[0m: 'silver' is not in list"
     ]
    }
   ],
   "source": [
    "mystr_list.index('silver', 7)"
   ]
  },
  {
   "cell_type": "markdown",
   "id": "43885f68",
   "metadata": {},
   "source": [
    "#### 6. insert()"
   ]
  },
  {
   "cell_type": "code",
   "execution_count": 49,
   "id": "173356c4",
   "metadata": {},
   "outputs": [],
   "source": [
    "mystr_list.insert(0, 'ORANGE') # Insert object before index."
   ]
  },
  {
   "cell_type": "code",
   "execution_count": 50,
   "id": "efc95123",
   "metadata": {},
   "outputs": [
    {
     "name": "stdout",
     "output_type": "stream",
     "text": [
      "['ORANGE', 'black', 'WHITE', 'grey', 'silver', 'WHITE', 'grey', 'silver', 'maroon', 2022, 'RED', ['red', 'BLUE', 'Green'], ['red', 'BLUE', 'Green'], 'YELLOW', 'red', 'BLUE', 'Green']\n"
     ]
    }
   ],
   "source": [
    "print(mystr_list)"
   ]
  },
  {
   "cell_type": "code",
   "execution_count": 51,
   "id": "27f94b3f",
   "metadata": {},
   "outputs": [],
   "source": [
    "mystr_list.insert(11, 'ORANGE')"
   ]
  },
  {
   "cell_type": "code",
   "execution_count": 52,
   "id": "19d10f3a",
   "metadata": {},
   "outputs": [
    {
     "name": "stdout",
     "output_type": "stream",
     "text": [
      "['ORANGE', 'black', 'WHITE', 'grey', 'silver', 'WHITE', 'grey', 'silver', 'maroon', 2022, 'RED', 'ORANGE', ['red', 'BLUE', 'Green'], ['red', 'BLUE', 'Green'], 'YELLOW', 'red', 'BLUE', 'Green']\n"
     ]
    }
   ],
   "source": [
    "print(mystr_list)"
   ]
  },
  {
   "cell_type": "code",
   "execution_count": 5,
   "id": "e7f90572",
   "metadata": {},
   "outputs": [
    {
     "ename": "NameError",
     "evalue": "name 'mystr_list' is not defined",
     "output_type": "error",
     "traceback": [
      "\u001b[1;31m---------------------------------------------------------------------------\u001b[0m",
      "\u001b[1;31mNameError\u001b[0m                                 Traceback (most recent call last)",
      "Input \u001b[1;32mIn [5]\u001b[0m, in \u001b[0;36m<cell line: 1>\u001b[1;34m()\u001b[0m\n\u001b[1;32m----> 1\u001b[0m \u001b[43mmystr_list\u001b[49m\u001b[38;5;241m.\u001b[39minsert(\u001b[38;5;124m'\u001b[39m\u001b[38;5;124mPURPLE\u001b[39m\u001b[38;5;124m'\u001b[39m)\n",
      "\u001b[1;31mNameError\u001b[0m: name 'mystr_list' is not defined"
     ]
    }
   ],
   "source": [
    "mystr_list.insert('PURPLE')"
   ]
  },
  {
   "cell_type": "markdown",
   "id": "28a7fcc1",
   "metadata": {},
   "source": [
    "#### 7. pop()"
   ]
  },
  {
   "cell_type": "code",
   "execution_count": 54,
   "id": "6e3e71e2",
   "metadata": {},
   "outputs": [
    {
     "data": {
      "text/plain": [
       "'Green'"
      ]
     },
     "execution_count": 54,
     "metadata": {},
     "output_type": "execute_result"
    }
   ],
   "source": [
    "mystr_list.pop() # Remove and return item at index (default last)."
   ]
  },
  {
   "cell_type": "code",
   "execution_count": 55,
   "id": "b8053bd9",
   "metadata": {},
   "outputs": [
    {
     "data": {
      "text/plain": [
       "'ORANGE'"
      ]
     },
     "execution_count": 55,
     "metadata": {},
     "output_type": "execute_result"
    }
   ],
   "source": [
    "mystr_list.pop(0)"
   ]
  },
  {
   "cell_type": "code",
   "execution_count": 56,
   "id": "35f4ea20",
   "metadata": {},
   "outputs": [
    {
     "name": "stdout",
     "output_type": "stream",
     "text": [
      "['black', 'WHITE', 'grey', 'silver', 'WHITE', 'grey', 'silver', 'maroon', 2022, 'RED', 'ORANGE', ['red', 'BLUE', 'Green'], ['red', 'BLUE', 'Green'], 'YELLOW', 'red', 'BLUE']\n"
     ]
    }
   ],
   "source": [
    "print(mystr_list)"
   ]
  },
  {
   "cell_type": "markdown",
   "id": "703ae069",
   "metadata": {},
   "source": [
    "#### 8. remove()"
   ]
  },
  {
   "cell_type": "code",
   "execution_count": 57,
   "id": "b0e299e6",
   "metadata": {},
   "outputs": [],
   "source": [
    "mystr_list.remove('silver') # Remove first occurrence of value."
   ]
  },
  {
   "cell_type": "code",
   "execution_count": 58,
   "id": "5f040906",
   "metadata": {},
   "outputs": [
    {
     "name": "stdout",
     "output_type": "stream",
     "text": [
      "['black', 'WHITE', 'grey', 'WHITE', 'grey', 'silver', 'maroon', 2022, 'RED', 'ORANGE', ['red', 'BLUE', 'Green'], ['red', 'BLUE', 'Green'], 'YELLOW', 'red', 'BLUE']\n"
     ]
    }
   ],
   "source": [
    "print(mystr_list)"
   ]
  },
  {
   "cell_type": "markdown",
   "id": "ced32043",
   "metadata": {},
   "source": [
    "#### 9. reverse()"
   ]
  },
  {
   "cell_type": "code",
   "execution_count": 59,
   "id": "f5557f8f",
   "metadata": {},
   "outputs": [],
   "source": [
    "mystr_list.reverse() # Reverse *IN PLACE*. reverses the list and store the output into the same variable"
   ]
  },
  {
   "cell_type": "code",
   "execution_count": 60,
   "id": "52c319b5",
   "metadata": {},
   "outputs": [
    {
     "name": "stdout",
     "output_type": "stream",
     "text": [
      "['BLUE', 'red', 'YELLOW', ['red', 'BLUE', 'Green'], ['red', 'BLUE', 'Green'], 'ORANGE', 'RED', 2022, 'maroon', 'silver', 'grey', 'WHITE', 'grey', 'WHITE', 'black']\n"
     ]
    }
   ],
   "source": [
    "print(mystr_list)\n"
   ]
  },
  {
   "cell_type": "markdown",
   "id": "da621268",
   "metadata": {},
   "source": [
    "#### 10. sort()"
   ]
  },
  {
   "cell_type": "code",
   "execution_count": 61,
   "id": "13ed72e1",
   "metadata": {},
   "outputs": [
    {
     "ename": "TypeError",
     "evalue": "'<' not supported between instances of 'list' and 'str'",
     "output_type": "error",
     "traceback": [
      "\u001b[1;31m---------------------------------------------------------------------------\u001b[0m",
      "\u001b[1;31mTypeError\u001b[0m                                 Traceback (most recent call last)",
      "Input \u001b[1;32mIn [61]\u001b[0m, in \u001b[0;36m<cell line: 1>\u001b[1;34m()\u001b[0m\n\u001b[1;32m----> 1\u001b[0m \u001b[43mmystr_list\u001b[49m\u001b[38;5;241;43m.\u001b[39;49m\u001b[43msort\u001b[49m\u001b[43m(\u001b[49m\u001b[43m)\u001b[49m\n",
      "\u001b[1;31mTypeError\u001b[0m: '<' not supported between instances of 'list' and 'str'"
     ]
    }
   ],
   "source": [
    "mystr_list.sort()"
   ]
  },
  {
   "cell_type": "code",
   "execution_count": 62,
   "id": "7ebdaaf2",
   "metadata": {},
   "outputs": [],
   "source": [
    "mystr_list.sort(key = str)"
   ]
  },
  {
   "cell_type": "code",
   "execution_count": 63,
   "id": "31205b56",
   "metadata": {},
   "outputs": [
    {
     "name": "stdout",
     "output_type": "stream",
     "text": [
      "[2022, 'BLUE', 'ORANGE', 'RED', 'WHITE', 'WHITE', 'YELLOW', ['red', 'BLUE', 'Green'], ['red', 'BLUE', 'Green'], 'black', 'grey', 'grey', 'maroon', 'red', 'silver']\n"
     ]
    }
   ],
   "source": [
    "print(mystr_list)"
   ]
  },
  {
   "cell_type": "code",
   "execution_count": 64,
   "id": "79ab178e",
   "metadata": {},
   "outputs": [],
   "source": [
    "newlist = ['black', 'grey', 'grey', 'maroon', 'red', 'silver']"
   ]
  },
  {
   "cell_type": "code",
   "execution_count": 65,
   "id": "fa54d568",
   "metadata": {},
   "outputs": [
    {
     "name": "stdout",
     "output_type": "stream",
     "text": [
      "['black', 'grey', 'grey', 'maroon', 'red', 'silver']\n",
      "['silver', 'red', 'maroon', 'grey', 'grey', 'black']\n"
     ]
    }
   ],
   "source": [
    "newlist.sort()\n",
    "print(newlist)\n",
    "newlist.sort(reverse=True)\n",
    "print(newlist)"
   ]
  },
  {
   "cell_type": "markdown",
   "id": "bd839545",
   "metadata": {},
   "source": [
    "#### 11. clear()"
   ]
  },
  {
   "cell_type": "code",
   "execution_count": 66,
   "id": "03321b9b",
   "metadata": {},
   "outputs": [
    {
     "name": "stdout",
     "output_type": "stream",
     "text": [
      "[]\n"
     ]
    }
   ],
   "source": [
    "mystr_list.clear()\n",
    "print(mystr_list)"
   ]
  },
  {
   "cell_type": "markdown",
   "id": "b7a44f10",
   "metadata": {},
   "source": [
    "## Empty list"
   ]
  },
  {
   "cell_type": "code",
   "execution_count": 67,
   "id": "21f7ad1d",
   "metadata": {},
   "outputs": [],
   "source": [
    "list1 = [] # this is an empty list"
   ]
  },
  {
   "cell_type": "code",
   "execution_count": 68,
   "id": "814d84ff",
   "metadata": {},
   "outputs": [
    {
     "name": "stdout",
     "output_type": "stream",
     "text": [
      "[]\n"
     ]
    }
   ],
   "source": [
    "print(list1)\n"
   ]
  },
  {
   "cell_type": "code",
   "execution_count": 69,
   "id": "79fb569c",
   "metadata": {},
   "outputs": [],
   "source": [
    "list1.append(100)"
   ]
  },
  {
   "cell_type": "code",
   "execution_count": 70,
   "id": "7e077b0f",
   "metadata": {},
   "outputs": [
    {
     "name": "stdout",
     "output_type": "stream",
     "text": [
      "[100]\n"
     ]
    }
   ],
   "source": [
    "print(list1)\n"
   ]
  },
  {
   "cell_type": "markdown",
   "id": "72ebbda4",
   "metadata": {},
   "source": [
    "### Operators on List\n",
    "Operators like `+` and `*` on lists work in the similar way of strings.\n",
    "\n",
    "`+` - Concatenation. `*` - Repetition.\n",
    "\n",
    "Membership operator works on list as well with keywords - `in` and `not in`."
   ]
  },
  {
   "cell_type": "code",
   "execution_count": 71,
   "id": "8d39a9a2",
   "metadata": {},
   "outputs": [],
   "source": [
    "newlist = ['black', 'grey', 'grey', 'maroon', 'red', 'silver']\n",
    "list1 = [10,20,30,40,50]"
   ]
  },
  {
   "cell_type": "code",
   "execution_count": 72,
   "id": "cd090c89",
   "metadata": {},
   "outputs": [
    {
     "name": "stdout",
     "output_type": "stream",
     "text": [
      "['black', 'grey', 'grey', 'maroon', 'red', 'silver', 10, 20, 30, 40, 50]\n"
     ]
    }
   ],
   "source": [
    "print(newlist + list1)"
   ]
  },
  {
   "cell_type": "code",
   "execution_count": 73,
   "id": "ea688d02",
   "metadata": {},
   "outputs": [
    {
     "name": "stdout",
     "output_type": "stream",
     "text": [
      "[10, 20, 30, 40, 50, 10, 20, 30, 40, 50, 10, 20, 30, 40, 50]\n"
     ]
    }
   ],
   "source": [
    "print(list1*3)"
   ]
  },
  {
   "cell_type": "code",
   "execution_count": 74,
   "id": "439cd5d9",
   "metadata": {},
   "outputs": [
    {
     "data": {
      "text/plain": [
       "True"
      ]
     },
     "execution_count": 74,
     "metadata": {},
     "output_type": "execute_result"
    }
   ],
   "source": [
    "50 in list1"
   ]
  },
  {
   "cell_type": "code",
   "execution_count": 75,
   "id": "a99cdd22",
   "metadata": {},
   "outputs": [
    {
     "data": {
      "text/plain": [
       "False"
      ]
     },
     "execution_count": 75,
     "metadata": {},
     "output_type": "execute_result"
    }
   ],
   "source": [
    "'red' not in newlist"
   ]
  },
  {
   "cell_type": "markdown",
   "id": "916d76bc",
   "metadata": {},
   "source": [
    "### Built-in List Functions"
   ]
  },
  {
   "cell_type": "code",
   "execution_count": 76,
   "id": "070ab59b",
   "metadata": {},
   "outputs": [
    {
     "data": {
      "text/plain": [
       "6"
      ]
     },
     "execution_count": 76,
     "metadata": {},
     "output_type": "execute_result"
    },
    {
     "data": {
      "text/plain": [
       "10"
      ]
     },
     "execution_count": 76,
     "metadata": {},
     "output_type": "execute_result"
    },
    {
     "data": {
      "text/plain": [
       "50"
      ]
     },
     "execution_count": 76,
     "metadata": {},
     "output_type": "execute_result"
    },
    {
     "data": {
      "text/plain": [
       "range(1, 101)"
      ]
     },
     "execution_count": 76,
     "metadata": {},
     "output_type": "execute_result"
    },
    {
     "name": "stdout",
     "output_type": "stream",
     "text": [
      "[1, 11, 21, 31, 41, 51, 61, 71, 81, 91]\n",
      "['P', 'Y', 'T', 'H', 'O', 'N', ' ', 'P', 'R', 'O', 'G', 'R', 'A', 'M']\n"
     ]
    },
    {
     "data": {
      "text/plain": [
       "'P_Y_T_H_O_N_ _P_R_O_G_R_A_M'"
      ]
     },
     "execution_count": 76,
     "metadata": {},
     "output_type": "execute_result"
    },
    {
     "data": {
      "text/plain": [
       "'P.Y.T.H.O.N. .P.R.O.G.R.A.M'"
      ]
     },
     "execution_count": 76,
     "metadata": {},
     "output_type": "execute_result"
    },
    {
     "data": {
      "text/plain": [
       "'PYTHON PROGRAM'"
      ]
     },
     "execution_count": 76,
     "metadata": {},
     "output_type": "execute_result"
    }
   ],
   "source": [
    "# len()\n",
    "len(newlist)\n",
    "\n",
    "# min() & max()\n",
    "min(list1)\n",
    "max(list1)\n",
    "\n",
    "# create a list using \"range\" function\n",
    "range(1,101)\n",
    "\n",
    "# list() - converts an iterable into a list object\n",
    "print(list(range(1,101,10)))\n",
    "\n",
    "# str to list \n",
    "x = list('PYTHON PROGRAM')\n",
    "print(x)\n",
    "# list to str \n",
    "'_'.join(x)\n",
    "'.'.join(x)\n",
    "''.join(x)"
   ]
  },
  {
   "cell_type": "markdown",
   "id": "877c491d",
   "metadata": {},
   "source": [
    "### Tuple\n",
    "- Written with `()` braces.\n",
    "- Indexing is allowed.\n",
    "- Data is unchangeable (immutable).\n",
    "- Duplicates are allowed."
   ]
  },
  {
   "cell_type": "markdown",
   "id": "aab8deb1",
   "metadata": {},
   "source": [
    "### Create a tuple"
   ]
  },
  {
   "cell_type": "code",
   "execution_count": 1,
   "id": "1841059a",
   "metadata": {},
   "outputs": [],
   "source": [
    "# A tuple can be created in two ways\n",
    "\n",
    "# approach 1\n",
    "tup1 = (\"black\", \"white\", \"grey\", \"silver\", \"maroon\")\n",
    "\n",
    "# approach 2\n",
    "tup2 = 10,20,30,40,50,50,10\n",
    "\n",
    "# Duplicates are allowed"
   ]
  },
  {
   "cell_type": "code",
   "execution_count": 78,
   "id": "76878c76",
   "metadata": {},
   "outputs": [
    {
     "name": "stdout",
     "output_type": "stream",
     "text": [
      "('black', 'white', 'grey', 'silver', 'maroon')\n",
      "(10, 20, 30, 40, 50, 50, 10)\n",
      "<class 'tuple'>\n",
      "<class 'tuple'>\n"
     ]
    }
   ],
   "source": [
    "print(tup1, tup2, sep='\\n')\n",
    "print(type(tup1), type(tup2), sep='\\n')"
   ]
  },
  {
   "cell_type": "markdown",
   "id": "90d96a21",
   "metadata": {},
   "source": [
    "### Tuple Indexing"
   ]
  },
  {
   "cell_type": "code",
   "execution_count": 79,
   "id": "74675580",
   "metadata": {},
   "outputs": [
    {
     "name": "stdout",
     "output_type": "stream",
     "text": [
      "white\n",
      "grey\n",
      "r\n",
      "maroon\n",
      "('maroon', 'silver', 'grey', 'white', 'black')\n"
     ]
    }
   ],
   "source": [
    "print(tup1[1])\n",
    "print(tup1[2])\n",
    "print(tup1[2][1])\n",
    "print(tup1[-1])\n",
    "print(tup1[::-1])"
   ]
  },
  {
   "cell_type": "markdown",
   "id": "e4c52da4",
   "metadata": {},
   "source": [
    "### Changing tuple items"
   ]
  },
  {
   "cell_type": "code",
   "execution_count": 80,
   "id": "0d32143b",
   "metadata": {},
   "outputs": [
    {
     "ename": "TypeError",
     "evalue": "'tuple' object does not support item assignment",
     "output_type": "error",
     "traceback": [
      "\u001b[1;31m---------------------------------------------------------------------------\u001b[0m",
      "\u001b[1;31mTypeError\u001b[0m                                 Traceback (most recent call last)",
      "Input \u001b[1;32mIn [80]\u001b[0m, in \u001b[0;36m<cell line: 1>\u001b[1;34m()\u001b[0m\n\u001b[1;32m----> 1\u001b[0m tup1[\u001b[38;5;241m2\u001b[39m] \u001b[38;5;241m=\u001b[39m \u001b[38;5;124m'\u001b[39m\u001b[38;5;124mGREY\u001b[39m\u001b[38;5;124m'\u001b[39m\n",
      "\u001b[1;31mTypeError\u001b[0m: 'tuple' object does not support item assignment"
     ]
    }
   ],
   "source": [
    "tup1[2] = 'GREY'"
   ]
  },
  {
   "cell_type": "markdown",
   "id": "d73a80c0",
   "metadata": {},
   "source": [
    "### Tuple methods"
   ]
  },
  {
   "cell_type": "code",
   "execution_count": 81,
   "id": "ddc1b3a0",
   "metadata": {},
   "outputs": [
    {
     "name": "stdout",
     "output_type": "stream",
     "text": [
      "['__add__', '__class__', '__class_getitem__', '__contains__', '__delattr__', '__dir__', '__doc__', '__eq__', '__format__', '__ge__', '__getattribute__', '__getitem__', '__getnewargs__', '__gt__', '__hash__', '__init__', '__init_subclass__', '__iter__', '__le__', '__len__', '__lt__', '__mul__', '__ne__', '__new__', '__reduce__', '__reduce_ex__', '__repr__', '__rmul__', '__setattr__', '__sizeof__', '__str__', '__subclasshook__', 'count', 'index']\n"
     ]
    }
   ],
   "source": [
    "print(dir(tuple))"
   ]
  },
  {
   "cell_type": "code",
   "execution_count": 82,
   "id": "7cf1befe",
   "metadata": {},
   "outputs": [
    {
     "data": {
      "text/plain": [
       "2"
      ]
     },
     "execution_count": 82,
     "metadata": {},
     "output_type": "execute_result"
    },
    {
     "data": {
      "text/plain": [
       "0"
      ]
     },
     "execution_count": 82,
     "metadata": {},
     "output_type": "execute_result"
    },
    {
     "data": {
      "text/plain": [
       "6"
      ]
     },
     "execution_count": 82,
     "metadata": {},
     "output_type": "execute_result"
    }
   ],
   "source": [
    "tup2.count(10)\n",
    "\n",
    "tup2.index(10)\n",
    "tup2.index(10, 1)"
   ]
  },
  {
   "cell_type": "markdown",
   "id": "e13c83e1",
   "metadata": {},
   "source": [
    "### Operators on Tuple\n",
    "Operators like` +` and `*` on tuple work in the similar way of strings.\n",
    "\n",
    "`+` - Concatenation. `*` - Repetition.\n",
    "\n",
    "Membership operator works on tuple as well with keywords - `in` and `not in`."
   ]
  },
  {
   "cell_type": "code",
   "execution_count": 83,
   "id": "2852f2ed",
   "metadata": {},
   "outputs": [
    {
     "data": {
      "text/plain": [
       "('black', 'white', 'grey', 'silver', 'maroon', 10, 20, 30, 40, 50, 50, 10)"
      ]
     },
     "execution_count": 83,
     "metadata": {},
     "output_type": "execute_result"
    }
   ],
   "source": [
    "tup1+tup2\n"
   ]
  },
  {
   "cell_type": "code",
   "execution_count": 84,
   "id": "e42c5c40",
   "metadata": {},
   "outputs": [
    {
     "name": "stdout",
     "output_type": "stream",
     "text": [
      "('black', 'white', 'grey', 'silver', 'maroon', 'black', 'white', 'grey', 'silver', 'maroon')\n"
     ]
    }
   ],
   "source": [
    "print(tup1*2)"
   ]
  },
  {
   "cell_type": "code",
   "execution_count": 85,
   "id": "8cb59b11",
   "metadata": {},
   "outputs": [
    {
     "data": {
      "text/plain": [
       "True"
      ]
     },
     "execution_count": 85,
     "metadata": {},
     "output_type": "execute_result"
    }
   ],
   "source": [
    "'grey' in tup1"
   ]
  },
  {
   "cell_type": "code",
   "execution_count": 86,
   "id": "0e58480c",
   "metadata": {},
   "outputs": [
    {
     "data": {
      "text/plain": [
       "True"
      ]
     },
     "execution_count": 86,
     "metadata": {},
     "output_type": "execute_result"
    }
   ],
   "source": [
    "'GREY' not in tup1"
   ]
  },
  {
   "cell_type": "markdown",
   "id": "66365fa7",
   "metadata": {},
   "source": [
    "### Built-in Tuple functions"
   ]
  },
  {
   "cell_type": "code",
   "execution_count": 87,
   "id": "b52de264",
   "metadata": {},
   "outputs": [
    {
     "data": {
      "text/plain": [
       "5"
      ]
     },
     "execution_count": 87,
     "metadata": {},
     "output_type": "execute_result"
    },
    {
     "name": "stdout",
     "output_type": "stream",
     "text": [
      "10 50\n",
      "('P', 'Y', 'T', 'H', 'O', 'N', ' ', 'P', 'R', 'O', 'G', 'R', 'A', 'M')\n"
     ]
    },
    {
     "data": {
      "text/plain": [
       "'PYTHON PROGRAM'"
      ]
     },
     "execution_count": 87,
     "metadata": {},
     "output_type": "execute_result"
    },
    {
     "name": "stdout",
     "output_type": "stream",
     "text": [
      "[10, 20, 30, 40, 50, 50, 10]\n",
      "[10, 10, 20, 30, 40, 50, 50]\n",
      "(10, 10, 20, 30, 40, 50, 50)\n"
     ]
    }
   ],
   "source": [
    "# len()\n",
    "len(tup1)\n",
    "\n",
    "# min() & max()\n",
    "print(min(tup2), max(tup2))\n",
    "\n",
    "# tuple() # Built-in immutable sequence.\n",
    "\n",
    "# str to tuple\n",
    "x = tuple('PYTHON PROGRAM')\n",
    "print(x)\n",
    "# tuple to str\n",
    "''.join(x)\n",
    "# help(str.join)\n",
    "\n",
    "\n",
    "# tuple to list\n",
    "x = list(tup2)\n",
    "print(x)\n",
    "x.sort()\n",
    "print(x)\n",
    "\n",
    "# list to tuple\n",
    "x = tuple(x)\n",
    "print(x)"
   ]
  },
  {
   "cell_type": "markdown",
   "id": "435f6fc9",
   "metadata": {},
   "source": [
    " > Iterable is an object which can be looped over or iterated over with the help of a for loop. Objects like lists, tuples, sets, dictionaries, strings, etc. are called iterables."
   ]
  },
  {
   "cell_type": "markdown",
   "id": "dc49e891",
   "metadata": {},
   "source": [
    "### Unpacking a Tuple"
   ]
  },
  {
   "cell_type": "code",
   "execution_count": 90,
   "id": "7ab427bf",
   "metadata": {},
   "outputs": [
    {
     "name": "stdout",
     "output_type": "stream",
     "text": [
      "(100, 200) <class 'tuple'>\n"
     ]
    }
   ],
   "source": [
    "tup3 = 100,200\n",
    "print(tup3, type(tup3))"
   ]
  },
  {
   "cell_type": "code",
   "execution_count": 91,
   "id": "4ff4cdce",
   "metadata": {},
   "outputs": [
    {
     "name": "stdout",
     "output_type": "stream",
     "text": [
      "100 200 <class 'int'> <class 'int'>\n",
      "100 200 <class 'int'> <class 'int'>\n"
     ]
    }
   ],
   "source": [
    "# creating int variables from the above tuple\n",
    "\n",
    "i = tup3[0]\n",
    "j = tup3[1]\n",
    "\n",
    "print(i,j, type(i), type(j))\n",
    "\n",
    "# UNPCKING of a tuple\n",
    "\n",
    "i,j = tup3\n",
    "print(i,j, type(i), type(j))"
   ]
  },
  {
   "cell_type": "code",
   "execution_count": 92,
   "id": "fc7b2c8b",
   "metadata": {},
   "outputs": [],
   "source": [
    "tup4 = 10,20,30,40"
   ]
  },
  {
   "cell_type": "code",
   "execution_count": 93,
   "id": "df59bbbc",
   "metadata": {},
   "outputs": [
    {
     "ename": "ValueError",
     "evalue": "too many values to unpack (expected 2)",
     "output_type": "error",
     "traceback": [
      "\u001b[1;31m---------------------------------------------------------------------------\u001b[0m",
      "\u001b[1;31mValueError\u001b[0m                                Traceback (most recent call last)",
      "Input \u001b[1;32mIn [93]\u001b[0m, in \u001b[0;36m<cell line: 1>\u001b[1;34m()\u001b[0m\n\u001b[1;32m----> 1\u001b[0m i,j \u001b[38;5;241m=\u001b[39m tup4\n",
      "\u001b[1;31mValueError\u001b[0m: too many values to unpack (expected 2)"
     ]
    }
   ],
   "source": [
    "i,j = tup4"
   ]
  },
  {
   "cell_type": "markdown",
   "id": "00c29653",
   "metadata": {},
   "source": [
    "### Empty tuple"
   ]
  },
  {
   "cell_type": "code",
   "execution_count": 94,
   "id": "846d1c20",
   "metadata": {},
   "outputs": [],
   "source": [
    "tup5 = ()"
   ]
  },
  {
   "cell_type": "code",
   "execution_count": 95,
   "id": "a7258ed4",
   "metadata": {},
   "outputs": [
    {
     "name": "stdout",
     "output_type": "stream",
     "text": [
      "()\n"
     ]
    }
   ],
   "source": [
    "print(tup5)"
   ]
  },
  {
   "cell_type": "code",
   "execution_count": 96,
   "id": "c69c335f",
   "metadata": {},
   "outputs": [],
   "source": [
    "tup5 = tup5 + (10,20)"
   ]
  },
  {
   "cell_type": "code",
   "execution_count": 97,
   "id": "b52448c0",
   "metadata": {},
   "outputs": [
    {
     "name": "stdout",
     "output_type": "stream",
     "text": [
      "(10, 20)\n"
     ]
    }
   ],
   "source": [
    "print(tup5)"
   ]
  },
  {
   "cell_type": "markdown",
   "id": "2135d603",
   "metadata": {},
   "source": [
    "### Create Tuple With One Item"
   ]
  },
  {
   "cell_type": "code",
   "execution_count": 98,
   "id": "38c4d0bf",
   "metadata": {},
   "outputs": [],
   "source": [
    "x = (25) # this is nothing but x = 25"
   ]
  },
  {
   "cell_type": "code",
   "execution_count": 99,
   "id": "9085b0fe",
   "metadata": {},
   "outputs": [
    {
     "name": "stdout",
     "output_type": "stream",
     "text": [
      "25 <class 'int'>\n"
     ]
    }
   ],
   "source": [
    "print(x, type(x))"
   ]
  },
  {
   "cell_type": "code",
   "execution_count": 100,
   "id": "69f9f641",
   "metadata": {},
   "outputs": [],
   "source": [
    "x = (25,)"
   ]
  },
  {
   "cell_type": "code",
   "execution_count": 101,
   "id": "db58818f",
   "metadata": {},
   "outputs": [
    {
     "name": "stdout",
     "output_type": "stream",
     "text": [
      "(25,) <class 'tuple'>\n"
     ]
    }
   ],
   "source": [
    "print(x, type(x))"
   ]
  },
  {
   "cell_type": "code",
   "execution_count": 10,
   "id": "c3a8cd76",
   "metadata": {},
   "outputs": [
    {
     "name": "stdout",
     "output_type": "stream",
     "text": [
      "Student ID\n"
     ]
    },
    {
     "data": {
      "text/plain": [
       "102"
      ]
     },
     "execution_count": 10,
     "metadata": {},
     "output_type": "execute_result"
    }
   ],
   "source": [
    "# print the 'Student ID ' who scored highest marks\n",
    "\n",
    "mydict4 = {'Student ID': [101,102,103,104,105], 'Marks': [85,99,95,66,78]}\n",
    "\n",
    "print(max(mydict4))\n",
    "\n",
    "mydict4['Student ID'][1]"
   ]
  },
  {
   "cell_type": "markdown",
   "id": "024813ea",
   "metadata": {},
   "source": [
    "### Set"
   ]
  },
  {
   "cell_type": "markdown",
   "id": "5bcd76df",
   "metadata": {},
   "source": [
    "- Written with `{}` braces.\n",
    "- Unindexed.\n",
    "- Data is unchangeable (immutable). But we can add/remove data.\n",
    "- Duplicates are not allowed."
   ]
  },
  {
   "cell_type": "markdown",
   "id": "9efecb3b",
   "metadata": {},
   "source": [
    "### Create a Set"
   ]
  },
  {
   "cell_type": "code",
   "execution_count": 1,
   "id": "dfbab806",
   "metadata": {},
   "outputs": [],
   "source": [
    "# Create a Set\n",
    "set1 = {'black', 'white', 'grey', 'silver', 'maroon'}"
   ]
  },
  {
   "cell_type": "code",
   "execution_count": 2,
   "id": "3769ee33",
   "metadata": {},
   "outputs": [
    {
     "name": "stdout",
     "output_type": "stream",
     "text": [
      "{'maroon', 'grey', 'silver', 'white', 'black'}\n",
      "<class 'set'>\n"
     ]
    }
   ],
   "source": [
    "# check the type\n",
    "\n",
    "print(set1, type(set1), sep = '\\n')"
   ]
  },
  {
   "cell_type": "markdown",
   "id": "bc43c340",
   "metadata": {},
   "source": [
    "### Indexing a Set"
   ]
  },
  {
   "cell_type": "code",
   "execution_count": 3,
   "id": "f0ffbb02",
   "metadata": {},
   "outputs": [
    {
     "ename": "TypeError",
     "evalue": "'set' object is not subscriptable",
     "output_type": "error",
     "traceback": [
      "\u001b[1;31m---------------------------------------------------------------------------\u001b[0m",
      "\u001b[1;31mTypeError\u001b[0m                                 Traceback (most recent call last)",
      "Input \u001b[1;32mIn [3]\u001b[0m, in \u001b[0;36m<cell line: 1>\u001b[1;34m()\u001b[0m\n\u001b[1;32m----> 1\u001b[0m \u001b[43mset1\u001b[49m\u001b[43m[\u001b[49m\u001b[38;5;241;43m3\u001b[39;49m\u001b[43m]\u001b[49m\n",
      "\u001b[1;31mTypeError\u001b[0m: 'set' object is not subscriptable"
     ]
    }
   ],
   "source": [
    "set1[3]"
   ]
  },
  {
   "cell_type": "markdown",
   "id": "8597ff58",
   "metadata": {},
   "source": [
    "### Changing the set items"
   ]
  },
  {
   "cell_type": "code",
   "execution_count": 4,
   "id": "950dc9d1",
   "metadata": {},
   "outputs": [
    {
     "ename": "TypeError",
     "evalue": "'set' object does not support item assignment",
     "output_type": "error",
     "traceback": [
      "\u001b[1;31m---------------------------------------------------------------------------\u001b[0m",
      "\u001b[1;31mTypeError\u001b[0m                                 Traceback (most recent call last)",
      "Input \u001b[1;32mIn [4]\u001b[0m, in \u001b[0;36m<cell line: 1>\u001b[1;34m()\u001b[0m\n\u001b[1;32m----> 1\u001b[0m set1[\u001b[38;5;241m3\u001b[39m] \u001b[38;5;241m=\u001b[39m \u001b[38;5;124m'\u001b[39m\u001b[38;5;124mWHITE\u001b[39m\u001b[38;5;124m'\u001b[39m\n",
      "\u001b[1;31mTypeError\u001b[0m: 'set' object does not support item assignment"
     ]
    }
   ],
   "source": [
    "set1[3] = 'WHITE'"
   ]
  },
  {
   "cell_type": "markdown",
   "id": "1caeeed5",
   "metadata": {},
   "source": [
    "### Try creating a set with Duplicates"
   ]
  },
  {
   "cell_type": "code",
   "execution_count": 5,
   "id": "826b4c7b",
   "metadata": {},
   "outputs": [],
   "source": [
    "set2 = {'black', 'white', 'grey', 'silver', 'maroon', 'black', 'white', 'grey'}"
   ]
  },
  {
   "cell_type": "code",
   "execution_count": 6,
   "id": "df411796",
   "metadata": {},
   "outputs": [
    {
     "name": "stdout",
     "output_type": "stream",
     "text": [
      "{'maroon', 'grey', 'silver', 'white', 'black'}\n"
     ]
    }
   ],
   "source": [
    "print(set2)"
   ]
  },
  {
   "cell_type": "markdown",
   "id": "ab5d756e",
   "metadata": {},
   "source": [
    "### Remove Duplicates from a list"
   ]
  },
  {
   "cell_type": "code",
   "execution_count": 8,
   "id": "c29ee2b8",
   "metadata": {},
   "outputs": [
    {
     "name": "stdout",
     "output_type": "stream",
     "text": [
      "['black', 'white', 'grey', 'silver', 'maroon', 'white', 'black']\n"
     ]
    }
   ],
   "source": [
    "x = [\"black\", \"white\", \"grey\", \"silver\", \"maroon\", 'white', 'black']\n",
    "print(x)"
   ]
  },
  {
   "cell_type": "code",
   "execution_count": 9,
   "id": "e753bac6",
   "metadata": {},
   "outputs": [
    {
     "name": "stdout",
     "output_type": "stream",
     "text": [
      "['maroon', 'white', 'black', 'grey', 'silver']\n",
      "['maroon', 'white', 'black', 'grey', 'silver']\n"
     ]
    }
   ],
   "source": [
    "x = set(x)\n",
    "x = list(x)\n",
    "print(x)\n",
    "\n",
    "x = list(set(x))\n",
    "print(x)"
   ]
  },
  {
   "cell_type": "markdown",
   "id": "eb971fb5",
   "metadata": {},
   "source": [
    "### Set methods"
   ]
  },
  {
   "cell_type": "code",
   "execution_count": 10,
   "id": "7be2966c",
   "metadata": {},
   "outputs": [
    {
     "name": "stdout",
     "output_type": "stream",
     "text": [
      "['__and__', '__class__', '__class_getitem__', '__contains__', '__delattr__', '__dir__', '__doc__', '__eq__', '__format__', '__ge__', '__getattribute__', '__gt__', '__hash__', '__iand__', '__init__', '__init_subclass__', '__ior__', '__isub__', '__iter__', '__ixor__', '__le__', '__len__', '__lt__', '__ne__', '__new__', '__or__', '__rand__', '__reduce__', '__reduce_ex__', '__repr__', '__ror__', '__rsub__', '__rxor__', '__setattr__', '__sizeof__', '__str__', '__sub__', '__subclasshook__', '__xor__', 'add', 'clear', 'copy', 'difference', 'difference_update', 'discard', 'intersection', 'intersection_update', 'isdisjoint', 'issubset', 'issuperset', 'pop', 'remove', 'symmetric_difference', 'symmetric_difference_update', 'union', 'update']\n"
     ]
    }
   ],
   "source": [
    "print(dir(set))"
   ]
  },
  {
   "cell_type": "code",
   "execution_count": 11,
   "id": "e0de3674",
   "metadata": {},
   "outputs": [],
   "source": [
    "# add\n",
    "# copy\n",
    "# difference\n",
    "# intersection\n",
    "# union\n",
    "# update\n",
    "# isdisjoint\n",
    "# issubset\n",
    "# issuperset\n",
    "# discard\n",
    "# pop\n",
    "\n",
    "set1 = {\"black\", \"white\", \"gray\", \"silver\", \"maroon\"}\n",
    "set2 =  {\"red\", \"purple\", \"fushsia\", \"green\", \"lime\"} "
   ]
  },
  {
   "cell_type": "markdown",
   "id": "d20294e6",
   "metadata": {},
   "source": [
    "### 1. add()"
   ]
  },
  {
   "cell_type": "code",
   "execution_count": 12,
   "id": "e2fb4c2e",
   "metadata": {},
   "outputs": [],
   "source": [
    "set1.add('green')"
   ]
  },
  {
   "cell_type": "code",
   "execution_count": 13,
   "id": "ff12076c",
   "metadata": {},
   "outputs": [
    {
     "name": "stdout",
     "output_type": "stream",
     "text": [
      "{'maroon', 'gray', 'silver', 'white', 'black', 'green'}\n"
     ]
    }
   ],
   "source": [
    "print(set1)"
   ]
  },
  {
   "cell_type": "markdown",
   "id": "b546536f",
   "metadata": {},
   "source": [
    "### 2. copy()"
   ]
  },
  {
   "cell_type": "code",
   "execution_count": 14,
   "id": "9b89cb64",
   "metadata": {},
   "outputs": [],
   "source": [
    "set3 = set1.copy()"
   ]
  },
  {
   "cell_type": "code",
   "execution_count": 15,
   "id": "0f7a1c6c",
   "metadata": {},
   "outputs": [
    {
     "name": "stdout",
     "output_type": "stream",
     "text": [
      "{'maroon', 'gray', 'silver', 'white', 'black', 'green'}\n",
      "2027995974784\n",
      "2027995974560\n"
     ]
    }
   ],
   "source": [
    "print(set3, id(set3), id(set1), sep = '\\n')\n"
   ]
  },
  {
   "cell_type": "markdown",
   "id": "969f5d1a",
   "metadata": {},
   "source": [
    "### 3. difference()"
   ]
  },
  {
   "cell_type": "code",
   "execution_count": 16,
   "id": "4a705690",
   "metadata": {},
   "outputs": [
    {
     "data": {
      "text/plain": [
       "{'black', 'gray', 'maroon', 'silver', 'white'}"
      ]
     },
     "execution_count": 16,
     "metadata": {},
     "output_type": "execute_result"
    }
   ],
   "source": [
    "set1-set2"
   ]
  },
  {
   "cell_type": "code",
   "execution_count": 17,
   "id": "180c8409",
   "metadata": {},
   "outputs": [
    {
     "data": {
      "text/plain": [
       "{'fushsia', 'lime', 'purple', 'red'}"
      ]
     },
     "execution_count": 17,
     "metadata": {},
     "output_type": "execute_result"
    }
   ],
   "source": [
    "set2-set1"
   ]
  },
  {
   "cell_type": "markdown",
   "id": "b7352b95",
   "metadata": {},
   "source": [
    "### 4. intersection()"
   ]
  },
  {
   "cell_type": "code",
   "execution_count": 18,
   "id": "9447defb",
   "metadata": {},
   "outputs": [
    {
     "data": {
      "text/plain": [
       "{'green'}"
      ]
     },
     "execution_count": 18,
     "metadata": {},
     "output_type": "execute_result"
    }
   ],
   "source": [
    "set1 & set2"
   ]
  },
  {
   "cell_type": "code",
   "execution_count": 19,
   "id": "15bc6cfd",
   "metadata": {},
   "outputs": [
    {
     "data": {
      "text/plain": [
       "{'green'}"
      ]
     },
     "execution_count": 19,
     "metadata": {},
     "output_type": "execute_result"
    }
   ],
   "source": [
    "set1.intersection(set2)"
   ]
  },
  {
   "cell_type": "markdown",
   "id": "57876719",
   "metadata": {},
   "source": [
    "### 5. union()"
   ]
  },
  {
   "cell_type": "code",
   "execution_count": 20,
   "id": "07d71556",
   "metadata": {},
   "outputs": [
    {
     "name": "stdout",
     "output_type": "stream",
     "text": [
      "{'maroon', 'fushsia', 'lime', 'white', 'black', 'green', 'red', 'gray', 'silver', 'purple'}\n"
     ]
    }
   ],
   "source": [
    "print(set1 | set2)"
   ]
  },
  {
   "cell_type": "code",
   "execution_count": 21,
   "id": "e8cbdd36",
   "metadata": {},
   "outputs": [
    {
     "name": "stdout",
     "output_type": "stream",
     "text": [
      "{'maroon', 'fushsia', 'lime', 'white', 'black', 'green', 'red', 'gray', 'silver', 'purple'}\n"
     ]
    }
   ],
   "source": [
    "print(set1.union(set2))"
   ]
  },
  {
   "cell_type": "markdown",
   "id": "324897ce",
   "metadata": {},
   "source": [
    "### 6. update()"
   ]
  },
  {
   "cell_type": "code",
   "execution_count": 22,
   "id": "21baa4ad",
   "metadata": {},
   "outputs": [],
   "source": [
    "set1.update('GREEN')"
   ]
  },
  {
   "cell_type": "code",
   "execution_count": 23,
   "id": "4d3f7f2e",
   "metadata": {},
   "outputs": [
    {
     "name": "stdout",
     "output_type": "stream",
     "text": [
      "{'maroon', 'black', 'green', 'gray', 'G', 'E', 'white', 'silver', 'R', 'N'}\n"
     ]
    }
   ],
   "source": [
    "print(set1)"
   ]
  },
  {
   "cell_type": "code",
   "execution_count": 24,
   "id": "fa7220f9",
   "metadata": {},
   "outputs": [],
   "source": [
    "set2.update({'RED', 'BLUE'})"
   ]
  },
  {
   "cell_type": "code",
   "execution_count": 25,
   "id": "44561c81",
   "metadata": {},
   "outputs": [
    {
     "name": "stdout",
     "output_type": "stream",
     "text": [
      "{'fushsia', 'lime', 'RED', 'BLUE', 'purple', 'green', 'red'}\n"
     ]
    }
   ],
   "source": [
    "print(set2)"
   ]
  },
  {
   "cell_type": "markdown",
   "id": "40f1489f",
   "metadata": {},
   "source": [
    "### 7. isdisjoint()"
   ]
  },
  {
   "cell_type": "code",
   "execution_count": 26,
   "id": "79c79235",
   "metadata": {},
   "outputs": [
    {
     "data": {
      "text/plain": [
       "False"
      ]
     },
     "execution_count": 26,
     "metadata": {},
     "output_type": "execute_result"
    }
   ],
   "source": [
    "set1.isdisjoint(set2)"
   ]
  },
  {
   "cell_type": "markdown",
   "id": "33040abf",
   "metadata": {},
   "source": [
    "### 8. issubset()"
   ]
  },
  {
   "cell_type": "code",
   "execution_count": 28,
   "id": "ca792450",
   "metadata": {},
   "outputs": [
    {
     "data": {
      "text/plain": [
       "True"
      ]
     },
     "execution_count": 28,
     "metadata": {},
     "output_type": "execute_result"
    }
   ],
   "source": [
    "{'green', 'black'}.issubset(set1)"
   ]
  },
  {
   "cell_type": "markdown",
   "id": "3cec6888",
   "metadata": {},
   "source": [
    "### 9. issuperset()"
   ]
  },
  {
   "cell_type": "code",
   "execution_count": 29,
   "id": "1e6b7db9",
   "metadata": {},
   "outputs": [
    {
     "data": {
      "text/plain": [
       "True"
      ]
     },
     "execution_count": 29,
     "metadata": {},
     "output_type": "execute_result"
    }
   ],
   "source": [
    "set1.issuperset({'green', 'black'})"
   ]
  },
  {
   "cell_type": "markdown",
   "id": "ae548fbe",
   "metadata": {},
   "source": [
    "### 10. discard()"
   ]
  },
  {
   "cell_type": "code",
   "execution_count": 30,
   "id": "e5c217ff",
   "metadata": {},
   "outputs": [],
   "source": [
    "set1.discard('Green')\n",
    "\n",
    "# Remove an element from a set if it is a member.\n",
    "# If the element is not a member, do nothing."
   ]
  },
  {
   "cell_type": "code",
   "execution_count": 31,
   "id": "61be9f98",
   "metadata": {},
   "outputs": [],
   "source": [
    "set1.discard('green')"
   ]
  },
  {
   "cell_type": "code",
   "execution_count": 32,
   "id": "37dfac63",
   "metadata": {},
   "outputs": [
    {
     "name": "stdout",
     "output_type": "stream",
     "text": [
      "{'maroon', 'black', 'gray', 'G', 'E', 'white', 'silver', 'R', 'N'}\n"
     ]
    }
   ],
   "source": [
    "print(set1)"
   ]
  },
  {
   "cell_type": "markdown",
   "id": "741590cc",
   "metadata": {},
   "source": [
    "### 11. pop()"
   ]
  },
  {
   "cell_type": "code",
   "execution_count": 33,
   "id": "bfb54d72",
   "metadata": {},
   "outputs": [
    {
     "data": {
      "text/plain": [
       "'maroon'"
      ]
     },
     "execution_count": 33,
     "metadata": {},
     "output_type": "execute_result"
    }
   ],
   "source": [
    "set1.pop()\n",
    "\n",
    "# Remove and return an arbitrary set element.\n",
    "# Raises KeyError if the set is empty.\n"
   ]
  },
  {
   "cell_type": "code",
   "execution_count": 34,
   "id": "3c28e215",
   "metadata": {},
   "outputs": [
    {
     "data": {
      "text/plain": [
       "'black'"
      ]
     },
     "execution_count": 34,
     "metadata": {},
     "output_type": "execute_result"
    }
   ],
   "source": [
    "set1.pop()"
   ]
  },
  {
   "cell_type": "code",
   "execution_count": 35,
   "id": "591d4605",
   "metadata": {},
   "outputs": [
    {
     "name": "stdout",
     "output_type": "stream",
     "text": [
      "{'gray', 'G', 'E', 'white', 'silver', 'R', 'N'}\n"
     ]
    }
   ],
   "source": [
    "print(set1)"
   ]
  },
  {
   "cell_type": "markdown",
   "id": "5a49c7e2",
   "metadata": {},
   "source": [
    "### Operators on set"
   ]
  },
  {
   "cell_type": "code",
   "execution_count": 36,
   "id": "4c54b61f",
   "metadata": {},
   "outputs": [
    {
     "data": {
      "text/plain": [
       "False"
      ]
     },
     "execution_count": 36,
     "metadata": {},
     "output_type": "execute_result"
    }
   ],
   "source": [
    "'white' in set2"
   ]
  },
  {
   "cell_type": "code",
   "execution_count": 37,
   "id": "fec4ee5b",
   "metadata": {},
   "outputs": [
    {
     "data": {
      "text/plain": [
       "False"
      ]
     },
     "execution_count": 37,
     "metadata": {},
     "output_type": "execute_result"
    }
   ],
   "source": [
    "'black' in set1"
   ]
  },
  {
   "cell_type": "markdown",
   "id": "91bebc72",
   "metadata": {},
   "source": [
    "### Built-in functions on set"
   ]
  },
  {
   "cell_type": "code",
   "execution_count": 39,
   "id": "0b455473",
   "metadata": {},
   "outputs": [
    {
     "data": {
      "text/plain": [
       "7"
      ]
     },
     "execution_count": 39,
     "metadata": {},
     "output_type": "execute_result"
    }
   ],
   "source": [
    "len(set1)"
   ]
  },
  {
   "cell_type": "code",
   "execution_count": 40,
   "id": "a92568bf",
   "metadata": {},
   "outputs": [],
   "source": [
    "set5 = {10,100,200,300,25,500}\n"
   ]
  },
  {
   "cell_type": "code",
   "execution_count": 41,
   "id": "7482107a",
   "metadata": {},
   "outputs": [
    {
     "name": "stdout",
     "output_type": "stream",
     "text": [
      "10 500\n"
     ]
    }
   ],
   "source": [
    "print(min(set5), max(set5))"
   ]
  },
  {
   "cell_type": "code",
   "execution_count": 42,
   "id": "749f9cce",
   "metadata": {},
   "outputs": [],
   "source": [
    "# conversion\n",
    "mylist1 = [10,20,30, 10, 20]\n",
    "mytup1 = (10,20,30, 10)\n",
    "mystr1 = 'PYTHON PROGRAM'"
   ]
  },
  {
   "cell_type": "code",
   "execution_count": 43,
   "id": "1b29eaff",
   "metadata": {},
   "outputs": [
    {
     "name": "stdout",
     "output_type": "stream",
     "text": [
      "{10, 20, 30}\n",
      "{10, 20, 30}\n",
      "{'Y', 'H', 'A', 'G', 'P', 'O', 'T', ' ', 'R', 'M', 'N'}\n"
     ]
    }
   ],
   "source": [
    "print(set(mylist1), set(mytup1), set(mystr1), sep = '\\n')"
   ]
  },
  {
   "cell_type": "markdown",
   "id": "bebed79e",
   "metadata": {},
   "source": [
    "### Create a set using the `range`"
   ]
  },
  {
   "cell_type": "code",
   "execution_count": 44,
   "id": "d6b63889",
   "metadata": {},
   "outputs": [
    {
     "data": {
      "text/plain": [
       "range(10, 30, 5)"
      ]
     },
     "execution_count": 44,
     "metadata": {},
     "output_type": "execute_result"
    }
   ],
   "source": [
    "range(10,30,5)"
   ]
  },
  {
   "cell_type": "code",
   "execution_count": 45,
   "id": "ea4aea37",
   "metadata": {},
   "outputs": [
    {
     "data": {
      "text/plain": [
       "{10, 15, 20, 25}"
      ]
     },
     "execution_count": 45,
     "metadata": {},
     "output_type": "execute_result"
    }
   ],
   "source": [
    "list(range(10,30,5))\n",
    "tuple(range(10,30,5))\n",
    "set(range(10,30,5))"
   ]
  },
  {
   "cell_type": "code",
   "execution_count": 4,
   "id": "1e700f83",
   "metadata": {},
   "outputs": [
    {
     "name": "stdout",
     "output_type": "stream",
     "text": [
      "[10, 15, 20, 25]\n",
      "(10, 15, 20, 25)\n",
      "{25, 10, 20, 15}\n"
     ]
    }
   ],
   "source": [
    "print(list(range(10,30,5)))\n",
    "print(tuple(range(10,30,5)))\n",
    "print(set(range(10,30,5)))\n"
   ]
  },
  {
   "cell_type": "markdown",
   "id": "71754458",
   "metadata": {},
   "source": [
    "### Create an empty set"
   ]
  },
  {
   "cell_type": "code",
   "execution_count": 47,
   "id": "277a1403",
   "metadata": {},
   "outputs": [],
   "source": [
    "set6 = {}"
   ]
  },
  {
   "cell_type": "code",
   "execution_count": 48,
   "id": "3cf1eaf5",
   "metadata": {},
   "outputs": [
    {
     "name": "stdout",
     "output_type": "stream",
     "text": [
      "{}\n",
      "<class 'dict'>\n"
     ]
    }
   ],
   "source": [
    "print(set6, type(set6), sep = '\\n') # this is a dictionary"
   ]
  },
  {
   "cell_type": "code",
   "execution_count": 49,
   "id": "8d850d4e",
   "metadata": {},
   "outputs": [],
   "source": [
    "set7 = set()"
   ]
  },
  {
   "cell_type": "code",
   "execution_count": 50,
   "id": "6a442c48",
   "metadata": {},
   "outputs": [
    {
     "name": "stdout",
     "output_type": "stream",
     "text": [
      "set()\n",
      "<class 'set'>\n"
     ]
    }
   ],
   "source": [
    "print(set7, type(set7), sep = '\\n')"
   ]
  },
  {
   "cell_type": "code",
   "execution_count": 51,
   "id": "cd72a69d",
   "metadata": {},
   "outputs": [
    {
     "name": "stdout",
     "output_type": "stream",
     "text": [
      "{'yellow'}\n"
     ]
    }
   ],
   "source": [
    "set7.add('yellow')\n",
    "print(set7)\n"
   ]
  },
  {
   "cell_type": "markdown",
   "id": "060e4ba7",
   "metadata": {},
   "source": [
    "## Dictionary\n",
    "- Written with {} braces in the form {key:value}.\n",
    "- Unordered and indexed using keys.\n",
    "- Data is changeable (mutable).\n",
    "- Duplicate keys are not allowed.\n",
    "\n"
   ]
  },
  {
   "cell_type": "markdown",
   "id": "6db43485",
   "metadata": {},
   "source": [
    "### Create a dictionary"
   ]
  },
  {
   "cell_type": "code",
   "execution_count": 52,
   "id": "dca64fae",
   "metadata": {},
   "outputs": [],
   "source": [
    "mydict1 = {'Company': 'Google',\n",
    "          'HQ':'California',\n",
    "          'Products': 'Gmail'}"
   ]
  },
  {
   "cell_type": "code",
   "execution_count": 53,
   "id": "873ee52b",
   "metadata": {},
   "outputs": [
    {
     "name": "stdout",
     "output_type": "stream",
     "text": [
      "{'Company': 'Google', 'HQ': 'California', 'Products': 'Gmail'}\n",
      "<class 'dict'>\n"
     ]
    }
   ],
   "source": [
    "print(mydict1, type(mydict1), sep = '\\n')"
   ]
  },
  {
   "cell_type": "code",
   "execution_count": 54,
   "id": "8769c134",
   "metadata": {},
   "outputs": [],
   "source": [
    "mydict2 = {'Company': 'Google',\n",
    "          'HQ':'California',\n",
    "          'Products': ['Gmail','YouTube','Chrome', 'Drive']}"
   ]
  },
  {
   "cell_type": "code",
   "execution_count": 55,
   "id": "8c24e522",
   "metadata": {},
   "outputs": [
    {
     "data": {
      "text/plain": [
       "{'Company': 'Google',\n",
       " 'HQ': 'California',\n",
       " 'Products': ['Gmail', 'YouTube', 'Chrome', 'Drive']}"
      ]
     },
     "execution_count": 55,
     "metadata": {},
     "output_type": "execute_result"
    }
   ],
   "source": [
    "mydict2"
   ]
  },
  {
   "cell_type": "code",
   "execution_count": 56,
   "id": "3f8677e4",
   "metadata": {},
   "outputs": [],
   "source": [
    "# creating a table from dict\n",
    "import pandas as pd"
   ]
  },
  {
   "cell_type": "code",
   "execution_count": 57,
   "id": "6fe4f080",
   "metadata": {},
   "outputs": [
    {
     "data": {
      "text/html": [
       "<div>\n",
       "<style scoped>\n",
       "    .dataframe tbody tr th:only-of-type {\n",
       "        vertical-align: middle;\n",
       "    }\n",
       "\n",
       "    .dataframe tbody tr th {\n",
       "        vertical-align: top;\n",
       "    }\n",
       "\n",
       "    .dataframe thead th {\n",
       "        text-align: right;\n",
       "    }\n",
       "</style>\n",
       "<table border=\"1\" class=\"dataframe\">\n",
       "  <thead>\n",
       "    <tr style=\"text-align: right;\">\n",
       "      <th></th>\n",
       "      <th>Company</th>\n",
       "      <th>HQ</th>\n",
       "      <th>Products</th>\n",
       "    </tr>\n",
       "  </thead>\n",
       "  <tbody>\n",
       "    <tr>\n",
       "      <th>0</th>\n",
       "      <td>Google</td>\n",
       "      <td>California</td>\n",
       "      <td>Gmail</td>\n",
       "    </tr>\n",
       "    <tr>\n",
       "      <th>1</th>\n",
       "      <td>Google</td>\n",
       "      <td>California</td>\n",
       "      <td>YouTube</td>\n",
       "    </tr>\n",
       "    <tr>\n",
       "      <th>2</th>\n",
       "      <td>Google</td>\n",
       "      <td>California</td>\n",
       "      <td>Chrome</td>\n",
       "    </tr>\n",
       "    <tr>\n",
       "      <th>3</th>\n",
       "      <td>Google</td>\n",
       "      <td>California</td>\n",
       "      <td>Drive</td>\n",
       "    </tr>\n",
       "  </tbody>\n",
       "</table>\n",
       "</div>"
      ],
      "text/plain": [
       "  Company          HQ Products\n",
       "0  Google  California    Gmail\n",
       "1  Google  California  YouTube\n",
       "2  Google  California   Chrome\n",
       "3  Google  California    Drive"
      ]
     },
     "execution_count": 57,
     "metadata": {},
     "output_type": "execute_result"
    }
   ],
   "source": [
    "pd.DataFrame(mydict2)"
   ]
  },
  {
   "cell_type": "markdown",
   "id": "45ae0284",
   "metadata": {},
   "source": [
    "### Indexing a Dict"
   ]
  },
  {
   "cell_type": "code",
   "execution_count": 58,
   "id": "fc84d022",
   "metadata": {},
   "outputs": [
    {
     "ename": "KeyError",
     "evalue": "1",
     "output_type": "error",
     "traceback": [
      "\u001b[1;31m---------------------------------------------------------------------------\u001b[0m",
      "\u001b[1;31mKeyError\u001b[0m                                  Traceback (most recent call last)",
      "Input \u001b[1;32mIn [58]\u001b[0m, in \u001b[0;36m<cell line: 1>\u001b[1;34m()\u001b[0m\n\u001b[1;32m----> 1\u001b[0m \u001b[43mmydict2\u001b[49m\u001b[43m[\u001b[49m\u001b[38;5;241;43m1\u001b[39;49m\u001b[43m]\u001b[49m\n",
      "\u001b[1;31mKeyError\u001b[0m: 1"
     ]
    }
   ],
   "source": [
    "mydict2[1]\n"
   ]
  },
  {
   "cell_type": "code",
   "execution_count": 59,
   "id": "b350e48b",
   "metadata": {},
   "outputs": [
    {
     "data": {
      "text/plain": [
       "'o'"
      ]
     },
     "execution_count": 59,
     "metadata": {},
     "output_type": "execute_result"
    }
   ],
   "source": [
    "# indexing a dict is possible with keys\n",
    "mydict2['Products'] # dict indexing\n",
    "mydict2['Products'][2] # list indexing\n",
    "mydict2['Products'][2][3] # string indexing"
   ]
  },
  {
   "cell_type": "markdown",
   "id": "5655781c",
   "metadata": {},
   "source": [
    "### Change the Data"
   ]
  },
  {
   "cell_type": "code",
   "execution_count": 60,
   "id": "fc4f3642",
   "metadata": {},
   "outputs": [],
   "source": [
    "mydict2['HQ'] = 'California, USA'"
   ]
  },
  {
   "cell_type": "code",
   "execution_count": 61,
   "id": "8d304217",
   "metadata": {},
   "outputs": [
    {
     "data": {
      "text/plain": [
       "{'Company': 'Google',\n",
       " 'HQ': 'California, USA',\n",
       " 'Products': ['Gmail', 'YouTube', 'Chrome', 'Drive']}"
      ]
     },
     "execution_count": 61,
     "metadata": {},
     "output_type": "execute_result"
    }
   ],
   "source": [
    "mydict2"
   ]
  },
  {
   "cell_type": "markdown",
   "id": "b3b01cdc",
   "metadata": {},
   "source": [
    "### Duplicates"
   ]
  },
  {
   "cell_type": "code",
   "execution_count": 62,
   "id": "2de64f7a",
   "metadata": {},
   "outputs": [],
   "source": [
    "mydict2['Products'] = ['Gmail', 'YouTube', 'Chrome', 'Drive', 'Gmail']"
   ]
  },
  {
   "cell_type": "code",
   "execution_count": 63,
   "id": "a727d07c",
   "metadata": {},
   "outputs": [
    {
     "data": {
      "text/plain": [
       "{'Company': 'Google',\n",
       " 'HQ': 'California, USA',\n",
       " 'Products': ['Gmail', 'YouTube', 'Chrome', 'Drive', 'Gmail']}"
      ]
     },
     "execution_count": 63,
     "metadata": {},
     "output_type": "execute_result"
    }
   ],
   "source": [
    "mydict2 # dupicate values are allowed"
   ]
  },
  {
   "cell_type": "code",
   "execution_count": 64,
   "id": "4b23cfc3",
   "metadata": {},
   "outputs": [],
   "source": [
    "mydict2['HQ'] = 'USA'"
   ]
  },
  {
   "cell_type": "code",
   "execution_count": 65,
   "id": "0b3c00fa",
   "metadata": {},
   "outputs": [
    {
     "data": {
      "text/plain": [
       "{'Company': 'Google',\n",
       " 'HQ': 'USA',\n",
       " 'Products': ['Gmail', 'YouTube', 'Chrome', 'Drive', 'Gmail']}"
      ]
     },
     "execution_count": 65,
     "metadata": {},
     "output_type": "execute_result"
    }
   ],
   "source": [
    "mydict2"
   ]
  },
  {
   "cell_type": "markdown",
   "id": "c888d39a",
   "metadata": {},
   "source": [
    "Add a new `key:value` pair"
   ]
  },
  {
   "cell_type": "code",
   "execution_count": 67,
   "id": "d0c693d5",
   "metadata": {},
   "outputs": [],
   "source": [
    "mydict2['Industry'] = 'IT'"
   ]
  },
  {
   "cell_type": "code",
   "execution_count": 68,
   "id": "6a0d89fe",
   "metadata": {},
   "outputs": [
    {
     "data": {
      "text/plain": [
       "{'Company': 'Google',\n",
       " 'HQ': 'USA',\n",
       " 'Products': ['Gmail', 'YouTube', 'Chrome', 'Drive', 'Gmail'],\n",
       " 'Industry': 'IT'}"
      ]
     },
     "execution_count": 68,
     "metadata": {},
     "output_type": "execute_result"
    }
   ],
   "source": [
    "mydict2"
   ]
  },
  {
   "cell_type": "code",
   "execution_count": 69,
   "id": "4c0477a8",
   "metadata": {},
   "outputs": [],
   "source": [
    "mydict2['Founded Yr'] = 1998"
   ]
  },
  {
   "cell_type": "code",
   "execution_count": 70,
   "id": "8ca3311d",
   "metadata": {},
   "outputs": [
    {
     "data": {
      "text/plain": [
       "{'Company': 'Google',\n",
       " 'HQ': 'USA',\n",
       " 'Products': ['Gmail', 'YouTube', 'Chrome', 'Drive', 'Gmail'],\n",
       " 'Industry': 'IT',\n",
       " 'Founded Yr': 1998}"
      ]
     },
     "execution_count": 70,
     "metadata": {},
     "output_type": "execute_result"
    }
   ],
   "source": [
    "mydict2"
   ]
  },
  {
   "cell_type": "code",
   "execution_count": 71,
   "id": "9ec339c9",
   "metadata": {},
   "outputs": [],
   "source": [
    "mydict2[12] = 20 # a dummy key:value pair"
   ]
  },
  {
   "cell_type": "code",
   "execution_count": 72,
   "id": "d8f2aef4",
   "metadata": {},
   "outputs": [],
   "source": [
    "mydict2['HQ1'] = None"
   ]
  },
  {
   "cell_type": "code",
   "execution_count": 73,
   "id": "384615f8",
   "metadata": {},
   "outputs": [
    {
     "data": {
      "text/plain": [
       "{'Company': 'Google',\n",
       " 'HQ': 'USA',\n",
       " 'Products': ['Gmail', 'YouTube', 'Chrome', 'Drive', 'Gmail'],\n",
       " 'Industry': 'IT',\n",
       " 'Founded Yr': 1998,\n",
       " 12: 20,\n",
       " 'HQ1': None}"
      ]
     },
     "execution_count": 73,
     "metadata": {},
     "output_type": "execute_result"
    }
   ],
   "source": [
    "mydict2"
   ]
  },
  {
   "cell_type": "markdown",
   "id": "f10a80f0",
   "metadata": {},
   "source": [
    "### Dictionary Methods"
   ]
  },
  {
   "cell_type": "code",
   "execution_count": 74,
   "id": "5c63ecda",
   "metadata": {},
   "outputs": [
    {
     "name": "stdout",
     "output_type": "stream",
     "text": [
      "['__class__', '__class_getitem__', '__contains__', '__delattr__', '__delitem__', '__dir__', '__doc__', '__eq__', '__format__', '__ge__', '__getattribute__', '__getitem__', '__gt__', '__hash__', '__init__', '__init_subclass__', '__ior__', '__iter__', '__le__', '__len__', '__lt__', '__ne__', '__new__', '__or__', '__reduce__', '__reduce_ex__', '__repr__', '__reversed__', '__ror__', '__setattr__', '__setitem__', '__sizeof__', '__str__', '__subclasshook__', 'clear', 'copy', 'fromkeys', 'get', 'items', 'keys', 'pop', 'popitem', 'setdefault', 'update', 'values']\n"
     ]
    }
   ],
   "source": [
    "print(dir(dict))\n"
   ]
  },
  {
   "cell_type": "markdown",
   "id": "df93d9b1",
   "metadata": {},
   "source": [
    "### 1. fromkeys()"
   ]
  },
  {
   "cell_type": "code",
   "execution_count": 75,
   "id": "eef66e72",
   "metadata": {},
   "outputs": [
    {
     "data": {
      "text/plain": [
       "{'Company': 1, 'HQ': 1, 'Products': 1}"
      ]
     },
     "execution_count": 75,
     "metadata": {},
     "output_type": "execute_result"
    }
   ],
   "source": [
    "# Create a new dictionary with keys from iterable and values set to value.\n",
    "\n",
    "mylist1 = ['Company', 'HQ', 'Products']\n",
    "val = 1\n",
    "\n",
    "dict.fromkeys(mylist1, val)"
   ]
  },
  {
   "cell_type": "code",
   "execution_count": 76,
   "id": "033a4c6b",
   "metadata": {},
   "outputs": [
    {
     "data": {
      "text/plain": [
       "{'P': 10, 'Y': 10, 'T': 10, 'H': 10, 'O': 10, 'N': 10}"
      ]
     },
     "execution_count": 76,
     "metadata": {},
     "output_type": "execute_result"
    }
   ],
   "source": [
    "mystr = 'PYTHON'\n",
    "val = 10\n",
    "dict.fromkeys(mystr, val)"
   ]
  },
  {
   "cell_type": "code",
   "execution_count": 86,
   "id": "b3010a11",
   "metadata": {},
   "outputs": [
    {
     "data": {
      "text/plain": [
       "{'P': 10, 'Y': 10, 'T': 10, 'H': 10, 'O': 10, 'N': 10}"
      ]
     },
     "execution_count": 86,
     "metadata": {},
     "output_type": "execute_result"
    }
   ],
   "source": [
    "mystr = 'PYTHON'\n",
    "x = dict.fromkeys(mystr, 10)\n",
    "x"
   ]
  },
  {
   "cell_type": "markdown",
   "id": "2c3b53a1",
   "metadata": {},
   "source": [
    "### 2. get()"
   ]
  },
  {
   "cell_type": "code",
   "execution_count": 85,
   "id": "25feb09c",
   "metadata": {},
   "outputs": [
    {
     "data": {
      "text/plain": [
       "'USA'"
      ]
     },
     "execution_count": 85,
     "metadata": {},
     "output_type": "execute_result"
    },
    {
     "data": {
      "text/plain": [
       "'USA'"
      ]
     },
     "execution_count": 85,
     "metadata": {},
     "output_type": "execute_result"
    }
   ],
   "source": [
    "mydict2['HQ']\n",
    "mydict2.get('HQ')"
   ]
  },
  {
   "cell_type": "code",
   "execution_count": 79,
   "id": "d544c4bb",
   "metadata": {},
   "outputs": [
    {
     "ename": "KeyError",
     "evalue": "'HQ2'",
     "output_type": "error",
     "traceback": [
      "\u001b[1;31m---------------------------------------------------------------------------\u001b[0m",
      "\u001b[1;31mKeyError\u001b[0m                                  Traceback (most recent call last)",
      "Input \u001b[1;32mIn [79]\u001b[0m, in \u001b[0;36m<cell line: 1>\u001b[1;34m()\u001b[0m\n\u001b[1;32m----> 1\u001b[0m \u001b[43mmydict2\u001b[49m\u001b[43m[\u001b[49m\u001b[38;5;124;43m'\u001b[39;49m\u001b[38;5;124;43mHQ2\u001b[39;49m\u001b[38;5;124;43m'\u001b[39;49m\u001b[43m]\u001b[49m\n",
      "\u001b[1;31mKeyError\u001b[0m: 'HQ2'"
     ]
    }
   ],
   "source": [
    "mydict2['HQ2']"
   ]
  },
  {
   "cell_type": "code",
   "execution_count": 80,
   "id": "847b36a7",
   "metadata": {},
   "outputs": [
    {
     "name": "stdout",
     "output_type": "stream",
     "text": [
      "None\n"
     ]
    }
   ],
   "source": [
    "print(mydict2.get('HQ2'))"
   ]
  },
  {
   "cell_type": "markdown",
   "id": "3604c042",
   "metadata": {},
   "source": [
    "### 3. items(), keys() & values()"
   ]
  },
  {
   "cell_type": "code",
   "execution_count": 87,
   "id": "08455703",
   "metadata": {},
   "outputs": [
    {
     "data": {
      "text/plain": [
       "dict_items([('Company', 'Google'), ('HQ', 'USA'), ('Products', ['Gmail', 'YouTube', 'Chrome', 'Drive', 'Gmail']), ('Industry', 'IT'), ('Founded Yr', 1998), (12, 20), ('HQ1', None)])"
      ]
     },
     "execution_count": 87,
     "metadata": {},
     "output_type": "execute_result"
    },
    {
     "data": {
      "text/plain": [
       "('HQ', 'USA')"
      ]
     },
     "execution_count": 87,
     "metadata": {},
     "output_type": "execute_result"
    }
   ],
   "source": [
    "mydict2.items()\n",
    "list(mydict2.items())[1]"
   ]
  },
  {
   "cell_type": "code",
   "execution_count": 88,
   "id": "e83bf0ea",
   "metadata": {},
   "outputs": [
    {
     "data": {
      "text/plain": [
       "dict_keys(['Company', 'HQ', 'Products', 'Industry', 'Founded Yr', 12, 'HQ1'])"
      ]
     },
     "execution_count": 88,
     "metadata": {},
     "output_type": "execute_result"
    },
    {
     "data": {
      "text/plain": [
       "['Company', 'HQ', 'Products', 'Industry', 'Founded Yr', 12, 'HQ1']"
      ]
     },
     "execution_count": 88,
     "metadata": {},
     "output_type": "execute_result"
    }
   ],
   "source": [
    "mydict2.keys()\n",
    "list(mydict2.keys())"
   ]
  },
  {
   "cell_type": "code",
   "execution_count": 89,
   "id": "1e2586d7",
   "metadata": {},
   "outputs": [
    {
     "data": {
      "text/plain": [
       "dict_values(['Google', 'USA', ['Gmail', 'YouTube', 'Chrome', 'Drive', 'Gmail'], 'IT', 1998, 20, None])"
      ]
     },
     "execution_count": 89,
     "metadata": {},
     "output_type": "execute_result"
    },
    {
     "data": {
      "text/plain": [
       "['Google',\n",
       " 'USA',\n",
       " ['Gmail', 'YouTube', 'Chrome', 'Drive', 'Gmail'],\n",
       " 'IT',\n",
       " 1998,\n",
       " 20,\n",
       " None]"
      ]
     },
     "execution_count": 89,
     "metadata": {},
     "output_type": "execute_result"
    }
   ],
   "source": [
    "mydict2.values()\n",
    "list(mydict2.values())"
   ]
  },
  {
   "cell_type": "markdown",
   "id": "06e74997",
   "metadata": {},
   "source": [
    "### 4. update()"
   ]
  },
  {
   "cell_type": "code",
   "execution_count": 90,
   "id": "d7d54da8",
   "metadata": {},
   "outputs": [],
   "source": [
    "mydict3 = {'Locations': ['USA','India'],\n",
    "          'Emp_count': '1000+'}"
   ]
  },
  {
   "cell_type": "code",
   "execution_count": 91,
   "id": "85a4ce99",
   "metadata": {},
   "outputs": [
    {
     "data": {
      "text/plain": [
       "{'Company': 'Google',\n",
       " 'HQ': 'USA',\n",
       " 'Products': ['Gmail', 'YouTube', 'Chrome', 'Drive', 'Gmail'],\n",
       " 'Industry': 'IT',\n",
       " 'Founded Yr': 1998,\n",
       " 12: 20,\n",
       " 'HQ1': None}"
      ]
     },
     "execution_count": 91,
     "metadata": {},
     "output_type": "execute_result"
    }
   ],
   "source": [
    "mydict2"
   ]
  },
  {
   "cell_type": "code",
   "execution_count": 92,
   "id": "435052fc",
   "metadata": {},
   "outputs": [],
   "source": [
    "mydict2.update(mydict3)"
   ]
  },
  {
   "cell_type": "code",
   "execution_count": 93,
   "id": "44a0f647",
   "metadata": {},
   "outputs": [
    {
     "data": {
      "text/plain": [
       "{'Company': 'Google',\n",
       " 'HQ': 'USA',\n",
       " 'Products': ['Gmail', 'YouTube', 'Chrome', 'Drive', 'Gmail'],\n",
       " 'Industry': 'IT',\n",
       " 'Founded Yr': 1998,\n",
       " 12: 20,\n",
       " 'HQ1': None,\n",
       " 'Locations': ['USA', 'India'],\n",
       " 'Emp_count': '1000+'}"
      ]
     },
     "execution_count": 93,
     "metadata": {},
     "output_type": "execute_result"
    }
   ],
   "source": [
    "mydict2"
   ]
  },
  {
   "cell_type": "markdown",
   "id": "3d71446b",
   "metadata": {},
   "source": [
    "### Built-in functions"
   ]
  },
  {
   "cell_type": "code",
   "execution_count": 94,
   "id": "ce3ce4d1",
   "metadata": {},
   "outputs": [
    {
     "data": {
      "text/plain": [
       "9"
      ]
     },
     "execution_count": 94,
     "metadata": {},
     "output_type": "execute_result"
    }
   ],
   "source": [
    "len(mydict2)"
   ]
  },
  {
   "cell_type": "code",
   "execution_count": 95,
   "id": "bc6a0890",
   "metadata": {},
   "outputs": [],
   "source": [
    "# print the 'Student ID' who scored highest marks\n",
    "mydict4 = {'Student ID': [101,102,103,104,105],\n",
    "          'Marks': [85,99,95,66,78]}"
   ]
  },
  {
   "cell_type": "code",
   "execution_count": 96,
   "id": "34b08bf7",
   "metadata": {},
   "outputs": [
    {
     "data": {
      "text/plain": [
       "102"
      ]
     },
     "execution_count": 96,
     "metadata": {},
     "output_type": "execute_result"
    }
   ],
   "source": [
    "mydict4['Student ID'][1]"
   ]
  },
  {
   "cell_type": "code",
   "execution_count": 99,
   "id": "88bbce28",
   "metadata": {},
   "outputs": [],
   "source": [
    "# print the 'Student ID' who scored highest marks\n",
    "mydict4 = {'Student ID': [101,102,103,104,105],\n",
    "          'Marks': [85,79,95,66,99]}"
   ]
  },
  {
   "cell_type": "code",
   "execution_count": 100,
   "id": "68349506",
   "metadata": {},
   "outputs": [
    {
     "data": {
      "text/plain": [
       "103"
      ]
     },
     "execution_count": 100,
     "metadata": {},
     "output_type": "execute_result"
    }
   ],
   "source": [
    "mydict4['Student ID'][2]"
   ]
  },
  {
   "cell_type": "code",
   "execution_count": 101,
   "id": "de5e8b72",
   "metadata": {},
   "outputs": [
    {
     "data": {
      "text/plain": [
       "[85, 79, 95, 66, 99]"
      ]
     },
     "execution_count": 101,
     "metadata": {},
     "output_type": "execute_result"
    },
    {
     "data": {
      "text/plain": [
       "dict"
      ]
     },
     "execution_count": 101,
     "metadata": {},
     "output_type": "execute_result"
    },
    {
     "data": {
      "text/plain": [
       "list"
      ]
     },
     "execution_count": 101,
     "metadata": {},
     "output_type": "execute_result"
    },
    {
     "data": {
      "text/plain": [
       "99"
      ]
     },
     "execution_count": 101,
     "metadata": {},
     "output_type": "execute_result"
    },
    {
     "data": {
      "text/plain": [
       "int"
      ]
     },
     "execution_count": 101,
     "metadata": {},
     "output_type": "execute_result"
    },
    {
     "data": {
      "text/plain": [
       "2"
      ]
     },
     "execution_count": 101,
     "metadata": {},
     "output_type": "execute_result"
    },
    {
     "data": {
      "text/plain": [
       "4"
      ]
     },
     "execution_count": 101,
     "metadata": {},
     "output_type": "execute_result"
    },
    {
     "data": {
      "text/plain": [
       "105"
      ]
     },
     "execution_count": 101,
     "metadata": {},
     "output_type": "execute_result"
    }
   ],
   "source": [
    "# first get the list of marks\n",
    "mydict4['Marks']\n",
    "\n",
    "type(mydict4)\n",
    "type(mydict4['Marks'])\n",
    "\n",
    "# get the max marks\n",
    "max(mydict4['Marks'])\n",
    "\n",
    "type(max(mydict4['Marks']))\n",
    "\n",
    "mydict4['Marks'].index(95)\n",
    "\n",
    "# get the index of max marks from the marks list\n",
    "mydict4['Marks'].index(max(mydict4['Marks']))\n",
    "\n",
    "\n",
    "# use the above index num code \n",
    "mydict4['Student ID'][mydict4['Marks'].index(max(mydict4['Marks']))]"
   ]
  },
  {
   "cell_type": "code",
   "execution_count": null,
   "id": "0a79f6e7",
   "metadata": {},
   "outputs": [],
   "source": []
  }
 ],
 "metadata": {
  "kernelspec": {
   "display_name": "Python 3 (ipykernel)",
   "language": "python",
   "name": "python3"
  },
  "language_info": {
   "codemirror_mode": {
    "name": "ipython",
    "version": 3
   },
   "file_extension": ".py",
   "mimetype": "text/x-python",
   "name": "python",
   "nbconvert_exporter": "python",
   "pygments_lexer": "ipython3",
   "version": "3.9.12"
  }
 },
 "nbformat": 4,
 "nbformat_minor": 5
}
