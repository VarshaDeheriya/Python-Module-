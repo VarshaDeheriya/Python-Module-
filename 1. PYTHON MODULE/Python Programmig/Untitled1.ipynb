{
 "cells": [
  {
   "cell_type": "markdown",
   "id": "62316751",
   "metadata": {},
   "source": [
    "\n",
    "\n"
   ]
  },
  {
   "cell_type": "markdown",
   "id": "8072adbd",
   "metadata": {},
   "source": [
    ">My fav mnkjimddjb"
   ]
  },
  {
   "cell_type": "markdown",
   "id": "a4234ec2",
   "metadata": {},
   "source": [
    "* list item\n",
    "* divya\n"
   ]
  },
  {
   "cell_type": "markdown",
   "id": "67e2664c",
   "metadata": {},
   "source": [
    "* list item\n",
    "- list item\n"
   ]
  },
  {
   "cell_type": "markdown",
   "id": "5b9e4e97",
   "metadata": {},
   "source": [
    "***"
   ]
  },
  {
   "cell_type": "markdown",
   "id": "b41a726c",
   "metadata": {},
   "source": [
    "`varsha`"
   ]
  },
  {
   "cell_type": "markdown",
   "id": "a992d106",
   "metadata": {},
   "source": [
    "### code block:\n",
    "\n",
    "```code block\n",
    "print('hello world!')\n",
    "```\n",
    "\n",
    "```python\n",
    "print('hello world!')\n",
    "```\n"
   ]
  }
 ],
 "metadata": {
  "kernelspec": {
   "display_name": "Python 3 (ipykernel)",
   "language": "python",
   "name": "python3"
  },
  "language_info": {
   "codemirror_mode": {
    "name": "ipython",
    "version": 3
   },
   "file_extension": ".py",
   "mimetype": "text/x-python",
   "name": "python",
   "nbconvert_exporter": "python",
   "pygments_lexer": "ipython3",
   "version": "3.9.12"
  }
 },
 "nbformat": 4,
 "nbformat_minor": 5
}
